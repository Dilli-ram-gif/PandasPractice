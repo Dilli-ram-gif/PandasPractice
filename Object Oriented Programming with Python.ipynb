{
 "cells": [
  {
   "cell_type": "markdown",
   "id": "4420b872",
   "metadata": {},
   "source": [
    "# Object Oriented Programming with Python"
   ]
  },
  {
   "cell_type": "code",
   "execution_count": 1,
   "id": "04b3e098",
   "metadata": {},
   "outputs": [
    {
     "data": {
      "text/plain": [
       "int"
      ]
     },
     "execution_count": 1,
     "metadata": {},
     "output_type": "execute_result"
    }
   ],
   "source": [
    "first_item = 100\n",
    "type(first_item)"
   ]
  },
  {
   "cell_type": "code",
   "execution_count": 6,
   "id": "992effc5",
   "metadata": {},
   "outputs": [
    {
     "name": "stdout",
     "output_type": "stream",
     "text": [
      "<class 'type'>\n"
     ]
    }
   ],
   "source": [
    "print(type(first_item.__class__))"
   ]
  },
  {
   "cell_type": "code",
   "execution_count": 5,
   "id": "1b26a6cf",
   "metadata": {},
   "outputs": [
    {
     "data": {
      "text/plain": [
       "type"
      ]
     },
     "execution_count": 5,
     "metadata": {},
     "output_type": "execute_result"
    }
   ],
   "source": [
    "type(first_item.__class__)"
   ]
  },
  {
   "cell_type": "code",
   "execution_count": 23,
   "id": "97458d8c",
   "metadata": {},
   "outputs": [],
   "source": [
    "class Item:\n",
    "    # create the magic method\n",
    "    def __init__(self, name):\n",
    "        print(f\"The name of the Item is : {name}\")\n",
    "    def calculate_total_price(self, x, y):\n",
    "        return x * y"
   ]
  },
  {
   "cell_type": "code",
   "execution_count": 27,
   "id": "5f189998",
   "metadata": {},
   "outputs": [
    {
     "name": "stdout",
     "output_type": "stream",
     "text": [
      "The name of the Item is : Phone\n"
     ]
    }
   ],
   "source": [
    "item1 = Item(item1.name)\n",
    "item1.name = 'Phone'\n",
    "item1.price = 100\n",
    "item1.quantity = 5\n",
    "\n",
    "# print(item1.calculate_total_price(item1.price, item1.quantity))"
   ]
  },
  {
   "cell_type": "code",
   "execution_count": 28,
   "id": "87ae1a11",
   "metadata": {},
   "outputs": [
    {
     "name": "stdout",
     "output_type": "stream",
     "text": [
      "The name of the Item is : Laptop\n"
     ]
    }
   ],
   "source": [
    "item2 = Item(item2.name)\n",
    "item2.name = \"Laptop\"\n",
    "item2.price = 1000\n",
    "item2.quantity = 3"
   ]
  },
  {
   "cell_type": "code",
   "execution_count": 30,
   "id": "118e28d2",
   "metadata": {},
   "outputs": [],
   "source": [
    "# print(item2.calculate_total_price(item2.price, item2.quantity))"
   ]
  },
  {
   "cell_type": "code",
   "execution_count": 32,
   "id": "cf327975",
   "metadata": {},
   "outputs": [],
   "source": [
    "class Item:\n",
    "    # create the magic method\n",
    "    def __init__(self, name, price, quantity):\n",
    "        self.name = name\n",
    "        self.price = price\n",
    "        self.quantity = quantity\n",
    "    def calculate_total_price(self, x, y):\n",
    "        return x * y"
   ]
  },
  {
   "cell_type": "code",
   "execution_count": 33,
   "id": "bd501553",
   "metadata": {},
   "outputs": [
    {
     "name": "stdout",
     "output_type": "stream",
     "text": [
      "Phone\n",
      "Laptop\n",
      "100\n",
      "1000\n",
      "5\n",
      "3\n"
     ]
    }
   ],
   "source": [
    "item1 = Item(\"Phone\", 100, 5)\n",
    "item2 = Item(\"Laptop\", 1000, 3)\n",
    "\n",
    "print(item1.name)\n",
    "print(item2.name)\n",
    "print(item1.price)\n",
    "print(item2.price)\n",
    "print(item1.quantity)\n",
    "print(item2.quantity)\n"
   ]
  },
  {
   "cell_type": "code",
   "execution_count": 35,
   "id": "c418fd5b",
   "metadata": {},
   "outputs": [],
   "source": [
    "class Item:\n",
    "    # create the magic method\n",
    "    def __init__(self, name, price, quantity=0):\n",
    "        self.name = name\n",
    "        self.price = price\n",
    "        self.quantity = quantity\n",
    "    def calculate_total_price(self):\n",
    "        return self.price * self.quantity"
   ]
  },
  {
   "cell_type": "code",
   "execution_count": 39,
   "id": "55111a6f",
   "metadata": {},
   "outputs": [
    {
     "name": "stdout",
     "output_type": "stream",
     "text": [
      "The price of the fridge is : 20000\n"
     ]
    }
   ],
   "source": [
    "item3 = Item(\"Fridge\", 10000, 2)\n",
    "print(f\"The price of the fridge is :\",item3.calculate_total_price())"
   ]
  },
  {
   "cell_type": "code",
   "execution_count": 55,
   "id": "8d49e137",
   "metadata": {},
   "outputs": [],
   "source": [
    "class Electronics:\n",
    "    # class attribute\n",
    "    # The pay rate after 20% discount\n",
    "    pay_rate = 0.8\n",
    "    \n",
    "    # create the magic method\n",
    "    def __init__(self, name: str, price: float, quantity=0):\n",
    "        \n",
    "        #Run validations to the received arguments\n",
    "        assert price >= 0, f\"The {price} is not greater than or equal to 0\"\n",
    "        assert quantity >= 0, f\"The {quantity} is not greater than or equal to 0\"\n",
    "        self.name = name\n",
    "        self.price = price\n",
    "        self.quantity = quantity\n",
    "    def calculate_total_price(self):\n",
    "        return self.price * self.quantity"
   ]
  },
  {
   "cell_type": "code",
   "execution_count": 56,
   "id": "0f5f2d2e",
   "metadata": {},
   "outputs": [
    {
     "data": {
      "text/plain": [
       "60000"
      ]
     },
     "execution_count": 56,
     "metadata": {},
     "output_type": "execute_result"
    }
   ],
   "source": [
    "item4 = Electronics(\"Car\", 20000, 3)\n",
    "item4.calculate_total_price()"
   ]
  },
  {
   "cell_type": "code",
   "execution_count": 57,
   "id": "38115ec7",
   "metadata": {},
   "outputs": [
    {
     "data": {
      "text/plain": [
       "0.8"
      ]
     },
     "execution_count": 57,
     "metadata": {},
     "output_type": "execute_result"
    }
   ],
   "source": [
    "# access the class attribute\n",
    "Electronics.pay_rate"
   ]
  },
  {
   "cell_type": "code",
   "execution_count": 61,
   "id": "a6330fc4",
   "metadata": {},
   "outputs": [
    {
     "data": {
      "text/plain": [
       "type"
      ]
     },
     "execution_count": 61,
     "metadata": {},
     "output_type": "execute_result"
    }
   ],
   "source": [
    "type(Electronics.pay_rate.__class__)"
   ]
  },
  {
   "cell_type": "code",
   "execution_count": null,
   "id": "5a811db8",
   "metadata": {},
   "outputs": [],
   "source": []
  },
  {
   "cell_type": "code",
   "execution_count": 54,
   "id": "6d70e9fa",
   "metadata": {},
   "outputs": [
    {
     "ename": "AssertionError",
     "evalue": "The -1 is not greater than or equal to 0",
     "output_type": "error",
     "traceback": [
      "\u001b[1;31m---------------------------------------------------------------------------\u001b[0m",
      "\u001b[1;31mAssertionError\u001b[0m                            Traceback (most recent call last)",
      "Cell \u001b[1;32mIn[54], line 2\u001b[0m\n\u001b[0;32m      1\u001b[0m \u001b[38;5;66;03m# if either of price or quantity is negative the an assertion error will be thrown.\u001b[39;00m\n\u001b[1;32m----> 2\u001b[0m item5 \u001b[38;5;241m=\u001b[39m \u001b[43mElectronics\u001b[49m\u001b[43m(\u001b[49m\u001b[38;5;124;43m\"\u001b[39;49m\u001b[38;5;124;43mWatch\u001b[39;49m\u001b[38;5;124;43m\"\u001b[39;49m\u001b[43m,\u001b[49m\u001b[43m \u001b[49m\u001b[38;5;241;43m2500\u001b[39;49m\u001b[43m,\u001b[49m\u001b[43m \u001b[49m\u001b[38;5;241;43m-\u001b[39;49m\u001b[38;5;241;43m1\u001b[39;49m\u001b[43m)\u001b[49m\n",
      "Cell \u001b[1;32mIn[52], line 7\u001b[0m, in \u001b[0;36mElectronics.__init__\u001b[1;34m(self, name, price, quantity)\u001b[0m\n\u001b[0;32m      3\u001b[0m \u001b[38;5;28;01mdef\u001b[39;00m \u001b[38;5;21m__init__\u001b[39m(\u001b[38;5;28mself\u001b[39m, name: \u001b[38;5;28mstr\u001b[39m, price: \u001b[38;5;28mfloat\u001b[39m, quantity\u001b[38;5;241m=\u001b[39m\u001b[38;5;241m0\u001b[39m):\n\u001b[0;32m      4\u001b[0m     \n\u001b[0;32m      5\u001b[0m     \u001b[38;5;66;03m#Run validations to the received arguments\u001b[39;00m\n\u001b[0;32m      6\u001b[0m     \u001b[38;5;28;01massert\u001b[39;00m price \u001b[38;5;241m>\u001b[39m\u001b[38;5;241m=\u001b[39m \u001b[38;5;241m0\u001b[39m, \u001b[38;5;124mf\u001b[39m\u001b[38;5;124m\"\u001b[39m\u001b[38;5;124mThe \u001b[39m\u001b[38;5;132;01m{\u001b[39;00mprice\u001b[38;5;132;01m}\u001b[39;00m\u001b[38;5;124m is not greater than or equal to 0\u001b[39m\u001b[38;5;124m\"\u001b[39m\n\u001b[1;32m----> 7\u001b[0m     \u001b[38;5;28;01massert\u001b[39;00m quantity \u001b[38;5;241m>\u001b[39m\u001b[38;5;241m=\u001b[39m \u001b[38;5;241m0\u001b[39m, \u001b[38;5;124mf\u001b[39m\u001b[38;5;124m\"\u001b[39m\u001b[38;5;124mThe \u001b[39m\u001b[38;5;132;01m{\u001b[39;00mquantity\u001b[38;5;132;01m}\u001b[39;00m\u001b[38;5;124m is not greater than or equal to 0\u001b[39m\u001b[38;5;124m\"\u001b[39m\n\u001b[0;32m      8\u001b[0m     \u001b[38;5;28mself\u001b[39m\u001b[38;5;241m.\u001b[39mname \u001b[38;5;241m=\u001b[39m name\n\u001b[0;32m      9\u001b[0m     \u001b[38;5;28mself\u001b[39m\u001b[38;5;241m.\u001b[39mprice \u001b[38;5;241m=\u001b[39m price\n",
      "\u001b[1;31mAssertionError\u001b[0m: The -1 is not greater than or equal to 0"
     ]
    }
   ],
   "source": [
    "# if either of price or quantity is negative the an assertion error will be thrown.\n",
    "item5 = Electronics(\"Watch\", 2500, -1)"
   ]
  },
  {
   "cell_type": "code",
   "execution_count": null,
   "id": "cd195dae",
   "metadata": {},
   "outputs": [],
   "source": []
  },
  {
   "cell_type": "code",
   "execution_count": null,
   "id": "1e328659",
   "metadata": {},
   "outputs": [],
   "source": []
  },
  {
   "cell_type": "code",
   "execution_count": null,
   "id": "c2f6f503",
   "metadata": {},
   "outputs": [],
   "source": []
  }
 ],
 "metadata": {
  "kernelspec": {
   "display_name": "Python 3 (ipykernel)",
   "language": "python",
   "name": "python3"
  },
  "language_info": {
   "codemirror_mode": {
    "name": "ipython",
    "version": 3
   },
   "file_extension": ".py",
   "mimetype": "text/x-python",
   "name": "python",
   "nbconvert_exporter": "python",
   "pygments_lexer": "ipython3",
   "version": "3.10.9"
  }
 },
 "nbformat": 4,
 "nbformat_minor": 5
}
