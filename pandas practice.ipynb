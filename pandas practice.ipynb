{
 "cells": [
  {
   "cell_type": "code",
   "execution_count": 1,
   "id": "f77e41fb",
   "metadata": {},
   "outputs": [],
   "source": [
    "#put the index \n",
    "\n",
    "import pandas as pd\n",
    "variable = pd.Series([8,3,6,5,1], index = ['b', 'd','c', 'e','f'])"
   ]
  },
  {
   "cell_type": "code",
   "execution_count": 2,
   "id": "e0ebe0b9",
   "metadata": {},
   "outputs": [
    {
     "data": {
      "text/plain": [
       "b    8\n",
       "d    3\n",
       "c    6\n",
       "e    5\n",
       "f    1\n",
       "dtype: int64"
      ]
     },
     "execution_count": 2,
     "metadata": {},
     "output_type": "execute_result"
    }
   ],
   "source": [
    "variable"
   ]
  },
  {
   "cell_type": "code",
   "execution_count": 3,
   "id": "0c41201b",
   "metadata": {},
   "outputs": [],
   "source": [
    "my_list = ['apple', 'banana' , 'cherry','mango','pineapple']"
   ]
  },
  {
   "cell_type": "code",
   "execution_count": 6,
   "id": "0e506f5b",
   "metadata": {},
   "outputs": [
    {
     "data": {
      "text/plain": [
       "apple       NaN\n",
       "banana      NaN\n",
       "cherry      NaN\n",
       "mango       NaN\n",
       "pineapple   NaN\n",
       "dtype: float64"
      ]
     },
     "execution_count": 6,
     "metadata": {},
     "output_type": "execute_result"
    }
   ],
   "source": [
    "variable.reindex(my_list)"
   ]
  },
  {
   "cell_type": "code",
   "execution_count": 7,
   "id": "b1e4b4e3",
   "metadata": {},
   "outputs": [
    {
     "data": {
      "text/plain": [
       "b    8\n",
       "d    3\n",
       "c    6\n",
       "e    5\n",
       "f    1\n",
       "dtype: int64"
      ]
     },
     "execution_count": 7,
     "metadata": {},
     "output_type": "execute_result"
    }
   ],
   "source": [
    "variable"
   ]
  },
  {
   "cell_type": "code",
   "execution_count": 10,
   "id": "c22ffb20",
   "metadata": {},
   "outputs": [],
   "source": [
    "#sort the index of the series\n",
    "new_variable = variable.sort_index()"
   ]
  },
  {
   "cell_type": "code",
   "execution_count": 11,
   "id": "d8e2cc1a",
   "metadata": {},
   "outputs": [
    {
     "data": {
      "text/plain": [
       "b    8\n",
       "c    6\n",
       "d    3\n",
       "e    5\n",
       "f    1\n",
       "dtype: int64"
      ]
     },
     "execution_count": 11,
     "metadata": {},
     "output_type": "execute_result"
    }
   ],
   "source": [
    "new_variable"
   ]
  },
  {
   "cell_type": "code",
   "execution_count": 13,
   "id": "94a01689",
   "metadata": {},
   "outputs": [],
   "source": [
    "#sort the values\n",
    "sort_value =new_variable.sort_values()"
   ]
  },
  {
   "cell_type": "code",
   "execution_count": 14,
   "id": "914c5365",
   "metadata": {},
   "outputs": [
    {
     "data": {
      "text/plain": [
       "f    1\n",
       "d    3\n",
       "e    5\n",
       "c    6\n",
       "b    8\n",
       "dtype: int64"
      ]
     },
     "execution_count": 14,
     "metadata": {},
     "output_type": "execute_result"
    }
   ],
   "source": [
    "sort_value"
   ]
  },
  {
   "cell_type": "code",
   "execution_count": 15,
   "id": "d62fa640",
   "metadata": {},
   "outputs": [],
   "source": [
    "# Both the index and values of the series can be sorted"
   ]
  },
  {
   "cell_type": "code",
   "execution_count": 16,
   "id": "002b0ed7",
   "metadata": {},
   "outputs": [
    {
     "data": {
      "text/plain": [
       "b    8\n",
       "d    3\n",
       "c    6\n",
       "e    5\n",
       "f    1\n",
       "dtype: int64"
      ]
     },
     "execution_count": 16,
     "metadata": {},
     "output_type": "execute_result"
    }
   ],
   "source": [
    "variable"
   ]
  },
  {
   "cell_type": "code",
   "execution_count": 17,
   "id": "1d3427dc",
   "metadata": {},
   "outputs": [
    {
     "data": {
      "text/plain": [
       "b    False\n",
       "d    False\n",
       "c     True\n",
       "e    False\n",
       "f     True\n",
       "dtype: bool"
      ]
     },
     "execution_count": 17,
     "metadata": {},
     "output_type": "execute_result"
    }
   ],
   "source": [
    "variable.isin([6,1])"
   ]
  },
  {
   "cell_type": "code",
   "execution_count": 18,
   "id": "d7187ba7",
   "metadata": {},
   "outputs": [
    {
     "data": {
      "text/plain": [
       "c    6\n",
       "f    1\n",
       "dtype: int64"
      ]
     },
     "execution_count": 18,
     "metadata": {},
     "output_type": "execute_result"
    }
   ],
   "source": [
    "variable[variable.isin([6,1])]"
   ]
  },
  {
   "cell_type": "code",
   "execution_count": 19,
   "id": "0824a9bb",
   "metadata": {},
   "outputs": [
    {
     "data": {
      "text/plain": [
       "pandas.core.series.Series"
      ]
     },
     "execution_count": 19,
     "metadata": {},
     "output_type": "execute_result"
    }
   ],
   "source": [
    "type(variable)"
   ]
  },
  {
   "cell_type": "code",
   "execution_count": 20,
   "id": "360c17e6",
   "metadata": {},
   "outputs": [
    {
     "data": {
      "text/plain": [
       "pandas.core.series.Series"
      ]
     },
     "execution_count": 20,
     "metadata": {},
     "output_type": "execute_result"
    }
   ],
   "source": [
    "type(variable[variable.isin([6,1])])"
   ]
  },
  {
   "cell_type": "code",
   "execution_count": 21,
   "id": "85ed9b22",
   "metadata": {},
   "outputs": [
    {
     "data": {
      "text/plain": [
       "1"
      ]
     },
     "execution_count": 21,
     "metadata": {},
     "output_type": "execute_result"
    }
   ],
   "source": [
    "variable.ndim"
   ]
  },
  {
   "cell_type": "code",
   "execution_count": 22,
   "id": "9ede992c",
   "metadata": {},
   "outputs": [],
   "source": [
    "#series has only one dimension "
   ]
  },
  {
   "cell_type": "code",
   "execution_count": 23,
   "id": "ae1045b7",
   "metadata": {},
   "outputs": [
    {
     "data": {
      "text/plain": [
       "array([8, 3, 6, 5, 1], dtype=int64)"
      ]
     },
     "execution_count": 23,
     "metadata": {},
     "output_type": "execute_result"
    }
   ],
   "source": [
    "variable.values"
   ]
  },
  {
   "cell_type": "code",
   "execution_count": 25,
   "id": "d5bc2b8d",
   "metadata": {},
   "outputs": [
    {
     "data": {
      "text/plain": [
       "[8, 3, 6, 5, 1]"
      ]
     },
     "execution_count": 25,
     "metadata": {},
     "output_type": "execute_result"
    }
   ],
   "source": [
    "#list comprehension to iterate values\n",
    "[i for i in variable.values]"
   ]
  },
  {
   "cell_type": "code",
   "execution_count": 26,
   "id": "80c747f8",
   "metadata": {},
   "outputs": [
    {
     "data": {
      "text/plain": [
       "Index(['b', 'd', 'c', 'e', 'f'], dtype='object')"
      ]
     },
     "execution_count": 26,
     "metadata": {},
     "output_type": "execute_result"
    }
   ],
   "source": [
    "#list comprehension to iterate on index\n",
    "variable.index"
   ]
  },
  {
   "cell_type": "code",
   "execution_count": 29,
   "id": "7dbce756",
   "metadata": {},
   "outputs": [
    {
     "data": {
      "text/plain": [
       "['b', 'd', 'c', 'e', 'f']"
      ]
     },
     "execution_count": 29,
     "metadata": {},
     "output_type": "execute_result"
    }
   ],
   "source": [
    "[i for i in variable.index]"
   ]
  },
  {
   "cell_type": "code",
   "execution_count": 30,
   "id": "78923e03",
   "metadata": {},
   "outputs": [
    {
     "data": {
      "text/plain": [
       "<bound method Series.items of b    8\n",
       "d    3\n",
       "c    6\n",
       "e    5\n",
       "f    1\n",
       "dtype: int64>"
      ]
     },
     "execution_count": 30,
     "metadata": {},
     "output_type": "execute_result"
    }
   ],
   "source": [
    "variable.items"
   ]
  },
  {
   "cell_type": "code",
   "execution_count": 31,
   "id": "b1c3de1f",
   "metadata": {},
   "outputs": [
    {
     "data": {
      "text/plain": [
       "<zip at 0x21dc7002bc0>"
      ]
     },
     "execution_count": 31,
     "metadata": {},
     "output_type": "execute_result"
    }
   ],
   "source": [
    "variable.items()"
   ]
  },
  {
   "cell_type": "code",
   "execution_count": 32,
   "id": "46a92d89",
   "metadata": {},
   "outputs": [
    {
     "data": {
      "text/plain": [
       "[('b', 8), ('d', 3), ('c', 6), ('e', 5), ('f', 1)]"
      ]
     },
     "execution_count": 32,
     "metadata": {},
     "output_type": "execute_result"
    }
   ],
   "source": [
    "list(variable.items())"
   ]
  },
  {
   "cell_type": "code",
   "execution_count": 33,
   "id": "9258cc9a",
   "metadata": {},
   "outputs": [
    {
     "name": "stdout",
     "output_type": "stream",
     "text": [
      "b 8\n",
      "d 3\n",
      "c 6\n",
      "e 5\n",
      "f 1\n"
     ]
    }
   ],
   "source": [
    "for index, value in variable.items():\n",
    "    print(index,value)"
   ]
  },
  {
   "cell_type": "markdown",
   "id": "56699bc0",
   "metadata": {},
   "source": [
    "for index, value in variable.items():\n",
    "    print(value,index)"
   ]
  },
  {
   "cell_type": "code",
   "execution_count": 36,
   "id": "a62a8139",
   "metadata": {},
   "outputs": [
    {
     "name": "stdout",
     "output_type": "stream",
     "text": [
      "b - 8\n",
      "d - 3\n",
      "c - 6\n",
      "e - 5\n",
      "f - 1\n"
     ]
    }
   ],
   "source": [
    "for index, value in variable.items():\n",
    "    print(index, \"-\", value)"
   ]
  },
  {
   "cell_type": "markdown",
   "id": "20c33ce6",
   "metadata": {},
   "source": [
    "# Indexing and Slicing in Pandas"
   ]
  },
  {
   "cell_type": "code",
   "execution_count": 37,
   "id": "821e3f33",
   "metadata": {},
   "outputs": [],
   "source": [
    "import pandas as pd"
   ]
  },
  {
   "cell_type": "code",
   "execution_count": 38,
   "id": "174be77f",
   "metadata": {},
   "outputs": [],
   "source": [
    "example = pd.Series(['+67', '+90', '+44','+50','+59', '+34','+96'], index = ['Germany', 'Nepal', \"India\", 'Japan', 'Pakistan', 'America', 'Bhutan'])"
   ]
  },
  {
   "cell_type": "code",
   "execution_count": 39,
   "id": "26ed9c92",
   "metadata": {},
   "outputs": [
    {
     "data": {
      "text/plain": [
       "Germany     +67\n",
       "Nepal       +90\n",
       "India       +44\n",
       "Japan       +50\n",
       "Pakistan    +59\n",
       "America     +34\n",
       "Bhutan      +96\n",
       "dtype: object"
      ]
     },
     "execution_count": 39,
     "metadata": {},
     "output_type": "execute_result"
    }
   ],
   "source": [
    "example"
   ]
  },
  {
   "cell_type": "code",
   "execution_count": 40,
   "id": "20d94a46",
   "metadata": {},
   "outputs": [
    {
     "data": {
      "text/plain": [
       "'+96'"
      ]
     },
     "execution_count": 40,
     "metadata": {},
     "output_type": "execute_result"
    }
   ],
   "source": [
    "example['Bhutan']"
   ]
  },
  {
   "cell_type": "code",
   "execution_count": 41,
   "id": "b58311bf",
   "metadata": {},
   "outputs": [
    {
     "data": {
      "text/plain": [
       "'+90'"
      ]
     },
     "execution_count": 41,
     "metadata": {},
     "output_type": "execute_result"
    }
   ],
   "source": [
    "# NOTE: We can use numerical index also\n",
    "example[1]"
   ]
  },
  {
   "cell_type": "code",
   "execution_count": 43,
   "id": "24f5b6c0",
   "metadata": {},
   "outputs": [
    {
     "data": {
      "text/plain": [
       "Nepal       +90\n",
       "India       +44\n",
       "Japan       +50\n",
       "Pakistan    +59\n",
       "America     +34\n",
       "dtype: object"
      ]
     },
     "execution_count": 43,
     "metadata": {},
     "output_type": "execute_result"
    }
   ],
   "source": [
    "#slicing\n",
    "#NOTE: both the start and end values are inclusive\n",
    "example[\"Nepal\" : \"America\"]"
   ]
  },
  {
   "cell_type": "code",
   "execution_count": 44,
   "id": "3fbcb082",
   "metadata": {},
   "outputs": [
    {
     "data": {
      "text/plain": [
       "India       +44\n",
       "Japan       +50\n",
       "Pakistan    +59\n",
       "dtype: object"
      ]
     },
     "execution_count": 44,
     "metadata": {},
     "output_type": "execute_result"
    }
   ],
   "source": [
    "#Slicing using the numerical index\n",
    "example[2:5]"
   ]
  },
  {
   "cell_type": "markdown",
   "id": "cc5d992c",
   "metadata": {},
   "source": [
    "# [Start: Stop: Step]"
   ]
  },
  {
   "cell_type": "code",
   "execution_count": 45,
   "id": "fd0050cb",
   "metadata": {},
   "outputs": [
    {
     "data": {
      "text/plain": [
       "India       +44\n",
       "Pakistan    +59\n",
       "dtype: object"
      ]
     },
     "execution_count": 45,
     "metadata": {},
     "output_type": "execute_result"
    }
   ],
   "source": [
    "example[2:5:2]"
   ]
  },
  {
   "cell_type": "code",
   "execution_count": 46,
   "id": "e1b84ea2",
   "metadata": {},
   "outputs": [
    {
     "data": {
      "text/plain": [
       "'+44'"
      ]
     },
     "execution_count": 46,
     "metadata": {},
     "output_type": "execute_result"
    }
   ],
   "source": [
    "example['India']"
   ]
  },
  {
   "cell_type": "code",
   "execution_count": 47,
   "id": "98cf1502",
   "metadata": {},
   "outputs": [
    {
     "ename": "KeyError",
     "evalue": "'key of type tuple not found and not a MultiIndex'",
     "output_type": "error",
     "traceback": [
      "\u001b[1;31m---------------------------------------------------------------------------\u001b[0m",
      "\u001b[1;31mKeyError\u001b[0m                                  Traceback (most recent call last)",
      "Cell \u001b[1;32mIn[47], line 1\u001b[0m\n\u001b[1;32m----> 1\u001b[0m \u001b[43mexample\u001b[49m\u001b[43m[\u001b[49m\u001b[38;5;124;43m'\u001b[39;49m\u001b[38;5;124;43mIndia\u001b[39;49m\u001b[38;5;124;43m'\u001b[39;49m\u001b[43m,\u001b[49m\u001b[43m \u001b[49m\u001b[38;5;124;43m'\u001b[39;49m\u001b[38;5;124;43mNepal\u001b[39;49m\u001b[38;5;124;43m'\u001b[39;49m\u001b[43m]\u001b[49m\n",
      "File \u001b[1;32m~\\anaconda3\\lib\\site-packages\\pandas\\core\\series.py:1007\u001b[0m, in \u001b[0;36mSeries.__getitem__\u001b[1;34m(self, key)\u001b[0m\n\u001b[0;32m   1004\u001b[0m     key \u001b[38;5;241m=\u001b[39m np\u001b[38;5;241m.\u001b[39masarray(key, dtype\u001b[38;5;241m=\u001b[39m\u001b[38;5;28mbool\u001b[39m)\n\u001b[0;32m   1005\u001b[0m     \u001b[38;5;28;01mreturn\u001b[39;00m \u001b[38;5;28mself\u001b[39m\u001b[38;5;241m.\u001b[39m_get_values(key)\n\u001b[1;32m-> 1007\u001b[0m \u001b[38;5;28;01mreturn\u001b[39;00m \u001b[38;5;28;43mself\u001b[39;49m\u001b[38;5;241;43m.\u001b[39;49m\u001b[43m_get_with\u001b[49m\u001b[43m(\u001b[49m\u001b[43mkey\u001b[49m\u001b[43m)\u001b[49m\n",
      "File \u001b[1;32m~\\anaconda3\\lib\\site-packages\\pandas\\core\\series.py:1022\u001b[0m, in \u001b[0;36mSeries._get_with\u001b[1;34m(self, key)\u001b[0m\n\u001b[0;32m   1017\u001b[0m     \u001b[38;5;28;01mraise\u001b[39;00m \u001b[38;5;167;01mTypeError\u001b[39;00m(\n\u001b[0;32m   1018\u001b[0m         \u001b[38;5;124m\"\u001b[39m\u001b[38;5;124mIndexing a Series with DataFrame is not \u001b[39m\u001b[38;5;124m\"\u001b[39m\n\u001b[0;32m   1019\u001b[0m         \u001b[38;5;124m\"\u001b[39m\u001b[38;5;124msupported, use the appropriate DataFrame column\u001b[39m\u001b[38;5;124m\"\u001b[39m\n\u001b[0;32m   1020\u001b[0m     )\n\u001b[0;32m   1021\u001b[0m \u001b[38;5;28;01melif\u001b[39;00m \u001b[38;5;28misinstance\u001b[39m(key, \u001b[38;5;28mtuple\u001b[39m):\n\u001b[1;32m-> 1022\u001b[0m     \u001b[38;5;28;01mreturn\u001b[39;00m \u001b[38;5;28;43mself\u001b[39;49m\u001b[38;5;241;43m.\u001b[39;49m\u001b[43m_get_values_tuple\u001b[49m\u001b[43m(\u001b[49m\u001b[43mkey\u001b[49m\u001b[43m)\u001b[49m\n\u001b[0;32m   1024\u001b[0m \u001b[38;5;28;01melif\u001b[39;00m \u001b[38;5;129;01mnot\u001b[39;00m is_list_like(key):\n\u001b[0;32m   1025\u001b[0m     \u001b[38;5;66;03m# e.g. scalars that aren't recognized by lib.is_scalar, GH#32684\u001b[39;00m\n\u001b[0;32m   1026\u001b[0m     \u001b[38;5;28;01mreturn\u001b[39;00m \u001b[38;5;28mself\u001b[39m\u001b[38;5;241m.\u001b[39mloc[key]\n",
      "File \u001b[1;32m~\\anaconda3\\lib\\site-packages\\pandas\\core\\series.py:1060\u001b[0m, in \u001b[0;36mSeries._get_values_tuple\u001b[1;34m(self, key)\u001b[0m\n\u001b[0;32m   1057\u001b[0m     \u001b[38;5;28;01mreturn\u001b[39;00m result\n\u001b[0;32m   1059\u001b[0m \u001b[38;5;28;01mif\u001b[39;00m \u001b[38;5;129;01mnot\u001b[39;00m \u001b[38;5;28misinstance\u001b[39m(\u001b[38;5;28mself\u001b[39m\u001b[38;5;241m.\u001b[39mindex, MultiIndex):\n\u001b[1;32m-> 1060\u001b[0m     \u001b[38;5;28;01mraise\u001b[39;00m \u001b[38;5;167;01mKeyError\u001b[39;00m(\u001b[38;5;124m\"\u001b[39m\u001b[38;5;124mkey of type tuple not found and not a MultiIndex\u001b[39m\u001b[38;5;124m\"\u001b[39m)\n\u001b[0;32m   1062\u001b[0m \u001b[38;5;66;03m# If key is contained, would have returned by now\u001b[39;00m\n\u001b[0;32m   1063\u001b[0m indexer, new_index \u001b[38;5;241m=\u001b[39m \u001b[38;5;28mself\u001b[39m\u001b[38;5;241m.\u001b[39mindex\u001b[38;5;241m.\u001b[39mget_loc_level(key)\n",
      "\u001b[1;31mKeyError\u001b[0m: 'key of type tuple not found and not a MultiIndex'"
     ]
    }
   ],
   "source": [
    "# to get the values of 2 or more, pass their index as a list\n",
    "example['India', 'Nepal']"
   ]
  },
  {
   "cell_type": "code",
   "execution_count": 48,
   "id": "027915ba",
   "metadata": {},
   "outputs": [
    {
     "data": {
      "text/plain": [
       "India       +44\n",
       "Pakistan    +59\n",
       "dtype: object"
      ]
     },
     "execution_count": 48,
     "metadata": {},
     "output_type": "execute_result"
    }
   ],
   "source": [
    "#pass the list to get the values of 2 or more \n",
    "example[['India', 'Pakistan']]"
   ]
  },
  {
   "cell_type": "markdown",
   "id": "0a00fc82",
   "metadata": {},
   "source": [
    "# Adding Columns to Data frames"
   ]
  },
  {
   "cell_type": "code",
   "execution_count": 49,
   "id": "2ee60703",
   "metadata": {},
   "outputs": [],
   "source": [
    "import numpy as np\n",
    "import pandas as pd"
   ]
  },
  {
   "cell_type": "code",
   "execution_count": 50,
   "id": "ced82986",
   "metadata": {},
   "outputs": [],
   "source": [
    "x = np.arange(0,28)"
   ]
  },
  {
   "cell_type": "code",
   "execution_count": 51,
   "id": "04585522",
   "metadata": {},
   "outputs": [
    {
     "data": {
      "text/plain": [
       "array([ 0,  1,  2,  3,  4,  5,  6,  7,  8,  9, 10, 11, 12, 13, 14, 15, 16,\n",
       "       17, 18, 19, 20, 21, 22, 23, 24, 25, 26, 27])"
      ]
     },
     "execution_count": 51,
     "metadata": {},
     "output_type": "execute_result"
    }
   ],
   "source": [
    "x"
   ]
  },
  {
   "cell_type": "code",
   "execution_count": 52,
   "id": "21cfdfea",
   "metadata": {},
   "outputs": [],
   "source": [
    "y = np.arange(10)"
   ]
  },
  {
   "cell_type": "code",
   "execution_count": 53,
   "id": "7d192f57",
   "metadata": {},
   "outputs": [
    {
     "data": {
      "text/plain": [
       "array([0, 1, 2, 3, 4, 5, 6, 7, 8, 9])"
      ]
     },
     "execution_count": 53,
     "metadata": {},
     "output_type": "execute_result"
    }
   ],
   "source": [
    "y"
   ]
  },
  {
   "cell_type": "code",
   "execution_count": 54,
   "id": "5f83d20c",
   "metadata": {},
   "outputs": [],
   "source": [
    "z = np.arange(1,21)"
   ]
  },
  {
   "cell_type": "code",
   "execution_count": 55,
   "id": "1ccbcd5f",
   "metadata": {},
   "outputs": [
    {
     "data": {
      "text/plain": [
       "array([ 1,  2,  3,  4,  5,  6,  7,  8,  9, 10, 11, 12, 13, 14, 15, 16, 17,\n",
       "       18, 19, 20])"
      ]
     },
     "execution_count": 55,
     "metadata": {},
     "output_type": "execute_result"
    }
   ],
   "source": [
    "z"
   ]
  },
  {
   "cell_type": "code",
   "execution_count": 56,
   "id": "2c6c6230",
   "metadata": {},
   "outputs": [],
   "source": [
    "#The the boundary is exclusive"
   ]
  },
  {
   "cell_type": "code",
   "execution_count": 57,
   "id": "1610faaf",
   "metadata": {},
   "outputs": [
    {
     "data": {
      "text/plain": [
       "array([[ 0,  1,  2,  3],\n",
       "       [ 4,  5,  6,  7],\n",
       "       [ 8,  9, 10, 11],\n",
       "       [12, 13, 14, 15],\n",
       "       [16, 17, 18, 19],\n",
       "       [20, 21, 22, 23],\n",
       "       [24, 25, 26, 27]])"
      ]
     },
     "execution_count": 57,
     "metadata": {},
     "output_type": "execute_result"
    }
   ],
   "source": [
    "x.reshape(7,4)"
   ]
  },
  {
   "cell_type": "markdown",
   "id": "848f702d",
   "metadata": {},
   "source": [
    "# Changing the data to DataFrame"
   ]
  },
  {
   "cell_type": "code",
   "execution_count": 59,
   "id": "fb8ff602",
   "metadata": {},
   "outputs": [],
   "source": [
    "x =x.reshape(7,4)\n",
    "df = pd.DataFrame(data = x, columns = ['col1', 'col2', 'col3', 'col4'])"
   ]
  },
  {
   "cell_type": "code",
   "execution_count": 61,
   "id": "20b92f7b",
   "metadata": {},
   "outputs": [
    {
     "data": {
      "text/html": [
       "<div>\n",
       "<style scoped>\n",
       "    .dataframe tbody tr th:only-of-type {\n",
       "        vertical-align: middle;\n",
       "    }\n",
       "\n",
       "    .dataframe tbody tr th {\n",
       "        vertical-align: top;\n",
       "    }\n",
       "\n",
       "    .dataframe thead th {\n",
       "        text-align: right;\n",
       "    }\n",
       "</style>\n",
       "<table border=\"1\" class=\"dataframe\">\n",
       "  <thead>\n",
       "    <tr style=\"text-align: right;\">\n",
       "      <th></th>\n",
       "      <th>col1</th>\n",
       "      <th>col2</th>\n",
       "      <th>col3</th>\n",
       "      <th>col4</th>\n",
       "    </tr>\n",
       "  </thead>\n",
       "  <tbody>\n",
       "    <tr>\n",
       "      <th>0</th>\n",
       "      <td>0</td>\n",
       "      <td>1</td>\n",
       "      <td>2</td>\n",
       "      <td>3</td>\n",
       "    </tr>\n",
       "    <tr>\n",
       "      <th>1</th>\n",
       "      <td>4</td>\n",
       "      <td>5</td>\n",
       "      <td>6</td>\n",
       "      <td>7</td>\n",
       "    </tr>\n",
       "    <tr>\n",
       "      <th>2</th>\n",
       "      <td>8</td>\n",
       "      <td>9</td>\n",
       "      <td>10</td>\n",
       "      <td>11</td>\n",
       "    </tr>\n",
       "    <tr>\n",
       "      <th>3</th>\n",
       "      <td>12</td>\n",
       "      <td>13</td>\n",
       "      <td>14</td>\n",
       "      <td>15</td>\n",
       "    </tr>\n",
       "    <tr>\n",
       "      <th>4</th>\n",
       "      <td>16</td>\n",
       "      <td>17</td>\n",
       "      <td>18</td>\n",
       "      <td>19</td>\n",
       "    </tr>\n",
       "    <tr>\n",
       "      <th>5</th>\n",
       "      <td>20</td>\n",
       "      <td>21</td>\n",
       "      <td>22</td>\n",
       "      <td>23</td>\n",
       "    </tr>\n",
       "    <tr>\n",
       "      <th>6</th>\n",
       "      <td>24</td>\n",
       "      <td>25</td>\n",
       "      <td>26</td>\n",
       "      <td>27</td>\n",
       "    </tr>\n",
       "  </tbody>\n",
       "</table>\n",
       "</div>"
      ],
      "text/plain": [
       "   col1  col2  col3  col4\n",
       "0     0     1     2     3\n",
       "1     4     5     6     7\n",
       "2     8     9    10    11\n",
       "3    12    13    14    15\n",
       "4    16    17    18    19\n",
       "5    20    21    22    23\n",
       "6    24    25    26    27"
      ]
     },
     "execution_count": 61,
     "metadata": {},
     "output_type": "execute_result"
    }
   ],
   "source": [
    "df"
   ]
  },
  {
   "cell_type": "markdown",
   "id": "38910451",
   "metadata": {},
   "source": [
    "# Use of dropna()"
   ]
  },
  {
   "cell_type": "code",
   "execution_count": 70,
   "id": "65ad34f3",
   "metadata": {},
   "outputs": [],
   "source": [
    "new_df = df.drop(['col4'],axis = 1)"
   ]
  },
  {
   "cell_type": "code",
   "execution_count": 72,
   "id": "7b6ac8f3",
   "metadata": {},
   "outputs": [
    {
     "data": {
      "text/html": [
       "<div>\n",
       "<style scoped>\n",
       "    .dataframe tbody tr th:only-of-type {\n",
       "        vertical-align: middle;\n",
       "    }\n",
       "\n",
       "    .dataframe tbody tr th {\n",
       "        vertical-align: top;\n",
       "    }\n",
       "\n",
       "    .dataframe thead th {\n",
       "        text-align: right;\n",
       "    }\n",
       "</style>\n",
       "<table border=\"1\" class=\"dataframe\">\n",
       "  <thead>\n",
       "    <tr style=\"text-align: right;\">\n",
       "      <th></th>\n",
       "      <th>col1</th>\n",
       "      <th>col2</th>\n",
       "      <th>col3</th>\n",
       "    </tr>\n",
       "  </thead>\n",
       "  <tbody>\n",
       "    <tr>\n",
       "      <th>0</th>\n",
       "      <td>0</td>\n",
       "      <td>1</td>\n",
       "      <td>2</td>\n",
       "    </tr>\n",
       "    <tr>\n",
       "      <th>1</th>\n",
       "      <td>4</td>\n",
       "      <td>5</td>\n",
       "      <td>6</td>\n",
       "    </tr>\n",
       "    <tr>\n",
       "      <th>2</th>\n",
       "      <td>8</td>\n",
       "      <td>9</td>\n",
       "      <td>10</td>\n",
       "    </tr>\n",
       "    <tr>\n",
       "      <th>3</th>\n",
       "      <td>12</td>\n",
       "      <td>13</td>\n",
       "      <td>14</td>\n",
       "    </tr>\n",
       "    <tr>\n",
       "      <th>4</th>\n",
       "      <td>16</td>\n",
       "      <td>17</td>\n",
       "      <td>18</td>\n",
       "    </tr>\n",
       "    <tr>\n",
       "      <th>5</th>\n",
       "      <td>20</td>\n",
       "      <td>21</td>\n",
       "      <td>22</td>\n",
       "    </tr>\n",
       "    <tr>\n",
       "      <th>6</th>\n",
       "      <td>24</td>\n",
       "      <td>25</td>\n",
       "      <td>26</td>\n",
       "    </tr>\n",
       "  </tbody>\n",
       "</table>\n",
       "</div>"
      ],
      "text/plain": [
       "   col1  col2  col3\n",
       "0     0     1     2\n",
       "1     4     5     6\n",
       "2     8     9    10\n",
       "3    12    13    14\n",
       "4    16    17    18\n",
       "5    20    21    22\n",
       "6    24    25    26"
      ]
     },
     "execution_count": 72,
     "metadata": {},
     "output_type": "execute_result"
    }
   ],
   "source": [
    "# the col4 column has been dropped, asis should always be mentioned\n",
    "new_df"
   ]
  },
  {
   "cell_type": "code",
   "execution_count": 74,
   "id": "f80fc89b",
   "metadata": {},
   "outputs": [],
   "source": [
    "df['col5'] = df['col1'] + df['col2']"
   ]
  },
  {
   "cell_type": "code",
   "execution_count": 75,
   "id": "0d3d4db4",
   "metadata": {},
   "outputs": [
    {
     "data": {
      "text/html": [
       "<div>\n",
       "<style scoped>\n",
       "    .dataframe tbody tr th:only-of-type {\n",
       "        vertical-align: middle;\n",
       "    }\n",
       "\n",
       "    .dataframe tbody tr th {\n",
       "        vertical-align: top;\n",
       "    }\n",
       "\n",
       "    .dataframe thead th {\n",
       "        text-align: right;\n",
       "    }\n",
       "</style>\n",
       "<table border=\"1\" class=\"dataframe\">\n",
       "  <thead>\n",
       "    <tr style=\"text-align: right;\">\n",
       "      <th></th>\n",
       "      <th>col1</th>\n",
       "      <th>col2</th>\n",
       "      <th>col3</th>\n",
       "      <th>col4</th>\n",
       "      <th>col5</th>\n",
       "    </tr>\n",
       "  </thead>\n",
       "  <tbody>\n",
       "    <tr>\n",
       "      <th>0</th>\n",
       "      <td>0</td>\n",
       "      <td>1</td>\n",
       "      <td>2</td>\n",
       "      <td>3</td>\n",
       "      <td>1</td>\n",
       "    </tr>\n",
       "    <tr>\n",
       "      <th>1</th>\n",
       "      <td>4</td>\n",
       "      <td>5</td>\n",
       "      <td>6</td>\n",
       "      <td>7</td>\n",
       "      <td>9</td>\n",
       "    </tr>\n",
       "    <tr>\n",
       "      <th>2</th>\n",
       "      <td>8</td>\n",
       "      <td>9</td>\n",
       "      <td>10</td>\n",
       "      <td>11</td>\n",
       "      <td>17</td>\n",
       "    </tr>\n",
       "    <tr>\n",
       "      <th>3</th>\n",
       "      <td>12</td>\n",
       "      <td>13</td>\n",
       "      <td>14</td>\n",
       "      <td>15</td>\n",
       "      <td>25</td>\n",
       "    </tr>\n",
       "    <tr>\n",
       "      <th>4</th>\n",
       "      <td>16</td>\n",
       "      <td>17</td>\n",
       "      <td>18</td>\n",
       "      <td>19</td>\n",
       "      <td>33</td>\n",
       "    </tr>\n",
       "    <tr>\n",
       "      <th>5</th>\n",
       "      <td>20</td>\n",
       "      <td>21</td>\n",
       "      <td>22</td>\n",
       "      <td>23</td>\n",
       "      <td>41</td>\n",
       "    </tr>\n",
       "    <tr>\n",
       "      <th>6</th>\n",
       "      <td>24</td>\n",
       "      <td>25</td>\n",
       "      <td>26</td>\n",
       "      <td>27</td>\n",
       "      <td>49</td>\n",
       "    </tr>\n",
       "  </tbody>\n",
       "</table>\n",
       "</div>"
      ],
      "text/plain": [
       "   col1  col2  col3  col4  col5\n",
       "0     0     1     2     3     1\n",
       "1     4     5     6     7     9\n",
       "2     8     9    10    11    17\n",
       "3    12    13    14    15    25\n",
       "4    16    17    18    19    33\n",
       "5    20    21    22    23    41\n",
       "6    24    25    26    27    49"
      ]
     },
     "execution_count": 75,
     "metadata": {},
     "output_type": "execute_result"
    }
   ],
   "source": [
    "df"
   ]
  },
  {
   "cell_type": "code",
   "execution_count": 76,
   "id": "9de9020f",
   "metadata": {},
   "outputs": [],
   "source": [
    "df['col6'] = df['col4'] * df['col3']"
   ]
  },
  {
   "cell_type": "code",
   "execution_count": 77,
   "id": "99e0629e",
   "metadata": {},
   "outputs": [
    {
     "data": {
      "text/html": [
       "<div>\n",
       "<style scoped>\n",
       "    .dataframe tbody tr th:only-of-type {\n",
       "        vertical-align: middle;\n",
       "    }\n",
       "\n",
       "    .dataframe tbody tr th {\n",
       "        vertical-align: top;\n",
       "    }\n",
       "\n",
       "    .dataframe thead th {\n",
       "        text-align: right;\n",
       "    }\n",
       "</style>\n",
       "<table border=\"1\" class=\"dataframe\">\n",
       "  <thead>\n",
       "    <tr style=\"text-align: right;\">\n",
       "      <th></th>\n",
       "      <th>col1</th>\n",
       "      <th>col2</th>\n",
       "      <th>col3</th>\n",
       "      <th>col4</th>\n",
       "      <th>col5</th>\n",
       "      <th>col6</th>\n",
       "    </tr>\n",
       "  </thead>\n",
       "  <tbody>\n",
       "    <tr>\n",
       "      <th>0</th>\n",
       "      <td>0</td>\n",
       "      <td>1</td>\n",
       "      <td>2</td>\n",
       "      <td>3</td>\n",
       "      <td>1</td>\n",
       "      <td>6</td>\n",
       "    </tr>\n",
       "    <tr>\n",
       "      <th>1</th>\n",
       "      <td>4</td>\n",
       "      <td>5</td>\n",
       "      <td>6</td>\n",
       "      <td>7</td>\n",
       "      <td>9</td>\n",
       "      <td>42</td>\n",
       "    </tr>\n",
       "    <tr>\n",
       "      <th>2</th>\n",
       "      <td>8</td>\n",
       "      <td>9</td>\n",
       "      <td>10</td>\n",
       "      <td>11</td>\n",
       "      <td>17</td>\n",
       "      <td>110</td>\n",
       "    </tr>\n",
       "    <tr>\n",
       "      <th>3</th>\n",
       "      <td>12</td>\n",
       "      <td>13</td>\n",
       "      <td>14</td>\n",
       "      <td>15</td>\n",
       "      <td>25</td>\n",
       "      <td>210</td>\n",
       "    </tr>\n",
       "    <tr>\n",
       "      <th>4</th>\n",
       "      <td>16</td>\n",
       "      <td>17</td>\n",
       "      <td>18</td>\n",
       "      <td>19</td>\n",
       "      <td>33</td>\n",
       "      <td>342</td>\n",
       "    </tr>\n",
       "    <tr>\n",
       "      <th>5</th>\n",
       "      <td>20</td>\n",
       "      <td>21</td>\n",
       "      <td>22</td>\n",
       "      <td>23</td>\n",
       "      <td>41</td>\n",
       "      <td>506</td>\n",
       "    </tr>\n",
       "    <tr>\n",
       "      <th>6</th>\n",
       "      <td>24</td>\n",
       "      <td>25</td>\n",
       "      <td>26</td>\n",
       "      <td>27</td>\n",
       "      <td>49</td>\n",
       "      <td>702</td>\n",
       "    </tr>\n",
       "  </tbody>\n",
       "</table>\n",
       "</div>"
      ],
      "text/plain": [
       "   col1  col2  col3  col4  col5  col6\n",
       "0     0     1     2     3     1     6\n",
       "1     4     5     6     7     9    42\n",
       "2     8     9    10    11    17   110\n",
       "3    12    13    14    15    25   210\n",
       "4    16    17    18    19    33   342\n",
       "5    20    21    22    23    41   506\n",
       "6    24    25    26    27    49   702"
      ]
     },
     "execution_count": 77,
     "metadata": {},
     "output_type": "execute_result"
    }
   ],
   "source": [
    "df"
   ]
  },
  {
   "cell_type": "code",
   "execution_count": 78,
   "id": "afd31bcd",
   "metadata": {},
   "outputs": [
    {
     "data": {
      "text/plain": [
       "array([28, 29, 30, 31, 32, 33, 34])"
      ]
     },
     "execution_count": 78,
     "metadata": {},
     "output_type": "execute_result"
    }
   ],
   "source": [
    "np.arange(28,35)"
   ]
  },
  {
   "cell_type": "code",
   "execution_count": 82,
   "id": "25149ddf",
   "metadata": {},
   "outputs": [],
   "source": [
    "df['col7'] = np.arange(28,35)"
   ]
  },
  {
   "cell_type": "code",
   "execution_count": 80,
   "id": "62578509",
   "metadata": {},
   "outputs": [
    {
     "data": {
      "text/html": [
       "<div>\n",
       "<style scoped>\n",
       "    .dataframe tbody tr th:only-of-type {\n",
       "        vertical-align: middle;\n",
       "    }\n",
       "\n",
       "    .dataframe tbody tr th {\n",
       "        vertical-align: top;\n",
       "    }\n",
       "\n",
       "    .dataframe thead th {\n",
       "        text-align: right;\n",
       "    }\n",
       "</style>\n",
       "<table border=\"1\" class=\"dataframe\">\n",
       "  <thead>\n",
       "    <tr style=\"text-align: right;\">\n",
       "      <th></th>\n",
       "      <th>col1</th>\n",
       "      <th>col2</th>\n",
       "      <th>col3</th>\n",
       "      <th>col4</th>\n",
       "      <th>col5</th>\n",
       "      <th>col6</th>\n",
       "      <th>col7</th>\n",
       "    </tr>\n",
       "  </thead>\n",
       "  <tbody>\n",
       "    <tr>\n",
       "      <th>0</th>\n",
       "      <td>0</td>\n",
       "      <td>1</td>\n",
       "      <td>2</td>\n",
       "      <td>3</td>\n",
       "      <td>1</td>\n",
       "      <td>6</td>\n",
       "      <td>28</td>\n",
       "    </tr>\n",
       "    <tr>\n",
       "      <th>1</th>\n",
       "      <td>4</td>\n",
       "      <td>5</td>\n",
       "      <td>6</td>\n",
       "      <td>7</td>\n",
       "      <td>9</td>\n",
       "      <td>42</td>\n",
       "      <td>29</td>\n",
       "    </tr>\n",
       "    <tr>\n",
       "      <th>2</th>\n",
       "      <td>8</td>\n",
       "      <td>9</td>\n",
       "      <td>10</td>\n",
       "      <td>11</td>\n",
       "      <td>17</td>\n",
       "      <td>110</td>\n",
       "      <td>30</td>\n",
       "    </tr>\n",
       "    <tr>\n",
       "      <th>3</th>\n",
       "      <td>12</td>\n",
       "      <td>13</td>\n",
       "      <td>14</td>\n",
       "      <td>15</td>\n",
       "      <td>25</td>\n",
       "      <td>210</td>\n",
       "      <td>31</td>\n",
       "    </tr>\n",
       "    <tr>\n",
       "      <th>4</th>\n",
       "      <td>16</td>\n",
       "      <td>17</td>\n",
       "      <td>18</td>\n",
       "      <td>19</td>\n",
       "      <td>33</td>\n",
       "      <td>342</td>\n",
       "      <td>32</td>\n",
       "    </tr>\n",
       "    <tr>\n",
       "      <th>5</th>\n",
       "      <td>20</td>\n",
       "      <td>21</td>\n",
       "      <td>22</td>\n",
       "      <td>23</td>\n",
       "      <td>41</td>\n",
       "      <td>506</td>\n",
       "      <td>33</td>\n",
       "    </tr>\n",
       "    <tr>\n",
       "      <th>6</th>\n",
       "      <td>24</td>\n",
       "      <td>25</td>\n",
       "      <td>26</td>\n",
       "      <td>27</td>\n",
       "      <td>49</td>\n",
       "      <td>702</td>\n",
       "      <td>34</td>\n",
       "    </tr>\n",
       "  </tbody>\n",
       "</table>\n",
       "</div>"
      ],
      "text/plain": [
       "   col1  col2  col3  col4  col5  col6  col7\n",
       "0     0     1     2     3     1     6    28\n",
       "1     4     5     6     7     9    42    29\n",
       "2     8     9    10    11    17   110    30\n",
       "3    12    13    14    15    25   210    31\n",
       "4    16    17    18    19    33   342    32\n",
       "5    20    21    22    23    41   506    33\n",
       "6    24    25    26    27    49   702    34"
      ]
     },
     "execution_count": 80,
     "metadata": {},
     "output_type": "execute_result"
    }
   ],
   "source": [
    "df"
   ]
  },
  {
   "cell_type": "code",
   "execution_count": 83,
   "id": "6e133b20",
   "metadata": {},
   "outputs": [],
   "source": [
    "#NOTE: if size of the new col doesn't match then an error will raise"
   ]
  },
  {
   "cell_type": "markdown",
   "id": "62f955be",
   "metadata": {},
   "source": [
    "# Setting the index in pandas DataFrame"
   ]
  },
  {
   "cell_type": "code",
   "execution_count": 84,
   "id": "c5b0abed",
   "metadata": {},
   "outputs": [],
   "source": [
    "import numpy as np\n",
    "import pandas as pd"
   ]
  },
  {
   "cell_type": "code",
   "execution_count": 91,
   "id": "38748b1a",
   "metadata": {},
   "outputs": [],
   "source": [
    "np.random.seed(101)\n",
    "df = pd.DataFrame(data = np.random.randn(6,5), index = \"A B C D E F\".split(), columns = \"val1 val2 val3 val4 val5\".split())"
   ]
  },
  {
   "cell_type": "code",
   "execution_count": 92,
   "id": "51bf5068",
   "metadata": {},
   "outputs": [
    {
     "data": {
      "text/html": [
       "<div>\n",
       "<style scoped>\n",
       "    .dataframe tbody tr th:only-of-type {\n",
       "        vertical-align: middle;\n",
       "    }\n",
       "\n",
       "    .dataframe tbody tr th {\n",
       "        vertical-align: top;\n",
       "    }\n",
       "\n",
       "    .dataframe thead th {\n",
       "        text-align: right;\n",
       "    }\n",
       "</style>\n",
       "<table border=\"1\" class=\"dataframe\">\n",
       "  <thead>\n",
       "    <tr style=\"text-align: right;\">\n",
       "      <th></th>\n",
       "      <th>val1</th>\n",
       "      <th>val2</th>\n",
       "      <th>val3</th>\n",
       "      <th>val4</th>\n",
       "      <th>val5</th>\n",
       "    </tr>\n",
       "  </thead>\n",
       "  <tbody>\n",
       "    <tr>\n",
       "      <th>A</th>\n",
       "      <td>2.706850</td>\n",
       "      <td>0.628133</td>\n",
       "      <td>0.907969</td>\n",
       "      <td>0.503826</td>\n",
       "      <td>0.651118</td>\n",
       "    </tr>\n",
       "    <tr>\n",
       "      <th>B</th>\n",
       "      <td>-0.319318</td>\n",
       "      <td>-0.848077</td>\n",
       "      <td>0.605965</td>\n",
       "      <td>-2.018168</td>\n",
       "      <td>0.740122</td>\n",
       "    </tr>\n",
       "    <tr>\n",
       "      <th>C</th>\n",
       "      <td>0.528813</td>\n",
       "      <td>-0.589001</td>\n",
       "      <td>0.188695</td>\n",
       "      <td>-0.758872</td>\n",
       "      <td>-0.933237</td>\n",
       "    </tr>\n",
       "    <tr>\n",
       "      <th>D</th>\n",
       "      <td>0.955057</td>\n",
       "      <td>0.190794</td>\n",
       "      <td>1.978757</td>\n",
       "      <td>2.605967</td>\n",
       "      <td>0.683509</td>\n",
       "    </tr>\n",
       "    <tr>\n",
       "      <th>E</th>\n",
       "      <td>0.302665</td>\n",
       "      <td>1.693723</td>\n",
       "      <td>-1.706086</td>\n",
       "      <td>-1.159119</td>\n",
       "      <td>-0.134841</td>\n",
       "    </tr>\n",
       "    <tr>\n",
       "      <th>F</th>\n",
       "      <td>0.390528</td>\n",
       "      <td>0.166905</td>\n",
       "      <td>0.184502</td>\n",
       "      <td>0.807706</td>\n",
       "      <td>0.072960</td>\n",
       "    </tr>\n",
       "  </tbody>\n",
       "</table>\n",
       "</div>"
      ],
      "text/plain": [
       "       val1      val2      val3      val4      val5\n",
       "A  2.706850  0.628133  0.907969  0.503826  0.651118\n",
       "B -0.319318 -0.848077  0.605965 -2.018168  0.740122\n",
       "C  0.528813 -0.589001  0.188695 -0.758872 -0.933237\n",
       "D  0.955057  0.190794  1.978757  2.605967  0.683509\n",
       "E  0.302665  1.693723 -1.706086 -1.159119 -0.134841\n",
       "F  0.390528  0.166905  0.184502  0.807706  0.072960"
      ]
     },
     "execution_count": 92,
     "metadata": {},
     "output_type": "execute_result"
    }
   ],
   "source": [
    "df"
   ]
  },
  {
   "cell_type": "code",
   "execution_count": 93,
   "id": "4629296f",
   "metadata": {},
   "outputs": [
    {
     "data": {
      "text/html": [
       "<div>\n",
       "<style scoped>\n",
       "    .dataframe tbody tr th:only-of-type {\n",
       "        vertical-align: middle;\n",
       "    }\n",
       "\n",
       "    .dataframe tbody tr th {\n",
       "        vertical-align: top;\n",
       "    }\n",
       "\n",
       "    .dataframe thead th {\n",
       "        text-align: right;\n",
       "    }\n",
       "</style>\n",
       "<table border=\"1\" class=\"dataframe\">\n",
       "  <thead>\n",
       "    <tr style=\"text-align: right;\">\n",
       "      <th></th>\n",
       "      <th>val1</th>\n",
       "      <th>val2</th>\n",
       "      <th>val3</th>\n",
       "      <th>val4</th>\n",
       "      <th>val5</th>\n",
       "    </tr>\n",
       "  </thead>\n",
       "  <tbody>\n",
       "    <tr>\n",
       "      <th>A</th>\n",
       "      <td>2.706850</td>\n",
       "      <td>0.628133</td>\n",
       "      <td>0.907969</td>\n",
       "      <td>0.503826</td>\n",
       "      <td>0.651118</td>\n",
       "    </tr>\n",
       "    <tr>\n",
       "      <th>B</th>\n",
       "      <td>-0.319318</td>\n",
       "      <td>-0.848077</td>\n",
       "      <td>0.605965</td>\n",
       "      <td>-2.018168</td>\n",
       "      <td>0.740122</td>\n",
       "    </tr>\n",
       "    <tr>\n",
       "      <th>C</th>\n",
       "      <td>0.528813</td>\n",
       "      <td>-0.589001</td>\n",
       "      <td>0.188695</td>\n",
       "      <td>-0.758872</td>\n",
       "      <td>-0.933237</td>\n",
       "    </tr>\n",
       "    <tr>\n",
       "      <th>D</th>\n",
       "      <td>0.955057</td>\n",
       "      <td>0.190794</td>\n",
       "      <td>1.978757</td>\n",
       "      <td>2.605967</td>\n",
       "      <td>0.683509</td>\n",
       "    </tr>\n",
       "    <tr>\n",
       "      <th>E</th>\n",
       "      <td>0.302665</td>\n",
       "      <td>1.693723</td>\n",
       "      <td>-1.706086</td>\n",
       "      <td>-1.159119</td>\n",
       "      <td>-0.134841</td>\n",
       "    </tr>\n",
       "    <tr>\n",
       "      <th>F</th>\n",
       "      <td>0.390528</td>\n",
       "      <td>0.166905</td>\n",
       "      <td>0.184502</td>\n",
       "      <td>0.807706</td>\n",
       "      <td>0.072960</td>\n",
       "    </tr>\n",
       "  </tbody>\n",
       "</table>\n",
       "</div>"
      ],
      "text/plain": [
       "       val1      val2      val3      val4      val5\n",
       "A  2.706850  0.628133  0.907969  0.503826  0.651118\n",
       "B -0.319318 -0.848077  0.605965 -2.018168  0.740122\n",
       "C  0.528813 -0.589001  0.188695 -0.758872 -0.933237\n",
       "D  0.955057  0.190794  1.978757  2.605967  0.683509\n",
       "E  0.302665  1.693723 -1.706086 -1.159119 -0.134841\n",
       "F  0.390528  0.166905  0.184502  0.807706  0.072960"
      ]
     },
     "execution_count": 93,
     "metadata": {},
     "output_type": "execute_result"
    }
   ],
   "source": [
    "df"
   ]
  },
  {
   "cell_type": "markdown",
   "id": "33b91a3f",
   "metadata": {},
   "source": [
    "# Another example of dataframe"
   ]
  },
  {
   "cell_type": "code",
   "execution_count": 94,
   "id": "3e83c12f",
   "metadata": {},
   "outputs": [],
   "source": [
    "import numpy as np\n",
    "import pandas as pd"
   ]
  },
  {
   "cell_type": "code",
   "execution_count": 96,
   "id": "91b9a3f6",
   "metadata": {},
   "outputs": [],
   "source": [
    "np.random.seed(10)"
   ]
  },
  {
   "cell_type": "code",
   "execution_count": 97,
   "id": "1a585011",
   "metadata": {},
   "outputs": [],
   "source": [
    "my_data = np.random.randn(6,6)"
   ]
  },
  {
   "cell_type": "code",
   "execution_count": 99,
   "id": "9f1327cd",
   "metadata": {},
   "outputs": [],
   "source": [
    "index = \"1,2,3,4,5,6\".split(',')"
   ]
  },
  {
   "cell_type": "code",
   "execution_count": 100,
   "id": "f699c5bc",
   "metadata": {},
   "outputs": [],
   "source": [
    "columns = \"first,second,third,fourth,fifth,sixth\".split(',')"
   ]
  },
  {
   "cell_type": "code",
   "execution_count": 101,
   "id": "416c53c6",
   "metadata": {},
   "outputs": [],
   "source": [
    "df = pd.DataFrame(data=my_data, index=index, columns=columns)"
   ]
  },
  {
   "cell_type": "code",
   "execution_count": 102,
   "id": "171318ae",
   "metadata": {},
   "outputs": [
    {
     "data": {
      "text/html": [
       "<div>\n",
       "<style scoped>\n",
       "    .dataframe tbody tr th:only-of-type {\n",
       "        vertical-align: middle;\n",
       "    }\n",
       "\n",
       "    .dataframe tbody tr th {\n",
       "        vertical-align: top;\n",
       "    }\n",
       "\n",
       "    .dataframe thead th {\n",
       "        text-align: right;\n",
       "    }\n",
       "</style>\n",
       "<table border=\"1\" class=\"dataframe\">\n",
       "  <thead>\n",
       "    <tr style=\"text-align: right;\">\n",
       "      <th></th>\n",
       "      <th>first</th>\n",
       "      <th>second</th>\n",
       "      <th>third</th>\n",
       "      <th>fourth</th>\n",
       "      <th>fifth</th>\n",
       "      <th>sixth</th>\n",
       "    </tr>\n",
       "  </thead>\n",
       "  <tbody>\n",
       "    <tr>\n",
       "      <th>1</th>\n",
       "      <td>1.331587</td>\n",
       "      <td>0.715279</td>\n",
       "      <td>-1.545400</td>\n",
       "      <td>-0.008384</td>\n",
       "      <td>0.621336</td>\n",
       "      <td>-0.720086</td>\n",
       "    </tr>\n",
       "    <tr>\n",
       "      <th>2</th>\n",
       "      <td>0.265512</td>\n",
       "      <td>0.108549</td>\n",
       "      <td>0.004291</td>\n",
       "      <td>-0.174600</td>\n",
       "      <td>0.433026</td>\n",
       "      <td>1.203037</td>\n",
       "    </tr>\n",
       "    <tr>\n",
       "      <th>3</th>\n",
       "      <td>-0.965066</td>\n",
       "      <td>1.028274</td>\n",
       "      <td>0.228630</td>\n",
       "      <td>0.445138</td>\n",
       "      <td>-1.136602</td>\n",
       "      <td>0.135137</td>\n",
       "    </tr>\n",
       "    <tr>\n",
       "      <th>4</th>\n",
       "      <td>1.484537</td>\n",
       "      <td>-1.079805</td>\n",
       "      <td>-1.977728</td>\n",
       "      <td>-1.743372</td>\n",
       "      <td>0.266070</td>\n",
       "      <td>2.384967</td>\n",
       "    </tr>\n",
       "    <tr>\n",
       "      <th>5</th>\n",
       "      <td>1.123691</td>\n",
       "      <td>1.672622</td>\n",
       "      <td>0.099149</td>\n",
       "      <td>1.397996</td>\n",
       "      <td>-0.271248</td>\n",
       "      <td>0.613204</td>\n",
       "    </tr>\n",
       "    <tr>\n",
       "      <th>6</th>\n",
       "      <td>-0.267317</td>\n",
       "      <td>-0.549309</td>\n",
       "      <td>0.132708</td>\n",
       "      <td>-0.476142</td>\n",
       "      <td>1.308473</td>\n",
       "      <td>0.195013</td>\n",
       "    </tr>\n",
       "  </tbody>\n",
       "</table>\n",
       "</div>"
      ],
      "text/plain": [
       "      first    second     third    fourth     fifth     sixth\n",
       "1  1.331587  0.715279 -1.545400 -0.008384  0.621336 -0.720086\n",
       "2  0.265512  0.108549  0.004291 -0.174600  0.433026  1.203037\n",
       "3 -0.965066  1.028274  0.228630  0.445138 -1.136602  0.135137\n",
       "4  1.484537 -1.079805 -1.977728 -1.743372  0.266070  2.384967\n",
       "5  1.123691  1.672622  0.099149  1.397996 -0.271248  0.613204\n",
       "6 -0.267317 -0.549309  0.132708 -0.476142  1.308473  0.195013"
      ]
     },
     "execution_count": 102,
     "metadata": {},
     "output_type": "execute_result"
    }
   ],
   "source": [
    "df"
   ]
  },
  {
   "cell_type": "markdown",
   "id": "285fe39e",
   "metadata": {},
   "source": [
    "# One more example "
   ]
  },
  {
   "cell_type": "code",
   "execution_count": 103,
   "id": "93054e0c",
   "metadata": {},
   "outputs": [],
   "source": [
    "import numpy as np\n",
    "import pandas as pd\n",
    "np.random.seed(99)"
   ]
  },
  {
   "cell_type": "code",
   "execution_count": 104,
   "id": "65027ca3",
   "metadata": {},
   "outputs": [],
   "source": [
    "new_data = np.random.randn(9,9)"
   ]
  },
  {
   "cell_type": "code",
   "execution_count": 106,
   "id": "d26e054d",
   "metadata": {},
   "outputs": [],
   "source": [
    "index_used = \"1#2#3#4#5#6#7#8#9\".split('#')\n",
    "columns_used = \"col1#col2#col3#col4#col5#col6#col7#col8#col9\".split('#')"
   ]
  },
  {
   "cell_type": "code",
   "execution_count": 107,
   "id": "14c1a068",
   "metadata": {},
   "outputs": [],
   "source": [
    "df = pd.DataFrame(data=new_data, index=index_used,columns=columns_used)"
   ]
  },
  {
   "cell_type": "code",
   "execution_count": 108,
   "id": "a342dc34",
   "metadata": {},
   "outputs": [
    {
     "data": {
      "text/html": [
       "<div>\n",
       "<style scoped>\n",
       "    .dataframe tbody tr th:only-of-type {\n",
       "        vertical-align: middle;\n",
       "    }\n",
       "\n",
       "    .dataframe tbody tr th {\n",
       "        vertical-align: top;\n",
       "    }\n",
       "\n",
       "    .dataframe thead th {\n",
       "        text-align: right;\n",
       "    }\n",
       "</style>\n",
       "<table border=\"1\" class=\"dataframe\">\n",
       "  <thead>\n",
       "    <tr style=\"text-align: right;\">\n",
       "      <th></th>\n",
       "      <th>col1</th>\n",
       "      <th>col2</th>\n",
       "      <th>col3</th>\n",
       "      <th>col4</th>\n",
       "      <th>col5</th>\n",
       "      <th>col6</th>\n",
       "      <th>col7</th>\n",
       "      <th>col8</th>\n",
       "      <th>col9</th>\n",
       "    </tr>\n",
       "  </thead>\n",
       "  <tbody>\n",
       "    <tr>\n",
       "      <th>1</th>\n",
       "      <td>-0.142359</td>\n",
       "      <td>2.057222</td>\n",
       "      <td>0.283262</td>\n",
       "      <td>1.329812</td>\n",
       "      <td>-0.154622</td>\n",
       "      <td>-0.069031</td>\n",
       "      <td>0.755180</td>\n",
       "      <td>0.825647</td>\n",
       "      <td>-0.113069</td>\n",
       "    </tr>\n",
       "    <tr>\n",
       "      <th>2</th>\n",
       "      <td>-2.367838</td>\n",
       "      <td>-0.167049</td>\n",
       "      <td>0.685398</td>\n",
       "      <td>0.023500</td>\n",
       "      <td>0.456201</td>\n",
       "      <td>0.270493</td>\n",
       "      <td>-1.435008</td>\n",
       "      <td>0.882817</td>\n",
       "      <td>-0.580082</td>\n",
       "    </tr>\n",
       "    <tr>\n",
       "      <th>3</th>\n",
       "      <td>-0.501565</td>\n",
       "      <td>0.590953</td>\n",
       "      <td>-0.731616</td>\n",
       "      <td>0.261755</td>\n",
       "      <td>-0.855796</td>\n",
       "      <td>-0.187526</td>\n",
       "      <td>-0.373486</td>\n",
       "      <td>-0.461971</td>\n",
       "      <td>-0.816466</td>\n",
       "    </tr>\n",
       "    <tr>\n",
       "      <th>4</th>\n",
       "      <td>-0.045123</td>\n",
       "      <td>0.121328</td>\n",
       "      <td>0.925953</td>\n",
       "      <td>-0.573820</td>\n",
       "      <td>0.052703</td>\n",
       "      <td>2.207311</td>\n",
       "      <td>0.391822</td>\n",
       "      <td>0.482713</td>\n",
       "      <td>0.433334</td>\n",
       "    </tr>\n",
       "    <tr>\n",
       "      <th>5</th>\n",
       "      <td>-1.704292</td>\n",
       "      <td>-0.243908</td>\n",
       "      <td>-2.139704</td>\n",
       "      <td>0.861323</td>\n",
       "      <td>1.700284</td>\n",
       "      <td>-0.528785</td>\n",
       "      <td>1.763478</td>\n",
       "      <td>-1.121608</td>\n",
       "      <td>-1.191934</td>\n",
       "    </tr>\n",
       "    <tr>\n",
       "      <th>6</th>\n",
       "      <td>0.552732</td>\n",
       "      <td>-0.815981</td>\n",
       "      <td>-0.496647</td>\n",
       "      <td>1.086226</td>\n",
       "      <td>-0.974675</td>\n",
       "      <td>-0.282136</td>\n",
       "      <td>-0.117214</td>\n",
       "      <td>0.378547</td>\n",
       "      <td>0.732195</td>\n",
       "    </tr>\n",
       "    <tr>\n",
       "      <th>7</th>\n",
       "      <td>-0.103571</td>\n",
       "      <td>-1.198706</td>\n",
       "      <td>1.010036</td>\n",
       "      <td>2.875360</td>\n",
       "      <td>0.820313</td>\n",
       "      <td>0.560612</td>\n",
       "      <td>-0.375642</td>\n",
       "      <td>-0.252104</td>\n",
       "      <td>-1.389613</td>\n",
       "    </tr>\n",
       "    <tr>\n",
       "      <th>8</th>\n",
       "      <td>0.617332</td>\n",
       "      <td>-0.135787</td>\n",
       "      <td>1.287905</td>\n",
       "      <td>-1.036994</td>\n",
       "      <td>1.364332</td>\n",
       "      <td>-0.309957</td>\n",
       "      <td>-0.611117</td>\n",
       "      <td>-0.483106</td>\n",
       "      <td>-0.608984</td>\n",
       "    </tr>\n",
       "    <tr>\n",
       "      <th>9</th>\n",
       "      <td>-2.088335</td>\n",
       "      <td>0.639322</td>\n",
       "      <td>0.774304</td>\n",
       "      <td>1.278569</td>\n",
       "      <td>0.705276</td>\n",
       "      <td>0.655977</td>\n",
       "      <td>-1.678502</td>\n",
       "      <td>0.183110</td>\n",
       "      <td>-1.133224</td>\n",
       "    </tr>\n",
       "  </tbody>\n",
       "</table>\n",
       "</div>"
      ],
      "text/plain": [
       "       col1      col2      col3      col4      col5      col6      col7  \\\n",
       "1 -0.142359  2.057222  0.283262  1.329812 -0.154622 -0.069031  0.755180   \n",
       "2 -2.367838 -0.167049  0.685398  0.023500  0.456201  0.270493 -1.435008   \n",
       "3 -0.501565  0.590953 -0.731616  0.261755 -0.855796 -0.187526 -0.373486   \n",
       "4 -0.045123  0.121328  0.925953 -0.573820  0.052703  2.207311  0.391822   \n",
       "5 -1.704292 -0.243908 -2.139704  0.861323  1.700284 -0.528785  1.763478   \n",
       "6  0.552732 -0.815981 -0.496647  1.086226 -0.974675 -0.282136 -0.117214   \n",
       "7 -0.103571 -1.198706  1.010036  2.875360  0.820313  0.560612 -0.375642   \n",
       "8  0.617332 -0.135787  1.287905 -1.036994  1.364332 -0.309957 -0.611117   \n",
       "9 -2.088335  0.639322  0.774304  1.278569  0.705276  0.655977 -1.678502   \n",
       "\n",
       "       col8      col9  \n",
       "1  0.825647 -0.113069  \n",
       "2  0.882817 -0.580082  \n",
       "3 -0.461971 -0.816466  \n",
       "4  0.482713  0.433334  \n",
       "5 -1.121608 -1.191934  \n",
       "6  0.378547  0.732195  \n",
       "7 -0.252104 -1.389613  \n",
       "8 -0.483106 -0.608984  \n",
       "9  0.183110 -1.133224  "
      ]
     },
     "execution_count": 108,
     "metadata": {},
     "output_type": "execute_result"
    }
   ],
   "source": [
    "df"
   ]
  },
  {
   "cell_type": "code",
   "execution_count": 110,
   "id": "62576bf5",
   "metadata": {},
   "outputs": [
    {
     "data": {
      "text/html": [
       "<div>\n",
       "<style scoped>\n",
       "    .dataframe tbody tr th:only-of-type {\n",
       "        vertical-align: middle;\n",
       "    }\n",
       "\n",
       "    .dataframe tbody tr th {\n",
       "        vertical-align: top;\n",
       "    }\n",
       "\n",
       "    .dataframe thead th {\n",
       "        text-align: right;\n",
       "    }\n",
       "</style>\n",
       "<table border=\"1\" class=\"dataframe\">\n",
       "  <thead>\n",
       "    <tr style=\"text-align: right;\">\n",
       "      <th></th>\n",
       "      <th>index</th>\n",
       "      <th>col1</th>\n",
       "      <th>col2</th>\n",
       "      <th>col3</th>\n",
       "      <th>col4</th>\n",
       "      <th>col5</th>\n",
       "      <th>col6</th>\n",
       "      <th>col7</th>\n",
       "      <th>col8</th>\n",
       "      <th>col9</th>\n",
       "    </tr>\n",
       "  </thead>\n",
       "  <tbody>\n",
       "    <tr>\n",
       "      <th>0</th>\n",
       "      <td>1</td>\n",
       "      <td>-0.142359</td>\n",
       "      <td>2.057222</td>\n",
       "      <td>0.283262</td>\n",
       "      <td>1.329812</td>\n",
       "      <td>-0.154622</td>\n",
       "      <td>-0.069031</td>\n",
       "      <td>0.755180</td>\n",
       "      <td>0.825647</td>\n",
       "      <td>-0.113069</td>\n",
       "    </tr>\n",
       "    <tr>\n",
       "      <th>1</th>\n",
       "      <td>2</td>\n",
       "      <td>-2.367838</td>\n",
       "      <td>-0.167049</td>\n",
       "      <td>0.685398</td>\n",
       "      <td>0.023500</td>\n",
       "      <td>0.456201</td>\n",
       "      <td>0.270493</td>\n",
       "      <td>-1.435008</td>\n",
       "      <td>0.882817</td>\n",
       "      <td>-0.580082</td>\n",
       "    </tr>\n",
       "    <tr>\n",
       "      <th>2</th>\n",
       "      <td>3</td>\n",
       "      <td>-0.501565</td>\n",
       "      <td>0.590953</td>\n",
       "      <td>-0.731616</td>\n",
       "      <td>0.261755</td>\n",
       "      <td>-0.855796</td>\n",
       "      <td>-0.187526</td>\n",
       "      <td>-0.373486</td>\n",
       "      <td>-0.461971</td>\n",
       "      <td>-0.816466</td>\n",
       "    </tr>\n",
       "    <tr>\n",
       "      <th>3</th>\n",
       "      <td>4</td>\n",
       "      <td>-0.045123</td>\n",
       "      <td>0.121328</td>\n",
       "      <td>0.925953</td>\n",
       "      <td>-0.573820</td>\n",
       "      <td>0.052703</td>\n",
       "      <td>2.207311</td>\n",
       "      <td>0.391822</td>\n",
       "      <td>0.482713</td>\n",
       "      <td>0.433334</td>\n",
       "    </tr>\n",
       "    <tr>\n",
       "      <th>4</th>\n",
       "      <td>5</td>\n",
       "      <td>-1.704292</td>\n",
       "      <td>-0.243908</td>\n",
       "      <td>-2.139704</td>\n",
       "      <td>0.861323</td>\n",
       "      <td>1.700284</td>\n",
       "      <td>-0.528785</td>\n",
       "      <td>1.763478</td>\n",
       "      <td>-1.121608</td>\n",
       "      <td>-1.191934</td>\n",
       "    </tr>\n",
       "    <tr>\n",
       "      <th>5</th>\n",
       "      <td>6</td>\n",
       "      <td>0.552732</td>\n",
       "      <td>-0.815981</td>\n",
       "      <td>-0.496647</td>\n",
       "      <td>1.086226</td>\n",
       "      <td>-0.974675</td>\n",
       "      <td>-0.282136</td>\n",
       "      <td>-0.117214</td>\n",
       "      <td>0.378547</td>\n",
       "      <td>0.732195</td>\n",
       "    </tr>\n",
       "    <tr>\n",
       "      <th>6</th>\n",
       "      <td>7</td>\n",
       "      <td>-0.103571</td>\n",
       "      <td>-1.198706</td>\n",
       "      <td>1.010036</td>\n",
       "      <td>2.875360</td>\n",
       "      <td>0.820313</td>\n",
       "      <td>0.560612</td>\n",
       "      <td>-0.375642</td>\n",
       "      <td>-0.252104</td>\n",
       "      <td>-1.389613</td>\n",
       "    </tr>\n",
       "    <tr>\n",
       "      <th>7</th>\n",
       "      <td>8</td>\n",
       "      <td>0.617332</td>\n",
       "      <td>-0.135787</td>\n",
       "      <td>1.287905</td>\n",
       "      <td>-1.036994</td>\n",
       "      <td>1.364332</td>\n",
       "      <td>-0.309957</td>\n",
       "      <td>-0.611117</td>\n",
       "      <td>-0.483106</td>\n",
       "      <td>-0.608984</td>\n",
       "    </tr>\n",
       "    <tr>\n",
       "      <th>8</th>\n",
       "      <td>9</td>\n",
       "      <td>-2.088335</td>\n",
       "      <td>0.639322</td>\n",
       "      <td>0.774304</td>\n",
       "      <td>1.278569</td>\n",
       "      <td>0.705276</td>\n",
       "      <td>0.655977</td>\n",
       "      <td>-1.678502</td>\n",
       "      <td>0.183110</td>\n",
       "      <td>-1.133224</td>\n",
       "    </tr>\n",
       "  </tbody>\n",
       "</table>\n",
       "</div>"
      ],
      "text/plain": [
       "  index      col1      col2      col3      col4      col5      col6      col7  \\\n",
       "0     1 -0.142359  2.057222  0.283262  1.329812 -0.154622 -0.069031  0.755180   \n",
       "1     2 -2.367838 -0.167049  0.685398  0.023500  0.456201  0.270493 -1.435008   \n",
       "2     3 -0.501565  0.590953 -0.731616  0.261755 -0.855796 -0.187526 -0.373486   \n",
       "3     4 -0.045123  0.121328  0.925953 -0.573820  0.052703  2.207311  0.391822   \n",
       "4     5 -1.704292 -0.243908 -2.139704  0.861323  1.700284 -0.528785  1.763478   \n",
       "5     6  0.552732 -0.815981 -0.496647  1.086226 -0.974675 -0.282136 -0.117214   \n",
       "6     7 -0.103571 -1.198706  1.010036  2.875360  0.820313  0.560612 -0.375642   \n",
       "7     8  0.617332 -0.135787  1.287905 -1.036994  1.364332 -0.309957 -0.611117   \n",
       "8     9 -2.088335  0.639322  0.774304  1.278569  0.705276  0.655977 -1.678502   \n",
       "\n",
       "       col8      col9  \n",
       "0  0.825647 -0.113069  \n",
       "1  0.882817 -0.580082  \n",
       "2 -0.461971 -0.816466  \n",
       "3  0.482713  0.433334  \n",
       "4 -1.121608 -1.191934  \n",
       "5  0.378547  0.732195  \n",
       "6 -0.252104 -1.389613  \n",
       "7 -0.483106 -0.608984  \n",
       "8  0.183110 -1.133224  "
      ]
     },
     "execution_count": 110,
     "metadata": {},
     "output_type": "execute_result"
    }
   ],
   "source": [
    "#This transforms the index of the df starting from 0 and goes up\n",
    "df.reset_index()"
   ]
  },
  {
   "cell_type": "code",
   "execution_count": 111,
   "id": "af9c3c15",
   "metadata": {},
   "outputs": [
    {
     "data": {
      "text/html": [
       "<div>\n",
       "<style scoped>\n",
       "    .dataframe tbody tr th:only-of-type {\n",
       "        vertical-align: middle;\n",
       "    }\n",
       "\n",
       "    .dataframe tbody tr th {\n",
       "        vertical-align: top;\n",
       "    }\n",
       "\n",
       "    .dataframe thead th {\n",
       "        text-align: right;\n",
       "    }\n",
       "</style>\n",
       "<table border=\"1\" class=\"dataframe\">\n",
       "  <thead>\n",
       "    <tr style=\"text-align: right;\">\n",
       "      <th></th>\n",
       "      <th>col1</th>\n",
       "      <th>col2</th>\n",
       "      <th>col3</th>\n",
       "      <th>col4</th>\n",
       "      <th>col5</th>\n",
       "      <th>col6</th>\n",
       "      <th>col7</th>\n",
       "      <th>col8</th>\n",
       "      <th>col9</th>\n",
       "    </tr>\n",
       "  </thead>\n",
       "  <tbody>\n",
       "    <tr>\n",
       "      <th>1</th>\n",
       "      <td>-0.142359</td>\n",
       "      <td>2.057222</td>\n",
       "      <td>0.283262</td>\n",
       "      <td>1.329812</td>\n",
       "      <td>-0.154622</td>\n",
       "      <td>-0.069031</td>\n",
       "      <td>0.755180</td>\n",
       "      <td>0.825647</td>\n",
       "      <td>-0.113069</td>\n",
       "    </tr>\n",
       "    <tr>\n",
       "      <th>2</th>\n",
       "      <td>-2.367838</td>\n",
       "      <td>-0.167049</td>\n",
       "      <td>0.685398</td>\n",
       "      <td>0.023500</td>\n",
       "      <td>0.456201</td>\n",
       "      <td>0.270493</td>\n",
       "      <td>-1.435008</td>\n",
       "      <td>0.882817</td>\n",
       "      <td>-0.580082</td>\n",
       "    </tr>\n",
       "    <tr>\n",
       "      <th>3</th>\n",
       "      <td>-0.501565</td>\n",
       "      <td>0.590953</td>\n",
       "      <td>-0.731616</td>\n",
       "      <td>0.261755</td>\n",
       "      <td>-0.855796</td>\n",
       "      <td>-0.187526</td>\n",
       "      <td>-0.373486</td>\n",
       "      <td>-0.461971</td>\n",
       "      <td>-0.816466</td>\n",
       "    </tr>\n",
       "    <tr>\n",
       "      <th>4</th>\n",
       "      <td>-0.045123</td>\n",
       "      <td>0.121328</td>\n",
       "      <td>0.925953</td>\n",
       "      <td>-0.573820</td>\n",
       "      <td>0.052703</td>\n",
       "      <td>2.207311</td>\n",
       "      <td>0.391822</td>\n",
       "      <td>0.482713</td>\n",
       "      <td>0.433334</td>\n",
       "    </tr>\n",
       "    <tr>\n",
       "      <th>5</th>\n",
       "      <td>-1.704292</td>\n",
       "      <td>-0.243908</td>\n",
       "      <td>-2.139704</td>\n",
       "      <td>0.861323</td>\n",
       "      <td>1.700284</td>\n",
       "      <td>-0.528785</td>\n",
       "      <td>1.763478</td>\n",
       "      <td>-1.121608</td>\n",
       "      <td>-1.191934</td>\n",
       "    </tr>\n",
       "    <tr>\n",
       "      <th>6</th>\n",
       "      <td>0.552732</td>\n",
       "      <td>-0.815981</td>\n",
       "      <td>-0.496647</td>\n",
       "      <td>1.086226</td>\n",
       "      <td>-0.974675</td>\n",
       "      <td>-0.282136</td>\n",
       "      <td>-0.117214</td>\n",
       "      <td>0.378547</td>\n",
       "      <td>0.732195</td>\n",
       "    </tr>\n",
       "    <tr>\n",
       "      <th>7</th>\n",
       "      <td>-0.103571</td>\n",
       "      <td>-1.198706</td>\n",
       "      <td>1.010036</td>\n",
       "      <td>2.875360</td>\n",
       "      <td>0.820313</td>\n",
       "      <td>0.560612</td>\n",
       "      <td>-0.375642</td>\n",
       "      <td>-0.252104</td>\n",
       "      <td>-1.389613</td>\n",
       "    </tr>\n",
       "    <tr>\n",
       "      <th>8</th>\n",
       "      <td>0.617332</td>\n",
       "      <td>-0.135787</td>\n",
       "      <td>1.287905</td>\n",
       "      <td>-1.036994</td>\n",
       "      <td>1.364332</td>\n",
       "      <td>-0.309957</td>\n",
       "      <td>-0.611117</td>\n",
       "      <td>-0.483106</td>\n",
       "      <td>-0.608984</td>\n",
       "    </tr>\n",
       "    <tr>\n",
       "      <th>9</th>\n",
       "      <td>-2.088335</td>\n",
       "      <td>0.639322</td>\n",
       "      <td>0.774304</td>\n",
       "      <td>1.278569</td>\n",
       "      <td>0.705276</td>\n",
       "      <td>0.655977</td>\n",
       "      <td>-1.678502</td>\n",
       "      <td>0.183110</td>\n",
       "      <td>-1.133224</td>\n",
       "    </tr>\n",
       "  </tbody>\n",
       "</table>\n",
       "</div>"
      ],
      "text/plain": [
       "       col1      col2      col3      col4      col5      col6      col7  \\\n",
       "1 -0.142359  2.057222  0.283262  1.329812 -0.154622 -0.069031  0.755180   \n",
       "2 -2.367838 -0.167049  0.685398  0.023500  0.456201  0.270493 -1.435008   \n",
       "3 -0.501565  0.590953 -0.731616  0.261755 -0.855796 -0.187526 -0.373486   \n",
       "4 -0.045123  0.121328  0.925953 -0.573820  0.052703  2.207311  0.391822   \n",
       "5 -1.704292 -0.243908 -2.139704  0.861323  1.700284 -0.528785  1.763478   \n",
       "6  0.552732 -0.815981 -0.496647  1.086226 -0.974675 -0.282136 -0.117214   \n",
       "7 -0.103571 -1.198706  1.010036  2.875360  0.820313  0.560612 -0.375642   \n",
       "8  0.617332 -0.135787  1.287905 -1.036994  1.364332 -0.309957 -0.611117   \n",
       "9 -2.088335  0.639322  0.774304  1.278569  0.705276  0.655977 -1.678502   \n",
       "\n",
       "       col8      col9  \n",
       "1  0.825647 -0.113069  \n",
       "2  0.882817 -0.580082  \n",
       "3 -0.461971 -0.816466  \n",
       "4  0.482713  0.433334  \n",
       "5 -1.121608 -1.191934  \n",
       "6  0.378547  0.732195  \n",
       "7 -0.252104 -1.389613  \n",
       "8 -0.483106 -0.608984  \n",
       "9  0.183110 -1.133224  "
      ]
     },
     "execution_count": 111,
     "metadata": {},
     "output_type": "execute_result"
    }
   ],
   "source": [
    "df"
   ]
  },
  {
   "cell_type": "code",
   "execution_count": 112,
   "id": "2486ad45",
   "metadata": {},
   "outputs": [
    {
     "data": {
      "text/html": [
       "<div>\n",
       "<style scoped>\n",
       "    .dataframe tbody tr th:only-of-type {\n",
       "        vertical-align: middle;\n",
       "    }\n",
       "\n",
       "    .dataframe tbody tr th {\n",
       "        vertical-align: top;\n",
       "    }\n",
       "\n",
       "    .dataframe thead th {\n",
       "        text-align: right;\n",
       "    }\n",
       "</style>\n",
       "<table border=\"1\" class=\"dataframe\">\n",
       "  <thead>\n",
       "    <tr style=\"text-align: right;\">\n",
       "      <th></th>\n",
       "      <th>col1</th>\n",
       "      <th>col2</th>\n",
       "      <th>col3</th>\n",
       "      <th>col4</th>\n",
       "      <th>col5</th>\n",
       "      <th>col6</th>\n",
       "      <th>col7</th>\n",
       "      <th>col8</th>\n",
       "      <th>col9</th>\n",
       "    </tr>\n",
       "  </thead>\n",
       "  <tbody>\n",
       "    <tr>\n",
       "      <th>0</th>\n",
       "      <td>-0.142359</td>\n",
       "      <td>2.057222</td>\n",
       "      <td>0.283262</td>\n",
       "      <td>1.329812</td>\n",
       "      <td>-0.154622</td>\n",
       "      <td>-0.069031</td>\n",
       "      <td>0.755180</td>\n",
       "      <td>0.825647</td>\n",
       "      <td>-0.113069</td>\n",
       "    </tr>\n",
       "    <tr>\n",
       "      <th>1</th>\n",
       "      <td>-2.367838</td>\n",
       "      <td>-0.167049</td>\n",
       "      <td>0.685398</td>\n",
       "      <td>0.023500</td>\n",
       "      <td>0.456201</td>\n",
       "      <td>0.270493</td>\n",
       "      <td>-1.435008</td>\n",
       "      <td>0.882817</td>\n",
       "      <td>-0.580082</td>\n",
       "    </tr>\n",
       "    <tr>\n",
       "      <th>2</th>\n",
       "      <td>-0.501565</td>\n",
       "      <td>0.590953</td>\n",
       "      <td>-0.731616</td>\n",
       "      <td>0.261755</td>\n",
       "      <td>-0.855796</td>\n",
       "      <td>-0.187526</td>\n",
       "      <td>-0.373486</td>\n",
       "      <td>-0.461971</td>\n",
       "      <td>-0.816466</td>\n",
       "    </tr>\n",
       "    <tr>\n",
       "      <th>3</th>\n",
       "      <td>-0.045123</td>\n",
       "      <td>0.121328</td>\n",
       "      <td>0.925953</td>\n",
       "      <td>-0.573820</td>\n",
       "      <td>0.052703</td>\n",
       "      <td>2.207311</td>\n",
       "      <td>0.391822</td>\n",
       "      <td>0.482713</td>\n",
       "      <td>0.433334</td>\n",
       "    </tr>\n",
       "    <tr>\n",
       "      <th>4</th>\n",
       "      <td>-1.704292</td>\n",
       "      <td>-0.243908</td>\n",
       "      <td>-2.139704</td>\n",
       "      <td>0.861323</td>\n",
       "      <td>1.700284</td>\n",
       "      <td>-0.528785</td>\n",
       "      <td>1.763478</td>\n",
       "      <td>-1.121608</td>\n",
       "      <td>-1.191934</td>\n",
       "    </tr>\n",
       "    <tr>\n",
       "      <th>5</th>\n",
       "      <td>0.552732</td>\n",
       "      <td>-0.815981</td>\n",
       "      <td>-0.496647</td>\n",
       "      <td>1.086226</td>\n",
       "      <td>-0.974675</td>\n",
       "      <td>-0.282136</td>\n",
       "      <td>-0.117214</td>\n",
       "      <td>0.378547</td>\n",
       "      <td>0.732195</td>\n",
       "    </tr>\n",
       "    <tr>\n",
       "      <th>6</th>\n",
       "      <td>-0.103571</td>\n",
       "      <td>-1.198706</td>\n",
       "      <td>1.010036</td>\n",
       "      <td>2.875360</td>\n",
       "      <td>0.820313</td>\n",
       "      <td>0.560612</td>\n",
       "      <td>-0.375642</td>\n",
       "      <td>-0.252104</td>\n",
       "      <td>-1.389613</td>\n",
       "    </tr>\n",
       "    <tr>\n",
       "      <th>7</th>\n",
       "      <td>0.617332</td>\n",
       "      <td>-0.135787</td>\n",
       "      <td>1.287905</td>\n",
       "      <td>-1.036994</td>\n",
       "      <td>1.364332</td>\n",
       "      <td>-0.309957</td>\n",
       "      <td>-0.611117</td>\n",
       "      <td>-0.483106</td>\n",
       "      <td>-0.608984</td>\n",
       "    </tr>\n",
       "    <tr>\n",
       "      <th>8</th>\n",
       "      <td>-2.088335</td>\n",
       "      <td>0.639322</td>\n",
       "      <td>0.774304</td>\n",
       "      <td>1.278569</td>\n",
       "      <td>0.705276</td>\n",
       "      <td>0.655977</td>\n",
       "      <td>-1.678502</td>\n",
       "      <td>0.183110</td>\n",
       "      <td>-1.133224</td>\n",
       "    </tr>\n",
       "  </tbody>\n",
       "</table>\n",
       "</div>"
      ],
      "text/plain": [
       "       col1      col2      col3      col4      col5      col6      col7  \\\n",
       "0 -0.142359  2.057222  0.283262  1.329812 -0.154622 -0.069031  0.755180   \n",
       "1 -2.367838 -0.167049  0.685398  0.023500  0.456201  0.270493 -1.435008   \n",
       "2 -0.501565  0.590953 -0.731616  0.261755 -0.855796 -0.187526 -0.373486   \n",
       "3 -0.045123  0.121328  0.925953 -0.573820  0.052703  2.207311  0.391822   \n",
       "4 -1.704292 -0.243908 -2.139704  0.861323  1.700284 -0.528785  1.763478   \n",
       "5  0.552732 -0.815981 -0.496647  1.086226 -0.974675 -0.282136 -0.117214   \n",
       "6 -0.103571 -1.198706  1.010036  2.875360  0.820313  0.560612 -0.375642   \n",
       "7  0.617332 -0.135787  1.287905 -1.036994  1.364332 -0.309957 -0.611117   \n",
       "8 -2.088335  0.639322  0.774304  1.278569  0.705276  0.655977 -1.678502   \n",
       "\n",
       "       col8      col9  \n",
       "0  0.825647 -0.113069  \n",
       "1  0.882817 -0.580082  \n",
       "2 -0.461971 -0.816466  \n",
       "3  0.482713  0.433334  \n",
       "4 -1.121608 -1.191934  \n",
       "5  0.378547  0.732195  \n",
       "6 -0.252104 -1.389613  \n",
       "7 -0.483106 -0.608984  \n",
       "8  0.183110 -1.133224  "
      ]
     },
     "execution_count": 112,
     "metadata": {},
     "output_type": "execute_result"
    }
   ],
   "source": [
    "df.reset_index(drop=True)"
   ]
  },
  {
   "cell_type": "code",
   "execution_count": 113,
   "id": "12c5a9e3",
   "metadata": {},
   "outputs": [
    {
     "data": {
      "text/html": [
       "<div>\n",
       "<style scoped>\n",
       "    .dataframe tbody tr th:only-of-type {\n",
       "        vertical-align: middle;\n",
       "    }\n",
       "\n",
       "    .dataframe tbody tr th {\n",
       "        vertical-align: top;\n",
       "    }\n",
       "\n",
       "    .dataframe thead th {\n",
       "        text-align: right;\n",
       "    }\n",
       "</style>\n",
       "<table border=\"1\" class=\"dataframe\">\n",
       "  <thead>\n",
       "    <tr style=\"text-align: right;\">\n",
       "      <th></th>\n",
       "      <th>col1</th>\n",
       "      <th>col2</th>\n",
       "      <th>col3</th>\n",
       "      <th>col4</th>\n",
       "      <th>col5</th>\n",
       "      <th>col6</th>\n",
       "      <th>col7</th>\n",
       "      <th>col8</th>\n",
       "      <th>col9</th>\n",
       "    </tr>\n",
       "  </thead>\n",
       "  <tbody>\n",
       "    <tr>\n",
       "      <th>1</th>\n",
       "      <td>-0.142359</td>\n",
       "      <td>2.057222</td>\n",
       "      <td>0.283262</td>\n",
       "      <td>1.329812</td>\n",
       "      <td>-0.154622</td>\n",
       "      <td>-0.069031</td>\n",
       "      <td>0.755180</td>\n",
       "      <td>0.825647</td>\n",
       "      <td>-0.113069</td>\n",
       "    </tr>\n",
       "    <tr>\n",
       "      <th>2</th>\n",
       "      <td>-2.367838</td>\n",
       "      <td>-0.167049</td>\n",
       "      <td>0.685398</td>\n",
       "      <td>0.023500</td>\n",
       "      <td>0.456201</td>\n",
       "      <td>0.270493</td>\n",
       "      <td>-1.435008</td>\n",
       "      <td>0.882817</td>\n",
       "      <td>-0.580082</td>\n",
       "    </tr>\n",
       "    <tr>\n",
       "      <th>3</th>\n",
       "      <td>-0.501565</td>\n",
       "      <td>0.590953</td>\n",
       "      <td>-0.731616</td>\n",
       "      <td>0.261755</td>\n",
       "      <td>-0.855796</td>\n",
       "      <td>-0.187526</td>\n",
       "      <td>-0.373486</td>\n",
       "      <td>-0.461971</td>\n",
       "      <td>-0.816466</td>\n",
       "    </tr>\n",
       "    <tr>\n",
       "      <th>4</th>\n",
       "      <td>-0.045123</td>\n",
       "      <td>0.121328</td>\n",
       "      <td>0.925953</td>\n",
       "      <td>-0.573820</td>\n",
       "      <td>0.052703</td>\n",
       "      <td>2.207311</td>\n",
       "      <td>0.391822</td>\n",
       "      <td>0.482713</td>\n",
       "      <td>0.433334</td>\n",
       "    </tr>\n",
       "    <tr>\n",
       "      <th>5</th>\n",
       "      <td>-1.704292</td>\n",
       "      <td>-0.243908</td>\n",
       "      <td>-2.139704</td>\n",
       "      <td>0.861323</td>\n",
       "      <td>1.700284</td>\n",
       "      <td>-0.528785</td>\n",
       "      <td>1.763478</td>\n",
       "      <td>-1.121608</td>\n",
       "      <td>-1.191934</td>\n",
       "    </tr>\n",
       "    <tr>\n",
       "      <th>6</th>\n",
       "      <td>0.552732</td>\n",
       "      <td>-0.815981</td>\n",
       "      <td>-0.496647</td>\n",
       "      <td>1.086226</td>\n",
       "      <td>-0.974675</td>\n",
       "      <td>-0.282136</td>\n",
       "      <td>-0.117214</td>\n",
       "      <td>0.378547</td>\n",
       "      <td>0.732195</td>\n",
       "    </tr>\n",
       "    <tr>\n",
       "      <th>7</th>\n",
       "      <td>-0.103571</td>\n",
       "      <td>-1.198706</td>\n",
       "      <td>1.010036</td>\n",
       "      <td>2.875360</td>\n",
       "      <td>0.820313</td>\n",
       "      <td>0.560612</td>\n",
       "      <td>-0.375642</td>\n",
       "      <td>-0.252104</td>\n",
       "      <td>-1.389613</td>\n",
       "    </tr>\n",
       "    <tr>\n",
       "      <th>8</th>\n",
       "      <td>0.617332</td>\n",
       "      <td>-0.135787</td>\n",
       "      <td>1.287905</td>\n",
       "      <td>-1.036994</td>\n",
       "      <td>1.364332</td>\n",
       "      <td>-0.309957</td>\n",
       "      <td>-0.611117</td>\n",
       "      <td>-0.483106</td>\n",
       "      <td>-0.608984</td>\n",
       "    </tr>\n",
       "    <tr>\n",
       "      <th>9</th>\n",
       "      <td>-2.088335</td>\n",
       "      <td>0.639322</td>\n",
       "      <td>0.774304</td>\n",
       "      <td>1.278569</td>\n",
       "      <td>0.705276</td>\n",
       "      <td>0.655977</td>\n",
       "      <td>-1.678502</td>\n",
       "      <td>0.183110</td>\n",
       "      <td>-1.133224</td>\n",
       "    </tr>\n",
       "  </tbody>\n",
       "</table>\n",
       "</div>"
      ],
      "text/plain": [
       "       col1      col2      col3      col4      col5      col6      col7  \\\n",
       "1 -0.142359  2.057222  0.283262  1.329812 -0.154622 -0.069031  0.755180   \n",
       "2 -2.367838 -0.167049  0.685398  0.023500  0.456201  0.270493 -1.435008   \n",
       "3 -0.501565  0.590953 -0.731616  0.261755 -0.855796 -0.187526 -0.373486   \n",
       "4 -0.045123  0.121328  0.925953 -0.573820  0.052703  2.207311  0.391822   \n",
       "5 -1.704292 -0.243908 -2.139704  0.861323  1.700284 -0.528785  1.763478   \n",
       "6  0.552732 -0.815981 -0.496647  1.086226 -0.974675 -0.282136 -0.117214   \n",
       "7 -0.103571 -1.198706  1.010036  2.875360  0.820313  0.560612 -0.375642   \n",
       "8  0.617332 -0.135787  1.287905 -1.036994  1.364332 -0.309957 -0.611117   \n",
       "9 -2.088335  0.639322  0.774304  1.278569  0.705276  0.655977 -1.678502   \n",
       "\n",
       "       col8      col9  \n",
       "1  0.825647 -0.113069  \n",
       "2  0.882817 -0.580082  \n",
       "3 -0.461971 -0.816466  \n",
       "4  0.482713  0.433334  \n",
       "5 -1.121608 -1.191934  \n",
       "6  0.378547  0.732195  \n",
       "7 -0.252104 -1.389613  \n",
       "8 -0.483106 -0.608984  \n",
       "9  0.183110 -1.133224  "
      ]
     },
     "execution_count": 113,
     "metadata": {},
     "output_type": "execute_result"
    }
   ],
   "source": [
    "df"
   ]
  },
  {
   "cell_type": "code",
   "execution_count": 116,
   "id": "2f3223d4",
   "metadata": {},
   "outputs": [],
   "source": [
    "#inplace = True, basically changes the df permanently\n",
    "df.reset_index(inplace=True)"
   ]
  },
  {
   "cell_type": "code",
   "execution_count": 117,
   "id": "afa97cb0",
   "metadata": {},
   "outputs": [
    {
     "data": {
      "text/html": [
       "<div>\n",
       "<style scoped>\n",
       "    .dataframe tbody tr th:only-of-type {\n",
       "        vertical-align: middle;\n",
       "    }\n",
       "\n",
       "    .dataframe tbody tr th {\n",
       "        vertical-align: top;\n",
       "    }\n",
       "\n",
       "    .dataframe thead th {\n",
       "        text-align: right;\n",
       "    }\n",
       "</style>\n",
       "<table border=\"1\" class=\"dataframe\">\n",
       "  <thead>\n",
       "    <tr style=\"text-align: right;\">\n",
       "      <th></th>\n",
       "      <th>level_0</th>\n",
       "      <th>index</th>\n",
       "      <th>col1</th>\n",
       "      <th>col2</th>\n",
       "      <th>col3</th>\n",
       "      <th>col4</th>\n",
       "      <th>col5</th>\n",
       "      <th>col6</th>\n",
       "      <th>col7</th>\n",
       "      <th>col8</th>\n",
       "      <th>col9</th>\n",
       "    </tr>\n",
       "  </thead>\n",
       "  <tbody>\n",
       "    <tr>\n",
       "      <th>0</th>\n",
       "      <td>0</td>\n",
       "      <td>1</td>\n",
       "      <td>-0.142359</td>\n",
       "      <td>2.057222</td>\n",
       "      <td>0.283262</td>\n",
       "      <td>1.329812</td>\n",
       "      <td>-0.154622</td>\n",
       "      <td>-0.069031</td>\n",
       "      <td>0.755180</td>\n",
       "      <td>0.825647</td>\n",
       "      <td>-0.113069</td>\n",
       "    </tr>\n",
       "    <tr>\n",
       "      <th>1</th>\n",
       "      <td>1</td>\n",
       "      <td>2</td>\n",
       "      <td>-2.367838</td>\n",
       "      <td>-0.167049</td>\n",
       "      <td>0.685398</td>\n",
       "      <td>0.023500</td>\n",
       "      <td>0.456201</td>\n",
       "      <td>0.270493</td>\n",
       "      <td>-1.435008</td>\n",
       "      <td>0.882817</td>\n",
       "      <td>-0.580082</td>\n",
       "    </tr>\n",
       "    <tr>\n",
       "      <th>2</th>\n",
       "      <td>2</td>\n",
       "      <td>3</td>\n",
       "      <td>-0.501565</td>\n",
       "      <td>0.590953</td>\n",
       "      <td>-0.731616</td>\n",
       "      <td>0.261755</td>\n",
       "      <td>-0.855796</td>\n",
       "      <td>-0.187526</td>\n",
       "      <td>-0.373486</td>\n",
       "      <td>-0.461971</td>\n",
       "      <td>-0.816466</td>\n",
       "    </tr>\n",
       "    <tr>\n",
       "      <th>3</th>\n",
       "      <td>3</td>\n",
       "      <td>4</td>\n",
       "      <td>-0.045123</td>\n",
       "      <td>0.121328</td>\n",
       "      <td>0.925953</td>\n",
       "      <td>-0.573820</td>\n",
       "      <td>0.052703</td>\n",
       "      <td>2.207311</td>\n",
       "      <td>0.391822</td>\n",
       "      <td>0.482713</td>\n",
       "      <td>0.433334</td>\n",
       "    </tr>\n",
       "    <tr>\n",
       "      <th>4</th>\n",
       "      <td>4</td>\n",
       "      <td>5</td>\n",
       "      <td>-1.704292</td>\n",
       "      <td>-0.243908</td>\n",
       "      <td>-2.139704</td>\n",
       "      <td>0.861323</td>\n",
       "      <td>1.700284</td>\n",
       "      <td>-0.528785</td>\n",
       "      <td>1.763478</td>\n",
       "      <td>-1.121608</td>\n",
       "      <td>-1.191934</td>\n",
       "    </tr>\n",
       "    <tr>\n",
       "      <th>5</th>\n",
       "      <td>5</td>\n",
       "      <td>6</td>\n",
       "      <td>0.552732</td>\n",
       "      <td>-0.815981</td>\n",
       "      <td>-0.496647</td>\n",
       "      <td>1.086226</td>\n",
       "      <td>-0.974675</td>\n",
       "      <td>-0.282136</td>\n",
       "      <td>-0.117214</td>\n",
       "      <td>0.378547</td>\n",
       "      <td>0.732195</td>\n",
       "    </tr>\n",
       "    <tr>\n",
       "      <th>6</th>\n",
       "      <td>6</td>\n",
       "      <td>7</td>\n",
       "      <td>-0.103571</td>\n",
       "      <td>-1.198706</td>\n",
       "      <td>1.010036</td>\n",
       "      <td>2.875360</td>\n",
       "      <td>0.820313</td>\n",
       "      <td>0.560612</td>\n",
       "      <td>-0.375642</td>\n",
       "      <td>-0.252104</td>\n",
       "      <td>-1.389613</td>\n",
       "    </tr>\n",
       "    <tr>\n",
       "      <th>7</th>\n",
       "      <td>7</td>\n",
       "      <td>8</td>\n",
       "      <td>0.617332</td>\n",
       "      <td>-0.135787</td>\n",
       "      <td>1.287905</td>\n",
       "      <td>-1.036994</td>\n",
       "      <td>1.364332</td>\n",
       "      <td>-0.309957</td>\n",
       "      <td>-0.611117</td>\n",
       "      <td>-0.483106</td>\n",
       "      <td>-0.608984</td>\n",
       "    </tr>\n",
       "    <tr>\n",
       "      <th>8</th>\n",
       "      <td>8</td>\n",
       "      <td>9</td>\n",
       "      <td>-2.088335</td>\n",
       "      <td>0.639322</td>\n",
       "      <td>0.774304</td>\n",
       "      <td>1.278569</td>\n",
       "      <td>0.705276</td>\n",
       "      <td>0.655977</td>\n",
       "      <td>-1.678502</td>\n",
       "      <td>0.183110</td>\n",
       "      <td>-1.133224</td>\n",
       "    </tr>\n",
       "  </tbody>\n",
       "</table>\n",
       "</div>"
      ],
      "text/plain": [
       "   level_0 index      col1      col2      col3      col4      col5      col6  \\\n",
       "0        0     1 -0.142359  2.057222  0.283262  1.329812 -0.154622 -0.069031   \n",
       "1        1     2 -2.367838 -0.167049  0.685398  0.023500  0.456201  0.270493   \n",
       "2        2     3 -0.501565  0.590953 -0.731616  0.261755 -0.855796 -0.187526   \n",
       "3        3     4 -0.045123  0.121328  0.925953 -0.573820  0.052703  2.207311   \n",
       "4        4     5 -1.704292 -0.243908 -2.139704  0.861323  1.700284 -0.528785   \n",
       "5        5     6  0.552732 -0.815981 -0.496647  1.086226 -0.974675 -0.282136   \n",
       "6        6     7 -0.103571 -1.198706  1.010036  2.875360  0.820313  0.560612   \n",
       "7        7     8  0.617332 -0.135787  1.287905 -1.036994  1.364332 -0.309957   \n",
       "8        8     9 -2.088335  0.639322  0.774304  1.278569  0.705276  0.655977   \n",
       "\n",
       "       col7      col8      col9  \n",
       "0  0.755180  0.825647 -0.113069  \n",
       "1 -1.435008  0.882817 -0.580082  \n",
       "2 -0.373486 -0.461971 -0.816466  \n",
       "3  0.391822  0.482713  0.433334  \n",
       "4  1.763478 -1.121608 -1.191934  \n",
       "5 -0.117214  0.378547  0.732195  \n",
       "6 -0.375642 -0.252104 -1.389613  \n",
       "7 -0.611117 -0.483106 -0.608984  \n",
       "8 -1.678502  0.183110 -1.133224  "
      ]
     },
     "execution_count": 117,
     "metadata": {},
     "output_type": "execute_result"
    }
   ],
   "source": [
    "df"
   ]
  },
  {
   "cell_type": "code",
   "execution_count": null,
   "id": "b8f1f40d",
   "metadata": {},
   "outputs": [],
   "source": []
  },
  {
   "cell_type": "code",
   "execution_count": null,
   "id": "48aac426",
   "metadata": {},
   "outputs": [],
   "source": []
  }
 ],
 "metadata": {
  "kernelspec": {
   "display_name": "Python 3 (ipykernel)",
   "language": "python",
   "name": "python3"
  },
  "language_info": {
   "codemirror_mode": {
    "name": "ipython",
    "version": 3
   },
   "file_extension": ".py",
   "mimetype": "text/x-python",
   "name": "python",
   "nbconvert_exporter": "python",
   "pygments_lexer": "ipython3",
   "version": "3.10.9"
  }
 },
 "nbformat": 4,
 "nbformat_minor": 5
}
