{
 "cells": [
  {
   "cell_type": "markdown",
   "id": "e218a6a2",
   "metadata": {},
   "source": [
    "##### Q1. Write a Python program that defines a function called \"add_numbers\" that takes two arguments (i.e., numbers) and returns their sum. Within the function, add the two numbers together and return the result using the return statement. Call the function with the values 5 and 6, and print out the returned result. This will result in the addition of 5 and 6, with the output of the program being the sum of these two numbers."
   ]
  },
  {
   "cell_type": "code",
   "execution_count": 1,
   "id": "6cd22a62",
   "metadata": {},
   "outputs": [
    {
     "name": "stdout",
     "output_type": "stream",
     "text": [
      "The sum of the numbers is 11\n"
     ]
    }
   ],
   "source": [
    "def add_numbers(number1, number2):\n",
    "    return number1 + number2\n",
    "\n",
    "result = add_numbers(5, 6) \n",
    "\n",
    "#print the result\n",
    "print(f\"The sum of the numbers is {result}\")"
   ]
  },
  {
   "cell_type": "markdown",
   "id": "2750077f",
   "metadata": {},
   "source": [
    "##### Q2. Write a Python program that calculates the square root of a given number using a built-in function. Specifically, the program should take an integer or float input from the user, calculate its square root using the 'sqrt()' function from the 'math' module, and print out the result to the user. As an example, calculate the square root of the number 625 using this program, which should output the value of 25."
   ]
  },
  {
   "cell_type": "code",
   "execution_count": 4,
   "id": "97a454f3",
   "metadata": {},
   "outputs": [
    {
     "name": "stdout",
     "output_type": "stream",
     "text": [
      "Enter a number: 100\n"
     ]
    },
    {
     "data": {
      "text/plain": [
       "10.0"
      ]
     },
     "execution_count": 4,
     "metadata": {},
     "output_type": "execute_result"
    }
   ],
   "source": [
    "import math\n",
    "\n",
    "#input from the user\n",
    "user_input = int(input(\"Enter a number: \"))\n",
    "\n",
    "def square_root(number):\n",
    "    my_number = user_input\n",
    "    return math.sqrt(my_number)\n",
    "\n",
    "square_root(user_input)"
   ]
  },
  {
   "cell_type": "code",
   "execution_count": null,
   "id": "8aa2a3f2",
   "metadata": {},
   "outputs": [],
   "source": []
  }
 ],
 "metadata": {
  "kernelspec": {
   "display_name": "Python 3 (ipykernel)",
   "language": "python",
   "name": "python3"
  },
  "language_info": {
   "codemirror_mode": {
    "name": "ipython",
    "version": 3
   },
   "file_extension": ".py",
   "mimetype": "text/x-python",
   "name": "python",
   "nbconvert_exporter": "python",
   "pygments_lexer": "ipython3",
   "version": "3.10.9"
  }
 },
 "nbformat": 4,
 "nbformat_minor": 5
}
