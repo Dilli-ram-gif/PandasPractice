{
 "cells": [
  {
   "cell_type": "code",
   "execution_count": 1,
   "id": "7996e9c1",
   "metadata": {},
   "outputs": [],
   "source": [
    "import requests\n",
    "from bs4 import BeautifulSoup\n",
    "from urllib.request import urlopen\n",
    "import logging\n",
    "import os"
   ]
  },
  {
   "cell_type": "code",
   "execution_count": 2,
   "id": "93a32eac",
   "metadata": {},
   "outputs": [],
   "source": [
    "save_dir ='images/'\n",
    "if not os.path.exists(save_dir):\n",
    "    os.makedirs(save_dir)"
   ]
  },
  {
   "cell_type": "code",
   "execution_count": 3,
   "id": "3ebd9bb9",
   "metadata": {},
   "outputs": [],
   "source": [
    "headers = {\"User-Agent\": \"Mozilla/5.0 (Windows NT 10.0; Win64; x64) AppleWebKit/537.36 (KHTML, like Gecko) Chrome/58.0.3029.110 Safari/537.36\"}"
   ]
  },
  {
   "cell_type": "code",
   "execution_count": 6,
   "id": "9b28f58a",
   "metadata": {},
   "outputs": [],
   "source": [
    "query = 'jeff bezos'\n",
    "response = requests.get('https://www.google.com/search?q={query}&sxsrf=APwXEddgraofr0YdRM6p2qbOTPaox7ckKQ:1686648593575&source=lnms&tbm=isch&sa=X&ved=2ahUKEwjgrJ_S97__AhVOa2wGHf77DKYQ_AUoAXoECAEQAw&biw=501&bih=518&dpr=1.25')"
   ]
  },
  {
   "cell_type": "code",
   "execution_count": 7,
   "id": "d2aa1305",
   "metadata": {},
   "outputs": [
    {
     "data": {
      "text/plain": [
       "<Response [200]>"
      ]
     },
     "execution_count": 7,
     "metadata": {},
     "output_type": "execute_result"
    }
   ],
   "source": [
    "response"
   ]
  },
  {
   "cell_type": "code",
   "execution_count": 8,
   "id": "d37264e4",
   "metadata": {},
   "outputs": [],
   "source": [
    "soup = BeautifulSoup(response.content, 'html.parser')"
   ]
  },
  {
   "cell_type": "code",
   "execution_count": 9,
   "id": "a66604b0",
   "metadata": {},
   "outputs": [],
   "source": [
    "image_tags = soup.find_all('img')"
   ]
  },
  {
   "cell_type": "code",
   "execution_count": 11,
   "id": "774a7231",
   "metadata": {},
   "outputs": [],
   "source": [
    "# image_tags"
   ]
  },
  {
   "cell_type": "code",
   "execution_count": 12,
   "id": "d837e1a5",
   "metadata": {},
   "outputs": [
    {
     "data": {
      "text/plain": [
       "<img alt=\"Google\" class=\"kgJEQe\" src=\"/images/branding/searchlogo/1x/googlelogo_desk_heirloom_color_150x55dp.gif\"/>"
      ]
     },
     "execution_count": 12,
     "metadata": {},
     "output_type": "execute_result"
    }
   ],
   "source": [
    "image_tags[0]"
   ]
  },
  {
   "cell_type": "code",
   "execution_count": 13,
   "id": "34ccc825",
   "metadata": {},
   "outputs": [],
   "source": [
    "del image_tags[0]"
   ]
  },
  {
   "cell_type": "code",
   "execution_count": 14,
   "id": "f63131cb",
   "metadata": {},
   "outputs": [
    {
     "data": {
      "text/plain": [
       "20"
      ]
     },
     "execution_count": 14,
     "metadata": {},
     "output_type": "execute_result"
    }
   ],
   "source": [
    "len(image_tags)"
   ]
  },
  {
   "cell_type": "code",
   "execution_count": 15,
   "id": "50ce3780",
   "metadata": {},
   "outputs": [
    {
     "data": {
      "text/plain": [
       "[<img alt=\"\" class=\"yWs4tf\" src=\"https://encrypted-tbn0.gstatic.com/images?q=tbn:ANd9GcTLYMMzXgLOjysMHPwQuvwP-rlctC0WTm46uX7JPW0N3HgpMboaO57Ze8cj5KY&amp;s\"/>,\n",
       " <img alt=\"\" class=\"yWs4tf\" src=\"https://encrypted-tbn0.gstatic.com/images?q=tbn:ANd9GcQgeKwO0k8vQKqDlBTMFNvvAWWNQdmuOOfr_jHjMCWTyflevZ1EhMe5Cyi-NA&amp;s\"/>,\n",
       " <img alt=\"\" class=\"yWs4tf\" src=\"https://encrypted-tbn0.gstatic.com/images?q=tbn:ANd9GcR3ymkdcLRAhGbBJeWqiCH1f2bjDHSqU2i-mAhJ4mYXjfpq_X-sXblHiNrM5w&amp;s\"/>,\n",
       " <img alt=\"\" class=\"yWs4tf\" src=\"https://encrypted-tbn0.gstatic.com/images?q=tbn:ANd9GcT5OWLx5sRR0gocKH-EhwyTeb6ozfpnQgAVelSkwkCcm9IJGatwsQFbK_k_sg&amp;s\"/>,\n",
       " <img alt=\"\" class=\"yWs4tf\" src=\"https://encrypted-tbn0.gstatic.com/images?q=tbn:ANd9GcQiTw20r3SXvnChvr52EMHnq03-pYqUybIo1SMoFikO1-N49U8gDJ7HFfbD-w&amp;s\"/>,\n",
       " <img alt=\"\" class=\"yWs4tf\" src=\"https://encrypted-tbn0.gstatic.com/images?q=tbn:ANd9GcT1hx_p94bzcaeQbRCuu8VoZY2OjJe3HH8qZawg9wfN4BY6A4wcXF0SJfl2PA&amp;s\"/>,\n",
       " <img alt=\"\" class=\"yWs4tf\" src=\"https://encrypted-tbn0.gstatic.com/images?q=tbn:ANd9GcQUHeIiLLhEKyXM91-jb-HAhgNR7sOiIZFzA2CPXX_qVhujTS_Nhbp7qGNZ5g&amp;s\"/>,\n",
       " <img alt=\"\" class=\"yWs4tf\" src=\"https://encrypted-tbn0.gstatic.com/images?q=tbn:ANd9GcQM_ICkhQBnmoQJTJXKjjXXFSbVqNNrjcLcizshUroVckdGaPgbWSdfWry0oQc&amp;s\"/>,\n",
       " <img alt=\"\" class=\"yWs4tf\" src=\"https://encrypted-tbn0.gstatic.com/images?q=tbn:ANd9GcRykdkZEK62QHbWEai7c3M6EBhcJSChUxUs6GzjzWuajAHsNWsJC_Iytrh1hlQ&amp;s\"/>,\n",
       " <img alt=\"\" class=\"yWs4tf\" src=\"https://encrypted-tbn0.gstatic.com/images?q=tbn:ANd9GcRqCBr7wnAh08aMOHlUh5eQSDQJqcUZBGsZ3Gws9bLv8yr6dSExK5OsU1BcGQ&amp;s\"/>,\n",
       " <img alt=\"\" class=\"yWs4tf\" src=\"https://encrypted-tbn0.gstatic.com/images?q=tbn:ANd9GcRym2z6cP8ntDpGPNDX6S3rFVeWbQDqs84VI5Q4LzPrUdTqOlZWJU87DnJilQ&amp;s\"/>,\n",
       " <img alt=\"\" class=\"yWs4tf\" src=\"https://encrypted-tbn0.gstatic.com/images?q=tbn:ANd9GcSYt0FyoWZWQxAZgUxVrSS6efFxi1rgjeFCnqEi5cFfYeWJpO_1bI-oThWcRQ&amp;s\"/>,\n",
       " <img alt=\"\" class=\"yWs4tf\" src=\"https://encrypted-tbn0.gstatic.com/images?q=tbn:ANd9GcQ6MwAa-GC7xUXqL9Kb8gzRSF-cYsfFEhqbuieHsn45qWt9a_Y20HPcWklkQdk&amp;s\"/>,\n",
       " <img alt=\"\" class=\"yWs4tf\" src=\"https://encrypted-tbn0.gstatic.com/images?q=tbn:ANd9GcQqpZsIBQDluTG66_n-XlrtUDyHUhMavDjiY-9e-oTrII49l5kO9KlAmA2o2A&amp;s\"/>,\n",
       " <img alt=\"\" class=\"yWs4tf\" src=\"https://encrypted-tbn0.gstatic.com/images?q=tbn:ANd9GcQwTAMUOGedroB6kGQVD-OX5B0jB7-_cafJEL_dN-rggTylkTIovEvYOBcDnb0&amp;s\"/>,\n",
       " <img alt=\"\" class=\"yWs4tf\" src=\"https://encrypted-tbn0.gstatic.com/images?q=tbn:ANd9GcQzzU0IVfvMi8D5eiJ54eI7BIG7yszLiAnv7AL16nXEcC3NACjuBnmOflflYKc&amp;s\"/>,\n",
       " <img alt=\"\" class=\"yWs4tf\" src=\"https://encrypted-tbn0.gstatic.com/images?q=tbn:ANd9GcSKSZnnYWheITD2kZNX3os3L9ffZSntRUu7622wX8v1Y5Q0r-pZoP6F1WUulsQ&amp;s\"/>,\n",
       " <img alt=\"\" class=\"yWs4tf\" src=\"https://encrypted-tbn0.gstatic.com/images?q=tbn:ANd9GcT-Nism7U6xKUDjmAfRFPXVuENDJR_7Wuqp5hLyfnWLAGtwMGiCktl6ARLs2mM&amp;s\"/>,\n",
       " <img alt=\"\" class=\"yWs4tf\" src=\"https://encrypted-tbn0.gstatic.com/images?q=tbn:ANd9GcTknNv2CvE8ugs9k55FoXeHvnz5unRLZTjXcn49ndXuuoOtyXo5mWRN2iFhRg&amp;s\"/>,\n",
       " <img alt=\"\" class=\"yWs4tf\" src=\"https://encrypted-tbn0.gstatic.com/images?q=tbn:ANd9GcTI875XmNEMXg8sRkHitoVFtnsDGWB3FobSFopKy-jTTlSo8gPdD1fE6rsSZ8g&amp;s\"/>]"
      ]
     },
     "execution_count": 15,
     "metadata": {},
     "output_type": "execute_result"
    }
   ],
   "source": [
    "image_tags"
   ]
  },
  {
   "cell_type": "code",
   "execution_count": 19,
   "id": "83bafb60",
   "metadata": {},
   "outputs": [],
   "source": [
    "for i in image_tags:\n",
    "    image_url = i['src']\n",
    "    image_data = requests.get(image_url).content\n",
    "    with open(os.path.join(save_dir, f\"{query}_{image_tags.index(i)}.jpg\"), \"wb\") as f:\n",
    "                           f.write(image_data)"
   ]
  },
  {
   "cell_type": "code",
   "execution_count": null,
   "id": "634c38b2",
   "metadata": {},
   "outputs": [],
   "source": []
  },
  {
   "cell_type": "code",
   "execution_count": null,
   "id": "527fa43d",
   "metadata": {},
   "outputs": [],
   "source": []
  }
 ],
 "metadata": {
  "kernelspec": {
   "display_name": "Python 3 (ipykernel)",
   "language": "python",
   "name": "python3"
  },
  "language_info": {
   "codemirror_mode": {
    "name": "ipython",
    "version": 3
   },
   "file_extension": ".py",
   "mimetype": "text/x-python",
   "name": "python",
   "nbconvert_exporter": "python",
   "pygments_lexer": "ipython3",
   "version": "3.10.9"
  }
 },
 "nbformat": 4,
 "nbformat_minor": 5
}
