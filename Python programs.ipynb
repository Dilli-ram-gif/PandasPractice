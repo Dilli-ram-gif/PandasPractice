{
 "cells": [
  {
   "cell_type": "markdown",
   "id": "9ec45def",
   "metadata": {},
   "source": [
    "#### Print the square root of a number given by a user"
   ]
  },
  {
   "cell_type": "code",
   "execution_count": 6,
   "id": "c29c2e1a",
   "metadata": {},
   "outputs": [
    {
     "name": "stdout",
     "output_type": "stream",
     "text": [
      "Enter a number of your choice: 125\n",
      "The square root of the 81 is 11.180339887498949\n"
     ]
    }
   ],
   "source": [
    "import math\n",
    "\n",
    "\n",
    "def square_root(number):\n",
    "    number = int(input(\"Enter a number of your choice: \"))\n",
    "    return math.sqrt(number)\n",
    "result = square_root(number)\n",
    "\n",
    "print(f\"The square root of the {number} is {result}\")"
   ]
  },
  {
   "cell_type": "markdown",
   "id": "f46225b1",
   "metadata": {},
   "source": [
    "#### Check the input number whether it is a prime or not"
   ]
  },
  {
   "cell_type": "code",
   "execution_count": 23,
   "id": "7a218c07",
   "metadata": {},
   "outputs": [
    {
     "name": "stdout",
     "output_type": "stream",
     "text": [
      "Enter a number: 5\n"
     ]
    }
   ],
   "source": [
    "\n",
    "\n",
    "number = int(input(\"Enter a number: \"))\n",
    "\n",
    "def prime_numbers(number):\n",
    "    counter = 0\n",
    "    if number == 0 or number ==1:\n",
    "            return False\n",
    "    else:\n",
    "        for i in range(1, number+1):\n",
    "            result = number % i \n",
    "            if result == 0:\n",
    "                counter = counter + 1\n",
    "        if counter == 2:\n",
    "            return True\n",
    "        else:\n",
    "            return False\n",
    "            \n",
    "result = prime_numbers(number)"
   ]
  },
  {
   "cell_type": "code",
   "execution_count": 24,
   "id": "71ee439c",
   "metadata": {},
   "outputs": [
    {
     "data": {
      "text/plain": [
       "True"
      ]
     },
     "execution_count": 24,
     "metadata": {},
     "output_type": "execute_result"
    }
   ],
   "source": [
    "result"
   ]
  },
  {
   "cell_type": "markdown",
   "id": "ae8e9347",
   "metadata": {},
   "source": [
    "#### Print the prime numbers from 2 to 50"
   ]
  },
  {
   "cell_type": "code",
   "execution_count": 26,
   "id": "363a9040",
   "metadata": {},
   "outputs": [
    {
     "name": "stdout",
     "output_type": "stream",
     "text": [
      "2\n",
      "3\n",
      "5\n",
      "7\n",
      "11\n",
      "13\n",
      "17\n",
      "19\n",
      "23\n",
      "29\n",
      "31\n",
      "37\n",
      "41\n",
      "43\n",
      "47\n"
     ]
    }
   ],
   "source": [
    "for number in range(2, 51):\n",
    "    is_prime = True\n",
    "    \n",
    "    for i in range(2, number):\n",
    "        if number % i == 0:\n",
    "            is_prime = False\n",
    "            break\n",
    "    if is_prime:\n",
    "        print(number)"
   ]
  },
  {
   "cell_type": "markdown",
   "id": "56fba637",
   "metadata": {},
   "source": [
    "####  Write a program for sum of digits.the digits are 76543 and the output should be  25."
   ]
  },
  {
   "cell_type": "code",
   "execution_count": 35,
   "id": "12876a21",
   "metadata": {},
   "outputs": [
    {
     "name": "stdout",
     "output_type": "stream",
     "text": [
      "The sum of the digits is 25\n"
     ]
    }
   ],
   "source": [
    "number = 76543\n",
    "sum_of_num = 0\n",
    "while number > 0:\n",
    "    sum_of_num += number%10\n",
    "    number = number//10\n",
    "print(f\"The sum of the digits is {sum_of_num}\")"
   ]
  },
  {
   "cell_type": "code",
   "execution_count": 28,
   "id": "28ef92c6",
   "metadata": {},
   "outputs": [
    {
     "data": {
      "text/plain": [
       "['pwskills']"
      ]
     },
     "execution_count": 28,
     "metadata": {},
     "output_type": "execute_result"
    }
   ],
   "source": []
  },
  {
   "cell_type": "code",
   "execution_count": 33,
   "id": "b19dd853",
   "metadata": {},
   "outputs": [
    {
     "name": "stdout",
     "output_type": "stream",
     "text": [
      "5\n"
     ]
    }
   ],
   "source": [
    "print(5)"
   ]
  },
  {
   "cell_type": "markdown",
   "id": "b1205328",
   "metadata": {},
   "source": [
    "#### Armstrong Number"
   ]
  },
  {
   "cell_type": "markdown",
   "id": "e8a701e0",
   "metadata": {},
   "source": [
    "Armstrong number is a number that is equal to the sum of cubes of its digits"
   ]
  },
  {
   "cell_type": "code",
   "execution_count": 39,
   "id": "084f930a",
   "metadata": {},
   "outputs": [],
   "source": [
    "#printing Armstrong number"
   ]
  },
  {
   "cell_type": "code",
   "execution_count": 64,
   "id": "de9ca051",
   "metadata": {},
   "outputs": [
    {
     "name": "stdout",
     "output_type": "stream",
     "text": [
      "Enter a number of your choice: 370\n",
      "Armstrong number\n"
     ]
    }
   ],
   "source": [
    "numbers = input(\"Enter a number of your choice: \")\n",
    "\n",
    "# convert number in a list with their squares\n",
    "result = sum([int(i)**3 for i in numbers])\n",
    "\n",
    "name = \"Armstrong number\" if result == int(numbers) else \"Not a Armstrong number\"\n",
    "print(name)"
   ]
  },
  {
   "cell_type": "code",
   "execution_count": null,
   "id": "a8ad6edb",
   "metadata": {},
   "outputs": [],
   "source": [
    "numbers_list"
   ]
  },
  {
   "cell_type": "code",
   "execution_count": 36,
   "id": "8eb609c9",
   "metadata": {},
   "outputs": [],
   "source": [
    "summation = [i for i in range(9)]"
   ]
  },
  {
   "cell_type": "code",
   "execution_count": 37,
   "id": "326c8c65",
   "metadata": {},
   "outputs": [
    {
     "data": {
      "text/plain": [
       "[0, 1, 2, 3, 4, 5, 6, 7, 8]"
      ]
     },
     "execution_count": 37,
     "metadata": {},
     "output_type": "execute_result"
    }
   ],
   "source": [
    "summation"
   ]
  },
  {
   "cell_type": "code",
   "execution_count": 38,
   "id": "792b6e07",
   "metadata": {},
   "outputs": [
    {
     "data": {
      "text/plain": [
       "36"
      ]
     },
     "execution_count": 38,
     "metadata": {},
     "output_type": "execute_result"
    }
   ],
   "source": [
    "sum(summation)"
   ]
  },
  {
   "cell_type": "code",
   "execution_count": 65,
   "id": "9aaeb095",
   "metadata": {},
   "outputs": [],
   "source": [
    "my_string = 'pwskills'\n",
    "my_list = [i for i in my_string]"
   ]
  },
  {
   "cell_type": "code",
   "execution_count": 66,
   "id": "73ed0271",
   "metadata": {},
   "outputs": [
    {
     "data": {
      "text/plain": [
       "['p', 'w', 's', 'k', 'i', 'l', 'l', 's']"
      ]
     },
     "execution_count": 66,
     "metadata": {},
     "output_type": "execute_result"
    }
   ],
   "source": [
    "my_list"
   ]
  },
  {
   "cell_type": "code",
   "execution_count": 67,
   "id": "16ac54bf",
   "metadata": {},
   "outputs": [],
   "source": [
    "empty = []\n",
    "for i in my_string:\n",
    "    empty.append(i)"
   ]
  },
  {
   "cell_type": "markdown",
   "id": "41c88dde",
   "metadata": {},
   "source": [
    "empty"
   ]
  },
  {
   "cell_type": "markdown",
   "id": "f323217f",
   "metadata": {},
   "source": [
    "### Python practice Questions"
   ]
  },
  {
   "cell_type": "markdown",
   "id": "f3b88b82",
   "metadata": {},
   "source": [
    "#### Q3. Reverse the order of given string L = [4,5,6,8,3] Without using reverse() function."
   ]
  },
  {
   "cell_type": "code",
   "execution_count": 4,
   "id": "dacc18d5",
   "metadata": {},
   "outputs": [],
   "source": [
    "L = [4, 5, 6, 8, 3]\n",
    "l = L[0-len(L):-1]"
   ]
  },
  {
   "cell_type": "code",
   "execution_count": 5,
   "id": "5ecf2136",
   "metadata": {},
   "outputs": [
    {
     "data": {
      "text/plain": [
       "''"
      ]
     },
     "execution_count": 5,
     "metadata": {},
     "output_type": "execute_result"
    }
   ],
   "source": [
    ";"
   ]
  },
  {
   "cell_type": "code",
   "execution_count": 6,
   "id": "303912ee",
   "metadata": {},
   "outputs": [
    {
     "data": {
      "text/plain": [
       "[4, 5, 6, 8]"
      ]
     },
     "execution_count": 6,
     "metadata": {},
     "output_type": "execute_result"
    }
   ],
   "source": [
    "l"
   ]
  },
  {
   "cell_type": "code",
   "execution_count": 7,
   "id": "0f07b168",
   "metadata": {},
   "outputs": [
    {
     "data": {
      "text/plain": [
       "[4, 5, 6, 8]"
      ]
     },
     "execution_count": 7,
     "metadata": {},
     "output_type": "execute_result"
    }
   ],
   "source": [
    "L[-5:-1]"
   ]
  },
  {
   "cell_type": "code",
   "execution_count": 8,
   "id": "a33b4deb",
   "metadata": {},
   "outputs": [
    {
     "data": {
      "text/plain": [
       "[3, 8, 6, 5, 4]"
      ]
     },
     "execution_count": 8,
     "metadata": {},
     "output_type": "execute_result"
    }
   ],
   "source": [
    "L[::-1]"
   ]
  },
  {
   "cell_type": "code",
   "execution_count": 9,
   "id": "ef069fcf",
   "metadata": {},
   "outputs": [
    {
     "name": "stdout",
     "output_type": "stream",
     "text": [
      "5\n",
      "[3, 4]\n",
      "[5, 3]\n",
      "[5, 4, 3, 2, 1]\n"
     ]
    }
   ],
   "source": [
    "my_list = [1, 2, 3, 4, 5]\n",
    "\n",
    "# Extract the last element\n",
    "last_element = my_list[-1]\n",
    "print(last_element)  # Output: 5\n",
    "\n",
    "# Extract a sublist from the end of the list\n",
    "sublist = my_list[-3:-1]\n",
    "print(sublist)  # Output: [3, 4]\n",
    "\n",
    "# Extract a sublist from the end with a step size of 2\n",
    "sublist_with_step = my_list[-1:-5:-2]\n",
    "print(sublist_with_step)  # Output: [5, 3]\n",
    "\n",
    "# Extract the entire list in reverse order\n",
    "reverse_list = my_list[::-1]\n",
    "print(reverse_list)  # Output: [5, 4, 3, 2, 1]\n"
   ]
  },
  {
   "cell_type": "markdown",
   "id": "2c175263",
   "metadata": {},
   "source": [
    "### Another example created by myself"
   ]
  },
  {
   "cell_type": "code",
   "execution_count": 12,
   "id": "ff2923ff",
   "metadata": {},
   "outputs": [
    {
     "data": {
      "text/plain": [
       "['apple', 'banana', 'mango', 'cherry', 'papaya']"
      ]
     },
     "execution_count": 12,
     "metadata": {},
     "output_type": "execute_result"
    }
   ],
   "source": [
    "my_list = ['apple', 'banana', 'mango', 'cherry', 'papaya']\n",
    "my_list[::]"
   ]
  },
  {
   "cell_type": "code",
   "execution_count": 13,
   "id": "f2efbc0c",
   "metadata": {},
   "outputs": [
    {
     "data": {
      "text/plain": [
       "['apple', 'banana', 'mango', 'cherry', 'papaya']"
      ]
     },
     "execution_count": 13,
     "metadata": {},
     "output_type": "execute_result"
    }
   ],
   "source": [
    "my_list"
   ]
  },
  {
   "cell_type": "code",
   "execution_count": 14,
   "id": "c5ba7292",
   "metadata": {},
   "outputs": [
    {
     "data": {
      "text/plain": [
       "['papaya', 'cherry', 'mango', 'banana', 'apple']"
      ]
     },
     "execution_count": 14,
     "metadata": {},
     "output_type": "execute_result"
    }
   ],
   "source": [
    "my_list[::-1]"
   ]
  },
  {
   "cell_type": "code",
   "execution_count": 15,
   "id": "6635f0cc",
   "metadata": {},
   "outputs": [
    {
     "data": {
      "text/plain": [
       "['apple', 'banana', 'mango', 'cherry', 'papaya']"
      ]
     },
     "execution_count": 15,
     "metadata": {},
     "output_type": "execute_result"
    }
   ],
   "source": [
    "my_list"
   ]
  },
  {
   "cell_type": "code",
   "execution_count": 17,
   "id": "92b113cd",
   "metadata": {},
   "outputs": [
    {
     "data": {
      "text/plain": [
       "['papaya', 'cherry', 'mango', 'banana', 'apple']"
      ]
     },
     "execution_count": 17,
     "metadata": {},
     "output_type": "execute_result"
    }
   ],
   "source": [
    "#This will give the list in the reverse order as we can see here that it is started with the last item upto the beginning \n",
    "# with step size of 1\n",
    "my_list[-1::-1]"
   ]
  },
  {
   "cell_type": "code",
   "execution_count": 19,
   "id": "abaef2cb",
   "metadata": {},
   "outputs": [
    {
     "data": {
      "text/plain": [
       "['papaya', 'mango', 'apple']"
      ]
     },
     "execution_count": 19,
     "metadata": {},
     "output_type": "execute_result"
    }
   ],
   "source": [
    "#started at the last but the step size is 2 and it goes up to the beginning\n",
    "my_list[::-2]"
   ]
  },
  {
   "cell_type": "code",
   "execution_count": 22,
   "id": "c7b852d1",
   "metadata": {},
   "outputs": [
    {
     "data": {
      "text/plain": [
       "['papaya', 'cherry', 'mango']"
      ]
     },
     "execution_count": 22,
     "metadata": {},
     "output_type": "execute_result"
    }
   ],
   "source": [
    "my_list[-1:-4:-1]"
   ]
  },
  {
   "cell_type": "code",
   "execution_count": 21,
   "id": "3d3a2876",
   "metadata": {},
   "outputs": [
    {
     "data": {
      "text/plain": [
       "['apple', 'banana', 'mango', 'cherry', 'papaya']"
      ]
     },
     "execution_count": 21,
     "metadata": {},
     "output_type": "execute_result"
    }
   ],
   "source": [
    "my_list"
   ]
  },
  {
   "cell_type": "code",
   "execution_count": 31,
   "id": "d139c4cc",
   "metadata": {},
   "outputs": [
    {
     "data": {
      "text/plain": [
       "['banana', 'mango', 'cherry']"
      ]
     },
     "execution_count": 31,
     "metadata": {},
     "output_type": "execute_result"
    }
   ],
   "source": [
    "my_list[-4:-1]"
   ]
  },
  {
   "cell_type": "code",
   "execution_count": 25,
   "id": "da4a9526",
   "metadata": {},
   "outputs": [
    {
     "data": {
      "text/plain": [
       "['apple', 'banana', 'mango', 'cherry', 'papaya']"
      ]
     },
     "execution_count": 25,
     "metadata": {},
     "output_type": "execute_result"
    }
   ],
   "source": [
    "my_list"
   ]
  },
  {
   "cell_type": "code",
   "execution_count": 33,
   "id": "e54c77af",
   "metadata": {},
   "outputs": [
    {
     "data": {
      "text/plain": [
       "['papaya', 'mango']"
      ]
     },
     "execution_count": 33,
     "metadata": {},
     "output_type": "execute_result"
    }
   ],
   "source": [
    "my_list[-1:-4:-2]"
   ]
  },
  {
   "cell_type": "code",
   "execution_count": 34,
   "id": "fa2db5f5",
   "metadata": {},
   "outputs": [
    {
     "data": {
      "text/plain": [
       "['apple', 'banana', 'mango', 'cherry', 'papaya']"
      ]
     },
     "execution_count": 34,
     "metadata": {},
     "output_type": "execute_result"
    }
   ],
   "source": [
    "my_list"
   ]
  },
  {
   "cell_type": "code",
   "execution_count": 35,
   "id": "567681cf",
   "metadata": {},
   "outputs": [
    {
     "data": {
      "text/plain": [
       "['papaya', 'cherry', 'mango', 'banana', 'apple']"
      ]
     },
     "execution_count": 35,
     "metadata": {},
     "output_type": "execute_result"
    }
   ],
   "source": [
    "my_list[-1::-1]"
   ]
  },
  {
   "cell_type": "markdown",
   "id": "86c950da",
   "metadata": {},
   "source": [
    "#### Q5. Create a function that takes in a tuple of integers and returns the sum of the integers. Test the function with a tuple of your choice."
   ]
  },
  {
   "cell_type": "code",
   "execution_count": 39,
   "id": "36a777fe",
   "metadata": {},
   "outputs": [],
   "source": [
    "def sum_integers(values):\n",
    "    result = 0\n",
    "    for i in values:\n",
    "        result += i\n",
    "    return result\n",
    "\n",
    "my_tuple = (1,2,3,4,5,6,7,8,9,10)\n",
    "summation = sum_integers(my_tuple)"
   ]
  },
  {
   "cell_type": "code",
   "execution_count": 40,
   "id": "2a2f2e6d",
   "metadata": {},
   "outputs": [
    {
     "data": {
      "text/plain": [
       "55"
      ]
     },
     "execution_count": 40,
     "metadata": {},
     "output_type": "execute_result"
    }
   ],
   "source": [
    "summation"
   ]
  },
  {
   "cell_type": "markdown",
   "id": "5ce67e6f",
   "metadata": {},
   "source": [
    "#### Create a function that takes in a tuple of integers by the user and return the multiplication of the integers"
   ]
  },
  {
   "cell_type": "code",
   "execution_count": 43,
   "id": "7c26d1a9",
   "metadata": {},
   "outputs": [
    {
     "name": "stdout",
     "output_type": "stream",
     "text": [
      "Enter the tuple of your choice:1,2,3,4,5,6,7,8,9,10\n"
     ]
    },
    {
     "data": {
      "text/plain": [
       "3628800"
      ]
     },
     "execution_count": 43,
     "metadata": {},
     "output_type": "execute_result"
    }
   ],
   "source": [
    "user_input_tuple = input(\"Enter the tuple of your choice:\")\n",
    "fed_to_function = tuple(user_input_tuple.split(','))\n",
    "def mul_integers(my_values):\n",
    "    multiplication = 1\n",
    "    for i in my_values: \n",
    "        multiplication *= int(i)\n",
    "    return multiplication\n",
    "mul_integers(fed_to_function)"
   ]
  },
  {
   "cell_type": "markdown",
   "id": "3b706459",
   "metadata": {},
   "source": [
    "#### Q6. Create two sets of your favourite fruits, and use the union() method to combine them into a single set. Print the resulting set to the console."
   ]
  },
  {
   "cell_type": "code",
   "execution_count": 44,
   "id": "1ed06091",
   "metadata": {},
   "outputs": [
    {
     "data": {
      "text/plain": [
       "{'apple', 'banana', 'cheery', 'mango', 'orange', 'papaya', 'pineapple'}"
      ]
     },
     "execution_count": 44,
     "metadata": {},
     "output_type": "execute_result"
    }
   ],
   "source": [
    "set1 = {'apple', 'mango','banana','cheery'}\n",
    "set2 = {'papaya', 'orange', 'pineapple'}\n",
    "set1.union(set2)"
   ]
  },
  {
   "cell_type": "code",
   "execution_count": 45,
   "id": "a2246584",
   "metadata": {},
   "outputs": [],
   "source": [
    "set_union = set1.union(set2)"
   ]
  },
  {
   "cell_type": "code",
   "execution_count": 46,
   "id": "33e9335b",
   "metadata": {},
   "outputs": [
    {
     "data": {
      "text/plain": [
       "{'apple', 'banana', 'cheery', 'mango', 'orange', 'papaya', 'pineapple'}"
      ]
     },
     "execution_count": 46,
     "metadata": {},
     "output_type": "execute_result"
    }
   ],
   "source": [
    "set_union"
   ]
  },
  {
   "cell_type": "markdown",
   "id": "f84173a6",
   "metadata": {},
   "source": [
    "#### Q7. Create a set of random words, and use the add() method to add a new word to the set. Print the resulting set to the console."
   ]
  },
  {
   "cell_type": "code",
   "execution_count": 58,
   "id": "b14c8fca",
   "metadata": {},
   "outputs": [],
   "source": [
    "#This generates a random number between the range 1 and 10(inclusive)\n",
    "import random\n",
    "number = random.randint(1,10)"
   ]
  },
  {
   "cell_type": "code",
   "execution_count": 59,
   "id": "37684718",
   "metadata": {},
   "outputs": [
    {
     "data": {
      "text/plain": [
       "3"
      ]
     },
     "execution_count": 59,
     "metadata": {},
     "output_type": "execute_result"
    }
   ],
   "source": [
    "number"
   ]
  },
  {
   "cell_type": "code",
   "execution_count": 60,
   "id": "da125bf6",
   "metadata": {},
   "outputs": [
    {
     "data": {
      "text/plain": [
       "3"
      ]
     },
     "execution_count": 60,
     "metadata": {},
     "output_type": "execute_result"
    }
   ],
   "source": [
    "number"
   ]
  },
  {
   "cell_type": "code",
   "execution_count": 61,
   "id": "90381d45",
   "metadata": {},
   "outputs": [
    {
     "data": {
      "text/plain": [
       "3"
      ]
     },
     "execution_count": 61,
     "metadata": {},
     "output_type": "execute_result"
    }
   ],
   "source": [
    "number"
   ]
  },
  {
   "cell_type": "code",
   "execution_count": 53,
   "id": "78fee027",
   "metadata": {},
   "outputs": [
    {
     "name": "stdout",
     "output_type": "stream",
     "text": [
      "6\n"
     ]
    }
   ],
   "source": [
    "import random\n",
    "\n",
    "# Generate a random integer between 1 and 10 (inclusive)\n",
    "random_number = random.randint(1, 10)\n",
    "print(random_number)\n"
   ]
  },
  {
   "cell_type": "code",
   "execution_count": 65,
   "id": "807084b5",
   "metadata": {},
   "outputs": [
    {
     "name": "stdout",
     "output_type": "stream",
     "text": [
      "90,89,51,91,79,24,25,11,62,8,55,41,30,5,43,67,43,35,37,37,2,7,31,72,53,65,15,35,40,67,9,19,21,3,44,78,43,45,98,23,54,52,73,11,94,17,11,15,70,27,36,61,47,52,81,32,18,55,35,2,65,80,11,49,79,5,66,48,93,94,43,8,12,46,34,28,98,84,28,26,71,33,31,63,46,91,73,17,85,8,27,83,62,7,68,50,12,43,24,52,"
     ]
    }
   ],
   "source": [
    "import random\n",
    "\n",
    "# Generate and print 5 random integers between 1 and 100\n",
    "for _ in range(100):\n",
    "    random_number = random.randint(1, 100)\n",
    "    print(random_number,end=',')\n"
   ]
  },
  {
   "cell_type": "markdown",
   "id": "c758094e",
   "metadata": {},
   "source": [
    "#### Write a Python program to find the difference between consecutive numbers in a list."
   ]
  },
  {
   "cell_type": "code",
   "execution_count": null,
   "id": "2d1621f7",
   "metadata": {},
   "outputs": [],
   "source": [
    "|"
   ]
  }
 ],
 "metadata": {
  "kernelspec": {
   "display_name": "Python 3 (ipykernel)",
   "language": "python",
   "name": "python3"
  },
  "language_info": {
   "codemirror_mode": {
    "name": "ipython",
    "version": 3
   },
   "file_extension": ".py",
   "mimetype": "text/x-python",
   "name": "python",
   "nbconvert_exporter": "python",
   "pygments_lexer": "ipython3",
   "version": "3.10.9"
  }
 },
 "nbformat": 4,
 "nbformat_minor": 5
}
