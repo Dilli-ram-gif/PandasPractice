{
 "cells": [
  {
   "cell_type": "code",
   "execution_count": 2,
   "id": "9b801b9d",
   "metadata": {},
   "outputs": [],
   "source": [
    "from bs4 import BeautifulSoup\n",
    "import requests\n",
    "import logging\n",
    "import pandas as  pd"
   ]
  },
  {
   "cell_type": "code",
   "execution_count": 3,
   "id": "7d29b1d2",
   "metadata": {},
   "outputs": [],
   "source": [
    "url = 'https://www.iplt20.com/points-table/men/2023'"
   ]
  },
  {
   "cell_type": "code",
   "execution_count": 4,
   "id": "383a8577",
   "metadata": {},
   "outputs": [
    {
     "data": {
      "text/plain": [
       "'https://www.iplt20.com/points-table/men/2023'"
      ]
     },
     "execution_count": 4,
     "metadata": {},
     "output_type": "execute_result"
    }
   ],
   "source": [
    "url"
   ]
  },
  {
   "cell_type": "code",
   "execution_count": 5,
   "id": "7f3ff531",
   "metadata": {},
   "outputs": [],
   "source": [
    "response = requests.get(url)"
   ]
  },
  {
   "cell_type": "code",
   "execution_count": 24,
   "id": "b4ea379c",
   "metadata": {},
   "outputs": [],
   "source": [
    "# response.text"
   ]
  },
  {
   "cell_type": "code",
   "execution_count": 18,
   "id": "aa891e6d",
   "metadata": {},
   "outputs": [],
   "source": [
    "soup = BeautifulSoup(response.text, 'html.parser')"
   ]
  },
  {
   "cell_type": "code",
   "execution_count": 29,
   "id": "c088fe58",
   "metadata": {},
   "outputs": [],
   "source": [
    "soup.content"
   ]
  },
  {
   "cell_type": "code",
   "execution_count": 28,
   "id": "5558c20c",
   "metadata": {},
   "outputs": [],
   "source": [
    "table = soup.find('table', class_ = 'ih-td-tab')"
   ]
  },
  {
   "cell_type": "code",
   "execution_count": 30,
   "id": "0b376b54",
   "metadata": {},
   "outputs": [
    {
     "name": "stdout",
     "output_type": "stream",
     "text": [
      "<table class=\"ih-td-tab\" width=\"100%\">\n",
      "<tbody>\n",
      "<tr>\n",
      "<th style=\"border-bottom:0px;\">Role</th>\n",
      "<td id=\"plyrole\">Batsman</td>\n",
      "<th style=\"border-bottom:0px;\">Nationality</th>\n",
      "<td id=\"plyntn\">Indian</td>\n",
      "<td rowspan=\"2\">\n",
      "<div class=\"ap-plyer-img\"><img alt=\"\" id=\"plyimg\" src=\"\"/></div>\n",
      "</td>\n",
      "</tr>\n",
      "<tr>\n",
      "<th style=\"border-bottom:0px;\">Bats</th>\n",
      "<td id=\"plybat\"></td>\n",
      "<th style=\"border-bottom:0px;\">Bowls</th>\n",
      "<td colspan=\"1\" id=\"plyball\"></td>\n",
      "</tr>\n",
      "<tr>\n",
      "<td colspan=\"5\"></td>\n",
      "</tr>\n",
      "<tr>\n",
      "<th colspan=\"\" style=\"border-bottom:0px;\">Bio</th>\n",
      "</tr>\n",
      "<tr>\n",
      "<td colspan=\"4\" id=\"plybio\">A 22-year old opening batsman who hails from Pune, Ruturaj Gaikwad has been a consistent performer for his state team Maharashtra. He was the highest run-getter for Maharashtra in the league stage of the Syed Mushtaq Ali Trophy 2018-19. At the IPL 2019 Player Auction, the Chennai Super Kings secured his services at his base price of INR 20 lacs.</td>\n",
      "<td></td>\n",
      "</tr>\n",
      "</tbody>\n",
      "</table>\n"
     ]
    }
   ],
   "source": [
    "print(table)"
   ]
  },
  {
   "cell_type": "code",
   "execution_count": 45,
   "id": "6dc29a0b",
   "metadata": {},
   "outputs": [],
   "source": [
    "header = table.find_all('th')"
   ]
  },
  {
   "cell_type": "code",
   "execution_count": 46,
   "id": "0d522eec",
   "metadata": {},
   "outputs": [
    {
     "data": {
      "text/plain": [
       "[<th style=\"border-bottom:0px;\">Role</th>,\n",
       " <th style=\"border-bottom:0px;\">Nationality</th>,\n",
       " <th style=\"border-bottom:0px;\">Bats</th>,\n",
       " <th style=\"border-bottom:0px;\">Bowls</th>,\n",
       " <th colspan=\"\" style=\"border-bottom:0px;\">Bio</th>]"
      ]
     },
     "execution_count": 46,
     "metadata": {},
     "output_type": "execute_result"
    }
   ],
   "source": [
    "header"
   ]
  },
  {
   "cell_type": "code",
   "execution_count": 47,
   "id": "5c0bcc21",
   "metadata": {},
   "outputs": [
    {
     "name": "stdout",
     "output_type": "stream",
     "text": [
      "['Role', 'Nationality', 'Bats', 'Bowls', 'Bio']\n"
     ]
    }
   ],
   "source": [
    "header_list = []\n",
    "for i in header:\n",
    "    name = i.text\n",
    "    header_list.append(name)\n",
    "print(header_list)"
   ]
  },
  {
   "cell_type": "code",
   "execution_count": null,
   "id": "a503d87e",
   "metadata": {},
   "outputs": [],
   "source": []
  },
  {
   "cell_type": "code",
   "execution_count": null,
   "id": "a2e6a740",
   "metadata": {},
   "outputs": [],
   "source": []
  },
  {
   "cell_type": "code",
   "execution_count": null,
   "id": "cd1f15c8",
   "metadata": {},
   "outputs": [],
   "source": []
  },
  {
   "cell_type": "code",
   "execution_count": null,
   "id": "295f46a9",
   "metadata": {},
   "outputs": [],
   "source": []
  },
  {
   "cell_type": "code",
   "execution_count": null,
   "id": "4b3706dc",
   "metadata": {},
   "outputs": [],
   "source": []
  }
 ],
 "metadata": {
  "kernelspec": {
   "display_name": "Python 3 (ipykernel)",
   "language": "python",
   "name": "python3"
  },
  "language_info": {
   "codemirror_mode": {
    "name": "ipython",
    "version": 3
   },
   "file_extension": ".py",
   "mimetype": "text/x-python",
   "name": "python",
   "nbconvert_exporter": "python",
   "pygments_lexer": "ipython3",
   "version": "3.10.9"
  }
 },
 "nbformat": 4,
 "nbformat_minor": 5
}
