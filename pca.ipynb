{
 "cells": [
  {
   "cell_type": "code",
   "execution_count": 1,
   "id": "8c023a5c",
   "metadata": {},
   "outputs": [
    {
     "ename": "NameError",
     "evalue": "name 'X' is not defined",
     "output_type": "error",
     "traceback": [
      "\u001b[1;31m---------------------------------------------------------------------------\u001b[0m",
      "\u001b[1;31mNameError\u001b[0m                                 Traceback (most recent call last)",
      "Cell \u001b[1;32mIn[1], line 7\u001b[0m\n\u001b[0;32m      3\u001b[0m \u001b[38;5;66;03m# Assuming X is your data matrix\u001b[39;00m\n\u001b[0;32m      4\u001b[0m \n\u001b[0;32m      5\u001b[0m \u001b[38;5;66;03m# Instantiate PCA and fit the data\u001b[39;00m\n\u001b[0;32m      6\u001b[0m pca \u001b[38;5;241m=\u001b[39m PCA()\n\u001b[1;32m----> 7\u001b[0m pca\u001b[38;5;241m.\u001b[39mfit(\u001b[43mX\u001b[49m)\n\u001b[0;32m      9\u001b[0m \u001b[38;5;66;03m# Calculate explained variance ratios and cumulative explained variance\u001b[39;00m\n\u001b[0;32m     10\u001b[0m explained_variances \u001b[38;5;241m=\u001b[39m pca\u001b[38;5;241m.\u001b[39mexplained_variance_ratio_\n",
      "\u001b[1;31mNameError\u001b[0m: name 'X' is not defined"
     ]
    }
   ],
   "source": [
    "from sklearn.decomposition import PCA\n",
    "\n",
    "# Assuming X is your data matrix\n",
    "\n",
    "# Instantiate PCA and fit the data\n",
    "pca = PCA()\n",
    "pca.fit(X)\n",
    "\n",
    "# Calculate explained variance ratios and cumulative explained variance\n",
    "explained_variances = pca.explained_variance_ratio_\n",
    "cumulative_variances = np.cumsum(explained_variances)\n",
    "\n",
    "# Find the index where cumulative explained variance >= 0.9\n",
    "n_components = np.argmax(cumulative_variances >= 0.9) + 1\n",
    "\n",
    "print(\"Minimum number of principal components to explain 90% variance:\", n_components)\n"
   ]
  },
  {
   "cell_type": "code",
   "execution_count": null,
   "id": "31067185",
   "metadata": {},
   "outputs": [],
   "source": []
  }
 ],
 "metadata": {
  "kernelspec": {
   "display_name": "Python 3 (ipykernel)",
   "language": "python",
   "name": "python3"
  },
  "language_info": {
   "codemirror_mode": {
    "name": "ipython",
    "version": 3
   },
   "file_extension": ".py",
   "mimetype": "text/x-python",
   "name": "python",
   "nbconvert_exporter": "python",
   "pygments_lexer": "ipython3",
   "version": "3.10.9"
  }
 },
 "nbformat": 4,
 "nbformat_minor": 5
}
