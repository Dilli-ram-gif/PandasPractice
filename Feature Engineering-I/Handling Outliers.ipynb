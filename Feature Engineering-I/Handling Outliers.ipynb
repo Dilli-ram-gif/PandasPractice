{
 "cells": [
  {
   "cell_type": "markdown",
   "id": "f51e23de",
   "metadata": {},
   "source": [
    "# How to handle outliers"
   ]
  },
  {
   "cell_type": "markdown",
   "id": "bf08d45f",
   "metadata": {},
   "source": [
    "# 5 Number Summary and Boxplot"
   ]
  },
  {
   "cell_type": "markdown",
   "id": "5b24b0a8",
   "metadata": {},
   "source": [
    "1. Minimum\n",
    "2. First Quartile\n",
    "3. Second Quartile\n",
    "4. Third Quartile\n",
    "5. Maximum"
   ]
  },
  {
   "cell_type": "code",
   "execution_count": 1,
   "id": "1115e912",
   "metadata": {},
   "outputs": [],
   "source": [
    "import numpy as np"
   ]
  },
  {
   "cell_type": "code",
   "execution_count": 29,
   "id": "536b97d8",
   "metadata": {},
   "outputs": [],
   "source": [
    "list_marks = [ 45, 32, 56, 75, 89, 90, 87, 67, 54, 45, 98, 99, 67, 74]\n",
    "\n",
    "#calculat the 5 number summary\n",
    "minimum, first_Q, second_Q, third_Q, maximum = np.quantile(list_marks,[0, 0.25, 0.5,0.75, 1.0])"
   ]
  },
  {
   "cell_type": "code",
   "execution_count": 30,
   "id": "0cd73966",
   "metadata": {},
   "outputs": [
    {
     "data": {
      "text/plain": [
       "32.0"
      ]
     },
     "execution_count": 30,
     "metadata": {},
     "output_type": "execute_result"
    }
   ],
   "source": [
    "#minimum value\n",
    "minimum"
   ]
  },
  {
   "cell_type": "code",
   "execution_count": 31,
   "id": "07939c8e",
   "metadata": {},
   "outputs": [
    {
     "data": {
      "text/plain": [
       "54.5"
      ]
     },
     "execution_count": 31,
     "metadata": {},
     "output_type": "execute_result"
    }
   ],
   "source": [
    "#first quartile\n",
    "first_Q"
   ]
  },
  {
   "cell_type": "code",
   "execution_count": 32,
   "id": "78d91f13",
   "metadata": {},
   "outputs": [
    {
     "data": {
      "text/plain": [
       "70.5"
      ]
     },
     "execution_count": 32,
     "metadata": {},
     "output_type": "execute_result"
    }
   ],
   "source": [
    "#second quartile\n",
    "second_Q"
   ]
  },
  {
   "cell_type": "code",
   "execution_count": 33,
   "id": "c1bd2fea",
   "metadata": {},
   "outputs": [
    {
     "data": {
      "text/plain": [
       "88.5"
      ]
     },
     "execution_count": 33,
     "metadata": {},
     "output_type": "execute_result"
    }
   ],
   "source": [
    "#third quartile\n",
    "third_Q"
   ]
  },
  {
   "cell_type": "code",
   "execution_count": 34,
   "id": "be680e72",
   "metadata": {},
   "outputs": [
    {
     "data": {
      "text/plain": [
       "99.0"
      ]
     },
     "execution_count": 34,
     "metadata": {},
     "output_type": "execute_result"
    }
   ],
   "source": [
    "#maximum value\n",
    "maximum"
   ]
  },
  {
   "cell_type": "code",
   "execution_count": 35,
   "id": "c27dbfb3",
   "metadata": {},
   "outputs": [
    {
     "data": {
      "text/plain": [
       "(32.0, 54.5, 70.5, 88.5, 99.0)"
      ]
     },
     "execution_count": 35,
     "metadata": {},
     "output_type": "execute_result"
    }
   ],
   "source": [
    "#all at the same time\n",
    "minimum, first_Q, second_Q, third_Q, maximum"
   ]
  },
  {
   "cell_type": "markdown",
   "id": "b15a1fb0",
   "metadata": {},
   "source": [
    "# Inter Quartile Range"
   ]
  },
  {
   "cell_type": "markdown",
   "id": "abcabb69",
   "metadata": {},
   "source": [
    "#formula \n",
    "# IQR = Q3 - Q1"
   ]
  },
  {
   "cell_type": "code",
   "execution_count": 36,
   "id": "9b425946",
   "metadata": {},
   "outputs": [],
   "source": [
    "IQR = third_Q  - first_Q"
   ]
  },
  {
   "cell_type": "code",
   "execution_count": 37,
   "id": "91174c28",
   "metadata": {},
   "outputs": [
    {
     "data": {
      "text/plain": [
       "34.0"
      ]
     },
     "execution_count": 37,
     "metadata": {},
     "output_type": "execute_result"
    }
   ],
   "source": [
    "IQR"
   ]
  },
  {
   "cell_type": "code",
   "execution_count": 38,
   "id": "02b4d789",
   "metadata": {},
   "outputs": [],
   "source": [
    "# lower and upper fence\n",
    "lower_fence = first_Q - 1.5 * (IQR)\n",
    "upper_fence = third_Q + 1.5 * (IQR)"
   ]
  },
  {
   "cell_type": "code",
   "execution_count": 39,
   "id": "baa60288",
   "metadata": {},
   "outputs": [
    {
     "data": {
      "text/plain": [
       "(3.5, 139.5)"
      ]
     },
     "execution_count": 39,
     "metadata": {},
     "output_type": "execute_result"
    }
   ],
   "source": [
    "lower_fence, upper_fence"
   ]
  },
  {
   "cell_type": "code",
   "execution_count": 40,
   "id": "c50659bc",
   "metadata": {},
   "outputs": [
    {
     "data": {
      "text/plain": [
       "<Axes: >"
      ]
     },
     "execution_count": 40,
     "metadata": {},
     "output_type": "execute_result"
    },
    {
     "data": {
      "image/png": "[encoded data removed]",
      "text/plain": [
       "<Figure size 640x480 with 1 Axes>"
      ]
     },
     "metadata": {},
     "output_type": "display_data"
    }
   ],
   "source": [
    "# To observe the outliers, let's see the boxplot\n",
    "import seaborn as sns\n",
    "sns.boxplot(list_marks)"
   ]
  },
  {
   "cell_type": "code",
   "execution_count": 41,
   "id": "1e86790e",
   "metadata": {},
   "outputs": [],
   "source": [
    "#Let's see the outliers\n",
    "new_list = [-100,-200,45,32,56,75,89,54,32,89,90,87,67,54,45,98,99,67,74,150,170,180]"
   ]
  },
  {
   "cell_type": "code",
   "execution_count": 43,
   "id": "ba26a125",
   "metadata": {},
   "outputs": [
    {
     "data": {
      "text/plain": [
       "<Axes: >"
      ]
     },
     "execution_count": 43,
     "metadata": {},
     "output_type": "execute_result"
    },
    {
     "data": {
      "image/png": "[encoded data removed]",
      "text/plain": [
       "<Figure size 640x480 with 1 Axes>"
      ]
     },
     "metadata": {},
     "output_type": "display_data"
    }
   ],
   "source": [
    "# For horizontal orientation, put orient = 'h'\n",
    "sns.boxplot(new_list, orient='h')"
   ]
  },
  {
   "cell_type": "code",
   "execution_count": null,
   "id": "63d4e477",
   "metadata": {},
   "outputs": [],
   "source": [
    "# Outliers can be seen outside of the boxplot"
   ]
  },
  {
   "cell_type": "code",
   "execution_count": null,
   "id": "3d9d75e1",
   "metadata": {},
   "outputs": [],
   "source": []
  }
 ],
 "metadata": {
  "kernelspec": {
   "display_name": "Python 3 (ipykernel)",
   "language": "python",
   "name": "python3"
  },
  "language_info": {
   "codemirror_mode": {
    "name": "ipython",
    "version": 3
   },
   "file_extension": ".py",
   "mimetype": "text/x-python",
   "name": "python",
   "nbconvert_exporter": "python",
   "pygments_lexer": "ipython3",
   "version": "3.10.9"
  }
 },
 "nbformat": 4,
 "nbformat_minor": 5
}
