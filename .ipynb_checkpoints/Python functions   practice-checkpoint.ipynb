{
 "cells": [
  {
   "cell_type": "code",
   "execution_count": 1,
   "id": "32e50ba1",
   "metadata": {},
   "outputs": [],
   "source": [
    "def find_missing_chars(input_string):\n",
    "    all_chars = \"0123456789abcdefghijklmnopqrstuvwxyz\"  # All possible characters\n",
    "    missing_chars = \"\"\n",
    "\n",
    "    for char in all_chars:\n",
    "        if char not in input_string:\n",
    "            missing_chars += char\n",
    "\n",
    "    return missing_chars\n"
   ]
  },
  {
   "cell_type": "code",
   "execution_count": 2,
   "id": "005b70a7",
   "metadata": {},
   "outputs": [
    {
     "name": "stdout",
     "output_type": "stream",
     "text": [
      "0456789fghijklmnopqrstuvwxyz\n"
     ]
    }
   ],
   "source": [
    "input_str = \"abcde123\"\n",
    "missing_chars = find_missing_chars(input_str)\n",
    "print(missing_chars)  # Output: \"fgijklmnopqrstuvwxyz\"\n"
   ]
  },
  {
   "cell_type": "code",
   "execution_count": null,
   "id": "226197f6",
   "metadata": {},
   "outputs": [],
   "source": []
  }
 ],
 "metadata": {
  "kernelspec": {
   "display_name": "Python 3 (ipykernel)",
   "language": "python",
   "name": "python3"
  },
  "language_info": {
   "codemirror_mode": {
    "name": "ipython",
    "version": 3
   },
   "file_extension": ".py",
   "mimetype": "text/x-python",
   "name": "python",
   "nbconvert_exporter": "python",
   "pygments_lexer": "ipython3",
   "version": "3.10.9"
  }
 },
 "nbformat": 4,
 "nbformat_minor": 5
}
