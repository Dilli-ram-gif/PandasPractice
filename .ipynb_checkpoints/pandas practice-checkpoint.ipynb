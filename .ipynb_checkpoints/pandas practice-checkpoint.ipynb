{
 "cells": [
  {
   "cell_type": "code",
   "execution_count": 1,
   "id": "d3d3fb3c",
   "metadata": {},
   "outputs": [],
   "source": [
    "#put the index \n",
    "\n",
    "import pandas as pd\n",
    "variable = pd.Series([8,3,6,5,1], index = ['b', 'd','c', 'e','f'])"
   ]
  },
  {
   "cell_type": "code",
   "execution_count": 2,
   "id": "1acda31e",
   "metadata": {},
   "outputs": [
    {
     "data": {
      "text/plain": [
       "b    8\n",
       "d    3\n",
       "c    6\n",
       "e    5\n",
       "f    1\n",
       "dtype: int64"
      ]
     },
     "execution_count": 2,
     "metadata": {},
     "output_type": "execute_result"
    }
   ],
   "source": [
    "variable"
   ]
  },
  {
   "cell_type": "code",
   "execution_count": 3,
   "id": "f67832dd",
   "metadata": {},
   "outputs": [],
   "source": [
    "my_list = ['apple', 'banana' , 'cherry','mango','pineapple']"
   ]
  },
  {
   "cell_type": "code",
   "execution_count": 6,
   "id": "2abca177",
   "metadata": {},
   "outputs": [
    {
     "data": {
      "text/plain": [
       "apple       NaN\n",
       "banana      NaN\n",
       "cherry      NaN\n",
       "mango       NaN\n",
       "pineapple   NaN\n",
       "dtype: float64"
      ]
     },
     "execution_count": 6,
     "metadata": {},
     "output_type": "execute_result"
    }
   ],
   "source": [
    "variable.reindex(my_list)"
   ]
  },
  {
   "cell_type": "code",
   "execution_count": 7,
   "id": "a1c30d44",
   "metadata": {},
   "outputs": [
    {
     "data": {
      "text/plain": [
       "b    8\n",
       "d    3\n",
       "c    6\n",
       "e    5\n",
       "f    1\n",
       "dtype: int64"
      ]
     },
     "execution_count": 7,
     "metadata": {},
     "output_type": "execute_result"
    }
   ],
   "source": [
    "variable"
   ]
  },
  {
   "cell_type": "code",
   "execution_count": 10,
   "id": "e0234885",
   "metadata": {},
   "outputs": [],
   "source": [
    "#sort the index of the series\n",
    "new_variable = variable.sort_index()"
   ]
  },
  {
   "cell_type": "code",
   "execution_count": 11,
   "id": "aca5524e",
   "metadata": {},
   "outputs": [
    {
     "data": {
      "text/plain": [
       "b    8\n",
       "c    6\n",
       "d    3\n",
       "e    5\n",
       "f    1\n",
       "dtype: int64"
      ]
     },
     "execution_count": 11,
     "metadata": {},
     "output_type": "execute_result"
    }
   ],
   "source": [
    "new_variable"
   ]
  },
  {
   "cell_type": "code",
   "execution_count": 13,
   "id": "5c8a9a48",
   "metadata": {},
   "outputs": [],
   "source": [
    "#sort the values\n",
    "sort_value =new_variable.sort_values()"
   ]
  },
  {
   "cell_type": "code",
   "execution_count": 14,
   "id": "4933a7e4",
   "metadata": {},
   "outputs": [
    {
     "data": {
      "text/plain": [
       "f    1\n",
       "d    3\n",
       "e    5\n",
       "c    6\n",
       "b    8\n",
       "dtype: int64"
      ]
     },
     "execution_count": 14,
     "metadata": {},
     "output_type": "execute_result"
    }
   ],
   "source": [
    "sort_value"
   ]
  },
  {
   "cell_type": "code",
   "execution_count": 15,
   "id": "209a6624",
   "metadata": {},
   "outputs": [],
   "source": [
    "# Both the index and values of the series can be sorted"
   ]
  },
  {
   "cell_type": "code",
   "execution_count": 16,
   "id": "56182060",
   "metadata": {},
   "outputs": [
    {
     "data": {
      "text/plain": [
       "b    8\n",
       "d    3\n",
       "c    6\n",
       "e    5\n",
       "f    1\n",
       "dtype: int64"
      ]
     },
     "execution_count": 16,
     "metadata": {},
     "output_type": "execute_result"
    }
   ],
   "source": [
    "variable"
   ]
  },
  {
   "cell_type": "code",
   "execution_count": 17,
   "id": "75c0975b",
   "metadata": {},
   "outputs": [
    {
     "data": {
      "text/plain": [
       "b    False\n",
       "d    False\n",
       "c     True\n",
       "e    False\n",
       "f     True\n",
       "dtype: bool"
      ]
     },
     "execution_count": 17,
     "metadata": {},
     "output_type": "execute_result"
    }
   ],
   "source": [
    "variable.isin([6,1])"
   ]
  },
  {
   "cell_type": "code",
   "execution_count": 18,
   "id": "e39d8d1d",
   "metadata": {},
   "outputs": [
    {
     "data": {
      "text/plain": [
       "c    6\n",
       "f    1\n",
       "dtype: int64"
      ]
     },
     "execution_count": 18,
     "metadata": {},
     "output_type": "execute_result"
    }
   ],
   "source": [
    "variable[variable.isin([6,1])]"
   ]
  },
  {
   "cell_type": "code",
   "execution_count": 19,
   "id": "101a09eb",
   "metadata": {},
   "outputs": [
    {
     "data": {
      "text/plain": [
       "pandas.core.series.Series"
      ]
     },
     "execution_count": 19,
     "metadata": {},
     "output_type": "execute_result"
    }
   ],
   "source": [
    "type(variable)"
   ]
  },
  {
   "cell_type": "code",
   "execution_count": 20,
   "id": "17ca805d",
   "metadata": {},
   "outputs": [
    {
     "data": {
      "text/plain": [
       "pandas.core.series.Series"
      ]
     },
     "execution_count": 20,
     "metadata": {},
     "output_type": "execute_result"
    }
   ],
   "source": [
    "type(variable[variable.isin([6,1])])"
   ]
  },
  {
   "cell_type": "code",
   "execution_count": 21,
   "id": "976160cb",
   "metadata": {},
   "outputs": [
    {
     "data": {
      "text/plain": [
       "1"
      ]
     },
     "execution_count": 21,
     "metadata": {},
     "output_type": "execute_result"
    }
   ],
   "source": [
    "variable.ndim"
   ]
  },
  {
   "cell_type": "code",
   "execution_count": 22,
   "id": "7c228330",
   "metadata": {},
   "outputs": [],
   "source": [
    "#series has only one dimension "
   ]
  },
  {
   "cell_type": "code",
   "execution_count": 23,
   "id": "96391e85",
   "metadata": {},
   "outputs": [
    {
     "data": {
      "text/plain": [
       "array([8, 3, 6, 5, 1], dtype=int64)"
      ]
     },
     "execution_count": 23,
     "metadata": {},
     "output_type": "execute_result"
    }
   ],
   "source": [
    "variable.values"
   ]
  },
  {
   "cell_type": "code",
   "execution_count": 25,
   "id": "0bcb4d69",
   "metadata": {},
   "outputs": [
    {
     "data": {
      "text/plain": [
       "[8, 3, 6, 5, 1]"
      ]
     },
     "execution_count": 25,
     "metadata": {},
     "output_type": "execute_result"
    }
   ],
   "source": [
    "#list comprehension to iterate values\n",
    "[i for i in variable.values]"
   ]
  },
  {
   "cell_type": "code",
   "execution_count": 26,
   "id": "e925aa45",
   "metadata": {},
   "outputs": [
    {
     "data": {
      "text/plain": [
       "Index(['b', 'd', 'c', 'e', 'f'], dtype='object')"
      ]
     },
     "execution_count": 26,
     "metadata": {},
     "output_type": "execute_result"
    }
   ],
   "source": [
    "#list comprehension to iterate on index\n",
    "variable.index"
   ]
  },
  {
   "cell_type": "code",
   "execution_count": 29,
   "id": "a7e6d448",
   "metadata": {},
   "outputs": [
    {
     "data": {
      "text/plain": [
       "['b', 'd', 'c', 'e', 'f']"
      ]
     },
     "execution_count": 29,
     "metadata": {},
     "output_type": "execute_result"
    }
   ],
   "source": [
    "[i for i in variable.index]"
   ]
  },
  {
   "cell_type": "code",
   "execution_count": 30,
   "id": "728227ee",
   "metadata": {},
   "outputs": [
    {
     "data": {
      "text/plain": [
       "<bound method Series.items of b    8\n",
       "d    3\n",
       "c    6\n",
       "e    5\n",
       "f    1\n",
       "dtype: int64>"
      ]
     },
     "execution_count": 30,
     "metadata": {},
     "output_type": "execute_result"
    }
   ],
   "source": [
    "variable.items"
   ]
  },
  {
   "cell_type": "code",
   "execution_count": 31,
   "id": "51926857",
   "metadata": {},
   "outputs": [
    {
     "data": {
      "text/plain": [
       "<zip at 0x21dc7002bc0>"
      ]
     },
     "execution_count": 31,
     "metadata": {},
     "output_type": "execute_result"
    }
   ],
   "source": [
    "variable.items()"
   ]
  },
  {
   "cell_type": "code",
   "execution_count": 32,
   "id": "ac79b1e3",
   "metadata": {},
   "outputs": [
    {
     "data": {
      "text/plain": [
       "[('b', 8), ('d', 3), ('c', 6), ('e', 5), ('f', 1)]"
      ]
     },
     "execution_count": 32,
     "metadata": {},
     "output_type": "execute_result"
    }
   ],
   "source": [
    "list(variable.items())"
   ]
  },
  {
   "cell_type": "code",
   "execution_count": 33,
   "id": "fa0185f4",
   "metadata": {},
   "outputs": [
    {
     "name": "stdout",
     "output_type": "stream",
     "text": [
      "b 8\n",
      "d 3\n",
      "c 6\n",
      "e 5\n",
      "f 1\n"
     ]
    }
   ],
   "source": [
    "for index, value in variable.items():\n",
    "    print(index,value)"
   ]
  },
  {
   "cell_type": "markdown",
   "id": "5085e7ac",
   "metadata": {},
   "source": [
    "for index, value in variable.items():\n",
    "    print(value,index)"
   ]
  },
  {
   "cell_type": "code",
   "execution_count": 36,
   "id": "0413fc3d",
   "metadata": {},
   "outputs": [
    {
     "name": "stdout",
     "output_type": "stream",
     "text": [
      "b - 8\n",
      "d - 3\n",
      "c - 6\n",
      "e - 5\n",
      "f - 1\n"
     ]
    }
   ],
   "source": [
    "for index, value in variable.items():\n",
    "    print(index, \"-\", value)"
   ]
  },
  {
   "cell_type": "markdown",
   "id": "e5fb2878",
   "metadata": {},
   "source": [
    "# Indexing and Slicing in Pandas"
   ]
  },
  {
   "cell_type": "code",
   "execution_count": 37,
   "id": "c122b062",
   "metadata": {},
   "outputs": [],
   "source": [
    "import pandas as pd"
   ]
  },
  {
   "cell_type": "code",
   "execution_count": null,
   "id": "2b872031",
   "metadata": {},
   "outputs": [],
   "source": []
  },
  {
   "cell_type": "code",
   "execution_count": 38,
   "id": "482e9e13",
   "metadata": {},
   "outputs": [],
   "source": [
    "example = pd.Series(['+67', '+90', '+44','+50','+59', '+34','+96'], index = ['Germany', 'Nepal', \"India\", 'Japan', 'Pakistan', 'America', 'Bhutan'])"
   ]
  },
  {
   "cell_type": "code",
   "execution_count": 39,
   "id": "4bc062a0",
   "metadata": {},
   "outputs": [
    {
     "data": {
      "text/plain": [
       "Germany     +67\n",
       "Nepal       +90\n",
       "India       +44\n",
       "Japan       +50\n",
       "Pakistan    +59\n",
       "America     +34\n",
       "Bhutan      +96\n",
       "dtype: object"
      ]
     },
     "execution_count": 39,
     "metadata": {},
     "output_type": "execute_result"
    }
   ],
   "source": [
    "example"
   ]
  },
  {
   "cell_type": "code",
   "execution_count": 40,
   "id": "801f57ed",
   "metadata": {},
   "outputs": [
    {
     "data": {
      "text/plain": [
       "'+96'"
      ]
     },
     "execution_count": 40,
     "metadata": {},
     "output_type": "execute_result"
    }
   ],
   "source": [
    "example['Bhutan']"
   ]
  },
  {
   "cell_type": "code",
   "execution_count": 41,
   "id": "b610e9c7",
   "metadata": {},
   "outputs": [
    {
     "data": {
      "text/plain": [
       "'+90'"
      ]
     },
     "execution_count": 41,
     "metadata": {},
     "output_type": "execute_result"
    }
   ],
   "source": [
    "# NOTE: We can use numerical index also\n",
    "example[1]"
   ]
  },
  {
   "cell_type": "code",
   "execution_count": 43,
   "id": "339e0f9f",
   "metadata": {},
   "outputs": [
    {
     "data": {
      "text/plain": [
       "Nepal       +90\n",
       "India       +44\n",
       "Japan       +50\n",
       "Pakistan    +59\n",
       "America     +34\n",
       "dtype: object"
      ]
     },
     "execution_count": 43,
     "metadata": {},
     "output_type": "execute_result"
    }
   ],
   "source": [
    "#slicing\n",
    "#NOTE: both the start and end values are inclusive\n",
    "example[\"Nepal\" : \"America\"]"
   ]
  },
  {
   "cell_type": "code",
   "execution_count": 44,
   "id": "7e347b94",
   "metadata": {},
   "outputs": [
    {
     "data": {
      "text/plain": [
       "India       +44\n",
       "Japan       +50\n",
       "Pakistan    +59\n",
       "dtype: object"
      ]
     },
     "execution_count": 44,
     "metadata": {},
     "output_type": "execute_result"
    }
   ],
   "source": [
    "#Slicing using the numerical index\n",
    "example[2:5]"
   ]
  },
  {
   "cell_type": "markdown",
   "id": "3c8677a2",
   "metadata": {},
   "source": [
    "# [Start: Stop: Step]"
   ]
  },
  {
   "cell_type": "code",
   "execution_count": 45,
   "id": "b5af3725",
   "metadata": {},
   "outputs": [
    {
     "data": {
      "text/plain": [
       "India       +44\n",
       "Pakistan    +59\n",
       "dtype: object"
      ]
     },
     "execution_count": 45,
     "metadata": {},
     "output_type": "execute_result"
    }
   ],
   "source": [
    "example[2:5:2]"
   ]
  },
  {
   "cell_type": "code",
   "execution_count": 46,
   "id": "642a8154",
   "metadata": {},
   "outputs": [
    {
     "data": {
      "text/plain": [
       "'+44'"
      ]
     },
     "execution_count": 46,
     "metadata": {},
     "output_type": "execute_result"
    }
   ],
   "source": [
    "example['India']"
   ]
  },
  {
   "cell_type": "code",
   "execution_count": 47,
   "id": "755067b4",
   "metadata": {},
   "outputs": [
    {
     "ename": "KeyError",
     "evalue": "'key of type tuple not found and not a MultiIndex'",
     "output_type": "error",
     "traceback": [
      "\u001b[1;31m---------------------------------------------------------------------------\u001b[0m",
      "\u001b[1;31mKeyError\u001b[0m                                  Traceback (most recent call last)",
      "Cell \u001b[1;32mIn[47], line 1\u001b[0m\n\u001b[1;32m----> 1\u001b[0m \u001b[43mexample\u001b[49m\u001b[43m[\u001b[49m\u001b[38;5;124;43m'\u001b[39;49m\u001b[38;5;124;43mIndia\u001b[39;49m\u001b[38;5;124;43m'\u001b[39;49m\u001b[43m,\u001b[49m\u001b[43m \u001b[49m\u001b[38;5;124;43m'\u001b[39;49m\u001b[38;5;124;43mNepal\u001b[39;49m\u001b[38;5;124;43m'\u001b[39;49m\u001b[43m]\u001b[49m\n",
      "File \u001b[1;32m~\\anaconda3\\lib\\site-packages\\pandas\\core\\series.py:1007\u001b[0m, in \u001b[0;36mSeries.__getitem__\u001b[1;34m(self, key)\u001b[0m\n\u001b[0;32m   1004\u001b[0m     key \u001b[38;5;241m=\u001b[39m np\u001b[38;5;241m.\u001b[39masarray(key, dtype\u001b[38;5;241m=\u001b[39m\u001b[38;5;28mbool\u001b[39m)\n\u001b[0;32m   1005\u001b[0m     \u001b[38;5;28;01mreturn\u001b[39;00m \u001b[38;5;28mself\u001b[39m\u001b[38;5;241m.\u001b[39m_get_values(key)\n\u001b[1;32m-> 1007\u001b[0m \u001b[38;5;28;01mreturn\u001b[39;00m \u001b[38;5;28;43mself\u001b[39;49m\u001b[38;5;241;43m.\u001b[39;49m\u001b[43m_get_with\u001b[49m\u001b[43m(\u001b[49m\u001b[43mkey\u001b[49m\u001b[43m)\u001b[49m\n",
      "File \u001b[1;32m~\\anaconda3\\lib\\site-packages\\pandas\\core\\series.py:1022\u001b[0m, in \u001b[0;36mSeries._get_with\u001b[1;34m(self, key)\u001b[0m\n\u001b[0;32m   1017\u001b[0m     \u001b[38;5;28;01mraise\u001b[39;00m \u001b[38;5;167;01mTypeError\u001b[39;00m(\n\u001b[0;32m   1018\u001b[0m         \u001b[38;5;124m\"\u001b[39m\u001b[38;5;124mIndexing a Series with DataFrame is not \u001b[39m\u001b[38;5;124m\"\u001b[39m\n\u001b[0;32m   1019\u001b[0m         \u001b[38;5;124m\"\u001b[39m\u001b[38;5;124msupported, use the appropriate DataFrame column\u001b[39m\u001b[38;5;124m\"\u001b[39m\n\u001b[0;32m   1020\u001b[0m     )\n\u001b[0;32m   1021\u001b[0m \u001b[38;5;28;01melif\u001b[39;00m \u001b[38;5;28misinstance\u001b[39m(key, \u001b[38;5;28mtuple\u001b[39m):\n\u001b[1;32m-> 1022\u001b[0m     \u001b[38;5;28;01mreturn\u001b[39;00m \u001b[38;5;28;43mself\u001b[39;49m\u001b[38;5;241;43m.\u001b[39;49m\u001b[43m_get_values_tuple\u001b[49m\u001b[43m(\u001b[49m\u001b[43mkey\u001b[49m\u001b[43m)\u001b[49m\n\u001b[0;32m   1024\u001b[0m \u001b[38;5;28;01melif\u001b[39;00m \u001b[38;5;129;01mnot\u001b[39;00m is_list_like(key):\n\u001b[0;32m   1025\u001b[0m     \u001b[38;5;66;03m# e.g. scalars that aren't recognized by lib.is_scalar, GH#32684\u001b[39;00m\n\u001b[0;32m   1026\u001b[0m     \u001b[38;5;28;01mreturn\u001b[39;00m \u001b[38;5;28mself\u001b[39m\u001b[38;5;241m.\u001b[39mloc[key]\n",
      "File \u001b[1;32m~\\anaconda3\\lib\\site-packages\\pandas\\core\\series.py:1060\u001b[0m, in \u001b[0;36mSeries._get_values_tuple\u001b[1;34m(self, key)\u001b[0m\n\u001b[0;32m   1057\u001b[0m     \u001b[38;5;28;01mreturn\u001b[39;00m result\n\u001b[0;32m   1059\u001b[0m \u001b[38;5;28;01mif\u001b[39;00m \u001b[38;5;129;01mnot\u001b[39;00m \u001b[38;5;28misinstance\u001b[39m(\u001b[38;5;28mself\u001b[39m\u001b[38;5;241m.\u001b[39mindex, MultiIndex):\n\u001b[1;32m-> 1060\u001b[0m     \u001b[38;5;28;01mraise\u001b[39;00m \u001b[38;5;167;01mKeyError\u001b[39;00m(\u001b[38;5;124m\"\u001b[39m\u001b[38;5;124mkey of type tuple not found and not a MultiIndex\u001b[39m\u001b[38;5;124m\"\u001b[39m)\n\u001b[0;32m   1062\u001b[0m \u001b[38;5;66;03m# If key is contained, would have returned by now\u001b[39;00m\n\u001b[0;32m   1063\u001b[0m indexer, new_index \u001b[38;5;241m=\u001b[39m \u001b[38;5;28mself\u001b[39m\u001b[38;5;241m.\u001b[39mindex\u001b[38;5;241m.\u001b[39mget_loc_level(key)\n",
      "\u001b[1;31mKeyError\u001b[0m: 'key of type tuple not found and not a MultiIndex'"
     ]
    }
   ],
   "source": [
    "# to get the values of 2 or more, pass their index as a list\n",
    "example['India', 'Nepal']"
   ]
  },
  {
   "cell_type": "code",
   "execution_count": 48,
   "id": "261e61a8",
   "metadata": {},
   "outputs": [
    {
     "data": {
      "text/plain": [
       "India       +44\n",
       "Pakistan    +59\n",
       "dtype: object"
      ]
     },
     "execution_count": 48,
     "metadata": {},
     "output_type": "execute_result"
    }
   ],
   "source": [
    "#pass the list to get the values of 2 or more \n",
    "example[['India', 'Pakistan']]"
   ]
  },
  {
   "cell_type": "markdown",
   "id": "94ae4d33",
   "metadata": {},
   "source": [
    "# Adding Columns to Data frames"
   ]
  },
  {
   "cell_type": "code",
   "execution_count": 49,
   "id": "c723327f",
   "metadata": {},
   "outputs": [],
   "source": [
    "import numpy as np\n",
    "import pandas as pd"
   ]
  },
  {
   "cell_type": "code",
   "execution_count": 50,
   "id": "34b8abb8",
   "metadata": {},
   "outputs": [],
   "source": [
    "x = np.arange(0,28)"
   ]
  },
  {
   "cell_type": "code",
   "execution_count": 51,
   "id": "250165cd",
   "metadata": {},
   "outputs": [
    {
     "data": {
      "text/plain": [
       "array([ 0,  1,  2,  3,  4,  5,  6,  7,  8,  9, 10, 11, 12, 13, 14, 15, 16,\n",
       "       17, 18, 19, 20, 21, 22, 23, 24, 25, 26, 27])"
      ]
     },
     "execution_count": 51,
     "metadata": {},
     "output_type": "execute_result"
    }
   ],
   "source": [
    "x"
   ]
  },
  {
   "cell_type": "code",
   "execution_count": 52,
   "id": "4af441fb",
   "metadata": {},
   "outputs": [],
   "source": [
    "y = np.arange(10)"
   ]
  },
  {
   "cell_type": "code",
   "execution_count": 53,
   "id": "5da0d0ea",
   "metadata": {},
   "outputs": [
    {
     "data": {
      "text/plain": [
       "array([0, 1, 2, 3, 4, 5, 6, 7, 8, 9])"
      ]
     },
     "execution_count": 53,
     "metadata": {},
     "output_type": "execute_result"
    }
   ],
   "source": [
    "y"
   ]
  },
  {
   "cell_type": "code",
   "execution_count": 54,
   "id": "79ecd058",
   "metadata": {},
   "outputs": [],
   "source": [
    "z = np.arange(1,21)"
   ]
  },
  {
   "cell_type": "code",
   "execution_count": 55,
   "id": "4795333a",
   "metadata": {},
   "outputs": [
    {
     "data": {
      "text/plain": [
       "array([ 1,  2,  3,  4,  5,  6,  7,  8,  9, 10, 11, 12, 13, 14, 15, 16, 17,\n",
       "       18, 19, 20])"
      ]
     },
     "execution_count": 55,
     "metadata": {},
     "output_type": "execute_result"
    }
   ],
   "source": [
    "z"
   ]
  },
  {
   "cell_type": "code",
   "execution_count": 56,
   "id": "e18dee14",
   "metadata": {},
   "outputs": [],
   "source": [
    "#The the boundary is exclusive"
   ]
  },
  {
   "cell_type": "code",
   "execution_count": 57,
   "id": "508a85ff",
   "metadata": {},
   "outputs": [
    {
     "data": {
      "text/plain": [
       "array([[ 0,  1,  2,  3],\n",
       "       [ 4,  5,  6,  7],\n",
       "       [ 8,  9, 10, 11],\n",
       "       [12, 13, 14, 15],\n",
       "       [16, 17, 18, 19],\n",
       "       [20, 21, 22, 23],\n",
       "       [24, 25, 26, 27]])"
      ]
     },
     "execution_count": 57,
     "metadata": {},
     "output_type": "execute_result"
    }
   ],
   "source": [
    "x.reshape(7,4)"
   ]
  },
  {
   "cell_type": "markdown",
   "id": "4de1739a",
   "metadata": {},
   "source": [
    "# Changing the data to DataFrame"
   ]
  },
  {
   "cell_type": "code",
   "execution_count": 59,
   "id": "d91a4fdc",
   "metadata": {},
   "outputs": [],
   "source": [
    "x =x.reshape(7,4)\n",
    "df = pd.DataFrame(data = x, columns = ['col1', 'col2', 'col3', 'col4'])"
   ]
  },
  {
   "cell_type": "code",
   "execution_count": 61,
   "id": "38361298",
   "metadata": {},
   "outputs": [
    {
     "data": {
      "text/html": [
       "<div>\n",
       "<style scoped>\n",
       "    .dataframe tbody tr th:only-of-type {\n",
       "        vertical-align: middle;\n",
       "    }\n",
       "\n",
       "    .dataframe tbody tr th {\n",
       "        vertical-align: top;\n",
       "    }\n",
       "\n",
       "    .dataframe thead th {\n",
       "        text-align: right;\n",
       "    }\n",
       "</style>\n",
       "<table border=\"1\" class=\"dataframe\">\n",
       "  <thead>\n",
       "    <tr style=\"text-align: right;\">\n",
       "      <th></th>\n",
       "      <th>col1</th>\n",
       "      <th>col2</th>\n",
       "      <th>col3</th>\n",
       "      <th>col4</th>\n",
       "    </tr>\n",
       "  </thead>\n",
       "  <tbody>\n",
       "    <tr>\n",
       "      <th>0</th>\n",
       "      <td>0</td>\n",
       "      <td>1</td>\n",
       "      <td>2</td>\n",
       "      <td>3</td>\n",
       "    </tr>\n",
       "    <tr>\n",
       "      <th>1</th>\n",
       "      <td>4</td>\n",
       "      <td>5</td>\n",
       "      <td>6</td>\n",
       "      <td>7</td>\n",
       "    </tr>\n",
       "    <tr>\n",
       "      <th>2</th>\n",
       "      <td>8</td>\n",
       "      <td>9</td>\n",
       "      <td>10</td>\n",
       "      <td>11</td>\n",
       "    </tr>\n",
       "    <tr>\n",
       "      <th>3</th>\n",
       "      <td>12</td>\n",
       "      <td>13</td>\n",
       "      <td>14</td>\n",
       "      <td>15</td>\n",
       "    </tr>\n",
       "    <tr>\n",
       "      <th>4</th>\n",
       "      <td>16</td>\n",
       "      <td>17</td>\n",
       "      <td>18</td>\n",
       "      <td>19</td>\n",
       "    </tr>\n",
       "    <tr>\n",
       "      <th>5</th>\n",
       "      <td>20</td>\n",
       "      <td>21</td>\n",
       "      <td>22</td>\n",
       "      <td>23</td>\n",
       "    </tr>\n",
       "    <tr>\n",
       "      <th>6</th>\n",
       "      <td>24</td>\n",
       "      <td>25</td>\n",
       "      <td>26</td>\n",
       "      <td>27</td>\n",
       "    </tr>\n",
       "  </tbody>\n",
       "</table>\n",
       "</div>"
      ],
      "text/plain": [
       "   col1  col2  col3  col4\n",
       "0     0     1     2     3\n",
       "1     4     5     6     7\n",
       "2     8     9    10    11\n",
       "3    12    13    14    15\n",
       "4    16    17    18    19\n",
       "5    20    21    22    23\n",
       "6    24    25    26    27"
      ]
     },
     "execution_count": 61,
     "metadata": {},
     "output_type": "execute_result"
    }
   ],
   "source": [
    "df"
   ]
  },
  {
   "cell_type": "markdown",
   "id": "fd884423",
   "metadata": {},
   "source": [
    "# Use of dropna()"
   ]
  },
  {
   "cell_type": "code",
   "execution_count": 70,
   "id": "cb90cf9b",
   "metadata": {},
   "outputs": [],
   "source": [
    "new_df = df.drop(['col4'],axis = 1)"
   ]
  },
  {
   "cell_type": "code",
   "execution_count": 72,
   "id": "a7e9cb78",
   "metadata": {},
   "outputs": [
    {
     "data": {
      "text/html": [
       "<div>\n",
       "<style scoped>\n",
       "    .dataframe tbody tr th:only-of-type {\n",
       "        vertical-align: middle;\n",
       "    }\n",
       "\n",
       "    .dataframe tbody tr th {\n",
       "        vertical-align: top;\n",
       "    }\n",
       "\n",
       "    .dataframe thead th {\n",
       "        text-align: right;\n",
       "    }\n",
       "</style>\n",
       "<table border=\"1\" class=\"dataframe\">\n",
       "  <thead>\n",
       "    <tr style=\"text-align: right;\">\n",
       "      <th></th>\n",
       "      <th>col1</th>\n",
       "      <th>col2</th>\n",
       "      <th>col3</th>\n",
       "    </tr>\n",
       "  </thead>\n",
       "  <tbody>\n",
       "    <tr>\n",
       "      <th>0</th>\n",
       "      <td>0</td>\n",
       "      <td>1</td>\n",
       "      <td>2</td>\n",
       "    </tr>\n",
       "    <tr>\n",
       "      <th>1</th>\n",
       "      <td>4</td>\n",
       "      <td>5</td>\n",
       "      <td>6</td>\n",
       "    </tr>\n",
       "    <tr>\n",
       "      <th>2</th>\n",
       "      <td>8</td>\n",
       "      <td>9</td>\n",
       "      <td>10</td>\n",
       "    </tr>\n",
       "    <tr>\n",
       "      <th>3</th>\n",
       "      <td>12</td>\n",
       "      <td>13</td>\n",
       "      <td>14</td>\n",
       "    </tr>\n",
       "    <tr>\n",
       "      <th>4</th>\n",
       "      <td>16</td>\n",
       "      <td>17</td>\n",
       "      <td>18</td>\n",
       "    </tr>\n",
       "    <tr>\n",
       "      <th>5</th>\n",
       "      <td>20</td>\n",
       "      <td>21</td>\n",
       "      <td>22</td>\n",
       "    </tr>\n",
       "    <tr>\n",
       "      <th>6</th>\n",
       "      <td>24</td>\n",
       "      <td>25</td>\n",
       "      <td>26</td>\n",
       "    </tr>\n",
       "  </tbody>\n",
       "</table>\n",
       "</div>"
      ],
      "text/plain": [
       "   col1  col2  col3\n",
       "0     0     1     2\n",
       "1     4     5     6\n",
       "2     8     9    10\n",
       "3    12    13    14\n",
       "4    16    17    18\n",
       "5    20    21    22\n",
       "6    24    25    26"
      ]
     },
     "execution_count": 72,
     "metadata": {},
     "output_type": "execute_result"
    }
   ],
   "source": [
    "# the col4 column has been dropped, asis should always be mentioned\n",
    "new_df"
   ]
  },
  {
   "cell_type": "code",
   "execution_count": 74,
   "id": "80653020",
   "metadata": {},
   "outputs": [],
   "source": [
    "df['col5'] = df['col1'] + df['col2']"
   ]
  },
  {
   "cell_type": "code",
   "execution_count": 75,
   "id": "cc1d8a19",
   "metadata": {},
   "outputs": [
    {
     "data": {
      "text/html": [
       "<div>\n",
       "<style scoped>\n",
       "    .dataframe tbody tr th:only-of-type {\n",
       "        vertical-align: middle;\n",
       "    }\n",
       "\n",
       "    .dataframe tbody tr th {\n",
       "        vertical-align: top;\n",
       "    }\n",
       "\n",
       "    .dataframe thead th {\n",
       "        text-align: right;\n",
       "    }\n",
       "</style>\n",
       "<table border=\"1\" class=\"dataframe\">\n",
       "  <thead>\n",
       "    <tr style=\"text-align: right;\">\n",
       "      <th></th>\n",
       "      <th>col1</th>\n",
       "      <th>col2</th>\n",
       "      <th>col3</th>\n",
       "      <th>col4</th>\n",
       "      <th>col5</th>\n",
       "    </tr>\n",
       "  </thead>\n",
       "  <tbody>\n",
       "    <tr>\n",
       "      <th>0</th>\n",
       "      <td>0</td>\n",
       "      <td>1</td>\n",
       "      <td>2</td>\n",
       "      <td>3</td>\n",
       "      <td>1</td>\n",
       "    </tr>\n",
       "    <tr>\n",
       "      <th>1</th>\n",
       "      <td>4</td>\n",
       "      <td>5</td>\n",
       "      <td>6</td>\n",
       "      <td>7</td>\n",
       "      <td>9</td>\n",
       "    </tr>\n",
       "    <tr>\n",
       "      <th>2</th>\n",
       "      <td>8</td>\n",
       "      <td>9</td>\n",
       "      <td>10</td>\n",
       "      <td>11</td>\n",
       "      <td>17</td>\n",
       "    </tr>\n",
       "    <tr>\n",
       "      <th>3</th>\n",
       "      <td>12</td>\n",
       "      <td>13</td>\n",
       "      <td>14</td>\n",
       "      <td>15</td>\n",
       "      <td>25</td>\n",
       "    </tr>\n",
       "    <tr>\n",
       "      <th>4</th>\n",
       "      <td>16</td>\n",
       "      <td>17</td>\n",
       "      <td>18</td>\n",
       "      <td>19</td>\n",
       "      <td>33</td>\n",
       "    </tr>\n",
       "    <tr>\n",
       "      <th>5</th>\n",
       "      <td>20</td>\n",
       "      <td>21</td>\n",
       "      <td>22</td>\n",
       "      <td>23</td>\n",
       "      <td>41</td>\n",
       "    </tr>\n",
       "    <tr>\n",
       "      <th>6</th>\n",
       "      <td>24</td>\n",
       "      <td>25</td>\n",
       "      <td>26</td>\n",
       "      <td>27</td>\n",
       "      <td>49</td>\n",
       "    </tr>\n",
       "  </tbody>\n",
       "</table>\n",
       "</div>"
      ],
      "text/plain": [
       "   col1  col2  col3  col4  col5\n",
       "0     0     1     2     3     1\n",
       "1     4     5     6     7     9\n",
       "2     8     9    10    11    17\n",
       "3    12    13    14    15    25\n",
       "4    16    17    18    19    33\n",
       "5    20    21    22    23    41\n",
       "6    24    25    26    27    49"
      ]
     },
     "execution_count": 75,
     "metadata": {},
     "output_type": "execute_result"
    }
   ],
   "source": [
    "df"
   ]
  },
  {
   "cell_type": "code",
   "execution_count": 76,
   "id": "3f4ddc88",
   "metadata": {},
   "outputs": [],
   "source": [
    "df['col6'] = df['col4'] * df['col3']"
   ]
  },
  {
   "cell_type": "code",
   "execution_count": 77,
   "id": "21a0cf67",
   "metadata": {},
   "outputs": [
    {
     "data": {
      "text/html": [
       "<div>\n",
       "<style scoped>\n",
       "    .dataframe tbody tr th:only-of-type {\n",
       "        vertical-align: middle;\n",
       "    }\n",
       "\n",
       "    .dataframe tbody tr th {\n",
       "        vertical-align: top;\n",
       "    }\n",
       "\n",
       "    .dataframe thead th {\n",
       "        text-align: right;\n",
       "    }\n",
       "</style>\n",
       "<table border=\"1\" class=\"dataframe\">\n",
       "  <thead>\n",
       "    <tr style=\"text-align: right;\">\n",
       "      <th></th>\n",
       "      <th>col1</th>\n",
       "      <th>col2</th>\n",
       "      <th>col3</th>\n",
       "      <th>col4</th>\n",
       "      <th>col5</th>\n",
       "      <th>col6</th>\n",
       "    </tr>\n",
       "  </thead>\n",
       "  <tbody>\n",
       "    <tr>\n",
       "      <th>0</th>\n",
       "      <td>0</td>\n",
       "      <td>1</td>\n",
       "      <td>2</td>\n",
       "      <td>3</td>\n",
       "      <td>1</td>\n",
       "      <td>6</td>\n",
       "    </tr>\n",
       "    <tr>\n",
       "      <th>1</th>\n",
       "      <td>4</td>\n",
       "      <td>5</td>\n",
       "      <td>6</td>\n",
       "      <td>7</td>\n",
       "      <td>9</td>\n",
       "      <td>42</td>\n",
       "    </tr>\n",
       "    <tr>\n",
       "      <th>2</th>\n",
       "      <td>8</td>\n",
       "      <td>9</td>\n",
       "      <td>10</td>\n",
       "      <td>11</td>\n",
       "      <td>17</td>\n",
       "      <td>110</td>\n",
       "    </tr>\n",
       "    <tr>\n",
       "      <th>3</th>\n",
       "      <td>12</td>\n",
       "      <td>13</td>\n",
       "      <td>14</td>\n",
       "      <td>15</td>\n",
       "      <td>25</td>\n",
       "      <td>210</td>\n",
       "    </tr>\n",
       "    <tr>\n",
       "      <th>4</th>\n",
       "      <td>16</td>\n",
       "      <td>17</td>\n",
       "      <td>18</td>\n",
       "      <td>19</td>\n",
       "      <td>33</td>\n",
       "      <td>342</td>\n",
       "    </tr>\n",
       "    <tr>\n",
       "      <th>5</th>\n",
       "      <td>20</td>\n",
       "      <td>21</td>\n",
       "      <td>22</td>\n",
       "      <td>23</td>\n",
       "      <td>41</td>\n",
       "      <td>506</td>\n",
       "    </tr>\n",
       "    <tr>\n",
       "      <th>6</th>\n",
       "      <td>24</td>\n",
       "      <td>25</td>\n",
       "      <td>26</td>\n",
       "      <td>27</td>\n",
       "      <td>49</td>\n",
       "      <td>702</td>\n",
       "    </tr>\n",
       "  </tbody>\n",
       "</table>\n",
       "</div>"
      ],
      "text/plain": [
       "   col1  col2  col3  col4  col5  col6\n",
       "0     0     1     2     3     1     6\n",
       "1     4     5     6     7     9    42\n",
       "2     8     9    10    11    17   110\n",
       "3    12    13    14    15    25   210\n",
       "4    16    17    18    19    33   342\n",
       "5    20    21    22    23    41   506\n",
       "6    24    25    26    27    49   702"
      ]
     },
     "execution_count": 77,
     "metadata": {},
     "output_type": "execute_result"
    }
   ],
   "source": [
    "df"
   ]
  },
  {
   "cell_type": "code",
   "execution_count": 78,
   "id": "e3b093d7",
   "metadata": {},
   "outputs": [
    {
     "data": {
      "text/plain": [
       "array([28, 29, 30, 31, 32, 33, 34])"
      ]
     },
     "execution_count": 78,
     "metadata": {},
     "output_type": "execute_result"
    }
   ],
   "source": [
    "np.arange(28,35)"
   ]
  },
  {
   "cell_type": "code",
   "execution_count": 82,
   "id": "f51684ef",
   "metadata": {},
   "outputs": [],
   "source": [
    "df['col7'] = np.arange(28,35)"
   ]
  },
  {
   "cell_type": "code",
   "execution_count": 80,
   "id": "59bf02bb",
   "metadata": {},
   "outputs": [
    {
     "data": {
      "text/html": [
       "<div>\n",
       "<style scoped>\n",
       "    .dataframe tbody tr th:only-of-type {\n",
       "        vertical-align: middle;\n",
       "    }\n",
       "\n",
       "    .dataframe tbody tr th {\n",
       "        vertical-align: top;\n",
       "    }\n",
       "\n",
       "    .dataframe thead th {\n",
       "        text-align: right;\n",
       "    }\n",
       "</style>\n",
       "<table border=\"1\" class=\"dataframe\">\n",
       "  <thead>\n",
       "    <tr style=\"text-align: right;\">\n",
       "      <th></th>\n",
       "      <th>col1</th>\n",
       "      <th>col2</th>\n",
       "      <th>col3</th>\n",
       "      <th>col4</th>\n",
       "      <th>col5</th>\n",
       "      <th>col6</th>\n",
       "      <th>col7</th>\n",
       "    </tr>\n",
       "  </thead>\n",
       "  <tbody>\n",
       "    <tr>\n",
       "      <th>0</th>\n",
       "      <td>0</td>\n",
       "      <td>1</td>\n",
       "      <td>2</td>\n",
       "      <td>3</td>\n",
       "      <td>1</td>\n",
       "      <td>6</td>\n",
       "      <td>28</td>\n",
       "    </tr>\n",
       "    <tr>\n",
       "      <th>1</th>\n",
       "      <td>4</td>\n",
       "      <td>5</td>\n",
       "      <td>6</td>\n",
       "      <td>7</td>\n",
       "      <td>9</td>\n",
       "      <td>42</td>\n",
       "      <td>29</td>\n",
       "    </tr>\n",
       "    <tr>\n",
       "      <th>2</th>\n",
       "      <td>8</td>\n",
       "      <td>9</td>\n",
       "      <td>10</td>\n",
       "      <td>11</td>\n",
       "      <td>17</td>\n",
       "      <td>110</td>\n",
       "      <td>30</td>\n",
       "    </tr>\n",
       "    <tr>\n",
       "      <th>3</th>\n",
       "      <td>12</td>\n",
       "      <td>13</td>\n",
       "      <td>14</td>\n",
       "      <td>15</td>\n",
       "      <td>25</td>\n",
       "      <td>210</td>\n",
       "      <td>31</td>\n",
       "    </tr>\n",
       "    <tr>\n",
       "      <th>4</th>\n",
       "      <td>16</td>\n",
       "      <td>17</td>\n",
       "      <td>18</td>\n",
       "      <td>19</td>\n",
       "      <td>33</td>\n",
       "      <td>342</td>\n",
       "      <td>32</td>\n",
       "    </tr>\n",
       "    <tr>\n",
       "      <th>5</th>\n",
       "      <td>20</td>\n",
       "      <td>21</td>\n",
       "      <td>22</td>\n",
       "      <td>23</td>\n",
       "      <td>41</td>\n",
       "      <td>506</td>\n",
       "      <td>33</td>\n",
       "    </tr>\n",
       "    <tr>\n",
       "      <th>6</th>\n",
       "      <td>24</td>\n",
       "      <td>25</td>\n",
       "      <td>26</td>\n",
       "      <td>27</td>\n",
       "      <td>49</td>\n",
       "      <td>702</td>\n",
       "      <td>34</td>\n",
       "    </tr>\n",
       "  </tbody>\n",
       "</table>\n",
       "</div>"
      ],
      "text/plain": [
       "   col1  col2  col3  col4  col5  col6  col7\n",
       "0     0     1     2     3     1     6    28\n",
       "1     4     5     6     7     9    42    29\n",
       "2     8     9    10    11    17   110    30\n",
       "3    12    13    14    15    25   210    31\n",
       "4    16    17    18    19    33   342    32\n",
       "5    20    21    22    23    41   506    33\n",
       "6    24    25    26    27    49   702    34"
      ]
     },
     "execution_count": 80,
     "metadata": {},
     "output_type": "execute_result"
    }
   ],
   "source": [
    "df"
   ]
  },
  {
   "cell_type": "code",
   "execution_count": 83,
   "id": "cfeacb55",
   "metadata": {},
   "outputs": [],
   "source": [
    "#NOTE: if size of the new col doesn't match then an error will raise"
   ]
  },
  {
   "cell_type": "markdown",
   "id": "d68c0157",
   "metadata": {},
   "source": [
    "# Setting the index in pandas DataFrame"
   ]
  },
  {
   "cell_type": "code",
   "execution_count": 84,
   "id": "82572915",
   "metadata": {},
   "outputs": [],
   "source": [
    "import numpy as np\n",
    "import pandas as pd"
   ]
  },
  {
   "cell_type": "code",
   "execution_count": 91,
   "id": "7e02ae40",
   "metadata": {},
   "outputs": [],
   "source": [
    "np.random.seed(101)\n",
    "df = pd.DataFrame(data = np.random.randn(6,5), index = \"A B C D E F\".split(), columns = \"val1 val2 val3 val4 val5\".split())"
   ]
  },
  {
   "cell_type": "code",
   "execution_count": 92,
   "id": "d2f634ae",
   "metadata": {},
   "outputs": [
    {
     "data": {
      "text/html": [
       "<div>\n",
       "<style scoped>\n",
       "    .dataframe tbody tr th:only-of-type {\n",
       "        vertical-align: middle;\n",
       "    }\n",
       "\n",
       "    .dataframe tbody tr th {\n",
       "        vertical-align: top;\n",
       "    }\n",
       "\n",
       "    .dataframe thead th {\n",
       "        text-align: right;\n",
       "    }\n",
       "</style>\n",
       "<table border=\"1\" class=\"dataframe\">\n",
       "  <thead>\n",
       "    <tr style=\"text-align: right;\">\n",
       "      <th></th>\n",
       "      <th>val1</th>\n",
       "      <th>val2</th>\n",
       "      <th>val3</th>\n",
       "      <th>val4</th>\n",
       "      <th>val5</th>\n",
       "    </tr>\n",
       "  </thead>\n",
       "  <tbody>\n",
       "    <tr>\n",
       "      <th>A</th>\n",
       "      <td>2.706850</td>\n",
       "      <td>0.628133</td>\n",
       "      <td>0.907969</td>\n",
       "      <td>0.503826</td>\n",
       "      <td>0.651118</td>\n",
       "    </tr>\n",
       "    <tr>\n",
       "      <th>B</th>\n",
       "      <td>-0.319318</td>\n",
       "      <td>-0.848077</td>\n",
       "      <td>0.605965</td>\n",
       "      <td>-2.018168</td>\n",
       "      <td>0.740122</td>\n",
       "    </tr>\n",
       "    <tr>\n",
       "      <th>C</th>\n",
       "      <td>0.528813</td>\n",
       "      <td>-0.589001</td>\n",
       "      <td>0.188695</td>\n",
       "      <td>-0.758872</td>\n",
       "      <td>-0.933237</td>\n",
       "    </tr>\n",
       "    <tr>\n",
       "      <th>D</th>\n",
       "      <td>0.955057</td>\n",
       "      <td>0.190794</td>\n",
       "      <td>1.978757</td>\n",
       "      <td>2.605967</td>\n",
       "      <td>0.683509</td>\n",
       "    </tr>\n",
       "    <tr>\n",
       "      <th>E</th>\n",
       "      <td>0.302665</td>\n",
       "      <td>1.693723</td>\n",
       "      <td>-1.706086</td>\n",
       "      <td>-1.159119</td>\n",
       "      <td>-0.134841</td>\n",
       "    </tr>\n",
       "    <tr>\n",
       "      <th>F</th>\n",
       "      <td>0.390528</td>\n",
       "      <td>0.166905</td>\n",
       "      <td>0.184502</td>\n",
       "      <td>0.807706</td>\n",
       "      <td>0.072960</td>\n",
       "    </tr>\n",
       "  </tbody>\n",
       "</table>\n",
       "</div>"
      ],
      "text/plain": [
       "       val1      val2      val3      val4      val5\n",
       "A  2.706850  0.628133  0.907969  0.503826  0.651118\n",
       "B -0.319318 -0.848077  0.605965 -2.018168  0.740122\n",
       "C  0.528813 -0.589001  0.188695 -0.758872 -0.933237\n",
       "D  0.955057  0.190794  1.978757  2.605967  0.683509\n",
       "E  0.302665  1.693723 -1.706086 -1.159119 -0.134841\n",
       "F  0.390528  0.166905  0.184502  0.807706  0.072960"
      ]
     },
     "execution_count": 92,
     "metadata": {},
     "output_type": "execute_result"
    }
   ],
   "source": [
    "df"
   ]
  },
  {
   "cell_type": "code",
   "execution_count": 93,
   "id": "6938c3f2",
   "metadata": {},
   "outputs": [
    {
     "data": {
      "text/html": [
       "<div>\n",
       "<style scoped>\n",
       "    .dataframe tbody tr th:only-of-type {\n",
       "        vertical-align: middle;\n",
       "    }\n",
       "\n",
       "    .dataframe tbody tr th {\n",
       "        vertical-align: top;\n",
       "    }\n",
       "\n",
       "    .dataframe thead th {\n",
       "        text-align: right;\n",
       "    }\n",
       "</style>\n",
       "<table border=\"1\" class=\"dataframe\">\n",
       "  <thead>\n",
       "    <tr style=\"text-align: right;\">\n",
       "      <th></th>\n",
       "      <th>val1</th>\n",
       "      <th>val2</th>\n",
       "      <th>val3</th>\n",
       "      <th>val4</th>\n",
       "      <th>val5</th>\n",
       "    </tr>\n",
       "  </thead>\n",
       "  <tbody>\n",
       "    <tr>\n",
       "      <th>A</th>\n",
       "      <td>2.706850</td>\n",
       "      <td>0.628133</td>\n",
       "      <td>0.907969</td>\n",
       "      <td>0.503826</td>\n",
       "      <td>0.651118</td>\n",
       "    </tr>\n",
       "    <tr>\n",
       "      <th>B</th>\n",
       "      <td>-0.319318</td>\n",
       "      <td>-0.848077</td>\n",
       "      <td>0.605965</td>\n",
       "      <td>-2.018168</td>\n",
       "      <td>0.740122</td>\n",
       "    </tr>\n",
       "    <tr>\n",
       "      <th>C</th>\n",
       "      <td>0.528813</td>\n",
       "      <td>-0.589001</td>\n",
       "      <td>0.188695</td>\n",
       "      <td>-0.758872</td>\n",
       "      <td>-0.933237</td>\n",
       "    </tr>\n",
       "    <tr>\n",
       "      <th>D</th>\n",
       "      <td>0.955057</td>\n",
       "      <td>0.190794</td>\n",
       "      <td>1.978757</td>\n",
       "      <td>2.605967</td>\n",
       "      <td>0.683509</td>\n",
       "    </tr>\n",
       "    <tr>\n",
       "      <th>E</th>\n",
       "      <td>0.302665</td>\n",
       "      <td>1.693723</td>\n",
       "      <td>-1.706086</td>\n",
       "      <td>-1.159119</td>\n",
       "      <td>-0.134841</td>\n",
       "    </tr>\n",
       "    <tr>\n",
       "      <th>F</th>\n",
       "      <td>0.390528</td>\n",
       "      <td>0.166905</td>\n",
       "      <td>0.184502</td>\n",
       "      <td>0.807706</td>\n",
       "      <td>0.072960</td>\n",
       "    </tr>\n",
       "  </tbody>\n",
       "</table>\n",
       "</div>"
      ],
      "text/plain": [
       "       val1      val2      val3      val4      val5\n",
       "A  2.706850  0.628133  0.907969  0.503826  0.651118\n",
       "B -0.319318 -0.848077  0.605965 -2.018168  0.740122\n",
       "C  0.528813 -0.589001  0.188695 -0.758872 -0.933237\n",
       "D  0.955057  0.190794  1.978757  2.605967  0.683509\n",
       "E  0.302665  1.693723 -1.706086 -1.159119 -0.134841\n",
       "F  0.390528  0.166905  0.184502  0.807706  0.072960"
      ]
     },
     "execution_count": 93,
     "metadata": {},
     "output_type": "execute_result"
    }
   ],
   "source": [
    "df"
   ]
  },
  {
   "cell_type": "markdown",
   "id": "897f2b3d",
   "metadata": {},
   "source": [
    "# Another example of dataframe"
   ]
  },
  {
   "cell_type": "code",
   "execution_count": 94,
   "id": "d7ad126e",
   "metadata": {},
   "outputs": [],
   "source": [
    "import numpy as np\n",
    "import pandas as pd"
   ]
  },
  {
   "cell_type": "code",
   "execution_count": 96,
   "id": "5aabeeec",
   "metadata": {},
   "outputs": [],
   "source": [
    "np.random.seed(10)"
   ]
  },
  {
   "cell_type": "code",
   "execution_count": 97,
   "id": "9a96367e",
   "metadata": {},
   "outputs": [],
   "source": [
    "my_data = np.random.randn(6,6)"
   ]
  },
  {
   "cell_type": "code",
   "execution_count": 99,
   "id": "d7c92289",
   "metadata": {},
   "outputs": [],
   "source": [
    "index = \"1,2,3,4,5,6\".split(',')"
   ]
  },
  {
   "cell_type": "code",
   "execution_count": 100,
   "id": "bae2ab42",
   "metadata": {},
   "outputs": [],
   "source": [
    "columns = \"first,second,third,fourth,fifth,sixth\".split(',')"
   ]
  },
  {
   "cell_type": "code",
   "execution_count": 101,
   "id": "bef6e89d",
   "metadata": {},
   "outputs": [],
   "source": [
    "df = pd.DataFrame(data=my_data, index=index, columns=columns)"
   ]
  },
  {
   "cell_type": "code",
   "execution_count": 102,
   "id": "cfe91357",
   "metadata": {},
   "outputs": [
    {
     "data": {
      "text/html": [
       "<div>\n",
       "<style scoped>\n",
       "    .dataframe tbody tr th:only-of-type {\n",
       "        vertical-align: middle;\n",
       "    }\n",
       "\n",
       "    .dataframe tbody tr th {\n",
       "        vertical-align: top;\n",
       "    }\n",
       "\n",
       "    .dataframe thead th {\n",
       "        text-align: right;\n",
       "    }\n",
       "</style>\n",
       "<table border=\"1\" class=\"dataframe\">\n",
       "  <thead>\n",
       "    <tr style=\"text-align: right;\">\n",
       "      <th></th>\n",
       "      <th>first</th>\n",
       "      <th>second</th>\n",
       "      <th>third</th>\n",
       "      <th>fourth</th>\n",
       "      <th>fifth</th>\n",
       "      <th>sixth</th>\n",
       "    </tr>\n",
       "  </thead>\n",
       "  <tbody>\n",
       "    <tr>\n",
       "      <th>1</th>\n",
       "      <td>1.331587</td>\n",
       "      <td>0.715279</td>\n",
       "      <td>-1.545400</td>\n",
       "      <td>-0.008384</td>\n",
       "      <td>0.621336</td>\n",
       "      <td>-0.720086</td>\n",
       "    </tr>\n",
       "    <tr>\n",
       "      <th>2</th>\n",
       "      <td>0.265512</td>\n",
       "      <td>0.108549</td>\n",
       "      <td>0.004291</td>\n",
       "      <td>-0.174600</td>\n",
       "      <td>0.433026</td>\n",
       "      <td>1.203037</td>\n",
       "    </tr>\n",
       "    <tr>\n",
       "      <th>3</th>\n",
       "      <td>-0.965066</td>\n",
       "      <td>1.028274</td>\n",
       "      <td>0.228630</td>\n",
       "      <td>0.445138</td>\n",
       "      <td>-1.136602</td>\n",
       "      <td>0.135137</td>\n",
       "    </tr>\n",
       "    <tr>\n",
       "      <th>4</th>\n",
       "      <td>1.484537</td>\n",
       "      <td>-1.079805</td>\n",
       "      <td>-1.977728</td>\n",
       "      <td>-1.743372</td>\n",
       "      <td>0.266070</td>\n",
       "      <td>2.384967</td>\n",
       "    </tr>\n",
       "    <tr>\n",
       "      <th>5</th>\n",
       "      <td>1.123691</td>\n",
       "      <td>1.672622</td>\n",
       "      <td>0.099149</td>\n",
       "      <td>1.397996</td>\n",
       "      <td>-0.271248</td>\n",
       "      <td>0.613204</td>\n",
       "    </tr>\n",
       "    <tr>\n",
       "      <th>6</th>\n",
       "      <td>-0.267317</td>\n",
       "      <td>-0.549309</td>\n",
       "      <td>0.132708</td>\n",
       "      <td>-0.476142</td>\n",
       "      <td>1.308473</td>\n",
       "      <td>0.195013</td>\n",
       "    </tr>\n",
       "  </tbody>\n",
       "</table>\n",
       "</div>"
      ],
      "text/plain": [
       "      first    second     third    fourth     fifth     sixth\n",
       "1  1.331587  0.715279 -1.545400 -0.008384  0.621336 -0.720086\n",
       "2  0.265512  0.108549  0.004291 -0.174600  0.433026  1.203037\n",
       "3 -0.965066  1.028274  0.228630  0.445138 -1.136602  0.135137\n",
       "4  1.484537 -1.079805 -1.977728 -1.743372  0.266070  2.384967\n",
       "5  1.123691  1.672622  0.099149  1.397996 -0.271248  0.613204\n",
       "6 -0.267317 -0.549309  0.132708 -0.476142  1.308473  0.195013"
      ]
     },
     "execution_count": 102,
     "metadata": {},
     "output_type": "execute_result"
    }
   ],
   "source": [
    "df"
   ]
  },
  {
   "cell_type": "markdown",
   "id": "fe5ad4ae",
   "metadata": {},
   "source": [
    "# One more example "
   ]
  },
  {
   "cell_type": "code",
   "execution_count": 103,
   "id": "749a9bd2",
   "metadata": {},
   "outputs": [],
   "source": [
    "import numpy as np\n",
    "import pandas as pd\n",
    "np.random.seed(99)"
   ]
  },
  {
   "cell_type": "code",
   "execution_count": 104,
   "id": "c94984c3",
   "metadata": {},
   "outputs": [],
   "source": [
    "new_data = np.random.randn(9,9)"
   ]
  },
  {
   "cell_type": "code",
   "execution_count": 106,
   "id": "0b3265f1",
   "metadata": {},
   "outputs": [],
   "source": [
    "index_used = \"1#2#3#4#5#6#7#8#9\".split('#')\n",
    "columns_used = \"col1#col2#col3#col4#col5#col6#col7#col8#col9\".split('#')"
   ]
  },
  {
   "cell_type": "code",
   "execution_count": 107,
   "id": "3304b9e9",
   "metadata": {},
   "outputs": [],
   "source": [
    "df = pd.DataFrame(data=new_data, index=index_used,columns=columns_used)"
   ]
  },
  {
   "cell_type": "code",
   "execution_count": 108,
   "id": "37d9076d",
   "metadata": {},
   "outputs": [
    {
     "data": {
      "text/html": [
       "<div>\n",
       "<style scoped>\n",
       "    .dataframe tbody tr th:only-of-type {\n",
       "        vertical-align: middle;\n",
       "    }\n",
       "\n",
       "    .dataframe tbody tr th {\n",
       "        vertical-align: top;\n",
       "    }\n",
       "\n",
       "    .dataframe thead th {\n",
       "        text-align: right;\n",
       "    }\n",
       "</style>\n",
       "<table border=\"1\" class=\"dataframe\">\n",
       "  <thead>\n",
       "    <tr style=\"text-align: right;\">\n",
       "      <th></th>\n",
       "      <th>col1</th>\n",
       "      <th>col2</th>\n",
       "      <th>col3</th>\n",
       "      <th>col4</th>\n",
       "      <th>col5</th>\n",
       "      <th>col6</th>\n",
       "      <th>col7</th>\n",
       "      <th>col8</th>\n",
       "      <th>col9</th>\n",
       "    </tr>\n",
       "  </thead>\n",
       "  <tbody>\n",
       "    <tr>\n",
       "      <th>1</th>\n",
       "      <td>-0.142359</td>\n",
       "      <td>2.057222</td>\n",
       "      <td>0.283262</td>\n",
       "      <td>1.329812</td>\n",
       "      <td>-0.154622</td>\n",
       "      <td>-0.069031</td>\n",
       "      <td>0.755180</td>\n",
       "      <td>0.825647</td>\n",
       "      <td>-0.113069</td>\n",
       "    </tr>\n",
       "    <tr>\n",
       "      <th>2</th>\n",
       "      <td>-2.367838</td>\n",
       "      <td>-0.167049</td>\n",
       "      <td>0.685398</td>\n",
       "      <td>0.023500</td>\n",
       "      <td>0.456201</td>\n",
       "      <td>0.270493</td>\n",
       "      <td>-1.435008</td>\n",
       "      <td>0.882817</td>\n",
       "      <td>-0.580082</td>\n",
       "    </tr>\n",
       "    <tr>\n",
       "      <th>3</th>\n",
       "      <td>-0.501565</td>\n",
       "      <td>0.590953</td>\n",
       "      <td>-0.731616</td>\n",
       "      <td>0.261755</td>\n",
       "      <td>-0.855796</td>\n",
       "      <td>-0.187526</td>\n",
       "      <td>-0.373486</td>\n",
       "      <td>-0.461971</td>\n",
       "      <td>-0.816466</td>\n",
       "    </tr>\n",
       "    <tr>\n",
       "      <th>4</th>\n",
       "      <td>-0.045123</td>\n",
       "      <td>0.121328</td>\n",
       "      <td>0.925953</td>\n",
       "      <td>-0.573820</td>\n",
       "      <td>0.052703</td>\n",
       "      <td>2.207311</td>\n",
       "      <td>0.391822</td>\n",
       "      <td>0.482713</td>\n",
       "      <td>0.433334</td>\n",
       "    </tr>\n",
       "    <tr>\n",
       "      <th>5</th>\n",
       "      <td>-1.704292</td>\n",
       "      <td>-0.243908</td>\n",
       "      <td>-2.139704</td>\n",
       "      <td>0.861323</td>\n",
       "      <td>1.700284</td>\n",
       "      <td>-0.528785</td>\n",
       "      <td>1.763478</td>\n",
       "      <td>-1.121608</td>\n",
       "      <td>-1.191934</td>\n",
       "    </tr>\n",
       "    <tr>\n",
       "      <th>6</th>\n",
       "      <td>0.552732</td>\n",
       "      <td>-0.815981</td>\n",
       "      <td>-0.496647</td>\n",
       "      <td>1.086226</td>\n",
       "      <td>-0.974675</td>\n",
       "      <td>-0.282136</td>\n",
       "      <td>-0.117214</td>\n",
       "      <td>0.378547</td>\n",
       "      <td>0.732195</td>\n",
       "    </tr>\n",
       "    <tr>\n",
       "      <th>7</th>\n",
       "      <td>-0.103571</td>\n",
       "      <td>-1.198706</td>\n",
       "      <td>1.010036</td>\n",
       "      <td>2.875360</td>\n",
       "      <td>0.820313</td>\n",
       "      <td>0.560612</td>\n",
       "      <td>-0.375642</td>\n",
       "      <td>-0.252104</td>\n",
       "      <td>-1.389613</td>\n",
       "    </tr>\n",
       "    <tr>\n",
       "      <th>8</th>\n",
       "      <td>0.617332</td>\n",
       "      <td>-0.135787</td>\n",
       "      <td>1.287905</td>\n",
       "      <td>-1.036994</td>\n",
       "      <td>1.364332</td>\n",
       "      <td>-0.309957</td>\n",
       "      <td>-0.611117</td>\n",
       "      <td>-0.483106</td>\n",
       "      <td>-0.608984</td>\n",
       "    </tr>\n",
       "    <tr>\n",
       "      <th>9</th>\n",
       "      <td>-2.088335</td>\n",
       "      <td>0.639322</td>\n",
       "      <td>0.774304</td>\n",
       "      <td>1.278569</td>\n",
       "      <td>0.705276</td>\n",
       "      <td>0.655977</td>\n",
       "      <td>-1.678502</td>\n",
       "      <td>0.183110</td>\n",
       "      <td>-1.133224</td>\n",
       "    </tr>\n",
       "  </tbody>\n",
       "</table>\n",
       "</div>"
      ],
      "text/plain": [
       "       col1      col2      col3      col4      col5      col6      col7  \\\n",
       "1 -0.142359  2.057222  0.283262  1.329812 -0.154622 -0.069031  0.755180   \n",
       "2 -2.367838 -0.167049  0.685398  0.023500  0.456201  0.270493 -1.435008   \n",
       "3 -0.501565  0.590953 -0.731616  0.261755 -0.855796 -0.187526 -0.373486   \n",
       "4 -0.045123  0.121328  0.925953 -0.573820  0.052703  2.207311  0.391822   \n",
       "5 -1.704292 -0.243908 -2.139704  0.861323  1.700284 -0.528785  1.763478   \n",
       "6  0.552732 -0.815981 -0.496647  1.086226 -0.974675 -0.282136 -0.117214   \n",
       "7 -0.103571 -1.198706  1.010036  2.875360  0.820313  0.560612 -0.375642   \n",
       "8  0.617332 -0.135787  1.287905 -1.036994  1.364332 -0.309957 -0.611117   \n",
       "9 -2.088335  0.639322  0.774304  1.278569  0.705276  0.655977 -1.678502   \n",
       "\n",
       "       col8      col9  \n",
       "1  0.825647 -0.113069  \n",
       "2  0.882817 -0.580082  \n",
       "3 -0.461971 -0.816466  \n",
       "4  0.482713  0.433334  \n",
       "5 -1.121608 -1.191934  \n",
       "6  0.378547  0.732195  \n",
       "7 -0.252104 -1.389613  \n",
       "8 -0.483106 -0.608984  \n",
       "9  0.183110 -1.133224  "
      ]
     },
     "execution_count": 108,
     "metadata": {},
     "output_type": "execute_result"
    }
   ],
   "source": [
    "df"
   ]
  },
  {
   "cell_type": "code",
   "execution_count": 110,
   "id": "670dd704",
   "metadata": {},
   "outputs": [
    {
     "data": {
      "text/html": [
       "<div>\n",
       "<style scoped>\n",
       "    .dataframe tbody tr th:only-of-type {\n",
       "        vertical-align: middle;\n",
       "    }\n",
       "\n",
       "    .dataframe tbody tr th {\n",
       "        vertical-align: top;\n",
       "    }\n",
       "\n",
       "    .dataframe thead th {\n",
       "        text-align: right;\n",
       "    }\n",
       "</style>\n",
       "<table border=\"1\" class=\"dataframe\">\n",
       "  <thead>\n",
       "    <tr style=\"text-align: right;\">\n",
       "      <th></th>\n",
       "      <th>index</th>\n",
       "      <th>col1</th>\n",
       "      <th>col2</th>\n",
       "      <th>col3</th>\n",
       "      <th>col4</th>\n",
       "      <th>col5</th>\n",
       "      <th>col6</th>\n",
       "      <th>col7</th>\n",
       "      <th>col8</th>\n",
       "      <th>col9</th>\n",
       "    </tr>\n",
       "  </thead>\n",
       "  <tbody>\n",
       "    <tr>\n",
       "      <th>0</th>\n",
       "      <td>1</td>\n",
       "      <td>-0.142359</td>\n",
       "      <td>2.057222</td>\n",
       "      <td>0.283262</td>\n",
       "      <td>1.329812</td>\n",
       "      <td>-0.154622</td>\n",
       "      <td>-0.069031</td>\n",
       "      <td>0.755180</td>\n",
       "      <td>0.825647</td>\n",
       "      <td>-0.113069</td>\n",
       "    </tr>\n",
       "    <tr>\n",
       "      <th>1</th>\n",
       "      <td>2</td>\n",
       "      <td>-2.367838</td>\n",
       "      <td>-0.167049</td>\n",
       "      <td>0.685398</td>\n",
       "      <td>0.023500</td>\n",
       "      <td>0.456201</td>\n",
       "      <td>0.270493</td>\n",
       "      <td>-1.435008</td>\n",
       "      <td>0.882817</td>\n",
       "      <td>-0.580082</td>\n",
       "    </tr>\n",
       "    <tr>\n",
       "      <th>2</th>\n",
       "      <td>3</td>\n",
       "      <td>-0.501565</td>\n",
       "      <td>0.590953</td>\n",
       "      <td>-0.731616</td>\n",
       "      <td>0.261755</td>\n",
       "      <td>-0.855796</td>\n",
       "      <td>-0.187526</td>\n",
       "      <td>-0.373486</td>\n",
       "      <td>-0.461971</td>\n",
       "      <td>-0.816466</td>\n",
       "    </tr>\n",
       "    <tr>\n",
       "      <th>3</th>\n",
       "      <td>4</td>\n",
       "      <td>-0.045123</td>\n",
       "      <td>0.121328</td>\n",
       "      <td>0.925953</td>\n",
       "      <td>-0.573820</td>\n",
       "      <td>0.052703</td>\n",
       "      <td>2.207311</td>\n",
       "      <td>0.391822</td>\n",
       "      <td>0.482713</td>\n",
       "      <td>0.433334</td>\n",
       "    </tr>\n",
       "    <tr>\n",
       "      <th>4</th>\n",
       "      <td>5</td>\n",
       "      <td>-1.704292</td>\n",
       "      <td>-0.243908</td>\n",
       "      <td>-2.139704</td>\n",
       "      <td>0.861323</td>\n",
       "      <td>1.700284</td>\n",
       "      <td>-0.528785</td>\n",
       "      <td>1.763478</td>\n",
       "      <td>-1.121608</td>\n",
       "      <td>-1.191934</td>\n",
       "    </tr>\n",
       "    <tr>\n",
       "      <th>5</th>\n",
       "      <td>6</td>\n",
       "      <td>0.552732</td>\n",
       "      <td>-0.815981</td>\n",
       "      <td>-0.496647</td>\n",
       "      <td>1.086226</td>\n",
       "      <td>-0.974675</td>\n",
       "      <td>-0.282136</td>\n",
       "      <td>-0.117214</td>\n",
       "      <td>0.378547</td>\n",
       "      <td>0.732195</td>\n",
       "    </tr>\n",
       "    <tr>\n",
       "      <th>6</th>\n",
       "      <td>7</td>\n",
       "      <td>-0.103571</td>\n",
       "      <td>-1.198706</td>\n",
       "      <td>1.010036</td>\n",
       "      <td>2.875360</td>\n",
       "      <td>0.820313</td>\n",
       "      <td>0.560612</td>\n",
       "      <td>-0.375642</td>\n",
       "      <td>-0.252104</td>\n",
       "      <td>-1.389613</td>\n",
       "    </tr>\n",
       "    <tr>\n",
       "      <th>7</th>\n",
       "      <td>8</td>\n",
       "      <td>0.617332</td>\n",
       "      <td>-0.135787</td>\n",
       "      <td>1.287905</td>\n",
       "      <td>-1.036994</td>\n",
       "      <td>1.364332</td>\n",
       "      <td>-0.309957</td>\n",
       "      <td>-0.611117</td>\n",
       "      <td>-0.483106</td>\n",
       "      <td>-0.608984</td>\n",
       "    </tr>\n",
       "    <tr>\n",
       "      <th>8</th>\n",
       "      <td>9</td>\n",
       "      <td>-2.088335</td>\n",
       "      <td>0.639322</td>\n",
       "      <td>0.774304</td>\n",
       "      <td>1.278569</td>\n",
       "      <td>0.705276</td>\n",
       "      <td>0.655977</td>\n",
       "      <td>-1.678502</td>\n",
       "      <td>0.183110</td>\n",
       "      <td>-1.133224</td>\n",
       "    </tr>\n",
       "  </tbody>\n",
       "</table>\n",
       "</div>"
      ],
      "text/plain": [
       "  index      col1      col2      col3      col4      col5      col6      col7  \\\n",
       "0     1 -0.142359  2.057222  0.283262  1.329812 -0.154622 -0.069031  0.755180   \n",
       "1     2 -2.367838 -0.167049  0.685398  0.023500  0.456201  0.270493 -1.435008   \n",
       "2     3 -0.501565  0.590953 -0.731616  0.261755 -0.855796 -0.187526 -0.373486   \n",
       "3     4 -0.045123  0.121328  0.925953 -0.573820  0.052703  2.207311  0.391822   \n",
       "4     5 -1.704292 -0.243908 -2.139704  0.861323  1.700284 -0.528785  1.763478   \n",
       "5     6  0.552732 -0.815981 -0.496647  1.086226 -0.974675 -0.282136 -0.117214   \n",
       "6     7 -0.103571 -1.198706  1.010036  2.875360  0.820313  0.560612 -0.375642   \n",
       "7     8  0.617332 -0.135787  1.287905 -1.036994  1.364332 -0.309957 -0.611117   \n",
       "8     9 -2.088335  0.639322  0.774304  1.278569  0.705276  0.655977 -1.678502   \n",
       "\n",
       "       col8      col9  \n",
       "0  0.825647 -0.113069  \n",
       "1  0.882817 -0.580082  \n",
       "2 -0.461971 -0.816466  \n",
       "3  0.482713  0.433334  \n",
       "4 -1.121608 -1.191934  \n",
       "5  0.378547  0.732195  \n",
       "6 -0.252104 -1.389613  \n",
       "7 -0.483106 -0.608984  \n",
       "8  0.183110 -1.133224  "
      ]
     },
     "execution_count": 110,
     "metadata": {},
     "output_type": "execute_result"
    }
   ],
   "source": [
    "#This transforms the index of the df starting from 0 and goes up\n",
    "df.reset_index()"
   ]
  },
  {
   "cell_type": "code",
   "execution_count": 111,
   "id": "3fc55e0d",
   "metadata": {},
   "outputs": [
    {
     "data": {
      "text/html": [
       "<div>\n",
       "<style scoped>\n",
       "    .dataframe tbody tr th:only-of-type {\n",
       "        vertical-align: middle;\n",
       "    }\n",
       "\n",
       "    .dataframe tbody tr th {\n",
       "        vertical-align: top;\n",
       "    }\n",
       "\n",
       "    .dataframe thead th {\n",
       "        text-align: right;\n",
       "    }\n",
       "</style>\n",
       "<table border=\"1\" class=\"dataframe\">\n",
       "  <thead>\n",
       "    <tr style=\"text-align: right;\">\n",
       "      <th></th>\n",
       "      <th>col1</th>\n",
       "      <th>col2</th>\n",
       "      <th>col3</th>\n",
       "      <th>col4</th>\n",
       "      <th>col5</th>\n",
       "      <th>col6</th>\n",
       "      <th>col7</th>\n",
       "      <th>col8</th>\n",
       "      <th>col9</th>\n",
       "    </tr>\n",
       "  </thead>\n",
       "  <tbody>\n",
       "    <tr>\n",
       "      <th>1</th>\n",
       "      <td>-0.142359</td>\n",
       "      <td>2.057222</td>\n",
       "      <td>0.283262</td>\n",
       "      <td>1.329812</td>\n",
       "      <td>-0.154622</td>\n",
       "      <td>-0.069031</td>\n",
       "      <td>0.755180</td>\n",
       "      <td>0.825647</td>\n",
       "      <td>-0.113069</td>\n",
       "    </tr>\n",
       "    <tr>\n",
       "      <th>2</th>\n",
       "      <td>-2.367838</td>\n",
       "      <td>-0.167049</td>\n",
       "      <td>0.685398</td>\n",
       "      <td>0.023500</td>\n",
       "      <td>0.456201</td>\n",
       "      <td>0.270493</td>\n",
       "      <td>-1.435008</td>\n",
       "      <td>0.882817</td>\n",
       "      <td>-0.580082</td>\n",
       "    </tr>\n",
       "    <tr>\n",
       "      <th>3</th>\n",
       "      <td>-0.501565</td>\n",
       "      <td>0.590953</td>\n",
       "      <td>-0.731616</td>\n",
       "      <td>0.261755</td>\n",
       "      <td>-0.855796</td>\n",
       "      <td>-0.187526</td>\n",
       "      <td>-0.373486</td>\n",
       "      <td>-0.461971</td>\n",
       "      <td>-0.816466</td>\n",
       "    </tr>\n",
       "    <tr>\n",
       "      <th>4</th>\n",
       "      <td>-0.045123</td>\n",
       "      <td>0.121328</td>\n",
       "      <td>0.925953</td>\n",
       "      <td>-0.573820</td>\n",
       "      <td>0.052703</td>\n",
       "      <td>2.207311</td>\n",
       "      <td>0.391822</td>\n",
       "      <td>0.482713</td>\n",
       "      <td>0.433334</td>\n",
       "    </tr>\n",
       "    <tr>\n",
       "      <th>5</th>\n",
       "      <td>-1.704292</td>\n",
       "      <td>-0.243908</td>\n",
       "      <td>-2.139704</td>\n",
       "      <td>0.861323</td>\n",
       "      <td>1.700284</td>\n",
       "      <td>-0.528785</td>\n",
       "      <td>1.763478</td>\n",
       "      <td>-1.121608</td>\n",
       "      <td>-1.191934</td>\n",
       "    </tr>\n",
       "    <tr>\n",
       "      <th>6</th>\n",
       "      <td>0.552732</td>\n",
       "      <td>-0.815981</td>\n",
       "      <td>-0.496647</td>\n",
       "      <td>1.086226</td>\n",
       "      <td>-0.974675</td>\n",
       "      <td>-0.282136</td>\n",
       "      <td>-0.117214</td>\n",
       "      <td>0.378547</td>\n",
       "      <td>0.732195</td>\n",
       "    </tr>\n",
       "    <tr>\n",
       "      <th>7</th>\n",
       "      <td>-0.103571</td>\n",
       "      <td>-1.198706</td>\n",
       "      <td>1.010036</td>\n",
       "      <td>2.875360</td>\n",
       "      <td>0.820313</td>\n",
       "      <td>0.560612</td>\n",
       "      <td>-0.375642</td>\n",
       "      <td>-0.252104</td>\n",
       "      <td>-1.389613</td>\n",
       "    </tr>\n",
       "    <tr>\n",
       "      <th>8</th>\n",
       "      <td>0.617332</td>\n",
       "      <td>-0.135787</td>\n",
       "      <td>1.287905</td>\n",
       "      <td>-1.036994</td>\n",
       "      <td>1.364332</td>\n",
       "      <td>-0.309957</td>\n",
       "      <td>-0.611117</td>\n",
       "      <td>-0.483106</td>\n",
       "      <td>-0.608984</td>\n",
       "    </tr>\n",
       "    <tr>\n",
       "      <th>9</th>\n",
       "      <td>-2.088335</td>\n",
       "      <td>0.639322</td>\n",
       "      <td>0.774304</td>\n",
       "      <td>1.278569</td>\n",
       "      <td>0.705276</td>\n",
       "      <td>0.655977</td>\n",
       "      <td>-1.678502</td>\n",
       "      <td>0.183110</td>\n",
       "      <td>-1.133224</td>\n",
       "    </tr>\n",
       "  </tbody>\n",
       "</table>\n",
       "</div>"
      ],
      "text/plain": [
       "       col1      col2      col3      col4      col5      col6      col7  \\\n",
       "1 -0.142359  2.057222  0.283262  1.329812 -0.154622 -0.069031  0.755180   \n",
       "2 -2.367838 -0.167049  0.685398  0.023500  0.456201  0.270493 -1.435008   \n",
       "3 -0.501565  0.590953 -0.731616  0.261755 -0.855796 -0.187526 -0.373486   \n",
       "4 -0.045123  0.121328  0.925953 -0.573820  0.052703  2.207311  0.391822   \n",
       "5 -1.704292 -0.243908 -2.139704  0.861323  1.700284 -0.528785  1.763478   \n",
       "6  0.552732 -0.815981 -0.496647  1.086226 -0.974675 -0.282136 -0.117214   \n",
       "7 -0.103571 -1.198706  1.010036  2.875360  0.820313  0.560612 -0.375642   \n",
       "8  0.617332 -0.135787  1.287905 -1.036994  1.364332 -0.309957 -0.611117   \n",
       "9 -2.088335  0.639322  0.774304  1.278569  0.705276  0.655977 -1.678502   \n",
       "\n",
       "       col8      col9  \n",
       "1  0.825647 -0.113069  \n",
       "2  0.882817 -0.580082  \n",
       "3 -0.461971 -0.816466  \n",
       "4  0.482713  0.433334  \n",
       "5 -1.121608 -1.191934  \n",
       "6  0.378547  0.732195  \n",
       "7 -0.252104 -1.389613  \n",
       "8 -0.483106 -0.608984  \n",
       "9  0.183110 -1.133224  "
      ]
     },
     "execution_count": 111,
     "metadata": {},
     "output_type": "execute_result"
    }
   ],
   "source": [
    "df"
   ]
  },
  {
   "cell_type": "code",
   "execution_count": 112,
   "id": "60ae57e2",
   "metadata": {},
   "outputs": [
    {
     "data": {
      "text/html": [
       "<div>\n",
       "<style scoped>\n",
       "    .dataframe tbody tr th:only-of-type {\n",
       "        vertical-align: middle;\n",
       "    }\n",
       "\n",
       "    .dataframe tbody tr th {\n",
       "        vertical-align: top;\n",
       "    }\n",
       "\n",
       "    .dataframe thead th {\n",
       "        text-align: right;\n",
       "    }\n",
       "</style>\n",
       "<table border=\"1\" class=\"dataframe\">\n",
       "  <thead>\n",
       "    <tr style=\"text-align: right;\">\n",
       "      <th></th>\n",
       "      <th>col1</th>\n",
       "      <th>col2</th>\n",
       "      <th>col3</th>\n",
       "      <th>col4</th>\n",
       "      <th>col5</th>\n",
       "      <th>col6</th>\n",
       "      <th>col7</th>\n",
       "      <th>col8</th>\n",
       "      <th>col9</th>\n",
       "    </tr>\n",
       "  </thead>\n",
       "  <tbody>\n",
       "    <tr>\n",
       "      <th>0</th>\n",
       "      <td>-0.142359</td>\n",
       "      <td>2.057222</td>\n",
       "      <td>0.283262</td>\n",
       "      <td>1.329812</td>\n",
       "      <td>-0.154622</td>\n",
       "      <td>-0.069031</td>\n",
       "      <td>0.755180</td>\n",
       "      <td>0.825647</td>\n",
       "      <td>-0.113069</td>\n",
       "    </tr>\n",
       "    <tr>\n",
       "      <th>1</th>\n",
       "      <td>-2.367838</td>\n",
       "      <td>-0.167049</td>\n",
       "      <td>0.685398</td>\n",
       "      <td>0.023500</td>\n",
       "      <td>0.456201</td>\n",
       "      <td>0.270493</td>\n",
       "      <td>-1.435008</td>\n",
       "      <td>0.882817</td>\n",
       "      <td>-0.580082</td>\n",
       "    </tr>\n",
       "    <tr>\n",
       "      <th>2</th>\n",
       "      <td>-0.501565</td>\n",
       "      <td>0.590953</td>\n",
       "      <td>-0.731616</td>\n",
       "      <td>0.261755</td>\n",
       "      <td>-0.855796</td>\n",
       "      <td>-0.187526</td>\n",
       "      <td>-0.373486</td>\n",
       "      <td>-0.461971</td>\n",
       "      <td>-0.816466</td>\n",
       "    </tr>\n",
       "    <tr>\n",
       "      <th>3</th>\n",
       "      <td>-0.045123</td>\n",
       "      <td>0.121328</td>\n",
       "      <td>0.925953</td>\n",
       "      <td>-0.573820</td>\n",
       "      <td>0.052703</td>\n",
       "      <td>2.207311</td>\n",
       "      <td>0.391822</td>\n",
       "      <td>0.482713</td>\n",
       "      <td>0.433334</td>\n",
       "    </tr>\n",
       "    <tr>\n",
       "      <th>4</th>\n",
       "      <td>-1.704292</td>\n",
       "      <td>-0.243908</td>\n",
       "      <td>-2.139704</td>\n",
       "      <td>0.861323</td>\n",
       "      <td>1.700284</td>\n",
       "      <td>-0.528785</td>\n",
       "      <td>1.763478</td>\n",
       "      <td>-1.121608</td>\n",
       "      <td>-1.191934</td>\n",
       "    </tr>\n",
       "    <tr>\n",
       "      <th>5</th>\n",
       "      <td>0.552732</td>\n",
       "      <td>-0.815981</td>\n",
       "      <td>-0.496647</td>\n",
       "      <td>1.086226</td>\n",
       "      <td>-0.974675</td>\n",
       "      <td>-0.282136</td>\n",
       "      <td>-0.117214</td>\n",
       "      <td>0.378547</td>\n",
       "      <td>0.732195</td>\n",
       "    </tr>\n",
       "    <tr>\n",
       "      <th>6</th>\n",
       "      <td>-0.103571</td>\n",
       "      <td>-1.198706</td>\n",
       "      <td>1.010036</td>\n",
       "      <td>2.875360</td>\n",
       "      <td>0.820313</td>\n",
       "      <td>0.560612</td>\n",
       "      <td>-0.375642</td>\n",
       "      <td>-0.252104</td>\n",
       "      <td>-1.389613</td>\n",
       "    </tr>\n",
       "    <tr>\n",
       "      <th>7</th>\n",
       "      <td>0.617332</td>\n",
       "      <td>-0.135787</td>\n",
       "      <td>1.287905</td>\n",
       "      <td>-1.036994</td>\n",
       "      <td>1.364332</td>\n",
       "      <td>-0.309957</td>\n",
       "      <td>-0.611117</td>\n",
       "      <td>-0.483106</td>\n",
       "      <td>-0.608984</td>\n",
       "    </tr>\n",
       "    <tr>\n",
       "      <th>8</th>\n",
       "      <td>-2.088335</td>\n",
       "      <td>0.639322</td>\n",
       "      <td>0.774304</td>\n",
       "      <td>1.278569</td>\n",
       "      <td>0.705276</td>\n",
       "      <td>0.655977</td>\n",
       "      <td>-1.678502</td>\n",
       "      <td>0.183110</td>\n",
       "      <td>-1.133224</td>\n",
       "    </tr>\n",
       "  </tbody>\n",
       "</table>\n",
       "</div>"
      ],
      "text/plain": [
       "       col1      col2      col3      col4      col5      col6      col7  \\\n",
       "0 -0.142359  2.057222  0.283262  1.329812 -0.154622 -0.069031  0.755180   \n",
       "1 -2.367838 -0.167049  0.685398  0.023500  0.456201  0.270493 -1.435008   \n",
       "2 -0.501565  0.590953 -0.731616  0.261755 -0.855796 -0.187526 -0.373486   \n",
       "3 -0.045123  0.121328  0.925953 -0.573820  0.052703  2.207311  0.391822   \n",
       "4 -1.704292 -0.243908 -2.139704  0.861323  1.700284 -0.528785  1.763478   \n",
       "5  0.552732 -0.815981 -0.496647  1.086226 -0.974675 -0.282136 -0.117214   \n",
       "6 -0.103571 -1.198706  1.010036  2.875360  0.820313  0.560612 -0.375642   \n",
       "7  0.617332 -0.135787  1.287905 -1.036994  1.364332 -0.309957 -0.611117   \n",
       "8 -2.088335  0.639322  0.774304  1.278569  0.705276  0.655977 -1.678502   \n",
       "\n",
       "       col8      col9  \n",
       "0  0.825647 -0.113069  \n",
       "1  0.882817 -0.580082  \n",
       "2 -0.461971 -0.816466  \n",
       "3  0.482713  0.433334  \n",
       "4 -1.121608 -1.191934  \n",
       "5  0.378547  0.732195  \n",
       "6 -0.252104 -1.389613  \n",
       "7 -0.483106 -0.608984  \n",
       "8  0.183110 -1.133224  "
      ]
     },
     "execution_count": 112,
     "metadata": {},
     "output_type": "execute_result"
    }
   ],
   "source": [
    "df.reset_index(drop=True)"
   ]
  },
  {
   "cell_type": "code",
   "execution_count": 113,
   "id": "c60aafe7",
   "metadata": {},
   "outputs": [
    {
     "data": {
      "text/html": [
       "<div>\n",
       "<style scoped>\n",
       "    .dataframe tbody tr th:only-of-type {\n",
       "        vertical-align: middle;\n",
       "    }\n",
       "\n",
       "    .dataframe tbody tr th {\n",
       "        vertical-align: top;\n",
       "    }\n",
       "\n",
       "    .dataframe thead th {\n",
       "        text-align: right;\n",
       "    }\n",
       "</style>\n",
       "<table border=\"1\" class=\"dataframe\">\n",
       "  <thead>\n",
       "    <tr style=\"text-align: right;\">\n",
       "      <th></th>\n",
       "      <th>col1</th>\n",
       "      <th>col2</th>\n",
       "      <th>col3</th>\n",
       "      <th>col4</th>\n",
       "      <th>col5</th>\n",
       "      <th>col6</th>\n",
       "      <th>col7</th>\n",
       "      <th>col8</th>\n",
       "      <th>col9</th>\n",
       "    </tr>\n",
       "  </thead>\n",
       "  <tbody>\n",
       "    <tr>\n",
       "      <th>1</th>\n",
       "      <td>-0.142359</td>\n",
       "      <td>2.057222</td>\n",
       "      <td>0.283262</td>\n",
       "      <td>1.329812</td>\n",
       "      <td>-0.154622</td>\n",
       "      <td>-0.069031</td>\n",
       "      <td>0.755180</td>\n",
       "      <td>0.825647</td>\n",
       "      <td>-0.113069</td>\n",
       "    </tr>\n",
       "    <tr>\n",
       "      <th>2</th>\n",
       "      <td>-2.367838</td>\n",
       "      <td>-0.167049</td>\n",
       "      <td>0.685398</td>\n",
       "      <td>0.023500</td>\n",
       "      <td>0.456201</td>\n",
       "      <td>0.270493</td>\n",
       "      <td>-1.435008</td>\n",
       "      <td>0.882817</td>\n",
       "      <td>-0.580082</td>\n",
       "    </tr>\n",
       "    <tr>\n",
       "      <th>3</th>\n",
       "      <td>-0.501565</td>\n",
       "      <td>0.590953</td>\n",
       "      <td>-0.731616</td>\n",
       "      <td>0.261755</td>\n",
       "      <td>-0.855796</td>\n",
       "      <td>-0.187526</td>\n",
       "      <td>-0.373486</td>\n",
       "      <td>-0.461971</td>\n",
       "      <td>-0.816466</td>\n",
       "    </tr>\n",
       "    <tr>\n",
       "      <th>4</th>\n",
       "      <td>-0.045123</td>\n",
       "      <td>0.121328</td>\n",
       "      <td>0.925953</td>\n",
       "      <td>-0.573820</td>\n",
       "      <td>0.052703</td>\n",
       "      <td>2.207311</td>\n",
       "      <td>0.391822</td>\n",
       "      <td>0.482713</td>\n",
       "      <td>0.433334</td>\n",
       "    </tr>\n",
       "    <tr>\n",
       "      <th>5</th>\n",
       "      <td>-1.704292</td>\n",
       "      <td>-0.243908</td>\n",
       "      <td>-2.139704</td>\n",
       "      <td>0.861323</td>\n",
       "      <td>1.700284</td>\n",
       "      <td>-0.528785</td>\n",
       "      <td>1.763478</td>\n",
       "      <td>-1.121608</td>\n",
       "      <td>-1.191934</td>\n",
       "    </tr>\n",
       "    <tr>\n",
       "      <th>6</th>\n",
       "      <td>0.552732</td>\n",
       "      <td>-0.815981</td>\n",
       "      <td>-0.496647</td>\n",
       "      <td>1.086226</td>\n",
       "      <td>-0.974675</td>\n",
       "      <td>-0.282136</td>\n",
       "      <td>-0.117214</td>\n",
       "      <td>0.378547</td>\n",
       "      <td>0.732195</td>\n",
       "    </tr>\n",
       "    <tr>\n",
       "      <th>7</th>\n",
       "      <td>-0.103571</td>\n",
       "      <td>-1.198706</td>\n",
       "      <td>1.010036</td>\n",
       "      <td>2.875360</td>\n",
       "      <td>0.820313</td>\n",
       "      <td>0.560612</td>\n",
       "      <td>-0.375642</td>\n",
       "      <td>-0.252104</td>\n",
       "      <td>-1.389613</td>\n",
       "    </tr>\n",
       "    <tr>\n",
       "      <th>8</th>\n",
       "      <td>0.617332</td>\n",
       "      <td>-0.135787</td>\n",
       "      <td>1.287905</td>\n",
       "      <td>-1.036994</td>\n",
       "      <td>1.364332</td>\n",
       "      <td>-0.309957</td>\n",
       "      <td>-0.611117</td>\n",
       "      <td>-0.483106</td>\n",
       "      <td>-0.608984</td>\n",
       "    </tr>\n",
       "    <tr>\n",
       "      <th>9</th>\n",
       "      <td>-2.088335</td>\n",
       "      <td>0.639322</td>\n",
       "      <td>0.774304</td>\n",
       "      <td>1.278569</td>\n",
       "      <td>0.705276</td>\n",
       "      <td>0.655977</td>\n",
       "      <td>-1.678502</td>\n",
       "      <td>0.183110</td>\n",
       "      <td>-1.133224</td>\n",
       "    </tr>\n",
       "  </tbody>\n",
       "</table>\n",
       "</div>"
      ],
      "text/plain": [
       "       col1      col2      col3      col4      col5      col6      col7  \\\n",
       "1 -0.142359  2.057222  0.283262  1.329812 -0.154622 -0.069031  0.755180   \n",
       "2 -2.367838 -0.167049  0.685398  0.023500  0.456201  0.270493 -1.435008   \n",
       "3 -0.501565  0.590953 -0.731616  0.261755 -0.855796 -0.187526 -0.373486   \n",
       "4 -0.045123  0.121328  0.925953 -0.573820  0.052703  2.207311  0.391822   \n",
       "5 -1.704292 -0.243908 -2.139704  0.861323  1.700284 -0.528785  1.763478   \n",
       "6  0.552732 -0.815981 -0.496647  1.086226 -0.974675 -0.282136 -0.117214   \n",
       "7 -0.103571 -1.198706  1.010036  2.875360  0.820313  0.560612 -0.375642   \n",
       "8  0.617332 -0.135787  1.287905 -1.036994  1.364332 -0.309957 -0.611117   \n",
       "9 -2.088335  0.639322  0.774304  1.278569  0.705276  0.655977 -1.678502   \n",
       "\n",
       "       col8      col9  \n",
       "1  0.825647 -0.113069  \n",
       "2  0.882817 -0.580082  \n",
       "3 -0.461971 -0.816466  \n",
       "4  0.482713  0.433334  \n",
       "5 -1.121608 -1.191934  \n",
       "6  0.378547  0.732195  \n",
       "7 -0.252104 -1.389613  \n",
       "8 -0.483106 -0.608984  \n",
       "9  0.183110 -1.133224  "
      ]
     },
     "execution_count": 113,
     "metadata": {},
     "output_type": "execute_result"
    }
   ],
   "source": [
    "df"
   ]
  },
  {
   "cell_type": "code",
   "execution_count": 116,
   "id": "331704d7",
   "metadata": {},
   "outputs": [],
   "source": [
    "#inplace = True, basically changes the df permanently\n",
    "df.reset_index(inplace=True)"
   ]
  },
  {
   "cell_type": "code",
   "execution_count": 117,
   "id": "7350ac43",
   "metadata": {},
   "outputs": [
    {
     "data": {
      "text/html": [
       "<div>\n",
       "<style scoped>\n",
       "    .dataframe tbody tr th:only-of-type {\n",
       "        vertical-align: middle;\n",
       "    }\n",
       "\n",
       "    .dataframe tbody tr th {\n",
       "        vertical-align: top;\n",
       "    }\n",
       "\n",
       "    .dataframe thead th {\n",
       "        text-align: right;\n",
       "    }\n",
       "</style>\n",
       "<table border=\"1\" class=\"dataframe\">\n",
       "  <thead>\n",
       "    <tr style=\"text-align: right;\">\n",
       "      <th></th>\n",
       "      <th>level_0</th>\n",
       "      <th>index</th>\n",
       "      <th>col1</th>\n",
       "      <th>col2</th>\n",
       "      <th>col3</th>\n",
       "      <th>col4</th>\n",
       "      <th>col5</th>\n",
       "      <th>col6</th>\n",
       "      <th>col7</th>\n",
       "      <th>col8</th>\n",
       "      <th>col9</th>\n",
       "    </tr>\n",
       "  </thead>\n",
       "  <tbody>\n",
       "    <tr>\n",
       "      <th>0</th>\n",
       "      <td>0</td>\n",
       "      <td>1</td>\n",
       "      <td>-0.142359</td>\n",
       "      <td>2.057222</td>\n",
       "      <td>0.283262</td>\n",
       "      <td>1.329812</td>\n",
       "      <td>-0.154622</td>\n",
       "      <td>-0.069031</td>\n",
       "      <td>0.755180</td>\n",
       "      <td>0.825647</td>\n",
       "      <td>-0.113069</td>\n",
       "    </tr>\n",
       "    <tr>\n",
       "      <th>1</th>\n",
       "      <td>1</td>\n",
       "      <td>2</td>\n",
       "      <td>-2.367838</td>\n",
       "      <td>-0.167049</td>\n",
       "      <td>0.685398</td>\n",
       "      <td>0.023500</td>\n",
       "      <td>0.456201</td>\n",
       "      <td>0.270493</td>\n",
       "      <td>-1.435008</td>\n",
       "      <td>0.882817</td>\n",
       "      <td>-0.580082</td>\n",
       "    </tr>\n",
       "    <tr>\n",
       "      <th>2</th>\n",
       "      <td>2</td>\n",
       "      <td>3</td>\n",
       "      <td>-0.501565</td>\n",
       "      <td>0.590953</td>\n",
       "      <td>-0.731616</td>\n",
       "      <td>0.261755</td>\n",
       "      <td>-0.855796</td>\n",
       "      <td>-0.187526</td>\n",
       "      <td>-0.373486</td>\n",
       "      <td>-0.461971</td>\n",
       "      <td>-0.816466</td>\n",
       "    </tr>\n",
       "    <tr>\n",
       "      <th>3</th>\n",
       "      <td>3</td>\n",
       "      <td>4</td>\n",
       "      <td>-0.045123</td>\n",
       "      <td>0.121328</td>\n",
       "      <td>0.925953</td>\n",
       "      <td>-0.573820</td>\n",
       "      <td>0.052703</td>\n",
       "      <td>2.207311</td>\n",
       "      <td>0.391822</td>\n",
       "      <td>0.482713</td>\n",
       "      <td>0.433334</td>\n",
       "    </tr>\n",
       "    <tr>\n",
       "      <th>4</th>\n",
       "      <td>4</td>\n",
       "      <td>5</td>\n",
       "      <td>-1.704292</td>\n",
       "      <td>-0.243908</td>\n",
       "      <td>-2.139704</td>\n",
       "      <td>0.861323</td>\n",
       "      <td>1.700284</td>\n",
       "      <td>-0.528785</td>\n",
       "      <td>1.763478</td>\n",
       "      <td>-1.121608</td>\n",
       "      <td>-1.191934</td>\n",
       "    </tr>\n",
       "    <tr>\n",
       "      <th>5</th>\n",
       "      <td>5</td>\n",
       "      <td>6</td>\n",
       "      <td>0.552732</td>\n",
       "      <td>-0.815981</td>\n",
       "      <td>-0.496647</td>\n",
       "      <td>1.086226</td>\n",
       "      <td>-0.974675</td>\n",
       "      <td>-0.282136</td>\n",
       "      <td>-0.117214</td>\n",
       "      <td>0.378547</td>\n",
       "      <td>0.732195</td>\n",
       "    </tr>\n",
       "    <tr>\n",
       "      <th>6</th>\n",
       "      <td>6</td>\n",
       "      <td>7</td>\n",
       "      <td>-0.103571</td>\n",
       "      <td>-1.198706</td>\n",
       "      <td>1.010036</td>\n",
       "      <td>2.875360</td>\n",
       "      <td>0.820313</td>\n",
       "      <td>0.560612</td>\n",
       "      <td>-0.375642</td>\n",
       "      <td>-0.252104</td>\n",
       "      <td>-1.389613</td>\n",
       "    </tr>\n",
       "    <tr>\n",
       "      <th>7</th>\n",
       "      <td>7</td>\n",
       "      <td>8</td>\n",
       "      <td>0.617332</td>\n",
       "      <td>-0.135787</td>\n",
       "      <td>1.287905</td>\n",
       "      <td>-1.036994</td>\n",
       "      <td>1.364332</td>\n",
       "      <td>-0.309957</td>\n",
       "      <td>-0.611117</td>\n",
       "      <td>-0.483106</td>\n",
       "      <td>-0.608984</td>\n",
       "    </tr>\n",
       "    <tr>\n",
       "      <th>8</th>\n",
       "      <td>8</td>\n",
       "      <td>9</td>\n",
       "      <td>-2.088335</td>\n",
       "      <td>0.639322</td>\n",
       "      <td>0.774304</td>\n",
       "      <td>1.278569</td>\n",
       "      <td>0.705276</td>\n",
       "      <td>0.655977</td>\n",
       "      <td>-1.678502</td>\n",
       "      <td>0.183110</td>\n",
       "      <td>-1.133224</td>\n",
       "    </tr>\n",
       "  </tbody>\n",
       "</table>\n",
       "</div>"
      ],
      "text/plain": [
       "   level_0 index      col1      col2      col3      col4      col5      col6  \\\n",
       "0        0     1 -0.142359  2.057222  0.283262  1.329812 -0.154622 -0.069031   \n",
       "1        1     2 -2.367838 -0.167049  0.685398  0.023500  0.456201  0.270493   \n",
       "2        2     3 -0.501565  0.590953 -0.731616  0.261755 -0.855796 -0.187526   \n",
       "3        3     4 -0.045123  0.121328  0.925953 -0.573820  0.052703  2.207311   \n",
       "4        4     5 -1.704292 -0.243908 -2.139704  0.861323  1.700284 -0.528785   \n",
       "5        5     6  0.552732 -0.815981 -0.496647  1.086226 -0.974675 -0.282136   \n",
       "6        6     7 -0.103571 -1.198706  1.010036  2.875360  0.820313  0.560612   \n",
       "7        7     8  0.617332 -0.135787  1.287905 -1.036994  1.364332 -0.309957   \n",
       "8        8     9 -2.088335  0.639322  0.774304  1.278569  0.705276  0.655977   \n",
       "\n",
       "       col7      col8      col9  \n",
       "0  0.755180  0.825647 -0.113069  \n",
       "1 -1.435008  0.882817 -0.580082  \n",
       "2 -0.373486 -0.461971 -0.816466  \n",
       "3  0.391822  0.482713  0.433334  \n",
       "4  1.763478 -1.121608 -1.191934  \n",
       "5 -0.117214  0.378547  0.732195  \n",
       "6 -0.375642 -0.252104 -1.389613  \n",
       "7 -0.611117 -0.483106 -0.608984  \n",
       "8 -1.678502  0.183110 -1.133224  "
      ]
     },
     "execution_count": 117,
     "metadata": {},
     "output_type": "execute_result"
    }
   ],
   "source": [
    "df"
   ]
  },
  {
   "cell_type": "code",
   "execution_count": 118,
   "id": "dcbff7e9",
   "metadata": {},
   "outputs": [],
   "source": [
    "countries = \"Nepal Bhutan India Japan Denmark Korea England America Australia\""
   ]
  },
  {
   "cell_type": "code",
   "execution_count": 119,
   "id": "673d6385",
   "metadata": {},
   "outputs": [
    {
     "data": {
      "text/plain": [
       "['Nepal',\n",
       " 'Bhutan',\n",
       " 'India',\n",
       " 'Japan',\n",
       " 'Denmark',\n",
       " 'Korea',\n",
       " 'England',\n",
       " 'America',\n",
       " 'Australia']"
      ]
     },
     "execution_count": 119,
     "metadata": {},
     "output_type": "execute_result"
    }
   ],
   "source": [
    "countries.split()"
   ]
  },
  {
   "cell_type": "code",
   "execution_count": 120,
   "id": "1ad3357c",
   "metadata": {},
   "outputs": [
    {
     "data": {
      "text/plain": [
       "'Nepal Bhutan India Japan Denmark Korea England America Australia'"
      ]
     },
     "execution_count": 120,
     "metadata": {},
     "output_type": "execute_result"
    }
   ],
   "source": [
    "countries"
   ]
  },
  {
   "cell_type": "code",
   "execution_count": 121,
   "id": "beb8de15",
   "metadata": {},
   "outputs": [],
   "source": [
    "countries= countries.split()"
   ]
  },
  {
   "cell_type": "code",
   "execution_count": 122,
   "id": "cf5f8c73",
   "metadata": {},
   "outputs": [
    {
     "data": {
      "text/plain": [
       "['Nepal',\n",
       " 'Bhutan',\n",
       " 'India',\n",
       " 'Japan',\n",
       " 'Denmark',\n",
       " 'Korea',\n",
       " 'England',\n",
       " 'America',\n",
       " 'Australia']"
      ]
     },
     "execution_count": 122,
     "metadata": {},
     "output_type": "execute_result"
    }
   ],
   "source": [
    "countries\n"
   ]
  },
  {
   "cell_type": "code",
   "execution_count": 123,
   "id": "0902cf3a",
   "metadata": {},
   "outputs": [
    {
     "data": {
      "text/html": [
       "<div>\n",
       "<style scoped>\n",
       "    .dataframe tbody tr th:only-of-type {\n",
       "        vertical-align: middle;\n",
       "    }\n",
       "\n",
       "    .dataframe tbody tr th {\n",
       "        vertical-align: top;\n",
       "    }\n",
       "\n",
       "    .dataframe thead th {\n",
       "        text-align: right;\n",
       "    }\n",
       "</style>\n",
       "<table border=\"1\" class=\"dataframe\">\n",
       "  <thead>\n",
       "    <tr style=\"text-align: right;\">\n",
       "      <th></th>\n",
       "      <th>level_0</th>\n",
       "      <th>index</th>\n",
       "      <th>col1</th>\n",
       "      <th>col2</th>\n",
       "      <th>col3</th>\n",
       "      <th>col4</th>\n",
       "      <th>col5</th>\n",
       "      <th>col6</th>\n",
       "      <th>col7</th>\n",
       "      <th>col8</th>\n",
       "      <th>col9</th>\n",
       "    </tr>\n",
       "  </thead>\n",
       "  <tbody>\n",
       "    <tr>\n",
       "      <th>0</th>\n",
       "      <td>0</td>\n",
       "      <td>1</td>\n",
       "      <td>-0.142359</td>\n",
       "      <td>2.057222</td>\n",
       "      <td>0.283262</td>\n",
       "      <td>1.329812</td>\n",
       "      <td>-0.154622</td>\n",
       "      <td>-0.069031</td>\n",
       "      <td>0.755180</td>\n",
       "      <td>0.825647</td>\n",
       "      <td>-0.113069</td>\n",
       "    </tr>\n",
       "    <tr>\n",
       "      <th>1</th>\n",
       "      <td>1</td>\n",
       "      <td>2</td>\n",
       "      <td>-2.367838</td>\n",
       "      <td>-0.167049</td>\n",
       "      <td>0.685398</td>\n",
       "      <td>0.023500</td>\n",
       "      <td>0.456201</td>\n",
       "      <td>0.270493</td>\n",
       "      <td>-1.435008</td>\n",
       "      <td>0.882817</td>\n",
       "      <td>-0.580082</td>\n",
       "    </tr>\n",
       "    <tr>\n",
       "      <th>2</th>\n",
       "      <td>2</td>\n",
       "      <td>3</td>\n",
       "      <td>-0.501565</td>\n",
       "      <td>0.590953</td>\n",
       "      <td>-0.731616</td>\n",
       "      <td>0.261755</td>\n",
       "      <td>-0.855796</td>\n",
       "      <td>-0.187526</td>\n",
       "      <td>-0.373486</td>\n",
       "      <td>-0.461971</td>\n",
       "      <td>-0.816466</td>\n",
       "    </tr>\n",
       "    <tr>\n",
       "      <th>3</th>\n",
       "      <td>3</td>\n",
       "      <td>4</td>\n",
       "      <td>-0.045123</td>\n",
       "      <td>0.121328</td>\n",
       "      <td>0.925953</td>\n",
       "      <td>-0.573820</td>\n",
       "      <td>0.052703</td>\n",
       "      <td>2.207311</td>\n",
       "      <td>0.391822</td>\n",
       "      <td>0.482713</td>\n",
       "      <td>0.433334</td>\n",
       "    </tr>\n",
       "    <tr>\n",
       "      <th>4</th>\n",
       "      <td>4</td>\n",
       "      <td>5</td>\n",
       "      <td>-1.704292</td>\n",
       "      <td>-0.243908</td>\n",
       "      <td>-2.139704</td>\n",
       "      <td>0.861323</td>\n",
       "      <td>1.700284</td>\n",
       "      <td>-0.528785</td>\n",
       "      <td>1.763478</td>\n",
       "      <td>-1.121608</td>\n",
       "      <td>-1.191934</td>\n",
       "    </tr>\n",
       "    <tr>\n",
       "      <th>5</th>\n",
       "      <td>5</td>\n",
       "      <td>6</td>\n",
       "      <td>0.552732</td>\n",
       "      <td>-0.815981</td>\n",
       "      <td>-0.496647</td>\n",
       "      <td>1.086226</td>\n",
       "      <td>-0.974675</td>\n",
       "      <td>-0.282136</td>\n",
       "      <td>-0.117214</td>\n",
       "      <td>0.378547</td>\n",
       "      <td>0.732195</td>\n",
       "    </tr>\n",
       "    <tr>\n",
       "      <th>6</th>\n",
       "      <td>6</td>\n",
       "      <td>7</td>\n",
       "      <td>-0.103571</td>\n",
       "      <td>-1.198706</td>\n",
       "      <td>1.010036</td>\n",
       "      <td>2.875360</td>\n",
       "      <td>0.820313</td>\n",
       "      <td>0.560612</td>\n",
       "      <td>-0.375642</td>\n",
       "      <td>-0.252104</td>\n",
       "      <td>-1.389613</td>\n",
       "    </tr>\n",
       "    <tr>\n",
       "      <th>7</th>\n",
       "      <td>7</td>\n",
       "      <td>8</td>\n",
       "      <td>0.617332</td>\n",
       "      <td>-0.135787</td>\n",
       "      <td>1.287905</td>\n",
       "      <td>-1.036994</td>\n",
       "      <td>1.364332</td>\n",
       "      <td>-0.309957</td>\n",
       "      <td>-0.611117</td>\n",
       "      <td>-0.483106</td>\n",
       "      <td>-0.608984</td>\n",
       "    </tr>\n",
       "    <tr>\n",
       "      <th>8</th>\n",
       "      <td>8</td>\n",
       "      <td>9</td>\n",
       "      <td>-2.088335</td>\n",
       "      <td>0.639322</td>\n",
       "      <td>0.774304</td>\n",
       "      <td>1.278569</td>\n",
       "      <td>0.705276</td>\n",
       "      <td>0.655977</td>\n",
       "      <td>-1.678502</td>\n",
       "      <td>0.183110</td>\n",
       "      <td>-1.133224</td>\n",
       "    </tr>\n",
       "  </tbody>\n",
       "</table>\n",
       "</div>"
      ],
      "text/plain": [
       "   level_0 index      col1      col2      col3      col4      col5      col6  \\\n",
       "0        0     1 -0.142359  2.057222  0.283262  1.329812 -0.154622 -0.069031   \n",
       "1        1     2 -2.367838 -0.167049  0.685398  0.023500  0.456201  0.270493   \n",
       "2        2     3 -0.501565  0.590953 -0.731616  0.261755 -0.855796 -0.187526   \n",
       "3        3     4 -0.045123  0.121328  0.925953 -0.573820  0.052703  2.207311   \n",
       "4        4     5 -1.704292 -0.243908 -2.139704  0.861323  1.700284 -0.528785   \n",
       "5        5     6  0.552732 -0.815981 -0.496647  1.086226 -0.974675 -0.282136   \n",
       "6        6     7 -0.103571 -1.198706  1.010036  2.875360  0.820313  0.560612   \n",
       "7        7     8  0.617332 -0.135787  1.287905 -1.036994  1.364332 -0.309957   \n",
       "8        8     9 -2.088335  0.639322  0.774304  1.278569  0.705276  0.655977   \n",
       "\n",
       "       col7      col8      col9  \n",
       "0  0.755180  0.825647 -0.113069  \n",
       "1 -1.435008  0.882817 -0.580082  \n",
       "2 -0.373486 -0.461971 -0.816466  \n",
       "3  0.391822  0.482713  0.433334  \n",
       "4  1.763478 -1.121608 -1.191934  \n",
       "5 -0.117214  0.378547  0.732195  \n",
       "6 -0.375642 -0.252104 -1.389613  \n",
       "7 -0.611117 -0.483106 -0.608984  \n",
       "8 -1.678502  0.183110 -1.133224  "
      ]
     },
     "execution_count": 123,
     "metadata": {},
     "output_type": "execute_result"
    }
   ],
   "source": [
    "df"
   ]
  },
  {
   "cell_type": "code",
   "execution_count": 124,
   "id": "414a3cd4",
   "metadata": {},
   "outputs": [],
   "source": [
    "df[\"new_index\"] = countries"
   ]
  },
  {
   "cell_type": "code",
   "execution_count": 125,
   "id": "9f1c3447",
   "metadata": {},
   "outputs": [
    {
     "data": {
      "text/html": [
       "<div>\n",
       "<style scoped>\n",
       "    .dataframe tbody tr th:only-of-type {\n",
       "        vertical-align: middle;\n",
       "    }\n",
       "\n",
       "    .dataframe tbody tr th {\n",
       "        vertical-align: top;\n",
       "    }\n",
       "\n",
       "    .dataframe thead th {\n",
       "        text-align: right;\n",
       "    }\n",
       "</style>\n",
       "<table border=\"1\" class=\"dataframe\">\n",
       "  <thead>\n",
       "    <tr style=\"text-align: right;\">\n",
       "      <th></th>\n",
       "      <th>level_0</th>\n",
       "      <th>index</th>\n",
       "      <th>col1</th>\n",
       "      <th>col2</th>\n",
       "      <th>col3</th>\n",
       "      <th>col4</th>\n",
       "      <th>col5</th>\n",
       "      <th>col6</th>\n",
       "      <th>col7</th>\n",
       "      <th>col8</th>\n",
       "      <th>col9</th>\n",
       "      <th>new_index</th>\n",
       "    </tr>\n",
       "  </thead>\n",
       "  <tbody>\n",
       "    <tr>\n",
       "      <th>0</th>\n",
       "      <td>0</td>\n",
       "      <td>1</td>\n",
       "      <td>-0.142359</td>\n",
       "      <td>2.057222</td>\n",
       "      <td>0.283262</td>\n",
       "      <td>1.329812</td>\n",
       "      <td>-0.154622</td>\n",
       "      <td>-0.069031</td>\n",
       "      <td>0.755180</td>\n",
       "      <td>0.825647</td>\n",
       "      <td>-0.113069</td>\n",
       "      <td>Nepal</td>\n",
       "    </tr>\n",
       "    <tr>\n",
       "      <th>1</th>\n",
       "      <td>1</td>\n",
       "      <td>2</td>\n",
       "      <td>-2.367838</td>\n",
       "      <td>-0.167049</td>\n",
       "      <td>0.685398</td>\n",
       "      <td>0.023500</td>\n",
       "      <td>0.456201</td>\n",
       "      <td>0.270493</td>\n",
       "      <td>-1.435008</td>\n",
       "      <td>0.882817</td>\n",
       "      <td>-0.580082</td>\n",
       "      <td>Bhutan</td>\n",
       "    </tr>\n",
       "    <tr>\n",
       "      <th>2</th>\n",
       "      <td>2</td>\n",
       "      <td>3</td>\n",
       "      <td>-0.501565</td>\n",
       "      <td>0.590953</td>\n",
       "      <td>-0.731616</td>\n",
       "      <td>0.261755</td>\n",
       "      <td>-0.855796</td>\n",
       "      <td>-0.187526</td>\n",
       "      <td>-0.373486</td>\n",
       "      <td>-0.461971</td>\n",
       "      <td>-0.816466</td>\n",
       "      <td>India</td>\n",
       "    </tr>\n",
       "    <tr>\n",
       "      <th>3</th>\n",
       "      <td>3</td>\n",
       "      <td>4</td>\n",
       "      <td>-0.045123</td>\n",
       "      <td>0.121328</td>\n",
       "      <td>0.925953</td>\n",
       "      <td>-0.573820</td>\n",
       "      <td>0.052703</td>\n",
       "      <td>2.207311</td>\n",
       "      <td>0.391822</td>\n",
       "      <td>0.482713</td>\n",
       "      <td>0.433334</td>\n",
       "      <td>Japan</td>\n",
       "    </tr>\n",
       "    <tr>\n",
       "      <th>4</th>\n",
       "      <td>4</td>\n",
       "      <td>5</td>\n",
       "      <td>-1.704292</td>\n",
       "      <td>-0.243908</td>\n",
       "      <td>-2.139704</td>\n",
       "      <td>0.861323</td>\n",
       "      <td>1.700284</td>\n",
       "      <td>-0.528785</td>\n",
       "      <td>1.763478</td>\n",
       "      <td>-1.121608</td>\n",
       "      <td>-1.191934</td>\n",
       "      <td>Denmark</td>\n",
       "    </tr>\n",
       "    <tr>\n",
       "      <th>5</th>\n",
       "      <td>5</td>\n",
       "      <td>6</td>\n",
       "      <td>0.552732</td>\n",
       "      <td>-0.815981</td>\n",
       "      <td>-0.496647</td>\n",
       "      <td>1.086226</td>\n",
       "      <td>-0.974675</td>\n",
       "      <td>-0.282136</td>\n",
       "      <td>-0.117214</td>\n",
       "      <td>0.378547</td>\n",
       "      <td>0.732195</td>\n",
       "      <td>Korea</td>\n",
       "    </tr>\n",
       "    <tr>\n",
       "      <th>6</th>\n",
       "      <td>6</td>\n",
       "      <td>7</td>\n",
       "      <td>-0.103571</td>\n",
       "      <td>-1.198706</td>\n",
       "      <td>1.010036</td>\n",
       "      <td>2.875360</td>\n",
       "      <td>0.820313</td>\n",
       "      <td>0.560612</td>\n",
       "      <td>-0.375642</td>\n",
       "      <td>-0.252104</td>\n",
       "      <td>-1.389613</td>\n",
       "      <td>England</td>\n",
       "    </tr>\n",
       "    <tr>\n",
       "      <th>7</th>\n",
       "      <td>7</td>\n",
       "      <td>8</td>\n",
       "      <td>0.617332</td>\n",
       "      <td>-0.135787</td>\n",
       "      <td>1.287905</td>\n",
       "      <td>-1.036994</td>\n",
       "      <td>1.364332</td>\n",
       "      <td>-0.309957</td>\n",
       "      <td>-0.611117</td>\n",
       "      <td>-0.483106</td>\n",
       "      <td>-0.608984</td>\n",
       "      <td>America</td>\n",
       "    </tr>\n",
       "    <tr>\n",
       "      <th>8</th>\n",
       "      <td>8</td>\n",
       "      <td>9</td>\n",
       "      <td>-2.088335</td>\n",
       "      <td>0.639322</td>\n",
       "      <td>0.774304</td>\n",
       "      <td>1.278569</td>\n",
       "      <td>0.705276</td>\n",
       "      <td>0.655977</td>\n",
       "      <td>-1.678502</td>\n",
       "      <td>0.183110</td>\n",
       "      <td>-1.133224</td>\n",
       "      <td>Australia</td>\n",
       "    </tr>\n",
       "  </tbody>\n",
       "</table>\n",
       "</div>"
      ],
      "text/plain": [
       "   level_0 index      col1      col2      col3      col4      col5      col6  \\\n",
       "0        0     1 -0.142359  2.057222  0.283262  1.329812 -0.154622 -0.069031   \n",
       "1        1     2 -2.367838 -0.167049  0.685398  0.023500  0.456201  0.270493   \n",
       "2        2     3 -0.501565  0.590953 -0.731616  0.261755 -0.855796 -0.187526   \n",
       "3        3     4 -0.045123  0.121328  0.925953 -0.573820  0.052703  2.207311   \n",
       "4        4     5 -1.704292 -0.243908 -2.139704  0.861323  1.700284 -0.528785   \n",
       "5        5     6  0.552732 -0.815981 -0.496647  1.086226 -0.974675 -0.282136   \n",
       "6        6     7 -0.103571 -1.198706  1.010036  2.875360  0.820313  0.560612   \n",
       "7        7     8  0.617332 -0.135787  1.287905 -1.036994  1.364332 -0.309957   \n",
       "8        8     9 -2.088335  0.639322  0.774304  1.278569  0.705276  0.655977   \n",
       "\n",
       "       col7      col8      col9  new_index  \n",
       "0  0.755180  0.825647 -0.113069      Nepal  \n",
       "1 -1.435008  0.882817 -0.580082     Bhutan  \n",
       "2 -0.373486 -0.461971 -0.816466      India  \n",
       "3  0.391822  0.482713  0.433334      Japan  \n",
       "4  1.763478 -1.121608 -1.191934    Denmark  \n",
       "5 -0.117214  0.378547  0.732195      Korea  \n",
       "6 -0.375642 -0.252104 -1.389613    England  \n",
       "7 -0.611117 -0.483106 -0.608984    America  \n",
       "8 -1.678502  0.183110 -1.133224  Australia  "
      ]
     },
     "execution_count": 125,
     "metadata": {},
     "output_type": "execute_result"
    }
   ],
   "source": [
    "df"
   ]
  },
  {
   "cell_type": "code",
   "execution_count": 128,
   "id": "6d2916c4",
   "metadata": {},
   "outputs": [],
   "source": [
    "df.set_index('new_index',inplace=True)"
   ]
  },
  {
   "cell_type": "code",
   "execution_count": 129,
   "id": "55a33ab0",
   "metadata": {},
   "outputs": [
    {
     "data": {
      "text/html": [
       "<div>\n",
       "<style scoped>\n",
       "    .dataframe tbody tr th:only-of-type {\n",
       "        vertical-align: middle;\n",
       "    }\n",
       "\n",
       "    .dataframe tbody tr th {\n",
       "        vertical-align: top;\n",
       "    }\n",
       "\n",
       "    .dataframe thead th {\n",
       "        text-align: right;\n",
       "    }\n",
       "</style>\n",
       "<table border=\"1\" class=\"dataframe\">\n",
       "  <thead>\n",
       "    <tr style=\"text-align: right;\">\n",
       "      <th></th>\n",
       "      <th>level_0</th>\n",
       "      <th>index</th>\n",
       "      <th>col1</th>\n",
       "      <th>col2</th>\n",
       "      <th>col3</th>\n",
       "      <th>col4</th>\n",
       "      <th>col5</th>\n",
       "      <th>col6</th>\n",
       "      <th>col7</th>\n",
       "      <th>col8</th>\n",
       "      <th>col9</th>\n",
       "    </tr>\n",
       "    <tr>\n",
       "      <th>new_index</th>\n",
       "      <th></th>\n",
       "      <th></th>\n",
       "      <th></th>\n",
       "      <th></th>\n",
       "      <th></th>\n",
       "      <th></th>\n",
       "      <th></th>\n",
       "      <th></th>\n",
       "      <th></th>\n",
       "      <th></th>\n",
       "      <th></th>\n",
       "    </tr>\n",
       "  </thead>\n",
       "  <tbody>\n",
       "    <tr>\n",
       "      <th>Nepal</th>\n",
       "      <td>0</td>\n",
       "      <td>1</td>\n",
       "      <td>-0.142359</td>\n",
       "      <td>2.057222</td>\n",
       "      <td>0.283262</td>\n",
       "      <td>1.329812</td>\n",
       "      <td>-0.154622</td>\n",
       "      <td>-0.069031</td>\n",
       "      <td>0.755180</td>\n",
       "      <td>0.825647</td>\n",
       "      <td>-0.113069</td>\n",
       "    </tr>\n",
       "    <tr>\n",
       "      <th>Bhutan</th>\n",
       "      <td>1</td>\n",
       "      <td>2</td>\n",
       "      <td>-2.367838</td>\n",
       "      <td>-0.167049</td>\n",
       "      <td>0.685398</td>\n",
       "      <td>0.023500</td>\n",
       "      <td>0.456201</td>\n",
       "      <td>0.270493</td>\n",
       "      <td>-1.435008</td>\n",
       "      <td>0.882817</td>\n",
       "      <td>-0.580082</td>\n",
       "    </tr>\n",
       "    <tr>\n",
       "      <th>India</th>\n",
       "      <td>2</td>\n",
       "      <td>3</td>\n",
       "      <td>-0.501565</td>\n",
       "      <td>0.590953</td>\n",
       "      <td>-0.731616</td>\n",
       "      <td>0.261755</td>\n",
       "      <td>-0.855796</td>\n",
       "      <td>-0.187526</td>\n",
       "      <td>-0.373486</td>\n",
       "      <td>-0.461971</td>\n",
       "      <td>-0.816466</td>\n",
       "    </tr>\n",
       "    <tr>\n",
       "      <th>Japan</th>\n",
       "      <td>3</td>\n",
       "      <td>4</td>\n",
       "      <td>-0.045123</td>\n",
       "      <td>0.121328</td>\n",
       "      <td>0.925953</td>\n",
       "      <td>-0.573820</td>\n",
       "      <td>0.052703</td>\n",
       "      <td>2.207311</td>\n",
       "      <td>0.391822</td>\n",
       "      <td>0.482713</td>\n",
       "      <td>0.433334</td>\n",
       "    </tr>\n",
       "    <tr>\n",
       "      <th>Denmark</th>\n",
       "      <td>4</td>\n",
       "      <td>5</td>\n",
       "      <td>-1.704292</td>\n",
       "      <td>-0.243908</td>\n",
       "      <td>-2.139704</td>\n",
       "      <td>0.861323</td>\n",
       "      <td>1.700284</td>\n",
       "      <td>-0.528785</td>\n",
       "      <td>1.763478</td>\n",
       "      <td>-1.121608</td>\n",
       "      <td>-1.191934</td>\n",
       "    </tr>\n",
       "    <tr>\n",
       "      <th>Korea</th>\n",
       "      <td>5</td>\n",
       "      <td>6</td>\n",
       "      <td>0.552732</td>\n",
       "      <td>-0.815981</td>\n",
       "      <td>-0.496647</td>\n",
       "      <td>1.086226</td>\n",
       "      <td>-0.974675</td>\n",
       "      <td>-0.282136</td>\n",
       "      <td>-0.117214</td>\n",
       "      <td>0.378547</td>\n",
       "      <td>0.732195</td>\n",
       "    </tr>\n",
       "    <tr>\n",
       "      <th>England</th>\n",
       "      <td>6</td>\n",
       "      <td>7</td>\n",
       "      <td>-0.103571</td>\n",
       "      <td>-1.198706</td>\n",
       "      <td>1.010036</td>\n",
       "      <td>2.875360</td>\n",
       "      <td>0.820313</td>\n",
       "      <td>0.560612</td>\n",
       "      <td>-0.375642</td>\n",
       "      <td>-0.252104</td>\n",
       "      <td>-1.389613</td>\n",
       "    </tr>\n",
       "    <tr>\n",
       "      <th>America</th>\n",
       "      <td>7</td>\n",
       "      <td>8</td>\n",
       "      <td>0.617332</td>\n",
       "      <td>-0.135787</td>\n",
       "      <td>1.287905</td>\n",
       "      <td>-1.036994</td>\n",
       "      <td>1.364332</td>\n",
       "      <td>-0.309957</td>\n",
       "      <td>-0.611117</td>\n",
       "      <td>-0.483106</td>\n",
       "      <td>-0.608984</td>\n",
       "    </tr>\n",
       "    <tr>\n",
       "      <th>Australia</th>\n",
       "      <td>8</td>\n",
       "      <td>9</td>\n",
       "      <td>-2.088335</td>\n",
       "      <td>0.639322</td>\n",
       "      <td>0.774304</td>\n",
       "      <td>1.278569</td>\n",
       "      <td>0.705276</td>\n",
       "      <td>0.655977</td>\n",
       "      <td>-1.678502</td>\n",
       "      <td>0.183110</td>\n",
       "      <td>-1.133224</td>\n",
       "    </tr>\n",
       "  </tbody>\n",
       "</table>\n",
       "</div>"
      ],
      "text/plain": [
       "           level_0 index      col1      col2      col3      col4      col5  \\\n",
       "new_index                                                                    \n",
       "Nepal            0     1 -0.142359  2.057222  0.283262  1.329812 -0.154622   \n",
       "Bhutan           1     2 -2.367838 -0.167049  0.685398  0.023500  0.456201   \n",
       "India            2     3 -0.501565  0.590953 -0.731616  0.261755 -0.855796   \n",
       "Japan            3     4 -0.045123  0.121328  0.925953 -0.573820  0.052703   \n",
       "Denmark          4     5 -1.704292 -0.243908 -2.139704  0.861323  1.700284   \n",
       "Korea            5     6  0.552732 -0.815981 -0.496647  1.086226 -0.974675   \n",
       "England          6     7 -0.103571 -1.198706  1.010036  2.875360  0.820313   \n",
       "America          7     8  0.617332 -0.135787  1.287905 -1.036994  1.364332   \n",
       "Australia        8     9 -2.088335  0.639322  0.774304  1.278569  0.705276   \n",
       "\n",
       "               col6      col7      col8      col9  \n",
       "new_index                                          \n",
       "Nepal     -0.069031  0.755180  0.825647 -0.113069  \n",
       "Bhutan     0.270493 -1.435008  0.882817 -0.580082  \n",
       "India     -0.187526 -0.373486 -0.461971 -0.816466  \n",
       "Japan      2.207311  0.391822  0.482713  0.433334  \n",
       "Denmark   -0.528785  1.763478 -1.121608 -1.191934  \n",
       "Korea     -0.282136 -0.117214  0.378547  0.732195  \n",
       "England    0.560612 -0.375642 -0.252104 -1.389613  \n",
       "America   -0.309957 -0.611117 -0.483106 -0.608984  \n",
       "Australia  0.655977 -1.678502  0.183110 -1.133224  "
      ]
     },
     "execution_count": 129,
     "metadata": {},
     "output_type": "execute_result"
    }
   ],
   "source": [
    "df"
   ]
  },
  {
   "cell_type": "code",
   "execution_count": 133,
   "id": "030bd005",
   "metadata": {},
   "outputs": [],
   "source": [
    "#for column axis = 1 and for row axis = 0\n",
    "df.drop('index', axis = 1, inplace=True)"
   ]
  },
  {
   "cell_type": "code",
   "execution_count": 134,
   "id": "fa111ab9",
   "metadata": {},
   "outputs": [
    {
     "data": {
      "text/html": [
       "<div>\n",
       "<style scoped>\n",
       "    .dataframe tbody tr th:only-of-type {\n",
       "        vertical-align: middle;\n",
       "    }\n",
       "\n",
       "    .dataframe tbody tr th {\n",
       "        vertical-align: top;\n",
       "    }\n",
       "\n",
       "    .dataframe thead th {\n",
       "        text-align: right;\n",
       "    }\n",
       "</style>\n",
       "<table border=\"1\" class=\"dataframe\">\n",
       "  <thead>\n",
       "    <tr style=\"text-align: right;\">\n",
       "      <th></th>\n",
       "      <th>level_0</th>\n",
       "      <th>col1</th>\n",
       "      <th>col2</th>\n",
       "      <th>col3</th>\n",
       "      <th>col4</th>\n",
       "      <th>col5</th>\n",
       "      <th>col6</th>\n",
       "      <th>col7</th>\n",
       "      <th>col8</th>\n",
       "      <th>col9</th>\n",
       "    </tr>\n",
       "    <tr>\n",
       "      <th>new_index</th>\n",
       "      <th></th>\n",
       "      <th></th>\n",
       "      <th></th>\n",
       "      <th></th>\n",
       "      <th></th>\n",
       "      <th></th>\n",
       "      <th></th>\n",
       "      <th></th>\n",
       "      <th></th>\n",
       "      <th></th>\n",
       "    </tr>\n",
       "  </thead>\n",
       "  <tbody>\n",
       "    <tr>\n",
       "      <th>Nepal</th>\n",
       "      <td>0</td>\n",
       "      <td>-0.142359</td>\n",
       "      <td>2.057222</td>\n",
       "      <td>0.283262</td>\n",
       "      <td>1.329812</td>\n",
       "      <td>-0.154622</td>\n",
       "      <td>-0.069031</td>\n",
       "      <td>0.755180</td>\n",
       "      <td>0.825647</td>\n",
       "      <td>-0.113069</td>\n",
       "    </tr>\n",
       "    <tr>\n",
       "      <th>Bhutan</th>\n",
       "      <td>1</td>\n",
       "      <td>-2.367838</td>\n",
       "      <td>-0.167049</td>\n",
       "      <td>0.685398</td>\n",
       "      <td>0.023500</td>\n",
       "      <td>0.456201</td>\n",
       "      <td>0.270493</td>\n",
       "      <td>-1.435008</td>\n",
       "      <td>0.882817</td>\n",
       "      <td>-0.580082</td>\n",
       "    </tr>\n",
       "    <tr>\n",
       "      <th>India</th>\n",
       "      <td>2</td>\n",
       "      <td>-0.501565</td>\n",
       "      <td>0.590953</td>\n",
       "      <td>-0.731616</td>\n",
       "      <td>0.261755</td>\n",
       "      <td>-0.855796</td>\n",
       "      <td>-0.187526</td>\n",
       "      <td>-0.373486</td>\n",
       "      <td>-0.461971</td>\n",
       "      <td>-0.816466</td>\n",
       "    </tr>\n",
       "    <tr>\n",
       "      <th>Japan</th>\n",
       "      <td>3</td>\n",
       "      <td>-0.045123</td>\n",
       "      <td>0.121328</td>\n",
       "      <td>0.925953</td>\n",
       "      <td>-0.573820</td>\n",
       "      <td>0.052703</td>\n",
       "      <td>2.207311</td>\n",
       "      <td>0.391822</td>\n",
       "      <td>0.482713</td>\n",
       "      <td>0.433334</td>\n",
       "    </tr>\n",
       "    <tr>\n",
       "      <th>Denmark</th>\n",
       "      <td>4</td>\n",
       "      <td>-1.704292</td>\n",
       "      <td>-0.243908</td>\n",
       "      <td>-2.139704</td>\n",
       "      <td>0.861323</td>\n",
       "      <td>1.700284</td>\n",
       "      <td>-0.528785</td>\n",
       "      <td>1.763478</td>\n",
       "      <td>-1.121608</td>\n",
       "      <td>-1.191934</td>\n",
       "    </tr>\n",
       "    <tr>\n",
       "      <th>Korea</th>\n",
       "      <td>5</td>\n",
       "      <td>0.552732</td>\n",
       "      <td>-0.815981</td>\n",
       "      <td>-0.496647</td>\n",
       "      <td>1.086226</td>\n",
       "      <td>-0.974675</td>\n",
       "      <td>-0.282136</td>\n",
       "      <td>-0.117214</td>\n",
       "      <td>0.378547</td>\n",
       "      <td>0.732195</td>\n",
       "    </tr>\n",
       "    <tr>\n",
       "      <th>England</th>\n",
       "      <td>6</td>\n",
       "      <td>-0.103571</td>\n",
       "      <td>-1.198706</td>\n",
       "      <td>1.010036</td>\n",
       "      <td>2.875360</td>\n",
       "      <td>0.820313</td>\n",
       "      <td>0.560612</td>\n",
       "      <td>-0.375642</td>\n",
       "      <td>-0.252104</td>\n",
       "      <td>-1.389613</td>\n",
       "    </tr>\n",
       "    <tr>\n",
       "      <th>America</th>\n",
       "      <td>7</td>\n",
       "      <td>0.617332</td>\n",
       "      <td>-0.135787</td>\n",
       "      <td>1.287905</td>\n",
       "      <td>-1.036994</td>\n",
       "      <td>1.364332</td>\n",
       "      <td>-0.309957</td>\n",
       "      <td>-0.611117</td>\n",
       "      <td>-0.483106</td>\n",
       "      <td>-0.608984</td>\n",
       "    </tr>\n",
       "    <tr>\n",
       "      <th>Australia</th>\n",
       "      <td>8</td>\n",
       "      <td>-2.088335</td>\n",
       "      <td>0.639322</td>\n",
       "      <td>0.774304</td>\n",
       "      <td>1.278569</td>\n",
       "      <td>0.705276</td>\n",
       "      <td>0.655977</td>\n",
       "      <td>-1.678502</td>\n",
       "      <td>0.183110</td>\n",
       "      <td>-1.133224</td>\n",
       "    </tr>\n",
       "  </tbody>\n",
       "</table>\n",
       "</div>"
      ],
      "text/plain": [
       "           level_0      col1      col2      col3      col4      col5  \\\n",
       "new_index                                                              \n",
       "Nepal            0 -0.142359  2.057222  0.283262  1.329812 -0.154622   \n",
       "Bhutan           1 -2.367838 -0.167049  0.685398  0.023500  0.456201   \n",
       "India            2 -0.501565  0.590953 -0.731616  0.261755 -0.855796   \n",
       "Japan            3 -0.045123  0.121328  0.925953 -0.573820  0.052703   \n",
       "Denmark          4 -1.704292 -0.243908 -2.139704  0.861323  1.700284   \n",
       "Korea            5  0.552732 -0.815981 -0.496647  1.086226 -0.974675   \n",
       "England          6 -0.103571 -1.198706  1.010036  2.875360  0.820313   \n",
       "America          7  0.617332 -0.135787  1.287905 -1.036994  1.364332   \n",
       "Australia        8 -2.088335  0.639322  0.774304  1.278569  0.705276   \n",
       "\n",
       "               col6      col7      col8      col9  \n",
       "new_index                                          \n",
       "Nepal     -0.069031  0.755180  0.825647 -0.113069  \n",
       "Bhutan     0.270493 -1.435008  0.882817 -0.580082  \n",
       "India     -0.187526 -0.373486 -0.461971 -0.816466  \n",
       "Japan      2.207311  0.391822  0.482713  0.433334  \n",
       "Denmark   -0.528785  1.763478 -1.121608 -1.191934  \n",
       "Korea     -0.282136 -0.117214  0.378547  0.732195  \n",
       "England    0.560612 -0.375642 -0.252104 -1.389613  \n",
       "America   -0.309957 -0.611117 -0.483106 -0.608984  \n",
       "Australia  0.655977 -1.678502  0.183110 -1.133224  "
      ]
     },
     "execution_count": 134,
     "metadata": {},
     "output_type": "execute_result"
    }
   ],
   "source": [
    "df"
   ]
  },
  {
   "cell_type": "code",
   "execution_count": 136,
   "id": "b93f96d7",
   "metadata": {},
   "outputs": [
    {
     "data": {
      "text/html": [
       "<div>\n",
       "<style scoped>\n",
       "    .dataframe tbody tr th:only-of-type {\n",
       "        vertical-align: middle;\n",
       "    }\n",
       "\n",
       "    .dataframe tbody tr th {\n",
       "        vertical-align: top;\n",
       "    }\n",
       "\n",
       "    .dataframe thead th {\n",
       "        text-align: right;\n",
       "    }\n",
       "</style>\n",
       "<table border=\"1\" class=\"dataframe\">\n",
       "  <thead>\n",
       "    <tr style=\"text-align: right;\">\n",
       "      <th></th>\n",
       "      <th>col1</th>\n",
       "      <th>col2</th>\n",
       "      <th>col3</th>\n",
       "      <th>col4</th>\n",
       "      <th>col5</th>\n",
       "      <th>col6</th>\n",
       "      <th>col7</th>\n",
       "      <th>col8</th>\n",
       "      <th>col9</th>\n",
       "    </tr>\n",
       "    <tr>\n",
       "      <th>new_index</th>\n",
       "      <th></th>\n",
       "      <th></th>\n",
       "      <th></th>\n",
       "      <th></th>\n",
       "      <th></th>\n",
       "      <th></th>\n",
       "      <th></th>\n",
       "      <th></th>\n",
       "      <th></th>\n",
       "    </tr>\n",
       "  </thead>\n",
       "  <tbody>\n",
       "    <tr>\n",
       "      <th>Nepal</th>\n",
       "      <td>-0.142359</td>\n",
       "      <td>2.057222</td>\n",
       "      <td>0.283262</td>\n",
       "      <td>1.329812</td>\n",
       "      <td>-0.154622</td>\n",
       "      <td>-0.069031</td>\n",
       "      <td>0.755180</td>\n",
       "      <td>0.825647</td>\n",
       "      <td>-0.113069</td>\n",
       "    </tr>\n",
       "    <tr>\n",
       "      <th>Bhutan</th>\n",
       "      <td>-2.367838</td>\n",
       "      <td>-0.167049</td>\n",
       "      <td>0.685398</td>\n",
       "      <td>0.023500</td>\n",
       "      <td>0.456201</td>\n",
       "      <td>0.270493</td>\n",
       "      <td>-1.435008</td>\n",
       "      <td>0.882817</td>\n",
       "      <td>-0.580082</td>\n",
       "    </tr>\n",
       "    <tr>\n",
       "      <th>India</th>\n",
       "      <td>-0.501565</td>\n",
       "      <td>0.590953</td>\n",
       "      <td>-0.731616</td>\n",
       "      <td>0.261755</td>\n",
       "      <td>-0.855796</td>\n",
       "      <td>-0.187526</td>\n",
       "      <td>-0.373486</td>\n",
       "      <td>-0.461971</td>\n",
       "      <td>-0.816466</td>\n",
       "    </tr>\n",
       "    <tr>\n",
       "      <th>Japan</th>\n",
       "      <td>-0.045123</td>\n",
       "      <td>0.121328</td>\n",
       "      <td>0.925953</td>\n",
       "      <td>-0.573820</td>\n",
       "      <td>0.052703</td>\n",
       "      <td>2.207311</td>\n",
       "      <td>0.391822</td>\n",
       "      <td>0.482713</td>\n",
       "      <td>0.433334</td>\n",
       "    </tr>\n",
       "    <tr>\n",
       "      <th>Denmark</th>\n",
       "      <td>-1.704292</td>\n",
       "      <td>-0.243908</td>\n",
       "      <td>-2.139704</td>\n",
       "      <td>0.861323</td>\n",
       "      <td>1.700284</td>\n",
       "      <td>-0.528785</td>\n",
       "      <td>1.763478</td>\n",
       "      <td>-1.121608</td>\n",
       "      <td>-1.191934</td>\n",
       "    </tr>\n",
       "    <tr>\n",
       "      <th>Korea</th>\n",
       "      <td>0.552732</td>\n",
       "      <td>-0.815981</td>\n",
       "      <td>-0.496647</td>\n",
       "      <td>1.086226</td>\n",
       "      <td>-0.974675</td>\n",
       "      <td>-0.282136</td>\n",
       "      <td>-0.117214</td>\n",
       "      <td>0.378547</td>\n",
       "      <td>0.732195</td>\n",
       "    </tr>\n",
       "    <tr>\n",
       "      <th>England</th>\n",
       "      <td>-0.103571</td>\n",
       "      <td>-1.198706</td>\n",
       "      <td>1.010036</td>\n",
       "      <td>2.875360</td>\n",
       "      <td>0.820313</td>\n",
       "      <td>0.560612</td>\n",
       "      <td>-0.375642</td>\n",
       "      <td>-0.252104</td>\n",
       "      <td>-1.389613</td>\n",
       "    </tr>\n",
       "    <tr>\n",
       "      <th>America</th>\n",
       "      <td>0.617332</td>\n",
       "      <td>-0.135787</td>\n",
       "      <td>1.287905</td>\n",
       "      <td>-1.036994</td>\n",
       "      <td>1.364332</td>\n",
       "      <td>-0.309957</td>\n",
       "      <td>-0.611117</td>\n",
       "      <td>-0.483106</td>\n",
       "      <td>-0.608984</td>\n",
       "    </tr>\n",
       "    <tr>\n",
       "      <th>Australia</th>\n",
       "      <td>-2.088335</td>\n",
       "      <td>0.639322</td>\n",
       "      <td>0.774304</td>\n",
       "      <td>1.278569</td>\n",
       "      <td>0.705276</td>\n",
       "      <td>0.655977</td>\n",
       "      <td>-1.678502</td>\n",
       "      <td>0.183110</td>\n",
       "      <td>-1.133224</td>\n",
       "    </tr>\n",
       "  </tbody>\n",
       "</table>\n",
       "</div>"
      ],
      "text/plain": [
       "               col1      col2      col3      col4      col5      col6  \\\n",
       "new_index                                                               \n",
       "Nepal     -0.142359  2.057222  0.283262  1.329812 -0.154622 -0.069031   \n",
       "Bhutan    -2.367838 -0.167049  0.685398  0.023500  0.456201  0.270493   \n",
       "India     -0.501565  0.590953 -0.731616  0.261755 -0.855796 -0.187526   \n",
       "Japan     -0.045123  0.121328  0.925953 -0.573820  0.052703  2.207311   \n",
       "Denmark   -1.704292 -0.243908 -2.139704  0.861323  1.700284 -0.528785   \n",
       "Korea      0.552732 -0.815981 -0.496647  1.086226 -0.974675 -0.282136   \n",
       "England   -0.103571 -1.198706  1.010036  2.875360  0.820313  0.560612   \n",
       "America    0.617332 -0.135787  1.287905 -1.036994  1.364332 -0.309957   \n",
       "Australia -2.088335  0.639322  0.774304  1.278569  0.705276  0.655977   \n",
       "\n",
       "               col7      col8      col9  \n",
       "new_index                                \n",
       "Nepal      0.755180  0.825647 -0.113069  \n",
       "Bhutan    -1.435008  0.882817 -0.580082  \n",
       "India     -0.373486 -0.461971 -0.816466  \n",
       "Japan      0.391822  0.482713  0.433334  \n",
       "Denmark    1.763478 -1.121608 -1.191934  \n",
       "Korea     -0.117214  0.378547  0.732195  \n",
       "England   -0.375642 -0.252104 -1.389613  \n",
       "America   -0.611117 -0.483106 -0.608984  \n",
       "Australia -1.678502  0.183110 -1.133224  "
      ]
     },
     "execution_count": 136,
     "metadata": {},
     "output_type": "execute_result"
    }
   ],
   "source": [
    "df.drop('level_0', axis = 1)"
   ]
  },
  {
   "cell_type": "code",
   "execution_count": 137,
   "id": "a4b23a4d",
   "metadata": {},
   "outputs": [
    {
     "data": {
      "text/html": [
       "<div>\n",
       "<style scoped>\n",
       "    .dataframe tbody tr th:only-of-type {\n",
       "        vertical-align: middle;\n",
       "    }\n",
       "\n",
       "    .dataframe tbody tr th {\n",
       "        vertical-align: top;\n",
       "    }\n",
       "\n",
       "    .dataframe thead th {\n",
       "        text-align: right;\n",
       "    }\n",
       "</style>\n",
       "<table border=\"1\" class=\"dataframe\">\n",
       "  <thead>\n",
       "    <tr style=\"text-align: right;\">\n",
       "      <th></th>\n",
       "      <th>level_0</th>\n",
       "      <th>col1</th>\n",
       "      <th>col2</th>\n",
       "      <th>col3</th>\n",
       "      <th>col4</th>\n",
       "      <th>col5</th>\n",
       "      <th>col6</th>\n",
       "      <th>col7</th>\n",
       "      <th>col8</th>\n",
       "      <th>col9</th>\n",
       "    </tr>\n",
       "    <tr>\n",
       "      <th>new_index</th>\n",
       "      <th></th>\n",
       "      <th></th>\n",
       "      <th></th>\n",
       "      <th></th>\n",
       "      <th></th>\n",
       "      <th></th>\n",
       "      <th></th>\n",
       "      <th></th>\n",
       "      <th></th>\n",
       "      <th></th>\n",
       "    </tr>\n",
       "  </thead>\n",
       "  <tbody>\n",
       "    <tr>\n",
       "      <th>Nepal</th>\n",
       "      <td>0</td>\n",
       "      <td>-0.142359</td>\n",
       "      <td>2.057222</td>\n",
       "      <td>0.283262</td>\n",
       "      <td>1.329812</td>\n",
       "      <td>-0.154622</td>\n",
       "      <td>-0.069031</td>\n",
       "      <td>0.755180</td>\n",
       "      <td>0.825647</td>\n",
       "      <td>-0.113069</td>\n",
       "    </tr>\n",
       "    <tr>\n",
       "      <th>Bhutan</th>\n",
       "      <td>1</td>\n",
       "      <td>-2.367838</td>\n",
       "      <td>-0.167049</td>\n",
       "      <td>0.685398</td>\n",
       "      <td>0.023500</td>\n",
       "      <td>0.456201</td>\n",
       "      <td>0.270493</td>\n",
       "      <td>-1.435008</td>\n",
       "      <td>0.882817</td>\n",
       "      <td>-0.580082</td>\n",
       "    </tr>\n",
       "    <tr>\n",
       "      <th>India</th>\n",
       "      <td>2</td>\n",
       "      <td>-0.501565</td>\n",
       "      <td>0.590953</td>\n",
       "      <td>-0.731616</td>\n",
       "      <td>0.261755</td>\n",
       "      <td>-0.855796</td>\n",
       "      <td>-0.187526</td>\n",
       "      <td>-0.373486</td>\n",
       "      <td>-0.461971</td>\n",
       "      <td>-0.816466</td>\n",
       "    </tr>\n",
       "    <tr>\n",
       "      <th>Japan</th>\n",
       "      <td>3</td>\n",
       "      <td>-0.045123</td>\n",
       "      <td>0.121328</td>\n",
       "      <td>0.925953</td>\n",
       "      <td>-0.573820</td>\n",
       "      <td>0.052703</td>\n",
       "      <td>2.207311</td>\n",
       "      <td>0.391822</td>\n",
       "      <td>0.482713</td>\n",
       "      <td>0.433334</td>\n",
       "    </tr>\n",
       "    <tr>\n",
       "      <th>Denmark</th>\n",
       "      <td>4</td>\n",
       "      <td>-1.704292</td>\n",
       "      <td>-0.243908</td>\n",
       "      <td>-2.139704</td>\n",
       "      <td>0.861323</td>\n",
       "      <td>1.700284</td>\n",
       "      <td>-0.528785</td>\n",
       "      <td>1.763478</td>\n",
       "      <td>-1.121608</td>\n",
       "      <td>-1.191934</td>\n",
       "    </tr>\n",
       "    <tr>\n",
       "      <th>Korea</th>\n",
       "      <td>5</td>\n",
       "      <td>0.552732</td>\n",
       "      <td>-0.815981</td>\n",
       "      <td>-0.496647</td>\n",
       "      <td>1.086226</td>\n",
       "      <td>-0.974675</td>\n",
       "      <td>-0.282136</td>\n",
       "      <td>-0.117214</td>\n",
       "      <td>0.378547</td>\n",
       "      <td>0.732195</td>\n",
       "    </tr>\n",
       "    <tr>\n",
       "      <th>England</th>\n",
       "      <td>6</td>\n",
       "      <td>-0.103571</td>\n",
       "      <td>-1.198706</td>\n",
       "      <td>1.010036</td>\n",
       "      <td>2.875360</td>\n",
       "      <td>0.820313</td>\n",
       "      <td>0.560612</td>\n",
       "      <td>-0.375642</td>\n",
       "      <td>-0.252104</td>\n",
       "      <td>-1.389613</td>\n",
       "    </tr>\n",
       "    <tr>\n",
       "      <th>America</th>\n",
       "      <td>7</td>\n",
       "      <td>0.617332</td>\n",
       "      <td>-0.135787</td>\n",
       "      <td>1.287905</td>\n",
       "      <td>-1.036994</td>\n",
       "      <td>1.364332</td>\n",
       "      <td>-0.309957</td>\n",
       "      <td>-0.611117</td>\n",
       "      <td>-0.483106</td>\n",
       "      <td>-0.608984</td>\n",
       "    </tr>\n",
       "    <tr>\n",
       "      <th>Australia</th>\n",
       "      <td>8</td>\n",
       "      <td>-2.088335</td>\n",
       "      <td>0.639322</td>\n",
       "      <td>0.774304</td>\n",
       "      <td>1.278569</td>\n",
       "      <td>0.705276</td>\n",
       "      <td>0.655977</td>\n",
       "      <td>-1.678502</td>\n",
       "      <td>0.183110</td>\n",
       "      <td>-1.133224</td>\n",
       "    </tr>\n",
       "  </tbody>\n",
       "</table>\n",
       "</div>"
      ],
      "text/plain": [
       "           level_0      col1      col2      col3      col4      col5  \\\n",
       "new_index                                                              \n",
       "Nepal            0 -0.142359  2.057222  0.283262  1.329812 -0.154622   \n",
       "Bhutan           1 -2.367838 -0.167049  0.685398  0.023500  0.456201   \n",
       "India            2 -0.501565  0.590953 -0.731616  0.261755 -0.855796   \n",
       "Japan            3 -0.045123  0.121328  0.925953 -0.573820  0.052703   \n",
       "Denmark          4 -1.704292 -0.243908 -2.139704  0.861323  1.700284   \n",
       "Korea            5  0.552732 -0.815981 -0.496647  1.086226 -0.974675   \n",
       "England          6 -0.103571 -1.198706  1.010036  2.875360  0.820313   \n",
       "America          7  0.617332 -0.135787  1.287905 -1.036994  1.364332   \n",
       "Australia        8 -2.088335  0.639322  0.774304  1.278569  0.705276   \n",
       "\n",
       "               col6      col7      col8      col9  \n",
       "new_index                                          \n",
       "Nepal     -0.069031  0.755180  0.825647 -0.113069  \n",
       "Bhutan     0.270493 -1.435008  0.882817 -0.580082  \n",
       "India     -0.187526 -0.373486 -0.461971 -0.816466  \n",
       "Japan      2.207311  0.391822  0.482713  0.433334  \n",
       "Denmark   -0.528785  1.763478 -1.121608 -1.191934  \n",
       "Korea     -0.282136 -0.117214  0.378547  0.732195  \n",
       "England    0.560612 -0.375642 -0.252104 -1.389613  \n",
       "America   -0.309957 -0.611117 -0.483106 -0.608984  \n",
       "Australia  0.655977 -1.678502  0.183110 -1.133224  "
      ]
     },
     "execution_count": 137,
     "metadata": {},
     "output_type": "execute_result"
    }
   ],
   "source": [
    "df"
   ]
  },
  {
   "cell_type": "code",
   "execution_count": 138,
   "id": "22241837",
   "metadata": {},
   "outputs": [],
   "source": [
    "df.drop('level_0', axis = 1, inplace=True)"
   ]
  },
  {
   "cell_type": "code",
   "execution_count": 139,
   "id": "5372e495",
   "metadata": {},
   "outputs": [
    {
     "data": {
      "text/html": [
       "<div>\n",
       "<style scoped>\n",
       "    .dataframe tbody tr th:only-of-type {\n",
       "        vertical-align: middle;\n",
       "    }\n",
       "\n",
       "    .dataframe tbody tr th {\n",
       "        vertical-align: top;\n",
       "    }\n",
       "\n",
       "    .dataframe thead th {\n",
       "        text-align: right;\n",
       "    }\n",
       "</style>\n",
       "<table border=\"1\" class=\"dataframe\">\n",
       "  <thead>\n",
       "    <tr style=\"text-align: right;\">\n",
       "      <th></th>\n",
       "      <th>col1</th>\n",
       "      <th>col2</th>\n",
       "      <th>col3</th>\n",
       "      <th>col4</th>\n",
       "      <th>col5</th>\n",
       "      <th>col6</th>\n",
       "      <th>col7</th>\n",
       "      <th>col8</th>\n",
       "      <th>col9</th>\n",
       "    </tr>\n",
       "    <tr>\n",
       "      <th>new_index</th>\n",
       "      <th></th>\n",
       "      <th></th>\n",
       "      <th></th>\n",
       "      <th></th>\n",
       "      <th></th>\n",
       "      <th></th>\n",
       "      <th></th>\n",
       "      <th></th>\n",
       "      <th></th>\n",
       "    </tr>\n",
       "  </thead>\n",
       "  <tbody>\n",
       "    <tr>\n",
       "      <th>Nepal</th>\n",
       "      <td>-0.142359</td>\n",
       "      <td>2.057222</td>\n",
       "      <td>0.283262</td>\n",
       "      <td>1.329812</td>\n",
       "      <td>-0.154622</td>\n",
       "      <td>-0.069031</td>\n",
       "      <td>0.755180</td>\n",
       "      <td>0.825647</td>\n",
       "      <td>-0.113069</td>\n",
       "    </tr>\n",
       "    <tr>\n",
       "      <th>Bhutan</th>\n",
       "      <td>-2.367838</td>\n",
       "      <td>-0.167049</td>\n",
       "      <td>0.685398</td>\n",
       "      <td>0.023500</td>\n",
       "      <td>0.456201</td>\n",
       "      <td>0.270493</td>\n",
       "      <td>-1.435008</td>\n",
       "      <td>0.882817</td>\n",
       "      <td>-0.580082</td>\n",
       "    </tr>\n",
       "    <tr>\n",
       "      <th>India</th>\n",
       "      <td>-0.501565</td>\n",
       "      <td>0.590953</td>\n",
       "      <td>-0.731616</td>\n",
       "      <td>0.261755</td>\n",
       "      <td>-0.855796</td>\n",
       "      <td>-0.187526</td>\n",
       "      <td>-0.373486</td>\n",
       "      <td>-0.461971</td>\n",
       "      <td>-0.816466</td>\n",
       "    </tr>\n",
       "    <tr>\n",
       "      <th>Japan</th>\n",
       "      <td>-0.045123</td>\n",
       "      <td>0.121328</td>\n",
       "      <td>0.925953</td>\n",
       "      <td>-0.573820</td>\n",
       "      <td>0.052703</td>\n",
       "      <td>2.207311</td>\n",
       "      <td>0.391822</td>\n",
       "      <td>0.482713</td>\n",
       "      <td>0.433334</td>\n",
       "    </tr>\n",
       "    <tr>\n",
       "      <th>Denmark</th>\n",
       "      <td>-1.704292</td>\n",
       "      <td>-0.243908</td>\n",
       "      <td>-2.139704</td>\n",
       "      <td>0.861323</td>\n",
       "      <td>1.700284</td>\n",
       "      <td>-0.528785</td>\n",
       "      <td>1.763478</td>\n",
       "      <td>-1.121608</td>\n",
       "      <td>-1.191934</td>\n",
       "    </tr>\n",
       "    <tr>\n",
       "      <th>Korea</th>\n",
       "      <td>0.552732</td>\n",
       "      <td>-0.815981</td>\n",
       "      <td>-0.496647</td>\n",
       "      <td>1.086226</td>\n",
       "      <td>-0.974675</td>\n",
       "      <td>-0.282136</td>\n",
       "      <td>-0.117214</td>\n",
       "      <td>0.378547</td>\n",
       "      <td>0.732195</td>\n",
       "    </tr>\n",
       "    <tr>\n",
       "      <th>England</th>\n",
       "      <td>-0.103571</td>\n",
       "      <td>-1.198706</td>\n",
       "      <td>1.010036</td>\n",
       "      <td>2.875360</td>\n",
       "      <td>0.820313</td>\n",
       "      <td>0.560612</td>\n",
       "      <td>-0.375642</td>\n",
       "      <td>-0.252104</td>\n",
       "      <td>-1.389613</td>\n",
       "    </tr>\n",
       "    <tr>\n",
       "      <th>America</th>\n",
       "      <td>0.617332</td>\n",
       "      <td>-0.135787</td>\n",
       "      <td>1.287905</td>\n",
       "      <td>-1.036994</td>\n",
       "      <td>1.364332</td>\n",
       "      <td>-0.309957</td>\n",
       "      <td>-0.611117</td>\n",
       "      <td>-0.483106</td>\n",
       "      <td>-0.608984</td>\n",
       "    </tr>\n",
       "    <tr>\n",
       "      <th>Australia</th>\n",
       "      <td>-2.088335</td>\n",
       "      <td>0.639322</td>\n",
       "      <td>0.774304</td>\n",
       "      <td>1.278569</td>\n",
       "      <td>0.705276</td>\n",
       "      <td>0.655977</td>\n",
       "      <td>-1.678502</td>\n",
       "      <td>0.183110</td>\n",
       "      <td>-1.133224</td>\n",
       "    </tr>\n",
       "  </tbody>\n",
       "</table>\n",
       "</div>"
      ],
      "text/plain": [
       "               col1      col2      col3      col4      col5      col6  \\\n",
       "new_index                                                               \n",
       "Nepal     -0.142359  2.057222  0.283262  1.329812 -0.154622 -0.069031   \n",
       "Bhutan    -2.367838 -0.167049  0.685398  0.023500  0.456201  0.270493   \n",
       "India     -0.501565  0.590953 -0.731616  0.261755 -0.855796 -0.187526   \n",
       "Japan     -0.045123  0.121328  0.925953 -0.573820  0.052703  2.207311   \n",
       "Denmark   -1.704292 -0.243908 -2.139704  0.861323  1.700284 -0.528785   \n",
       "Korea      0.552732 -0.815981 -0.496647  1.086226 -0.974675 -0.282136   \n",
       "England   -0.103571 -1.198706  1.010036  2.875360  0.820313  0.560612   \n",
       "America    0.617332 -0.135787  1.287905 -1.036994  1.364332 -0.309957   \n",
       "Australia -2.088335  0.639322  0.774304  1.278569  0.705276  0.655977   \n",
       "\n",
       "               col7      col8      col9  \n",
       "new_index                                \n",
       "Nepal      0.755180  0.825647 -0.113069  \n",
       "Bhutan    -1.435008  0.882817 -0.580082  \n",
       "India     -0.373486 -0.461971 -0.816466  \n",
       "Japan      0.391822  0.482713  0.433334  \n",
       "Denmark    1.763478 -1.121608 -1.191934  \n",
       "Korea     -0.117214  0.378547  0.732195  \n",
       "England   -0.375642 -0.252104 -1.389613  \n",
       "America   -0.611117 -0.483106 -0.608984  \n",
       "Australia -1.678502  0.183110 -1.133224  "
      ]
     },
     "execution_count": 139,
     "metadata": {},
     "output_type": "execute_result"
    }
   ],
   "source": [
    "df"
   ]
  },
  {
   "cell_type": "code",
   "execution_count": 144,
   "id": "2ac39667",
   "metadata": {},
   "outputs": [
    {
     "data": {
      "text/plain": [
       "col1    0\n",
       "col2    0\n",
       "dtype: int64"
      ]
     },
     "execution_count": 144,
     "metadata": {},
     "output_type": "execute_result"
    }
   ],
   "source": [
    "df[['col1', 'col2']].isnull().sum()"
   ]
  },
  {
   "cell_type": "code",
   "execution_count": 145,
   "id": "0005e661",
   "metadata": {},
   "outputs": [],
   "source": [
    "#None of the data are missing or empty"
   ]
  },
  {
   "cell_type": "markdown",
   "id": "66c1647f",
   "metadata": {},
   "source": [
    "# Removing rows and columns from Panda DataFrames"
   ]
  },
  {
   "cell_type": "code",
   "execution_count": 146,
   "id": "4e266498",
   "metadata": {},
   "outputs": [],
   "source": [
    "import numpy as np\n",
    "import pandas as pd"
   ]
  },
  {
   "cell_type": "code",
   "execution_count": 147,
   "id": "1e0f353d",
   "metadata": {},
   "outputs": [],
   "source": [
    "x = np.arange(0,28).reshape(7,4)"
   ]
  },
  {
   "cell_type": "code",
   "execution_count": 148,
   "id": "03d39d66",
   "metadata": {},
   "outputs": [
    {
     "data": {
      "text/plain": [
       "array([[ 0,  1,  2,  3],\n",
       "       [ 4,  5,  6,  7],\n",
       "       [ 8,  9, 10, 11],\n",
       "       [12, 13, 14, 15],\n",
       "       [16, 17, 18, 19],\n",
       "       [20, 21, 22, 23],\n",
       "       [24, 25, 26, 27]])"
      ]
     },
     "execution_count": 148,
     "metadata": {},
     "output_type": "execute_result"
    }
   ],
   "source": [
    "x"
   ]
  },
  {
   "cell_type": "code",
   "execution_count": 168,
   "id": "f21bf66f",
   "metadata": {},
   "outputs": [],
   "source": [
    "df = pd.DataFrame(data=x, columns=['val1', 'val2', 'val3', 'val4'])"
   ]
  },
  {
   "cell_type": "code",
   "execution_count": 169,
   "id": "40abf925",
   "metadata": {},
   "outputs": [
    {
     "data": {
      "text/html": [
       "<div>\n",
       "<style scoped>\n",
       "    .dataframe tbody tr th:only-of-type {\n",
       "        vertical-align: middle;\n",
       "    }\n",
       "\n",
       "    .dataframe tbody tr th {\n",
       "        vertical-align: top;\n",
       "    }\n",
       "\n",
       "    .dataframe thead th {\n",
       "        text-align: right;\n",
       "    }\n",
       "</style>\n",
       "<table border=\"1\" class=\"dataframe\">\n",
       "  <thead>\n",
       "    <tr style=\"text-align: right;\">\n",
       "      <th></th>\n",
       "      <th>val1</th>\n",
       "      <th>val2</th>\n",
       "      <th>val3</th>\n",
       "      <th>val4</th>\n",
       "    </tr>\n",
       "  </thead>\n",
       "  <tbody>\n",
       "    <tr>\n",
       "      <th>0</th>\n",
       "      <td>0</td>\n",
       "      <td>1</td>\n",
       "      <td>2</td>\n",
       "      <td>3</td>\n",
       "    </tr>\n",
       "    <tr>\n",
       "      <th>1</th>\n",
       "      <td>4</td>\n",
       "      <td>5</td>\n",
       "      <td>6</td>\n",
       "      <td>7</td>\n",
       "    </tr>\n",
       "    <tr>\n",
       "      <th>2</th>\n",
       "      <td>8</td>\n",
       "      <td>9</td>\n",
       "      <td>10</td>\n",
       "      <td>11</td>\n",
       "    </tr>\n",
       "    <tr>\n",
       "      <th>3</th>\n",
       "      <td>12</td>\n",
       "      <td>13</td>\n",
       "      <td>14</td>\n",
       "      <td>15</td>\n",
       "    </tr>\n",
       "    <tr>\n",
       "      <th>4</th>\n",
       "      <td>16</td>\n",
       "      <td>17</td>\n",
       "      <td>18</td>\n",
       "      <td>19</td>\n",
       "    </tr>\n",
       "    <tr>\n",
       "      <th>5</th>\n",
       "      <td>20</td>\n",
       "      <td>21</td>\n",
       "      <td>22</td>\n",
       "      <td>23</td>\n",
       "    </tr>\n",
       "    <tr>\n",
       "      <th>6</th>\n",
       "      <td>24</td>\n",
       "      <td>25</td>\n",
       "      <td>26</td>\n",
       "      <td>27</td>\n",
       "    </tr>\n",
       "  </tbody>\n",
       "</table>\n",
       "</div>"
      ],
      "text/plain": [
       "   val1  val2  val3  val4\n",
       "0     0     1     2     3\n",
       "1     4     5     6     7\n",
       "2     8     9    10    11\n",
       "3    12    13    14    15\n",
       "4    16    17    18    19\n",
       "5    20    21    22    23\n",
       "6    24    25    26    27"
      ]
     },
     "execution_count": 169,
     "metadata": {},
     "output_type": "execute_result"
    }
   ],
   "source": [
    "df"
   ]
  },
  {
   "cell_type": "code",
   "execution_count": 170,
   "id": "be8835d8",
   "metadata": {},
   "outputs": [
    {
     "data": {
      "text/html": [
       "<div>\n",
       "<style scoped>\n",
       "    .dataframe tbody tr th:only-of-type {\n",
       "        vertical-align: middle;\n",
       "    }\n",
       "\n",
       "    .dataframe tbody tr th {\n",
       "        vertical-align: top;\n",
       "    }\n",
       "\n",
       "    .dataframe thead th {\n",
       "        text-align: right;\n",
       "    }\n",
       "</style>\n",
       "<table border=\"1\" class=\"dataframe\">\n",
       "  <thead>\n",
       "    <tr style=\"text-align: right;\">\n",
       "      <th></th>\n",
       "      <th>val3</th>\n",
       "      <th>val4</th>\n",
       "    </tr>\n",
       "  </thead>\n",
       "  <tbody>\n",
       "    <tr>\n",
       "      <th>0</th>\n",
       "      <td>2</td>\n",
       "      <td>3</td>\n",
       "    </tr>\n",
       "    <tr>\n",
       "      <th>1</th>\n",
       "      <td>6</td>\n",
       "      <td>7</td>\n",
       "    </tr>\n",
       "    <tr>\n",
       "      <th>2</th>\n",
       "      <td>10</td>\n",
       "      <td>11</td>\n",
       "    </tr>\n",
       "    <tr>\n",
       "      <th>3</th>\n",
       "      <td>14</td>\n",
       "      <td>15</td>\n",
       "    </tr>\n",
       "    <tr>\n",
       "      <th>4</th>\n",
       "      <td>18</td>\n",
       "      <td>19</td>\n",
       "    </tr>\n",
       "    <tr>\n",
       "      <th>5</th>\n",
       "      <td>22</td>\n",
       "      <td>23</td>\n",
       "    </tr>\n",
       "    <tr>\n",
       "      <th>6</th>\n",
       "      <td>26</td>\n",
       "      <td>27</td>\n",
       "    </tr>\n",
       "  </tbody>\n",
       "</table>\n",
       "</div>"
      ],
      "text/plain": [
       "   val3  val4\n",
       "0     2     3\n",
       "1     6     7\n",
       "2    10    11\n",
       "3    14    15\n",
       "4    18    19\n",
       "5    22    23\n",
       "6    26    27"
      ]
     },
     "execution_count": 170,
     "metadata": {},
     "output_type": "execute_result"
    }
   ],
   "source": [
    "df.drop(['val1','val2'], axis = 1)"
   ]
  },
  {
   "cell_type": "code",
   "execution_count": 171,
   "id": "81894dad",
   "metadata": {},
   "outputs": [
    {
     "data": {
      "text/html": [
       "<div>\n",
       "<style scoped>\n",
       "    .dataframe tbody tr th:only-of-type {\n",
       "        vertical-align: middle;\n",
       "    }\n",
       "\n",
       "    .dataframe tbody tr th {\n",
       "        vertical-align: top;\n",
       "    }\n",
       "\n",
       "    .dataframe thead th {\n",
       "        text-align: right;\n",
       "    }\n",
       "</style>\n",
       "<table border=\"1\" class=\"dataframe\">\n",
       "  <thead>\n",
       "    <tr style=\"text-align: right;\">\n",
       "      <th></th>\n",
       "      <th>val1</th>\n",
       "      <th>val2</th>\n",
       "      <th>val3</th>\n",
       "      <th>val4</th>\n",
       "    </tr>\n",
       "  </thead>\n",
       "  <tbody>\n",
       "    <tr>\n",
       "      <th>0</th>\n",
       "      <td>0</td>\n",
       "      <td>1</td>\n",
       "      <td>2</td>\n",
       "      <td>3</td>\n",
       "    </tr>\n",
       "    <tr>\n",
       "      <th>1</th>\n",
       "      <td>4</td>\n",
       "      <td>5</td>\n",
       "      <td>6</td>\n",
       "      <td>7</td>\n",
       "    </tr>\n",
       "    <tr>\n",
       "      <th>2</th>\n",
       "      <td>8</td>\n",
       "      <td>9</td>\n",
       "      <td>10</td>\n",
       "      <td>11</td>\n",
       "    </tr>\n",
       "    <tr>\n",
       "      <th>3</th>\n",
       "      <td>12</td>\n",
       "      <td>13</td>\n",
       "      <td>14</td>\n",
       "      <td>15</td>\n",
       "    </tr>\n",
       "    <tr>\n",
       "      <th>4</th>\n",
       "      <td>16</td>\n",
       "      <td>17</td>\n",
       "      <td>18</td>\n",
       "      <td>19</td>\n",
       "    </tr>\n",
       "    <tr>\n",
       "      <th>5</th>\n",
       "      <td>20</td>\n",
       "      <td>21</td>\n",
       "      <td>22</td>\n",
       "      <td>23</td>\n",
       "    </tr>\n",
       "    <tr>\n",
       "      <th>6</th>\n",
       "      <td>24</td>\n",
       "      <td>25</td>\n",
       "      <td>26</td>\n",
       "      <td>27</td>\n",
       "    </tr>\n",
       "  </tbody>\n",
       "</table>\n",
       "</div>"
      ],
      "text/plain": [
       "   val1  val2  val3  val4\n",
       "0     0     1     2     3\n",
       "1     4     5     6     7\n",
       "2     8     9    10    11\n",
       "3    12    13    14    15\n",
       "4    16    17    18    19\n",
       "5    20    21    22    23\n",
       "6    24    25    26    27"
      ]
     },
     "execution_count": 171,
     "metadata": {},
     "output_type": "execute_result"
    }
   ],
   "source": [
    "# for permanent change we must use inplace = True\n",
    "df"
   ]
  },
  {
   "cell_type": "code",
   "execution_count": 172,
   "id": "14adb165",
   "metadata": {},
   "outputs": [
    {
     "data": {
      "text/html": [
       "<div>\n",
       "<style scoped>\n",
       "    .dataframe tbody tr th:only-of-type {\n",
       "        vertical-align: middle;\n",
       "    }\n",
       "\n",
       "    .dataframe tbody tr th {\n",
       "        vertical-align: top;\n",
       "    }\n",
       "\n",
       "    .dataframe thead th {\n",
       "        text-align: right;\n",
       "    }\n",
       "</style>\n",
       "<table border=\"1\" class=\"dataframe\">\n",
       "  <thead>\n",
       "    <tr style=\"text-align: right;\">\n",
       "      <th></th>\n",
       "      <th>val3</th>\n",
       "      <th>val4</th>\n",
       "    </tr>\n",
       "  </thead>\n",
       "  <tbody>\n",
       "    <tr>\n",
       "      <th>0</th>\n",
       "      <td>2</td>\n",
       "      <td>3</td>\n",
       "    </tr>\n",
       "    <tr>\n",
       "      <th>1</th>\n",
       "      <td>6</td>\n",
       "      <td>7</td>\n",
       "    </tr>\n",
       "    <tr>\n",
       "      <th>2</th>\n",
       "      <td>10</td>\n",
       "      <td>11</td>\n",
       "    </tr>\n",
       "    <tr>\n",
       "      <th>3</th>\n",
       "      <td>14</td>\n",
       "      <td>15</td>\n",
       "    </tr>\n",
       "    <tr>\n",
       "      <th>4</th>\n",
       "      <td>18</td>\n",
       "      <td>19</td>\n",
       "    </tr>\n",
       "    <tr>\n",
       "      <th>5</th>\n",
       "      <td>22</td>\n",
       "      <td>23</td>\n",
       "    </tr>\n",
       "    <tr>\n",
       "      <th>6</th>\n",
       "      <td>26</td>\n",
       "      <td>27</td>\n",
       "    </tr>\n",
       "  </tbody>\n",
       "</table>\n",
       "</div>"
      ],
      "text/plain": [
       "   val3  val4\n",
       "0     2     3\n",
       "1     6     7\n",
       "2    10    11\n",
       "3    14    15\n",
       "4    18    19\n",
       "5    22    23\n",
       "6    26    27"
      ]
     },
     "execution_count": 172,
     "metadata": {},
     "output_type": "execute_result"
    }
   ],
   "source": [
    "df.drop(['val1','val2'], axis = 1)"
   ]
  },
  {
   "cell_type": "code",
   "execution_count": 173,
   "id": "04dcb391",
   "metadata": {},
   "outputs": [
    {
     "data": {
      "text/html": [
       "<div>\n",
       "<style scoped>\n",
       "    .dataframe tbody tr th:only-of-type {\n",
       "        vertical-align: middle;\n",
       "    }\n",
       "\n",
       "    .dataframe tbody tr th {\n",
       "        vertical-align: top;\n",
       "    }\n",
       "\n",
       "    .dataframe thead th {\n",
       "        text-align: right;\n",
       "    }\n",
       "</style>\n",
       "<table border=\"1\" class=\"dataframe\">\n",
       "  <thead>\n",
       "    <tr style=\"text-align: right;\">\n",
       "      <th></th>\n",
       "      <th>val1</th>\n",
       "      <th>val2</th>\n",
       "      <th>val3</th>\n",
       "      <th>val4</th>\n",
       "    </tr>\n",
       "  </thead>\n",
       "  <tbody>\n",
       "    <tr>\n",
       "      <th>0</th>\n",
       "      <td>0</td>\n",
       "      <td>1</td>\n",
       "      <td>2</td>\n",
       "      <td>3</td>\n",
       "    </tr>\n",
       "    <tr>\n",
       "      <th>1</th>\n",
       "      <td>4</td>\n",
       "      <td>5</td>\n",
       "      <td>6</td>\n",
       "      <td>7</td>\n",
       "    </tr>\n",
       "    <tr>\n",
       "      <th>2</th>\n",
       "      <td>8</td>\n",
       "      <td>9</td>\n",
       "      <td>10</td>\n",
       "      <td>11</td>\n",
       "    </tr>\n",
       "    <tr>\n",
       "      <th>3</th>\n",
       "      <td>12</td>\n",
       "      <td>13</td>\n",
       "      <td>14</td>\n",
       "      <td>15</td>\n",
       "    </tr>\n",
       "    <tr>\n",
       "      <th>4</th>\n",
       "      <td>16</td>\n",
       "      <td>17</td>\n",
       "      <td>18</td>\n",
       "      <td>19</td>\n",
       "    </tr>\n",
       "    <tr>\n",
       "      <th>5</th>\n",
       "      <td>20</td>\n",
       "      <td>21</td>\n",
       "      <td>22</td>\n",
       "      <td>23</td>\n",
       "    </tr>\n",
       "    <tr>\n",
       "      <th>6</th>\n",
       "      <td>24</td>\n",
       "      <td>25</td>\n",
       "      <td>26</td>\n",
       "      <td>27</td>\n",
       "    </tr>\n",
       "  </tbody>\n",
       "</table>\n",
       "</div>"
      ],
      "text/plain": [
       "   val1  val2  val3  val4\n",
       "0     0     1     2     3\n",
       "1     4     5     6     7\n",
       "2     8     9    10    11\n",
       "3    12    13    14    15\n",
       "4    16    17    18    19\n",
       "5    20    21    22    23\n",
       "6    24    25    26    27"
      ]
     },
     "execution_count": 173,
     "metadata": {},
     "output_type": "execute_result"
    }
   ],
   "source": [
    "df"
   ]
  },
  {
   "cell_type": "markdown",
   "id": "83df4e91",
   "metadata": {},
   "source": [
    "# Row deletion"
   ]
  },
  {
   "cell_type": "code",
   "execution_count": 176,
   "id": "f2306dd1",
   "metadata": {},
   "outputs": [],
   "source": [
    "# for row, axis = 0 and for permanent extraction, inplace = True\n",
    "df.drop([2,5], axis = 0, inplace=True)"
   ]
  },
  {
   "cell_type": "code",
   "execution_count": 177,
   "id": "b57f3e13",
   "metadata": {},
   "outputs": [
    {
     "data": {
      "text/html": [
       "<div>\n",
       "<style scoped>\n",
       "    .dataframe tbody tr th:only-of-type {\n",
       "        vertical-align: middle;\n",
       "    }\n",
       "\n",
       "    .dataframe tbody tr th {\n",
       "        vertical-align: top;\n",
       "    }\n",
       "\n",
       "    .dataframe thead th {\n",
       "        text-align: right;\n",
       "    }\n",
       "</style>\n",
       "<table border=\"1\" class=\"dataframe\">\n",
       "  <thead>\n",
       "    <tr style=\"text-align: right;\">\n",
       "      <th></th>\n",
       "      <th>val1</th>\n",
       "      <th>val2</th>\n",
       "      <th>val3</th>\n",
       "      <th>val4</th>\n",
       "    </tr>\n",
       "  </thead>\n",
       "  <tbody>\n",
       "    <tr>\n",
       "      <th>0</th>\n",
       "      <td>0</td>\n",
       "      <td>1</td>\n",
       "      <td>2</td>\n",
       "      <td>3</td>\n",
       "    </tr>\n",
       "    <tr>\n",
       "      <th>1</th>\n",
       "      <td>4</td>\n",
       "      <td>5</td>\n",
       "      <td>6</td>\n",
       "      <td>7</td>\n",
       "    </tr>\n",
       "    <tr>\n",
       "      <th>3</th>\n",
       "      <td>12</td>\n",
       "      <td>13</td>\n",
       "      <td>14</td>\n",
       "      <td>15</td>\n",
       "    </tr>\n",
       "    <tr>\n",
       "      <th>4</th>\n",
       "      <td>16</td>\n",
       "      <td>17</td>\n",
       "      <td>18</td>\n",
       "      <td>19</td>\n",
       "    </tr>\n",
       "    <tr>\n",
       "      <th>6</th>\n",
       "      <td>24</td>\n",
       "      <td>25</td>\n",
       "      <td>26</td>\n",
       "      <td>27</td>\n",
       "    </tr>\n",
       "  </tbody>\n",
       "</table>\n",
       "</div>"
      ],
      "text/plain": [
       "   val1  val2  val3  val4\n",
       "0     0     1     2     3\n",
       "1     4     5     6     7\n",
       "3    12    13    14    15\n",
       "4    16    17    18    19\n",
       "6    24    25    26    27"
      ]
     },
     "execution_count": 177,
     "metadata": {},
     "output_type": "execute_result"
    }
   ],
   "source": [
    "df"
   ]
  },
  {
   "cell_type": "markdown",
   "id": "60bdf996",
   "metadata": {},
   "source": [
    "# Null values in Pandas Dataframes"
   ]
  },
  {
   "cell_type": "code",
   "execution_count": 178,
   "id": "3241ad73",
   "metadata": {},
   "outputs": [],
   "source": [
    "import numpy as np\n",
    "import pandas as pd"
   ]
  },
  {
   "cell_type": "code",
   "execution_count": 179,
   "id": "93f2ab8a",
   "metadata": {},
   "outputs": [],
   "source": [
    "df = pd.DataFrame(\n",
    "{\n",
    "    'val1': [2, 4, np.nan, 6, np.nan, 8, 10],\n",
    "    'val2': [123, np.nan, 456, np.nan, 789, 246, 357],\n",
    "    'val3': ['France', 'Greece', 'USA', 'Japan', 'Sweden', 'Norway', 'Turkey']\n",
    "}\n",
    ")"
   ]
  },
  {
   "cell_type": "code",
   "execution_count": 180,
   "id": "ba9f305d",
   "metadata": {},
   "outputs": [
    {
     "data": {
      "text/html": [
       "<div>\n",
       "<style scoped>\n",
       "    .dataframe tbody tr th:only-of-type {\n",
       "        vertical-align: middle;\n",
       "    }\n",
       "\n",
       "    .dataframe tbody tr th {\n",
       "        vertical-align: top;\n",
       "    }\n",
       "\n",
       "    .dataframe thead th {\n",
       "        text-align: right;\n",
       "    }\n",
       "</style>\n",
       "<table border=\"1\" class=\"dataframe\">\n",
       "  <thead>\n",
       "    <tr style=\"text-align: right;\">\n",
       "      <th></th>\n",
       "      <th>val1</th>\n",
       "      <th>val2</th>\n",
       "      <th>val3</th>\n",
       "    </tr>\n",
       "  </thead>\n",
       "  <tbody>\n",
       "    <tr>\n",
       "      <th>0</th>\n",
       "      <td>2.0</td>\n",
       "      <td>123.0</td>\n",
       "      <td>France</td>\n",
       "    </tr>\n",
       "    <tr>\n",
       "      <th>1</th>\n",
       "      <td>4.0</td>\n",
       "      <td>NaN</td>\n",
       "      <td>Greece</td>\n",
       "    </tr>\n",
       "    <tr>\n",
       "      <th>2</th>\n",
       "      <td>NaN</td>\n",
       "      <td>456.0</td>\n",
       "      <td>USA</td>\n",
       "    </tr>\n",
       "    <tr>\n",
       "      <th>3</th>\n",
       "      <td>6.0</td>\n",
       "      <td>NaN</td>\n",
       "      <td>Japan</td>\n",
       "    </tr>\n",
       "    <tr>\n",
       "      <th>4</th>\n",
       "      <td>NaN</td>\n",
       "      <td>789.0</td>\n",
       "      <td>Sweden</td>\n",
       "    </tr>\n",
       "    <tr>\n",
       "      <th>5</th>\n",
       "      <td>8.0</td>\n",
       "      <td>246.0</td>\n",
       "      <td>Norway</td>\n",
       "    </tr>\n",
       "    <tr>\n",
       "      <th>6</th>\n",
       "      <td>10.0</td>\n",
       "      <td>357.0</td>\n",
       "      <td>Turkey</td>\n",
       "    </tr>\n",
       "  </tbody>\n",
       "</table>\n",
       "</div>"
      ],
      "text/plain": [
       "   val1   val2    val3\n",
       "0   2.0  123.0  France\n",
       "1   4.0    NaN  Greece\n",
       "2   NaN  456.0     USA\n",
       "3   6.0    NaN   Japan\n",
       "4   NaN  789.0  Sweden\n",
       "5   8.0  246.0  Norway\n",
       "6  10.0  357.0  Turkey"
      ]
     },
     "execution_count": 180,
     "metadata": {},
     "output_type": "execute_result"
    }
   ],
   "source": [
    "df"
   ]
  },
  {
   "cell_type": "code",
   "execution_count": 181,
   "id": "12c11931",
   "metadata": {},
   "outputs": [
    {
     "data": {
      "text/plain": [
       "<bound method DataFrame.isnull of    val1   val2    val3\n",
       "0   2.0  123.0  France\n",
       "1   4.0    NaN  Greece\n",
       "2   NaN  456.0     USA\n",
       "3   6.0    NaN   Japan\n",
       "4   NaN  789.0  Sweden\n",
       "5   8.0  246.0  Norway\n",
       "6  10.0  357.0  Turkey>"
      ]
     },
     "execution_count": 181,
     "metadata": {},
     "output_type": "execute_result"
    }
   ],
   "source": [
    "df.isnull"
   ]
  },
  {
   "cell_type": "code",
   "execution_count": 182,
   "id": "85192ae8",
   "metadata": {},
   "outputs": [
    {
     "data": {
      "text/html": [
       "<div>\n",
       "<style scoped>\n",
       "    .dataframe tbody tr th:only-of-type {\n",
       "        vertical-align: middle;\n",
       "    }\n",
       "\n",
       "    .dataframe tbody tr th {\n",
       "        vertical-align: top;\n",
       "    }\n",
       "\n",
       "    .dataframe thead th {\n",
       "        text-align: right;\n",
       "    }\n",
       "</style>\n",
       "<table border=\"1\" class=\"dataframe\">\n",
       "  <thead>\n",
       "    <tr style=\"text-align: right;\">\n",
       "      <th></th>\n",
       "      <th>val1</th>\n",
       "      <th>val2</th>\n",
       "      <th>val3</th>\n",
       "    </tr>\n",
       "  </thead>\n",
       "  <tbody>\n",
       "    <tr>\n",
       "      <th>0</th>\n",
       "      <td>False</td>\n",
       "      <td>False</td>\n",
       "      <td>False</td>\n",
       "    </tr>\n",
       "    <tr>\n",
       "      <th>1</th>\n",
       "      <td>False</td>\n",
       "      <td>True</td>\n",
       "      <td>False</td>\n",
       "    </tr>\n",
       "    <tr>\n",
       "      <th>2</th>\n",
       "      <td>True</td>\n",
       "      <td>False</td>\n",
       "      <td>False</td>\n",
       "    </tr>\n",
       "    <tr>\n",
       "      <th>3</th>\n",
       "      <td>False</td>\n",
       "      <td>True</td>\n",
       "      <td>False</td>\n",
       "    </tr>\n",
       "    <tr>\n",
       "      <th>4</th>\n",
       "      <td>True</td>\n",
       "      <td>False</td>\n",
       "      <td>False</td>\n",
       "    </tr>\n",
       "    <tr>\n",
       "      <th>5</th>\n",
       "      <td>False</td>\n",
       "      <td>False</td>\n",
       "      <td>False</td>\n",
       "    </tr>\n",
       "    <tr>\n",
       "      <th>6</th>\n",
       "      <td>False</td>\n",
       "      <td>False</td>\n",
       "      <td>False</td>\n",
       "    </tr>\n",
       "  </tbody>\n",
       "</table>\n",
       "</div>"
      ],
      "text/plain": [
       "    val1   val2   val3\n",
       "0  False  False  False\n",
       "1  False   True  False\n",
       "2   True  False  False\n",
       "3  False   True  False\n",
       "4   True  False  False\n",
       "5  False  False  False\n",
       "6  False  False  False"
      ]
     },
     "execution_count": 182,
     "metadata": {},
     "output_type": "execute_result"
    }
   ],
   "source": [
    "df.isnull()"
   ]
  },
  {
   "cell_type": "code",
   "execution_count": 183,
   "id": "c3fddfaf",
   "metadata": {},
   "outputs": [
    {
     "data": {
      "text/plain": [
       "val1    2\n",
       "val2    2\n",
       "val3    0\n",
       "dtype: int64"
      ]
     },
     "execution_count": 183,
     "metadata": {},
     "output_type": "execute_result"
    }
   ],
   "source": [
    "df.isnull().sum()"
   ]
  },
  {
   "cell_type": "code",
   "execution_count": 184,
   "id": "3afd3fef",
   "metadata": {},
   "outputs": [
    {
     "data": {
      "text/plain": [
       "7"
      ]
     },
     "execution_count": 184,
     "metadata": {},
     "output_type": "execute_result"
    }
   ],
   "source": [
    "len(df)"
   ]
  },
  {
   "cell_type": "code",
   "execution_count": 187,
   "id": "f0d3416c",
   "metadata": {},
   "outputs": [
    {
     "data": {
      "text/plain": [
       "val1    28.571429\n",
       "val2    28.571429\n",
       "val3     0.000000\n",
       "dtype: float64"
      ]
     },
     "execution_count": 187,
     "metadata": {},
     "output_type": "execute_result"
    }
   ],
   "source": [
    "#calculate the percentage of the null values in the dataframe\n",
    "df.isnull().sum()/len(df)*100"
   ]
  },
  {
   "cell_type": "code",
   "execution_count": 188,
   "id": "7761a5b8",
   "metadata": {},
   "outputs": [
    {
     "data": {
      "text/html": [
       "<div>\n",
       "<style scoped>\n",
       "    .dataframe tbody tr th:only-of-type {\n",
       "        vertical-align: middle;\n",
       "    }\n",
       "\n",
       "    .dataframe tbody tr th {\n",
       "        vertical-align: top;\n",
       "    }\n",
       "\n",
       "    .dataframe thead th {\n",
       "        text-align: right;\n",
       "    }\n",
       "</style>\n",
       "<table border=\"1\" class=\"dataframe\">\n",
       "  <thead>\n",
       "    <tr style=\"text-align: right;\">\n",
       "      <th></th>\n",
       "      <th>val1</th>\n",
       "      <th>val2</th>\n",
       "      <th>val3</th>\n",
       "    </tr>\n",
       "  </thead>\n",
       "  <tbody>\n",
       "    <tr>\n",
       "      <th>0</th>\n",
       "      <td>True</td>\n",
       "      <td>True</td>\n",
       "      <td>True</td>\n",
       "    </tr>\n",
       "    <tr>\n",
       "      <th>1</th>\n",
       "      <td>True</td>\n",
       "      <td>False</td>\n",
       "      <td>True</td>\n",
       "    </tr>\n",
       "    <tr>\n",
       "      <th>2</th>\n",
       "      <td>False</td>\n",
       "      <td>True</td>\n",
       "      <td>True</td>\n",
       "    </tr>\n",
       "    <tr>\n",
       "      <th>3</th>\n",
       "      <td>True</td>\n",
       "      <td>False</td>\n",
       "      <td>True</td>\n",
       "    </tr>\n",
       "    <tr>\n",
       "      <th>4</th>\n",
       "      <td>False</td>\n",
       "      <td>True</td>\n",
       "      <td>True</td>\n",
       "    </tr>\n",
       "    <tr>\n",
       "      <th>5</th>\n",
       "      <td>True</td>\n",
       "      <td>True</td>\n",
       "      <td>True</td>\n",
       "    </tr>\n",
       "    <tr>\n",
       "      <th>6</th>\n",
       "      <td>True</td>\n",
       "      <td>True</td>\n",
       "      <td>True</td>\n",
       "    </tr>\n",
       "  </tbody>\n",
       "</table>\n",
       "</div>"
      ],
      "text/plain": [
       "    val1   val2  val3\n",
       "0   True   True  True\n",
       "1   True  False  True\n",
       "2  False   True  True\n",
       "3   True  False  True\n",
       "4  False   True  True\n",
       "5   True   True  True\n",
       "6   True   True  True"
      ]
     },
     "execution_count": 188,
     "metadata": {},
     "output_type": "execute_result"
    }
   ],
   "source": [
    "df.notnull()"
   ]
  },
  {
   "cell_type": "code",
   "execution_count": 189,
   "id": "017f4e44",
   "metadata": {},
   "outputs": [
    {
     "data": {
      "text/plain": [
       "val1    5\n",
       "val2    5\n",
       "val3    7\n",
       "dtype: int64"
      ]
     },
     "execution_count": 189,
     "metadata": {},
     "output_type": "execute_result"
    }
   ],
   "source": [
    "#total of the not null values\n",
    "df.notnull().sum()"
   ]
  },
  {
   "cell_type": "code",
   "execution_count": 190,
   "id": "5ded13f5",
   "metadata": {},
   "outputs": [
    {
     "data": {
      "text/plain": [
       "0     True\n",
       "1     True\n",
       "2    False\n",
       "3     True\n",
       "4    False\n",
       "5     True\n",
       "6     True\n",
       "Name: val1, dtype: bool"
      ]
     },
     "execution_count": 190,
     "metadata": {},
     "output_type": "execute_result"
    }
   ],
   "source": [
    "df['val1'].notnull()"
   ]
  },
  {
   "cell_type": "code",
   "execution_count": 192,
   "id": "5c4b27c4",
   "metadata": {},
   "outputs": [
    {
     "data": {
      "text/html": [
       "<div>\n",
       "<style scoped>\n",
       "    .dataframe tbody tr th:only-of-type {\n",
       "        vertical-align: middle;\n",
       "    }\n",
       "\n",
       "    .dataframe tbody tr th {\n",
       "        vertical-align: top;\n",
       "    }\n",
       "\n",
       "    .dataframe thead th {\n",
       "        text-align: right;\n",
       "    }\n",
       "</style>\n",
       "<table border=\"1\" class=\"dataframe\">\n",
       "  <thead>\n",
       "    <tr style=\"text-align: right;\">\n",
       "      <th></th>\n",
       "      <th>val1</th>\n",
       "      <th>val2</th>\n",
       "      <th>val3</th>\n",
       "    </tr>\n",
       "  </thead>\n",
       "  <tbody>\n",
       "    <tr>\n",
       "      <th>0</th>\n",
       "      <td>2.0</td>\n",
       "      <td>123.0</td>\n",
       "      <td>France</td>\n",
       "    </tr>\n",
       "    <tr>\n",
       "      <th>1</th>\n",
       "      <td>4.0</td>\n",
       "      <td>NaN</td>\n",
       "      <td>Greece</td>\n",
       "    </tr>\n",
       "    <tr>\n",
       "      <th>3</th>\n",
       "      <td>6.0</td>\n",
       "      <td>NaN</td>\n",
       "      <td>Japan</td>\n",
       "    </tr>\n",
       "    <tr>\n",
       "      <th>5</th>\n",
       "      <td>8.0</td>\n",
       "      <td>246.0</td>\n",
       "      <td>Norway</td>\n",
       "    </tr>\n",
       "    <tr>\n",
       "      <th>6</th>\n",
       "      <td>10.0</td>\n",
       "      <td>357.0</td>\n",
       "      <td>Turkey</td>\n",
       "    </tr>\n",
       "  </tbody>\n",
       "</table>\n",
       "</div>"
      ],
      "text/plain": [
       "   val1   val2    val3\n",
       "0   2.0  123.0  France\n",
       "1   4.0    NaN  Greece\n",
       "3   6.0    NaN   Japan\n",
       "5   8.0  246.0  Norway\n",
       "6  10.0  357.0  Turkey"
      ]
     },
     "execution_count": 192,
     "metadata": {},
     "output_type": "execute_result"
    }
   ],
   "source": [
    "df[df['val1'].notnull()]"
   ]
  },
  {
   "cell_type": "code",
   "execution_count": 193,
   "id": "a6b44878",
   "metadata": {},
   "outputs": [
    {
     "data": {
      "text/html": [
       "<div>\n",
       "<style scoped>\n",
       "    .dataframe tbody tr th:only-of-type {\n",
       "        vertical-align: middle;\n",
       "    }\n",
       "\n",
       "    .dataframe tbody tr th {\n",
       "        vertical-align: top;\n",
       "    }\n",
       "\n",
       "    .dataframe thead th {\n",
       "        text-align: right;\n",
       "    }\n",
       "</style>\n",
       "<table border=\"1\" class=\"dataframe\">\n",
       "  <thead>\n",
       "    <tr style=\"text-align: right;\">\n",
       "      <th></th>\n",
       "      <th>val1</th>\n",
       "      <th>val2</th>\n",
       "      <th>val3</th>\n",
       "    </tr>\n",
       "  </thead>\n",
       "  <tbody>\n",
       "    <tr>\n",
       "      <th>0</th>\n",
       "      <td>2.0</td>\n",
       "      <td>123.0</td>\n",
       "      <td>France</td>\n",
       "    </tr>\n",
       "    <tr>\n",
       "      <th>1</th>\n",
       "      <td>4.0</td>\n",
       "      <td>NaN</td>\n",
       "      <td>Greece</td>\n",
       "    </tr>\n",
       "    <tr>\n",
       "      <th>2</th>\n",
       "      <td>NaN</td>\n",
       "      <td>456.0</td>\n",
       "      <td>USA</td>\n",
       "    </tr>\n",
       "    <tr>\n",
       "      <th>3</th>\n",
       "      <td>6.0</td>\n",
       "      <td>NaN</td>\n",
       "      <td>Japan</td>\n",
       "    </tr>\n",
       "    <tr>\n",
       "      <th>4</th>\n",
       "      <td>NaN</td>\n",
       "      <td>789.0</td>\n",
       "      <td>Sweden</td>\n",
       "    </tr>\n",
       "    <tr>\n",
       "      <th>5</th>\n",
       "      <td>8.0</td>\n",
       "      <td>246.0</td>\n",
       "      <td>Norway</td>\n",
       "    </tr>\n",
       "    <tr>\n",
       "      <th>6</th>\n",
       "      <td>10.0</td>\n",
       "      <td>357.0</td>\n",
       "      <td>Turkey</td>\n",
       "    </tr>\n",
       "  </tbody>\n",
       "</table>\n",
       "</div>"
      ],
      "text/plain": [
       "   val1   val2    val3\n",
       "0   2.0  123.0  France\n",
       "1   4.0    NaN  Greece\n",
       "2   NaN  456.0     USA\n",
       "3   6.0    NaN   Japan\n",
       "4   NaN  789.0  Sweden\n",
       "5   8.0  246.0  Norway\n",
       "6  10.0  357.0  Turkey"
      ]
     },
     "execution_count": 193,
     "metadata": {},
     "output_type": "execute_result"
    }
   ],
   "source": [
    "df"
   ]
  },
  {
   "cell_type": "code",
   "execution_count": 195,
   "id": "d61fa40d",
   "metadata": {},
   "outputs": [
    {
     "data": {
      "text/plain": [
       "val1     True\n",
       "val2     True\n",
       "val3    False\n",
       "dtype: bool"
      ]
     },
     "execution_count": 195,
     "metadata": {},
     "output_type": "execute_result"
    }
   ],
   "source": [
    "#search for any null value, if finds, returns false, esle true\n",
    "df.isnull().any()"
   ]
  },
  {
   "cell_type": "code",
   "execution_count": 196,
   "id": "31bd0ed6",
   "metadata": {},
   "outputs": [
    {
     "data": {
      "text/plain": [
       "0    False\n",
       "1     True\n",
       "2     True\n",
       "3     True\n",
       "4     True\n",
       "5    False\n",
       "6    False\n",
       "dtype: bool"
      ]
     },
     "execution_count": 196,
     "metadata": {},
     "output_type": "execute_result"
    }
   ],
   "source": [
    "df.isnull().any(axis= 1)"
   ]
  },
  {
   "cell_type": "code",
   "execution_count": 197,
   "id": "f16fe2f3",
   "metadata": {},
   "outputs": [
    {
     "data": {
      "text/plain": [
       "val1     True\n",
       "val2     True\n",
       "val3    False\n",
       "dtype: bool"
      ]
     },
     "execution_count": 197,
     "metadata": {},
     "output_type": "execute_result"
    }
   ],
   "source": [
    "df.isnull().any(axis=0)"
   ]
  },
  {
   "cell_type": "code",
   "execution_count": 198,
   "id": "d7980355",
   "metadata": {},
   "outputs": [],
   "source": [
    "condition = df.isnull().any(axis= 1)"
   ]
  },
  {
   "cell_type": "code",
   "execution_count": 200,
   "id": "5ed701e7",
   "metadata": {},
   "outputs": [
    {
     "data": {
      "text/html": [
       "<div>\n",
       "<style scoped>\n",
       "    .dataframe tbody tr th:only-of-type {\n",
       "        vertical-align: middle;\n",
       "    }\n",
       "\n",
       "    .dataframe tbody tr th {\n",
       "        vertical-align: top;\n",
       "    }\n",
       "\n",
       "    .dataframe thead th {\n",
       "        text-align: right;\n",
       "    }\n",
       "</style>\n",
       "<table border=\"1\" class=\"dataframe\">\n",
       "  <thead>\n",
       "    <tr style=\"text-align: right;\">\n",
       "      <th></th>\n",
       "      <th>val1</th>\n",
       "      <th>val2</th>\n",
       "      <th>val3</th>\n",
       "    </tr>\n",
       "  </thead>\n",
       "  <tbody>\n",
       "    <tr>\n",
       "      <th>1</th>\n",
       "      <td>4.0</td>\n",
       "      <td>NaN</td>\n",
       "      <td>Greece</td>\n",
       "    </tr>\n",
       "    <tr>\n",
       "      <th>2</th>\n",
       "      <td>NaN</td>\n",
       "      <td>456.0</td>\n",
       "      <td>USA</td>\n",
       "    </tr>\n",
       "    <tr>\n",
       "      <th>3</th>\n",
       "      <td>6.0</td>\n",
       "      <td>NaN</td>\n",
       "      <td>Japan</td>\n",
       "    </tr>\n",
       "    <tr>\n",
       "      <th>4</th>\n",
       "      <td>NaN</td>\n",
       "      <td>789.0</td>\n",
       "      <td>Sweden</td>\n",
       "    </tr>\n",
       "  </tbody>\n",
       "</table>\n",
       "</div>"
      ],
      "text/plain": [
       "   val1   val2    val3\n",
       "1   4.0    NaN  Greece\n",
       "2   NaN  456.0     USA\n",
       "3   6.0    NaN   Japan\n",
       "4   NaN  789.0  Sweden"
      ]
     },
     "execution_count": 200,
     "metadata": {},
     "output_type": "execute_result"
    }
   ],
   "source": [
    "df[condition]"
   ]
  },
  {
   "cell_type": "code",
   "execution_count": 202,
   "id": "b0979974",
   "metadata": {},
   "outputs": [
    {
     "data": {
      "text/plain": [
       "val1    False\n",
       "val2    False\n",
       "val3     True\n",
       "dtype: bool"
      ]
     },
     "execution_count": 202,
     "metadata": {},
     "output_type": "execute_result"
    }
   ],
   "source": [
    "#check either all the values are not null\n",
    "df.notnull().all()"
   ]
  },
  {
   "cell_type": "markdown",
   "id": "af6db6f8",
   "metadata": {},
   "source": [
    "# filling in the missing values"
   ]
  },
  {
   "cell_type": "code",
   "execution_count": 203,
   "id": "5fbc8e90",
   "metadata": {},
   "outputs": [],
   "source": [
    "import numpy as np\n",
    "import pandas as pd"
   ]
  },
  {
   "cell_type": "code",
   "execution_count": 208,
   "id": "649a633e",
   "metadata": {},
   "outputs": [],
   "source": [
    "df = pd.DataFrame({\n",
    "    'val1': [1,2,3,4,5,6,7,8,9,10,np.nan],\n",
    "    'val2': [np.nan, 2, 4, 6, np.nan, 8, 10, np.nan, 12, np.nan,14]\n",
    "})"
   ]
  },
  {
   "cell_type": "code",
   "execution_count": 209,
   "id": "59956009",
   "metadata": {},
   "outputs": [
    {
     "data": {
      "text/html": [
       "<div>\n",
       "<style scoped>\n",
       "    .dataframe tbody tr th:only-of-type {\n",
       "        vertical-align: middle;\n",
       "    }\n",
       "\n",
       "    .dataframe tbody tr th {\n",
       "        vertical-align: top;\n",
       "    }\n",
       "\n",
       "    .dataframe thead th {\n",
       "        text-align: right;\n",
       "    }\n",
       "</style>\n",
       "<table border=\"1\" class=\"dataframe\">\n",
       "  <thead>\n",
       "    <tr style=\"text-align: right;\">\n",
       "      <th></th>\n",
       "      <th>val1</th>\n",
       "      <th>val2</th>\n",
       "    </tr>\n",
       "  </thead>\n",
       "  <tbody>\n",
       "    <tr>\n",
       "      <th>0</th>\n",
       "      <td>1.0</td>\n",
       "      <td>NaN</td>\n",
       "    </tr>\n",
       "    <tr>\n",
       "      <th>1</th>\n",
       "      <td>2.0</td>\n",
       "      <td>2.0</td>\n",
       "    </tr>\n",
       "    <tr>\n",
       "      <th>2</th>\n",
       "      <td>3.0</td>\n",
       "      <td>4.0</td>\n",
       "    </tr>\n",
       "    <tr>\n",
       "      <th>3</th>\n",
       "      <td>4.0</td>\n",
       "      <td>6.0</td>\n",
       "    </tr>\n",
       "    <tr>\n",
       "      <th>4</th>\n",
       "      <td>5.0</td>\n",
       "      <td>NaN</td>\n",
       "    </tr>\n",
       "    <tr>\n",
       "      <th>5</th>\n",
       "      <td>6.0</td>\n",
       "      <td>8.0</td>\n",
       "    </tr>\n",
       "    <tr>\n",
       "      <th>6</th>\n",
       "      <td>7.0</td>\n",
       "      <td>10.0</td>\n",
       "    </tr>\n",
       "    <tr>\n",
       "      <th>7</th>\n",
       "      <td>8.0</td>\n",
       "      <td>NaN</td>\n",
       "    </tr>\n",
       "    <tr>\n",
       "      <th>8</th>\n",
       "      <td>9.0</td>\n",
       "      <td>12.0</td>\n",
       "    </tr>\n",
       "    <tr>\n",
       "      <th>9</th>\n",
       "      <td>10.0</td>\n",
       "      <td>NaN</td>\n",
       "    </tr>\n",
       "    <tr>\n",
       "      <th>10</th>\n",
       "      <td>NaN</td>\n",
       "      <td>14.0</td>\n",
       "    </tr>\n",
       "  </tbody>\n",
       "</table>\n",
       "</div>"
      ],
      "text/plain": [
       "    val1  val2\n",
       "0    1.0   NaN\n",
       "1    2.0   2.0\n",
       "2    3.0   4.0\n",
       "3    4.0   6.0\n",
       "4    5.0   NaN\n",
       "5    6.0   8.0\n",
       "6    7.0  10.0\n",
       "7    8.0   NaN\n",
       "8    9.0  12.0\n",
       "9   10.0   NaN\n",
       "10   NaN  14.0"
      ]
     },
     "execution_count": 209,
     "metadata": {},
     "output_type": "execute_result"
    }
   ],
   "source": [
    "df"
   ]
  },
  {
   "cell_type": "code",
   "execution_count": 210,
   "id": "d389a1e7",
   "metadata": {},
   "outputs": [
    {
     "data": {
      "text/html": [
       "<div>\n",
       "<style scoped>\n",
       "    .dataframe tbody tr th:only-of-type {\n",
       "        vertical-align: middle;\n",
       "    }\n",
       "\n",
       "    .dataframe tbody tr th {\n",
       "        vertical-align: top;\n",
       "    }\n",
       "\n",
       "    .dataframe thead th {\n",
       "        text-align: right;\n",
       "    }\n",
       "</style>\n",
       "<table border=\"1\" class=\"dataframe\">\n",
       "  <thead>\n",
       "    <tr style=\"text-align: right;\">\n",
       "      <th></th>\n",
       "      <th>val1</th>\n",
       "      <th>val2</th>\n",
       "    </tr>\n",
       "  </thead>\n",
       "  <tbody>\n",
       "    <tr>\n",
       "      <th>0</th>\n",
       "      <td>1.0</td>\n",
       "      <td>100.0</td>\n",
       "    </tr>\n",
       "    <tr>\n",
       "      <th>1</th>\n",
       "      <td>2.0</td>\n",
       "      <td>2.0</td>\n",
       "    </tr>\n",
       "    <tr>\n",
       "      <th>2</th>\n",
       "      <td>3.0</td>\n",
       "      <td>4.0</td>\n",
       "    </tr>\n",
       "    <tr>\n",
       "      <th>3</th>\n",
       "      <td>4.0</td>\n",
       "      <td>6.0</td>\n",
       "    </tr>\n",
       "    <tr>\n",
       "      <th>4</th>\n",
       "      <td>5.0</td>\n",
       "      <td>100.0</td>\n",
       "    </tr>\n",
       "    <tr>\n",
       "      <th>5</th>\n",
       "      <td>6.0</td>\n",
       "      <td>8.0</td>\n",
       "    </tr>\n",
       "    <tr>\n",
       "      <th>6</th>\n",
       "      <td>7.0</td>\n",
       "      <td>10.0</td>\n",
       "    </tr>\n",
       "    <tr>\n",
       "      <th>7</th>\n",
       "      <td>8.0</td>\n",
       "      <td>100.0</td>\n",
       "    </tr>\n",
       "    <tr>\n",
       "      <th>8</th>\n",
       "      <td>9.0</td>\n",
       "      <td>12.0</td>\n",
       "    </tr>\n",
       "    <tr>\n",
       "      <th>9</th>\n",
       "      <td>10.0</td>\n",
       "      <td>100.0</td>\n",
       "    </tr>\n",
       "    <tr>\n",
       "      <th>10</th>\n",
       "      <td>100.0</td>\n",
       "      <td>14.0</td>\n",
       "    </tr>\n",
       "  </tbody>\n",
       "</table>\n",
       "</div>"
      ],
      "text/plain": [
       "     val1   val2\n",
       "0     1.0  100.0\n",
       "1     2.0    2.0\n",
       "2     3.0    4.0\n",
       "3     4.0    6.0\n",
       "4     5.0  100.0\n",
       "5     6.0    8.0\n",
       "6     7.0   10.0\n",
       "7     8.0  100.0\n",
       "8     9.0   12.0\n",
       "9    10.0  100.0\n",
       "10  100.0   14.0"
      ]
     },
     "execution_count": 210,
     "metadata": {},
     "output_type": "execute_result"
    }
   ],
   "source": [
    "df.fillna(100)"
   ]
  },
  {
   "cell_type": "code",
   "execution_count": 212,
   "id": "4b39f95f",
   "metadata": {},
   "outputs": [
    {
     "data": {
      "text/plain": [
       "0       1.0\n",
       "1       2.0\n",
       "2       3.0\n",
       "3       4.0\n",
       "4       5.0\n",
       "5       6.0\n",
       "6       7.0\n",
       "7       8.0\n",
       "8       9.0\n",
       "9      10.0\n",
       "10    100.0\n",
       "Name: val1, dtype: float64"
      ]
     },
     "execution_count": 212,
     "metadata": {},
     "output_type": "execute_result"
    }
   ],
   "source": [
    "df['val1'].fillna(100)"
   ]
  },
  {
   "cell_type": "code",
   "execution_count": 213,
   "id": "fada0a97",
   "metadata": {},
   "outputs": [
    {
     "data": {
      "text/plain": [
       "0     30.0\n",
       "1      2.0\n",
       "2      4.0\n",
       "3      6.0\n",
       "4     30.0\n",
       "5      8.0\n",
       "6     10.0\n",
       "7     30.0\n",
       "8     12.0\n",
       "9     30.0\n",
       "10    14.0\n",
       "Name: val2, dtype: float64"
      ]
     },
     "execution_count": 213,
     "metadata": {},
     "output_type": "execute_result"
    }
   ],
   "source": [
    "df['val2'].fillna(30)"
   ]
  },
  {
   "cell_type": "code",
   "execution_count": 214,
   "id": "2dba92a2",
   "metadata": {},
   "outputs": [
    {
     "data": {
      "text/plain": [
       "val1    5.5\n",
       "val2    8.0\n",
       "dtype: float64"
      ]
     },
     "execution_count": 214,
     "metadata": {},
     "output_type": "execute_result"
    }
   ],
   "source": [
    "df.mean()"
   ]
  },
  {
   "cell_type": "code",
   "execution_count": 216,
   "id": "3a27ef71",
   "metadata": {},
   "outputs": [
    {
     "data": {
      "text/html": [
       "<div>\n",
       "<style scoped>\n",
       "    .dataframe tbody tr th:only-of-type {\n",
       "        vertical-align: middle;\n",
       "    }\n",
       "\n",
       "    .dataframe tbody tr th {\n",
       "        vertical-align: top;\n",
       "    }\n",
       "\n",
       "    .dataframe thead th {\n",
       "        text-align: right;\n",
       "    }\n",
       "</style>\n",
       "<table border=\"1\" class=\"dataframe\">\n",
       "  <thead>\n",
       "    <tr style=\"text-align: right;\">\n",
       "      <th></th>\n",
       "      <th>val1</th>\n",
       "      <th>val2</th>\n",
       "    </tr>\n",
       "  </thead>\n",
       "  <tbody>\n",
       "    <tr>\n",
       "      <th>0</th>\n",
       "      <td>1.0</td>\n",
       "      <td>8.0</td>\n",
       "    </tr>\n",
       "    <tr>\n",
       "      <th>1</th>\n",
       "      <td>2.0</td>\n",
       "      <td>2.0</td>\n",
       "    </tr>\n",
       "    <tr>\n",
       "      <th>2</th>\n",
       "      <td>3.0</td>\n",
       "      <td>4.0</td>\n",
       "    </tr>\n",
       "    <tr>\n",
       "      <th>3</th>\n",
       "      <td>4.0</td>\n",
       "      <td>6.0</td>\n",
       "    </tr>\n",
       "    <tr>\n",
       "      <th>4</th>\n",
       "      <td>5.0</td>\n",
       "      <td>8.0</td>\n",
       "    </tr>\n",
       "    <tr>\n",
       "      <th>5</th>\n",
       "      <td>6.0</td>\n",
       "      <td>8.0</td>\n",
       "    </tr>\n",
       "    <tr>\n",
       "      <th>6</th>\n",
       "      <td>7.0</td>\n",
       "      <td>10.0</td>\n",
       "    </tr>\n",
       "    <tr>\n",
       "      <th>7</th>\n",
       "      <td>8.0</td>\n",
       "      <td>8.0</td>\n",
       "    </tr>\n",
       "    <tr>\n",
       "      <th>8</th>\n",
       "      <td>9.0</td>\n",
       "      <td>12.0</td>\n",
       "    </tr>\n",
       "    <tr>\n",
       "      <th>9</th>\n",
       "      <td>10.0</td>\n",
       "      <td>8.0</td>\n",
       "    </tr>\n",
       "    <tr>\n",
       "      <th>10</th>\n",
       "      <td>5.5</td>\n",
       "      <td>14.0</td>\n",
       "    </tr>\n",
       "  </tbody>\n",
       "</table>\n",
       "</div>"
      ],
      "text/plain": [
       "    val1  val2\n",
       "0    1.0   8.0\n",
       "1    2.0   2.0\n",
       "2    3.0   4.0\n",
       "3    4.0   6.0\n",
       "4    5.0   8.0\n",
       "5    6.0   8.0\n",
       "6    7.0  10.0\n",
       "7    8.0   8.0\n",
       "8    9.0  12.0\n",
       "9   10.0   8.0\n",
       "10   5.5  14.0"
      ]
     },
     "execution_count": 216,
     "metadata": {},
     "output_type": "execute_result"
    }
   ],
   "source": [
    "#fill the null value with mean of the column\n",
    "df.fillna(df.mean())"
   ]
  },
  {
   "cell_type": "code",
   "execution_count": 217,
   "id": "7fd1c3a3",
   "metadata": {},
   "outputs": [
    {
     "data": {
      "text/html": [
       "<div>\n",
       "<style scoped>\n",
       "    .dataframe tbody tr th:only-of-type {\n",
       "        vertical-align: middle;\n",
       "    }\n",
       "\n",
       "    .dataframe tbody tr th {\n",
       "        vertical-align: top;\n",
       "    }\n",
       "\n",
       "    .dataframe thead th {\n",
       "        text-align: right;\n",
       "    }\n",
       "</style>\n",
       "<table border=\"1\" class=\"dataframe\">\n",
       "  <thead>\n",
       "    <tr style=\"text-align: right;\">\n",
       "      <th></th>\n",
       "      <th>val1</th>\n",
       "      <th>val2</th>\n",
       "    </tr>\n",
       "  </thead>\n",
       "  <tbody>\n",
       "    <tr>\n",
       "      <th>0</th>\n",
       "      <td>1.0</td>\n",
       "      <td>200.0</td>\n",
       "    </tr>\n",
       "    <tr>\n",
       "      <th>1</th>\n",
       "      <td>2.0</td>\n",
       "      <td>2.0</td>\n",
       "    </tr>\n",
       "    <tr>\n",
       "      <th>2</th>\n",
       "      <td>3.0</td>\n",
       "      <td>4.0</td>\n",
       "    </tr>\n",
       "    <tr>\n",
       "      <th>3</th>\n",
       "      <td>4.0</td>\n",
       "      <td>6.0</td>\n",
       "    </tr>\n",
       "    <tr>\n",
       "      <th>4</th>\n",
       "      <td>5.0</td>\n",
       "      <td>200.0</td>\n",
       "    </tr>\n",
       "    <tr>\n",
       "      <th>5</th>\n",
       "      <td>6.0</td>\n",
       "      <td>8.0</td>\n",
       "    </tr>\n",
       "    <tr>\n",
       "      <th>6</th>\n",
       "      <td>7.0</td>\n",
       "      <td>10.0</td>\n",
       "    </tr>\n",
       "    <tr>\n",
       "      <th>7</th>\n",
       "      <td>8.0</td>\n",
       "      <td>200.0</td>\n",
       "    </tr>\n",
       "    <tr>\n",
       "      <th>8</th>\n",
       "      <td>9.0</td>\n",
       "      <td>12.0</td>\n",
       "    </tr>\n",
       "    <tr>\n",
       "      <th>9</th>\n",
       "      <td>10.0</td>\n",
       "      <td>200.0</td>\n",
       "    </tr>\n",
       "    <tr>\n",
       "      <th>10</th>\n",
       "      <td>100.0</td>\n",
       "      <td>14.0</td>\n",
       "    </tr>\n",
       "  </tbody>\n",
       "</table>\n",
       "</div>"
      ],
      "text/plain": [
       "     val1   val2\n",
       "0     1.0  200.0\n",
       "1     2.0    2.0\n",
       "2     3.0    4.0\n",
       "3     4.0    6.0\n",
       "4     5.0  200.0\n",
       "5     6.0    8.0\n",
       "6     7.0   10.0\n",
       "7     8.0  200.0\n",
       "8     9.0   12.0\n",
       "9    10.0  200.0\n",
       "10  100.0   14.0"
      ]
     },
     "execution_count": 217,
     "metadata": {},
     "output_type": "execute_result"
    }
   ],
   "source": [
    "#fill the each column separately\n",
    "\n",
    "df.fillna({'val1': 100, 'val2':200})"
   ]
  },
  {
   "cell_type": "code",
   "execution_count": 218,
   "id": "d3a03bda",
   "metadata": {},
   "outputs": [
    {
     "data": {
      "text/plain": [
       "0      1.0\n",
       "1      2.0\n",
       "2      3.0\n",
       "3      4.0\n",
       "4      5.0\n",
       "5      6.0\n",
       "6      7.0\n",
       "7      8.0\n",
       "8      9.0\n",
       "9     10.0\n",
       "10     8.0\n",
       "Name: val1, dtype: float64"
      ]
     },
     "execution_count": 218,
     "metadata": {},
     "output_type": "execute_result"
    }
   ],
   "source": [
    "#fill the nan of one column by another column's mean\n",
    "df['val1'].fillna(df['val2'].mean())"
   ]
  },
  {
   "cell_type": "code",
   "execution_count": 219,
   "id": "b97bb7c0",
   "metadata": {},
   "outputs": [
    {
     "data": {
      "text/plain": [
       "0      5.5\n",
       "1      2.0\n",
       "2      4.0\n",
       "3      6.0\n",
       "4      5.5\n",
       "5      8.0\n",
       "6     10.0\n",
       "7      5.5\n",
       "8     12.0\n",
       "9      5.5\n",
       "10    14.0\n",
       "Name: val2, dtype: float64"
      ]
     },
     "execution_count": 219,
     "metadata": {},
     "output_type": "execute_result"
    }
   ],
   "source": [
    "df['val2'].fillna(df['val1'].mean())"
   ]
  },
  {
   "cell_type": "code",
   "execution_count": 220,
   "id": "65e87ee4",
   "metadata": {},
   "outputs": [
    {
     "data": {
      "text/html": [
       "<div>\n",
       "<style scoped>\n",
       "    .dataframe tbody tr th:only-of-type {\n",
       "        vertical-align: middle;\n",
       "    }\n",
       "\n",
       "    .dataframe tbody tr th {\n",
       "        vertical-align: top;\n",
       "    }\n",
       "\n",
       "    .dataframe thead th {\n",
       "        text-align: right;\n",
       "    }\n",
       "</style>\n",
       "<table border=\"1\" class=\"dataframe\">\n",
       "  <thead>\n",
       "    <tr style=\"text-align: right;\">\n",
       "      <th></th>\n",
       "      <th>val1</th>\n",
       "      <th>val2</th>\n",
       "    </tr>\n",
       "  </thead>\n",
       "  <tbody>\n",
       "    <tr>\n",
       "      <th>0</th>\n",
       "      <td>1.0</td>\n",
       "      <td>NaN</td>\n",
       "    </tr>\n",
       "    <tr>\n",
       "      <th>1</th>\n",
       "      <td>2.0</td>\n",
       "      <td>2.0</td>\n",
       "    </tr>\n",
       "    <tr>\n",
       "      <th>2</th>\n",
       "      <td>3.0</td>\n",
       "      <td>4.0</td>\n",
       "    </tr>\n",
       "    <tr>\n",
       "      <th>3</th>\n",
       "      <td>4.0</td>\n",
       "      <td>6.0</td>\n",
       "    </tr>\n",
       "    <tr>\n",
       "      <th>4</th>\n",
       "      <td>5.0</td>\n",
       "      <td>NaN</td>\n",
       "    </tr>\n",
       "    <tr>\n",
       "      <th>5</th>\n",
       "      <td>6.0</td>\n",
       "      <td>8.0</td>\n",
       "    </tr>\n",
       "    <tr>\n",
       "      <th>6</th>\n",
       "      <td>7.0</td>\n",
       "      <td>10.0</td>\n",
       "    </tr>\n",
       "    <tr>\n",
       "      <th>7</th>\n",
       "      <td>8.0</td>\n",
       "      <td>NaN</td>\n",
       "    </tr>\n",
       "    <tr>\n",
       "      <th>8</th>\n",
       "      <td>9.0</td>\n",
       "      <td>12.0</td>\n",
       "    </tr>\n",
       "    <tr>\n",
       "      <th>9</th>\n",
       "      <td>10.0</td>\n",
       "      <td>NaN</td>\n",
       "    </tr>\n",
       "    <tr>\n",
       "      <th>10</th>\n",
       "      <td>NaN</td>\n",
       "      <td>14.0</td>\n",
       "    </tr>\n",
       "  </tbody>\n",
       "</table>\n",
       "</div>"
      ],
      "text/plain": [
       "    val1  val2\n",
       "0    1.0   NaN\n",
       "1    2.0   2.0\n",
       "2    3.0   4.0\n",
       "3    4.0   6.0\n",
       "4    5.0   NaN\n",
       "5    6.0   8.0\n",
       "6    7.0  10.0\n",
       "7    8.0   NaN\n",
       "8    9.0  12.0\n",
       "9   10.0   NaN\n",
       "10   NaN  14.0"
      ]
     },
     "execution_count": 220,
     "metadata": {},
     "output_type": "execute_result"
    }
   ],
   "source": [
    "df"
   ]
  },
  {
   "cell_type": "code",
   "execution_count": 222,
   "id": "6f72d27c",
   "metadata": {},
   "outputs": [],
   "source": [
    "df['val3'] = ['Nepal', 'sweden', 'srilanka', 'japan', 'maldives', 'korea', 'pakistan', 'myanmar', 'barma', 'china', 'afganistan']"
   ]
  },
  {
   "cell_type": "code",
   "execution_count": 223,
   "id": "c0c1f2f3",
   "metadata": {},
   "outputs": [
    {
     "data": {
      "text/html": [
       "<div>\n",
       "<style scoped>\n",
       "    .dataframe tbody tr th:only-of-type {\n",
       "        vertical-align: middle;\n",
       "    }\n",
       "\n",
       "    .dataframe tbody tr th {\n",
       "        vertical-align: top;\n",
       "    }\n",
       "\n",
       "    .dataframe thead th {\n",
       "        text-align: right;\n",
       "    }\n",
       "</style>\n",
       "<table border=\"1\" class=\"dataframe\">\n",
       "  <thead>\n",
       "    <tr style=\"text-align: right;\">\n",
       "      <th></th>\n",
       "      <th>val1</th>\n",
       "      <th>val2</th>\n",
       "      <th>val3</th>\n",
       "    </tr>\n",
       "  </thead>\n",
       "  <tbody>\n",
       "    <tr>\n",
       "      <th>0</th>\n",
       "      <td>1.0</td>\n",
       "      <td>NaN</td>\n",
       "      <td>Nepal</td>\n",
       "    </tr>\n",
       "    <tr>\n",
       "      <th>1</th>\n",
       "      <td>2.0</td>\n",
       "      <td>2.0</td>\n",
       "      <td>sweden</td>\n",
       "    </tr>\n",
       "    <tr>\n",
       "      <th>2</th>\n",
       "      <td>3.0</td>\n",
       "      <td>4.0</td>\n",
       "      <td>srilanka</td>\n",
       "    </tr>\n",
       "    <tr>\n",
       "      <th>3</th>\n",
       "      <td>4.0</td>\n",
       "      <td>6.0</td>\n",
       "      <td>japan</td>\n",
       "    </tr>\n",
       "    <tr>\n",
       "      <th>4</th>\n",
       "      <td>5.0</td>\n",
       "      <td>NaN</td>\n",
       "      <td>maldives</td>\n",
       "    </tr>\n",
       "    <tr>\n",
       "      <th>5</th>\n",
       "      <td>6.0</td>\n",
       "      <td>8.0</td>\n",
       "      <td>korea</td>\n",
       "    </tr>\n",
       "    <tr>\n",
       "      <th>6</th>\n",
       "      <td>7.0</td>\n",
       "      <td>10.0</td>\n",
       "      <td>pakistan</td>\n",
       "    </tr>\n",
       "    <tr>\n",
       "      <th>7</th>\n",
       "      <td>8.0</td>\n",
       "      <td>NaN</td>\n",
       "      <td>myanmar</td>\n",
       "    </tr>\n",
       "    <tr>\n",
       "      <th>8</th>\n",
       "      <td>9.0</td>\n",
       "      <td>12.0</td>\n",
       "      <td>barma</td>\n",
       "    </tr>\n",
       "    <tr>\n",
       "      <th>9</th>\n",
       "      <td>10.0</td>\n",
       "      <td>NaN</td>\n",
       "      <td>china</td>\n",
       "    </tr>\n",
       "    <tr>\n",
       "      <th>10</th>\n",
       "      <td>NaN</td>\n",
       "      <td>14.0</td>\n",
       "      <td>afganistan</td>\n",
       "    </tr>\n",
       "  </tbody>\n",
       "</table>\n",
       "</div>"
      ],
      "text/plain": [
       "    val1  val2        val3\n",
       "0    1.0   NaN       Nepal\n",
       "1    2.0   2.0      sweden\n",
       "2    3.0   4.0    srilanka\n",
       "3    4.0   6.0       japan\n",
       "4    5.0   NaN    maldives\n",
       "5    6.0   8.0       korea\n",
       "6    7.0  10.0    pakistan\n",
       "7    8.0   NaN     myanmar\n",
       "8    9.0  12.0       barma\n",
       "9   10.0   NaN       china\n",
       "10   NaN  14.0  afganistan"
      ]
     },
     "execution_count": 223,
     "metadata": {},
     "output_type": "execute_result"
    }
   ],
   "source": [
    "df"
   ]
  },
  {
   "cell_type": "code",
   "execution_count": 224,
   "id": "c7be2875",
   "metadata": {},
   "outputs": [
    {
     "name": "stderr",
     "output_type": "stream",
     "text": [
      "C:\\Users\\Dell\\AppData\\Local\\Temp\\ipykernel_16860\\628095669.py:2: SettingWithCopyWarning: \n",
      "A value is trying to be set on a copy of a slice from a DataFrame\n",
      "\n",
      "See the caveats in the documentation: https://pandas.pydata.org/pandas-docs/stable/user_guide/indexing.html#returning-a-view-versus-a-copy\n",
      "  df['val3'] [0::2] = np.nan\n"
     ]
    }
   ],
   "source": [
    ", # filling the missing categorical data\n",
    "df['val3'] [0::2] = np.nan"
   ]
  },
  {
   "cell_type": "code",
   "execution_count": 225,
   "id": "f1df6db6",
   "metadata": {},
   "outputs": [
    {
     "data": {
      "text/html": [
       "<div>\n",
       "<style scoped>\n",
       "    .dataframe tbody tr th:only-of-type {\n",
       "        vertical-align: middle;\n",
       "    }\n",
       "\n",
       "    .dataframe tbody tr th {\n",
       "        vertical-align: top;\n",
       "    }\n",
       "\n",
       "    .dataframe thead th {\n",
       "        text-align: right;\n",
       "    }\n",
       "</style>\n",
       "<table border=\"1\" class=\"dataframe\">\n",
       "  <thead>\n",
       "    <tr style=\"text-align: right;\">\n",
       "      <th></th>\n",
       "      <th>val1</th>\n",
       "      <th>val2</th>\n",
       "      <th>val3</th>\n",
       "    </tr>\n",
       "  </thead>\n",
       "  <tbody>\n",
       "    <tr>\n",
       "      <th>0</th>\n",
       "      <td>1.0</td>\n",
       "      <td>NaN</td>\n",
       "      <td>NaN</td>\n",
       "    </tr>\n",
       "    <tr>\n",
       "      <th>1</th>\n",
       "      <td>2.0</td>\n",
       "      <td>2.0</td>\n",
       "      <td>sweden</td>\n",
       "    </tr>\n",
       "    <tr>\n",
       "      <th>2</th>\n",
       "      <td>3.0</td>\n",
       "      <td>4.0</td>\n",
       "      <td>NaN</td>\n",
       "    </tr>\n",
       "    <tr>\n",
       "      <th>3</th>\n",
       "      <td>4.0</td>\n",
       "      <td>6.0</td>\n",
       "      <td>japan</td>\n",
       "    </tr>\n",
       "    <tr>\n",
       "      <th>4</th>\n",
       "      <td>5.0</td>\n",
       "      <td>NaN</td>\n",
       "      <td>NaN</td>\n",
       "    </tr>\n",
       "    <tr>\n",
       "      <th>5</th>\n",
       "      <td>6.0</td>\n",
       "      <td>8.0</td>\n",
       "      <td>korea</td>\n",
       "    </tr>\n",
       "    <tr>\n",
       "      <th>6</th>\n",
       "      <td>7.0</td>\n",
       "      <td>10.0</td>\n",
       "      <td>NaN</td>\n",
       "    </tr>\n",
       "    <tr>\n",
       "      <th>7</th>\n",
       "      <td>8.0</td>\n",
       "      <td>NaN</td>\n",
       "      <td>myanmar</td>\n",
       "    </tr>\n",
       "    <tr>\n",
       "      <th>8</th>\n",
       "      <td>9.0</td>\n",
       "      <td>12.0</td>\n",
       "      <td>NaN</td>\n",
       "    </tr>\n",
       "    <tr>\n",
       "      <th>9</th>\n",
       "      <td>10.0</td>\n",
       "      <td>NaN</td>\n",
       "      <td>china</td>\n",
       "    </tr>\n",
       "    <tr>\n",
       "      <th>10</th>\n",
       "      <td>NaN</td>\n",
       "      <td>14.0</td>\n",
       "      <td>NaN</td>\n",
       "    </tr>\n",
       "  </tbody>\n",
       "</table>\n",
       "</div>"
      ],
      "text/plain": [
       "    val1  val2     val3\n",
       "0    1.0   NaN      NaN\n",
       "1    2.0   2.0   sweden\n",
       "2    3.0   4.0      NaN\n",
       "3    4.0   6.0    japan\n",
       "4    5.0   NaN      NaN\n",
       "5    6.0   8.0    korea\n",
       "6    7.0  10.0      NaN\n",
       "7    8.0   NaN  myanmar\n",
       "8    9.0  12.0      NaN\n",
       "9   10.0   NaN    china\n",
       "10   NaN  14.0      NaN"
      ]
     },
     "execution_count": 225,
     "metadata": {},
     "output_type": "execute_result"
    }
   ],
   "source": [
    "df"
   ]
  },
  {
   "cell_type": "code",
   "execution_count": 230,
   "id": "991bfdcc",
   "metadata": {},
   "outputs": [
    {
     "data": {
      "text/plain": [
       "0      Turkey\n",
       "1      sweden\n",
       "2      Turkey\n",
       "3       japan\n",
       "4      Turkey\n",
       "5       korea\n",
       "6      Turkey\n",
       "7     myanmar\n",
       "8      Turkey\n",
       "9       china\n",
       "10     Turkey\n",
       "Name: val3, dtype: object"
      ]
     },
     "execution_count": 230,
     "metadata": {},
     "output_type": "execute_result"
    }
   ],
   "source": [
    "#fill the nan by a string\n",
    "df['val3'].fillna('Turkey', inplace=False)"
   ]
  },
  {
   "cell_type": "code",
   "execution_count": 231,
   "id": "765c8276",
   "metadata": {},
   "outputs": [
    {
     "data": {
      "text/html": [
       "<div>\n",
       "<style scoped>\n",
       "    .dataframe tbody tr th:only-of-type {\n",
       "        vertical-align: middle;\n",
       "    }\n",
       "\n",
       "    .dataframe tbody tr th {\n",
       "        vertical-align: top;\n",
       "    }\n",
       "\n",
       "    .dataframe thead th {\n",
       "        text-align: right;\n",
       "    }\n",
       "</style>\n",
       "<table border=\"1\" class=\"dataframe\">\n",
       "  <thead>\n",
       "    <tr style=\"text-align: right;\">\n",
       "      <th></th>\n",
       "      <th>val1</th>\n",
       "      <th>val2</th>\n",
       "      <th>val3</th>\n",
       "    </tr>\n",
       "  </thead>\n",
       "  <tbody>\n",
       "    <tr>\n",
       "      <th>0</th>\n",
       "      <td>1.0</td>\n",
       "      <td>NaN</td>\n",
       "      <td>Turkey</td>\n",
       "    </tr>\n",
       "    <tr>\n",
       "      <th>1</th>\n",
       "      <td>2.0</td>\n",
       "      <td>2.0</td>\n",
       "      <td>sweden</td>\n",
       "    </tr>\n",
       "    <tr>\n",
       "      <th>2</th>\n",
       "      <td>3.0</td>\n",
       "      <td>4.0</td>\n",
       "      <td>Turkey</td>\n",
       "    </tr>\n",
       "    <tr>\n",
       "      <th>3</th>\n",
       "      <td>4.0</td>\n",
       "      <td>6.0</td>\n",
       "      <td>japan</td>\n",
       "    </tr>\n",
       "    <tr>\n",
       "      <th>4</th>\n",
       "      <td>5.0</td>\n",
       "      <td>NaN</td>\n",
       "      <td>Turkey</td>\n",
       "    </tr>\n",
       "    <tr>\n",
       "      <th>5</th>\n",
       "      <td>6.0</td>\n",
       "      <td>8.0</td>\n",
       "      <td>korea</td>\n",
       "    </tr>\n",
       "    <tr>\n",
       "      <th>6</th>\n",
       "      <td>7.0</td>\n",
       "      <td>10.0</td>\n",
       "      <td>Turkey</td>\n",
       "    </tr>\n",
       "    <tr>\n",
       "      <th>7</th>\n",
       "      <td>8.0</td>\n",
       "      <td>NaN</td>\n",
       "      <td>myanmar</td>\n",
       "    </tr>\n",
       "    <tr>\n",
       "      <th>8</th>\n",
       "      <td>9.0</td>\n",
       "      <td>12.0</td>\n",
       "      <td>Turkey</td>\n",
       "    </tr>\n",
       "    <tr>\n",
       "      <th>9</th>\n",
       "      <td>10.0</td>\n",
       "      <td>NaN</td>\n",
       "      <td>china</td>\n",
       "    </tr>\n",
       "    <tr>\n",
       "      <th>10</th>\n",
       "      <td>NaN</td>\n",
       "      <td>14.0</td>\n",
       "      <td>Turkey</td>\n",
       "    </tr>\n",
       "  </tbody>\n",
       "</table>\n",
       "</div>"
      ],
      "text/plain": [
       "    val1  val2     val3\n",
       "0    1.0   NaN   Turkey\n",
       "1    2.0   2.0   sweden\n",
       "2    3.0   4.0   Turkey\n",
       "3    4.0   6.0    japan\n",
       "4    5.0   NaN   Turkey\n",
       "5    6.0   8.0    korea\n",
       "6    7.0  10.0   Turkey\n",
       "7    8.0   NaN  myanmar\n",
       "8    9.0  12.0   Turkey\n",
       "9   10.0   NaN    china\n",
       "10   NaN  14.0   Turkey"
      ]
     },
     "execution_count": 231,
     "metadata": {},
     "output_type": "execute_result"
    }
   ],
   "source": [
    "df"
   ]
  },
  {
   "cell_type": "code",
   "execution_count": 232,
   "id": "e719014d",
   "metadata": {},
   "outputs": [
    {
     "ename": "ValueError",
     "evalue": "Must specify a fill 'value' or 'method'.",
     "output_type": "error",
     "traceback": [
      "\u001b[1;31m---------------------------------------------------------------------------\u001b[0m",
      "\u001b[1;31mValueError\u001b[0m                                Traceback (most recent call last)",
      "Cell \u001b[1;32mIn[232], line 1\u001b[0m\n\u001b[1;32m----> 1\u001b[0m \u001b[43mdf\u001b[49m\u001b[38;5;241;43m.\u001b[39;49m\u001b[43mfillna\u001b[49m\u001b[43m(\u001b[49m\u001b[43m)\u001b[49m\n",
      "File \u001b[1;32m~\\anaconda3\\lib\\site-packages\\pandas\\util\\_decorators.py:331\u001b[0m, in \u001b[0;36mdeprecate_nonkeyword_arguments.<locals>.decorate.<locals>.wrapper\u001b[1;34m(*args, **kwargs)\u001b[0m\n\u001b[0;32m    325\u001b[0m \u001b[38;5;28;01mif\u001b[39;00m \u001b[38;5;28mlen\u001b[39m(args) \u001b[38;5;241m>\u001b[39m num_allow_args:\n\u001b[0;32m    326\u001b[0m     warnings\u001b[38;5;241m.\u001b[39mwarn(\n\u001b[0;32m    327\u001b[0m         msg\u001b[38;5;241m.\u001b[39mformat(arguments\u001b[38;5;241m=\u001b[39m_format_argument_list(allow_args)),\n\u001b[0;32m    328\u001b[0m         \u001b[38;5;167;01mFutureWarning\u001b[39;00m,\n\u001b[0;32m    329\u001b[0m         stacklevel\u001b[38;5;241m=\u001b[39mfind_stack_level(),\n\u001b[0;32m    330\u001b[0m     )\n\u001b[1;32m--> 331\u001b[0m \u001b[38;5;28;01mreturn\u001b[39;00m func(\u001b[38;5;241m*\u001b[39margs, \u001b[38;5;241m*\u001b[39m\u001b[38;5;241m*\u001b[39mkwargs)\n",
      "File \u001b[1;32m~\\anaconda3\\lib\\site-packages\\pandas\\core\\frame.py:5635\u001b[0m, in \u001b[0;36mDataFrame.fillna\u001b[1;34m(self, value, method, axis, inplace, limit, downcast)\u001b[0m\n\u001b[0;32m   5624\u001b[0m \u001b[38;5;129m@deprecate_nonkeyword_arguments\u001b[39m(version\u001b[38;5;241m=\u001b[39m\u001b[38;5;28;01mNone\u001b[39;00m, allowed_args\u001b[38;5;241m=\u001b[39m[\u001b[38;5;124m\"\u001b[39m\u001b[38;5;124mself\u001b[39m\u001b[38;5;124m\"\u001b[39m, \u001b[38;5;124m\"\u001b[39m\u001b[38;5;124mvalue\u001b[39m\u001b[38;5;124m\"\u001b[39m])\n\u001b[0;32m   5625\u001b[0m \u001b[38;5;129m@doc\u001b[39m(NDFrame\u001b[38;5;241m.\u001b[39mfillna, \u001b[38;5;241m*\u001b[39m\u001b[38;5;241m*\u001b[39m_shared_doc_kwargs)\n\u001b[0;32m   5626\u001b[0m \u001b[38;5;28;01mdef\u001b[39;00m \u001b[38;5;21mfillna\u001b[39m(  \u001b[38;5;66;03m# type: ignore[override]\u001b[39;00m\n\u001b[1;32m   (...)\u001b[0m\n\u001b[0;32m   5633\u001b[0m     downcast: \u001b[38;5;28mdict\u001b[39m \u001b[38;5;241m|\u001b[39m \u001b[38;5;28;01mNone\u001b[39;00m \u001b[38;5;241m=\u001b[39m \u001b[38;5;28;01mNone\u001b[39;00m,\n\u001b[0;32m   5634\u001b[0m ) \u001b[38;5;241m-\u001b[39m\u001b[38;5;241m>\u001b[39m DataFrame \u001b[38;5;241m|\u001b[39m \u001b[38;5;28;01mNone\u001b[39;00m:\n\u001b[1;32m-> 5635\u001b[0m     \u001b[38;5;28;01mreturn\u001b[39;00m \u001b[38;5;28;43msuper\u001b[39;49m\u001b[43m(\u001b[49m\u001b[43m)\u001b[49m\u001b[38;5;241;43m.\u001b[39;49m\u001b[43mfillna\u001b[49m\u001b[43m(\u001b[49m\n\u001b[0;32m   5636\u001b[0m \u001b[43m        \u001b[49m\u001b[43mvalue\u001b[49m\u001b[38;5;241;43m=\u001b[39;49m\u001b[43mvalue\u001b[49m\u001b[43m,\u001b[49m\n\u001b[0;32m   5637\u001b[0m \u001b[43m        \u001b[49m\u001b[43mmethod\u001b[49m\u001b[38;5;241;43m=\u001b[39;49m\u001b[43mmethod\u001b[49m\u001b[43m,\u001b[49m\n\u001b[0;32m   5638\u001b[0m \u001b[43m        \u001b[49m\u001b[43maxis\u001b[49m\u001b[38;5;241;43m=\u001b[39;49m\u001b[43maxis\u001b[49m\u001b[43m,\u001b[49m\n\u001b[0;32m   5639\u001b[0m \u001b[43m        \u001b[49m\u001b[43minplace\u001b[49m\u001b[38;5;241;43m=\u001b[39;49m\u001b[43minplace\u001b[49m\u001b[43m,\u001b[49m\n\u001b[0;32m   5640\u001b[0m \u001b[43m        \u001b[49m\u001b[43mlimit\u001b[49m\u001b[38;5;241;43m=\u001b[39;49m\u001b[43mlimit\u001b[49m\u001b[43m,\u001b[49m\n\u001b[0;32m   5641\u001b[0m \u001b[43m        \u001b[49m\u001b[43mdowncast\u001b[49m\u001b[38;5;241;43m=\u001b[39;49m\u001b[43mdowncast\u001b[49m\u001b[43m,\u001b[49m\n\u001b[0;32m   5642\u001b[0m \u001b[43m    \u001b[49m\u001b[43m)\u001b[49m\n",
      "File \u001b[1;32m~\\anaconda3\\lib\\site-packages\\pandas\\core\\generic.py:6795\u001b[0m, in \u001b[0;36mNDFrame.fillna\u001b[1;34m(self, value, method, axis, inplace, limit, downcast)\u001b[0m\n\u001b[0;32m   6684\u001b[0m \u001b[38;5;124;03m\"\"\"\u001b[39;00m\n\u001b[0;32m   6685\u001b[0m \u001b[38;5;124;03mFill NA/NaN values using the specified method.\u001b[39;00m\n\u001b[0;32m   6686\u001b[0m \n\u001b[1;32m   (...)\u001b[0m\n\u001b[0;32m   6792\u001b[0m \u001b[38;5;124;03mNote that column D is not affected since it is not present in df2.\u001b[39;00m\n\u001b[0;32m   6793\u001b[0m \u001b[38;5;124;03m\"\"\"\u001b[39;00m\n\u001b[0;32m   6794\u001b[0m inplace \u001b[38;5;241m=\u001b[39m validate_bool_kwarg(inplace, \u001b[38;5;124m\"\u001b[39m\u001b[38;5;124minplace\u001b[39m\u001b[38;5;124m\"\u001b[39m)\n\u001b[1;32m-> 6795\u001b[0m value, method \u001b[38;5;241m=\u001b[39m \u001b[43mvalidate_fillna_kwargs\u001b[49m\u001b[43m(\u001b[49m\u001b[43mvalue\u001b[49m\u001b[43m,\u001b[49m\u001b[43m \u001b[49m\u001b[43mmethod\u001b[49m\u001b[43m)\u001b[49m\n\u001b[0;32m   6797\u001b[0m \u001b[38;5;28mself\u001b[39m\u001b[38;5;241m.\u001b[39m_consolidate_inplace()\n\u001b[0;32m   6799\u001b[0m \u001b[38;5;66;03m# set the default here, so functions examining the signaure\u001b[39;00m\n\u001b[0;32m   6800\u001b[0m \u001b[38;5;66;03m# can detect if something was set (e.g. in groupby) (GH9221)\u001b[39;00m\n",
      "File \u001b[1;32m~\\anaconda3\\lib\\site-packages\\pandas\\util\\_validators.py:388\u001b[0m, in \u001b[0;36mvalidate_fillna_kwargs\u001b[1;34m(value, method, validate_scalar_dict_value)\u001b[0m\n\u001b[0;32m    385\u001b[0m \u001b[38;5;28;01mfrom\u001b[39;00m \u001b[38;5;21;01mpandas\u001b[39;00m\u001b[38;5;21;01m.\u001b[39;00m\u001b[38;5;21;01mcore\u001b[39;00m\u001b[38;5;21;01m.\u001b[39;00m\u001b[38;5;21;01mmissing\u001b[39;00m \u001b[38;5;28;01mimport\u001b[39;00m clean_fill_method\n\u001b[0;32m    387\u001b[0m \u001b[38;5;28;01mif\u001b[39;00m value \u001b[38;5;129;01mis\u001b[39;00m \u001b[38;5;28;01mNone\u001b[39;00m \u001b[38;5;129;01mand\u001b[39;00m method \u001b[38;5;129;01mis\u001b[39;00m \u001b[38;5;28;01mNone\u001b[39;00m:\n\u001b[1;32m--> 388\u001b[0m     \u001b[38;5;28;01mraise\u001b[39;00m \u001b[38;5;167;01mValueError\u001b[39;00m(\u001b[38;5;124m\"\u001b[39m\u001b[38;5;124mMust specify a fill \u001b[39m\u001b[38;5;124m'\u001b[39m\u001b[38;5;124mvalue\u001b[39m\u001b[38;5;124m'\u001b[39m\u001b[38;5;124m or \u001b[39m\u001b[38;5;124m'\u001b[39m\u001b[38;5;124mmethod\u001b[39m\u001b[38;5;124m'\u001b[39m\u001b[38;5;124m.\u001b[39m\u001b[38;5;124m\"\u001b[39m)\n\u001b[0;32m    389\u001b[0m \u001b[38;5;28;01melif\u001b[39;00m value \u001b[38;5;129;01mis\u001b[39;00m \u001b[38;5;28;01mNone\u001b[39;00m \u001b[38;5;129;01mand\u001b[39;00m method \u001b[38;5;129;01mis\u001b[39;00m \u001b[38;5;129;01mnot\u001b[39;00m \u001b[38;5;28;01mNone\u001b[39;00m:\n\u001b[0;32m    390\u001b[0m     method \u001b[38;5;241m=\u001b[39m clean_fill_method(method)\n",
      "\u001b[1;31mValueError\u001b[0m: Must specify a fill 'value' or 'method'."
     ]
    }
   ],
   "source": [
    "df.fillna()"
   ]
  },
  {
   "cell_type": "markdown",
   "id": "4a8c7c63",
   "metadata": {},
   "source": [
    "# Multi-index and Index Hierarchy in Pandas DF"
   ]
  },
  {
   "cell_type": "code",
   "execution_count": 233,
   "id": "b0968d8b",
   "metadata": {},
   "outputs": [],
   "source": [
    "import numpy as np\n",
    "import pandas as pd"
   ]
  },
  {
   "cell_type": "code",
   "execution_count": 234,
   "id": "ad2dd4a8",
   "metadata": {},
   "outputs": [],
   "source": [
    "inside = ['class A', 'class B', 'class C', 'class A', 'class B', 'class C']\n",
    "outside = ['school 1', 'school 1', 'school 1', 'class 2', 'class 2', 'class2']"
   ]
  },
  {
   "cell_type": "code",
   "execution_count": 235,
   "id": "a760508d",
   "metadata": {},
   "outputs": [
    {
     "data": {
      "text/plain": [
       "<zip at 0x21dcb1e4ac0>"
      ]
     },
     "execution_count": 235,
     "metadata": {},
     "output_type": "execute_result"
    }
   ],
   "source": [
    "zip(outside, inside)"
   ]
  },
  {
   "cell_type": "code",
   "execution_count": 236,
   "id": "b543cd72",
   "metadata": {},
   "outputs": [],
   "source": [
    "multi_index = list(zip(outside, inside))"
   ]
  },
  {
   "cell_type": "code",
   "execution_count": 237,
   "id": "1b4ad391",
   "metadata": {},
   "outputs": [
    {
     "data": {
      "text/plain": [
       "[('school 1', 'class A'),\n",
       " ('school 1', 'class B'),\n",
       " ('school 1', 'class C'),\n",
       " ('class 2', 'class A'),\n",
       " ('class 2', 'class B'),\n",
       " ('class2', 'class C')]"
      ]
     },
     "execution_count": 237,
     "metadata": {},
     "output_type": "execute_result"
    }
   ],
   "source": [
    " multi_index"
   ]
  },
  {
   "cell_type": "code",
   "execution_count": 238,
   "id": "c2c9cf7f",
   "metadata": {},
   "outputs": [],
   "source": [
    "hier_index = pd.MultiIndex.from_tuples(multi_index)"
   ]
  },
  {
   "cell_type": "code",
   "execution_count": 239,
   "id": "2de11bcc",
   "metadata": {},
   "outputs": [
    {
     "data": {
      "text/plain": [
       "MultiIndex([('school 1', 'class A'),\n",
       "            ('school 1', 'class B'),\n",
       "            ('school 1', 'class C'),\n",
       "            ( 'class 2', 'class A'),\n",
       "            ( 'class 2', 'class B'),\n",
       "            (  'class2', 'class C')],\n",
       "           )"
      ]
     },
     "execution_count": 239,
     "metadata": {},
     "output_type": "execute_result"
    }
   ],
   "source": [
    "hier_index"
   ]
  },
  {
   "cell_type": "code",
   "execution_count": 240,
   "id": "8da8aec6",
   "metadata": {},
   "outputs": [],
   "source": [
    "np.random.seed(10)"
   ]
  },
  {
   "cell_type": "code",
   "execution_count": 241,
   "id": "0f44e122",
   "metadata": {},
   "outputs": [],
   "source": [
    "df = pd.DataFrame(np.random.randint(70, 100, size = (6,2)), index=hier_index, columns= ['1_semester', '2_semester'])"
   ]
  },
  {
   "cell_type": "code",
   "execution_count": 242,
   "id": "23e3e3d0",
   "metadata": {},
   "outputs": [
    {
     "data": {
      "text/html": [
       "<div>\n",
       "<style scoped>\n",
       "    .dataframe tbody tr th:only-of-type {\n",
       "        vertical-align: middle;\n",
       "    }\n",
       "\n",
       "    .dataframe tbody tr th {\n",
       "        vertical-align: top;\n",
       "    }\n",
       "\n",
       "    .dataframe thead th {\n",
       "        text-align: right;\n",
       "    }\n",
       "</style>\n",
       "<table border=\"1\" class=\"dataframe\">\n",
       "  <thead>\n",
       "    <tr style=\"text-align: right;\">\n",
       "      <th></th>\n",
       "      <th></th>\n",
       "      <th>1_semester</th>\n",
       "      <th>2_semester</th>\n",
       "    </tr>\n",
       "  </thead>\n",
       "  <tbody>\n",
       "    <tr>\n",
       "      <th rowspan=\"3\" valign=\"top\">school 1</th>\n",
       "      <th>class A</th>\n",
       "      <td>79</td>\n",
       "      <td>99</td>\n",
       "    </tr>\n",
       "    <tr>\n",
       "      <th>class B</th>\n",
       "      <td>74</td>\n",
       "      <td>85</td>\n",
       "    </tr>\n",
       "    <tr>\n",
       "      <th>class C</th>\n",
       "      <td>70</td>\n",
       "      <td>87</td>\n",
       "    </tr>\n",
       "    <tr>\n",
       "      <th rowspan=\"2\" valign=\"top\">class 2</th>\n",
       "      <th>class A</th>\n",
       "      <td>97</td>\n",
       "      <td>98</td>\n",
       "    </tr>\n",
       "    <tr>\n",
       "      <th>class B</th>\n",
       "      <td>95</td>\n",
       "      <td>99</td>\n",
       "    </tr>\n",
       "    <tr>\n",
       "      <th>class2</th>\n",
       "      <th>class C</th>\n",
       "      <td>86</td>\n",
       "      <td>99</td>\n",
       "    </tr>\n",
       "  </tbody>\n",
       "</table>\n",
       "</div>"
      ],
      "text/plain": [
       "                  1_semester  2_semester\n",
       "school 1 class A          79          99\n",
       "         class B          74          85\n",
       "         class C          70          87\n",
       "class 2  class A          97          98\n",
       "         class B          95          99\n",
       "class2   class C          86          99"
      ]
     },
     "execution_count": 242,
     "metadata": {},
     "output_type": "execute_result"
    }
   ],
   "source": [
    "df"
   ]
  },
  {
   "cell_type": "markdown",
   "id": "9c53a519",
   "metadata": {},
   "source": [
    "# np.random.normal( )   VS np.random.randn()"
   ]
  },
  {
   "cell_type": "markdown",
   "id": "e7746889",
   "metadata": {},
   "source": [
    "Both `np.random.normal` and `np.random.randn` are functions provided by the NumPy library for generating random numbers from a normal distribution. However, there is a slight difference in how they are used.\n",
    "\n",
    "1. `np.random.normal`:\n",
    "   - This function allows you to specify the mean (`loc`) and standard deviation (`scale`) of the normal distribution explicitly.\n",
    "   - You can also specify the `size` parameter to determine the shape of the output array. For example, `size=5` generates a 1D array with 5 random numbers, `size=(2, 3)` generates a 2D array with 2 rows and 3 columns, and so on.\n",
    "   - The usage is typically `np.random.normal(loc, scale, size)`, where `loc` is the mean, `scale` is the standard deviation, and `size` is the desired shape of the output array.\n",
    "\n",
    "2. `np.random.randn`:\n",
    "   - This function generates random numbers from a standard normal distribution, which has a mean of 0 and a standard deviation of 1.\n",
    "   - You can specify the `size` parameter to determine the shape of the output array, similar to `np.random.normal`.\n",
    "   - The usage is typically `np.random.randn(size)`, where `size` is the desired shape of the output array.\n",
    "\n",
    "In summary, the main difference between the two functions is that `np.random.normal` allows you to specify the mean and standard deviation explicitly, whereas `np.random.randn` generates random numbers from a standard normal distribution with a mean of 0 and a standard deviation of 1."
   ]
  },
  {
   "cell_type": "code",
   "execution_count": null,
   "id": "1a097ddf",
   "metadata": {},
   "outputs": [],
   "source": []
  },
  {
   "cell_type": "code",
   "execution_count": null,
   "id": "2bac6d95",
   "metadata": {},
   "outputs": [],
   "source": []
  },
  {
   "cell_type": "code",
   "execution_count": null,
   "id": "08077aeb",
   "metadata": {},
   "outputs": [],
   "source": []
  },
  {
   "cell_type": "code",
   "execution_count": null,
   "id": "b2decc55",
   "metadata": {},
   "outputs": [],
   "source": []
  },
  {
   "cell_type": "code",
   "execution_count": null,
   "id": "d9831700",
   "metadata": {},
   "outputs": [],
   "source": []
  },
  {
   "cell_type": "code",
   "execution_count": null,
   "id": "ae146e85",
   "metadata": {},
   "outputs": [],
   "source": []
  },
  {
   "cell_type": "code",
   "execution_count": null,
   "id": "d566d3ac",
   "metadata": {},
   "outputs": [],
   "source": []
  },
  {
   "cell_type": "code",
   "execution_count": null,
   "id": "d0ab94ad",
   "metadata": {},
   "outputs": [],
   "source": []
  }
 ],
 "metadata": {
  "kernelspec": {
   "display_name": "Python 3 (ipykernel)",
   "language": "python",
   "name": "python3"
  },
  "language_info": {
   "codemirror_mode": {
    "name": "ipython",
    "version": 3
   },
   "file_extension": ".py",
   "mimetype": "text/x-python",
   "name": "python",
   "nbconvert_exporter": "python",
   "pygments_lexer": "ipython3",
   "version": "3.10.9"
  }
 },
 "nbformat": 4,
 "nbformat_minor": 5
}
